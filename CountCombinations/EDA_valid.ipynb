{
 "cells": [
  {
   "cell_type": "code",
   "execution_count": 1,
   "id": "initial_id",
   "metadata": {
    "ExecuteTime": {
     "end_time": "2025-03-03T14:28:03.832134Z",
     "start_time": "2025-03-03T14:27:20.526541Z"
    },
    "execution": {
     "iopub.execute_input": "2025-03-17T15:39:27.930564Z",
     "iopub.status.busy": "2025-03-17T15:39:27.929232Z",
     "iopub.status.idle": "2025-03-17T15:39:27.948039Z",
     "shell.execute_reply": "2025-03-17T15:39:27.946685Z",
     "shell.execute_reply.started": "2025-03-17T15:39:27.930515Z"
    }
   },
   "outputs": [],
   "source": [
    "#!pip install pandas openai numpy matplotlib"
   ]
  },
  {
   "cell_type": "code",
   "execution_count": 2,
   "id": "901f40cc4eaaa7ea",
   "metadata": {
    "ExecuteTime": {
     "end_time": "2025-03-03T14:29:32.943458Z",
     "start_time": "2025-03-03T14:29:30.021295Z"
    },
    "execution": {
     "iopub.execute_input": "2025-03-17T15:39:27.956891Z",
     "iopub.status.busy": "2025-03-17T15:39:27.955019Z",
     "iopub.status.idle": "2025-03-17T15:39:27.976098Z",
     "shell.execute_reply": "2025-03-17T15:39:27.974778Z",
     "shell.execute_reply.started": "2025-03-17T15:39:27.956848Z"
    },
    "tags": []
   },
   "outputs": [],
   "source": [
    "import pandas as pd\n",
    "import numpy as np\n",
    "import matplotlib.pyplot as plt"
   ]
  },
  {
   "cell_type": "code",
   "execution_count": 3,
   "id": "51c19885-0795-48ae-9df2-15996a2ec40b",
   "metadata": {
    "execution": {
     "iopub.execute_input": "2025-03-17T15:39:27.989829Z",
     "iopub.status.busy": "2025-03-17T15:39:27.987725Z",
     "iopub.status.idle": "2025-03-17T15:39:28.006291Z",
     "shell.execute_reply": "2025-03-17T15:39:28.004860Z",
     "shell.execute_reply.started": "2025-03-17T15:39:27.989779Z"
    },
    "tags": []
   },
   "outputs": [],
   "source": [
    "pd.options.display.max_colwidth = None"
   ]
  },
  {
   "cell_type": "code",
   "execution_count": 4,
   "id": "ed3213ecdbda3113",
   "metadata": {
    "ExecuteTime": {
     "end_time": "2025-03-03T14:07:11.855502Z",
     "start_time": "2025-03-03T14:07:11.821968Z"
    },
    "execution": {
     "iopub.execute_input": "2025-03-17T15:39:28.010264Z",
     "iopub.status.busy": "2025-03-17T15:39:28.008153Z",
     "iopub.status.idle": "2025-03-17T15:39:28.081948Z",
     "shell.execute_reply": "2025-03-17T15:39:28.080667Z",
     "shell.execute_reply.started": "2025-03-17T15:39:28.010219Z"
    },
    "tags": []
   },
   "outputs": [],
   "source": [
    "fundus_descr = pd.read_csv(r\"/home/jupyter/datasphere/project/fundus_descriptions_1020.csv\")"
   ]
  },
  {
   "cell_type": "code",
   "execution_count": 5,
   "id": "5845602340c5fa68",
   "metadata": {
    "ExecuteTime": {
     "end_time": "2025-03-03T14:08:17.648892Z",
     "start_time": "2025-03-03T14:08:17.629018Z"
    },
    "execution": {
     "iopub.execute_input": "2025-03-17T15:39:28.084843Z",
     "iopub.status.busy": "2025-03-17T15:39:28.083683Z",
     "iopub.status.idle": "2025-03-17T15:39:28.182038Z",
     "shell.execute_reply": "2025-03-17T15:39:28.181175Z",
     "shell.execute_reply.started": "2025-03-17T15:39:28.084800Z"
    },
    "tags": []
   },
   "outputs": [
    {
     "data": {
      "text/html": [
       "<div>\n",
       "<style scoped>\n",
       "    .dataframe tbody tr th:only-of-type {\n",
       "        vertical-align: middle;\n",
       "    }\n",
       "\n",
       "    .dataframe tbody tr th {\n",
       "        vertical-align: top;\n",
       "    }\n",
       "\n",
       "    .dataframe thead th {\n",
       "        text-align: right;\n",
       "    }\n",
       "</style>\n",
       "<table border=\"1\" class=\"dataframe\">\n",
       "  <thead>\n",
       "    <tr style=\"text-align: right;\">\n",
       "      <th></th>\n",
       "      <th>is_valid</th>\n",
       "      <th>od_color</th>\n",
       "      <th>od_monotone</th>\n",
       "      <th>od_size</th>\n",
       "      <th>od_shape</th>\n",
       "      <th>od_border</th>\n",
       "      <th>od_excavation_size</th>\n",
       "      <th>od_excavation_location</th>\n",
       "      <th>od_excavation_ratio</th>\n",
       "      <th>od_vessels_location</th>\n",
       "      <th>od_pathology</th>\n",
       "      <th>vessels_art_course</th>\n",
       "      <th>vessels_art_turtuosity</th>\n",
       "      <th>vessels_art_bifurcation</th>\n",
       "      <th>vessels_art_caliber</th>\n",
       "      <th>vessels_vein_course</th>\n",
       "      <th>vessels_vein_turtuosity</th>\n",
       "      <th>vessels_vein_bifurcation</th>\n",
       "      <th>vessels_vein_caliber</th>\n",
       "      <th>vessels_ratio</th>\n",
       "      <th>vessels_pathology</th>\n",
       "      <th>macula_macular_reflex</th>\n",
       "      <th>macula_foveal_reflex</th>\n",
       "      <th>macula_pathology</th>\n",
       "      <th>peripheral_pathology</th>\n",
       "      <th>other_diagnosis</th>\n",
       "      <th>other_notes</th>\n",
       "      <th>text</th>\n",
       "    </tr>\n",
       "  </thead>\n",
       "  <tbody>\n",
       "    <tr>\n",
       "      <th>0</th>\n",
       "      <td>True</td>\n",
       "      <td>бледно-розовый</td>\n",
       "      <td>True</td>\n",
       "      <td>нормальный</td>\n",
       "      <td>правильная</td>\n",
       "      <td>четкие</td>\n",
       "      <td>нормальный</td>\n",
       "      <td>в центре</td>\n",
       "      <td>NaN</td>\n",
       "      <td>в центре</td>\n",
       "      <td>.</td>\n",
       "      <td>нормальный</td>\n",
       "      <td>нормальная</td>\n",
       "      <td>нормальная</td>\n",
       "      <td>нормальный</td>\n",
       "      <td>нормальный</td>\n",
       "      <td>нормальная</td>\n",
       "      <td>нормальная</td>\n",
       "      <td>нормальный</td>\n",
       "      <td>NaN</td>\n",
       "      <td>NaN</td>\n",
       "      <td>нормальный</td>\n",
       "      <td>нормальный</td>\n",
       "      <td>слегка гиперпигментирована</td>\n",
       "      <td>участки разряжения пигмента</td>\n",
       "      <td>Альбинотическое глазное дно</td>\n",
       "      <td>NaN</td>\n",
       "      <td>ДЗН бледно-розовый, границы четкие, ход и калибр сосудов не изменен. Макулярные рефлексы четки. Макула слегка гиперпигментирована. На периферии участки разряжения пигмента. Альбинотическое глазное дно.</td>\n",
       "    </tr>\n",
       "    <tr>\n",
       "      <th>1</th>\n",
       "      <td>True</td>\n",
       "      <td>бледно-розовый</td>\n",
       "      <td>True</td>\n",
       "      <td>нормальный</td>\n",
       "      <td>правильная</td>\n",
       "      <td>размытые</td>\n",
       "      <td>нормальный</td>\n",
       "      <td>в центре</td>\n",
       "      <td>NaN</td>\n",
       "      <td>в центре</td>\n",
       "      <td>NaN</td>\n",
       "      <td>нормальный</td>\n",
       "      <td>нормальная</td>\n",
       "      <td>нормальная</td>\n",
       "      <td>расширенный</td>\n",
       "      <td>нормальный</td>\n",
       "      <td>нормальная</td>\n",
       "      <td>нормальная</td>\n",
       "      <td>расширенный</td>\n",
       "      <td>NaN</td>\n",
       "      <td>NaN</td>\n",
       "      <td>нормальный</td>\n",
       "      <td>нормальный</td>\n",
       "      <td>светлый проминирующий очаг до 1 ДД кверху от МЗ</td>\n",
       "      <td>NaN</td>\n",
       "      <td>NaN</td>\n",
       "      <td>Детали не визуализируются.</td>\n",
       "      <td>За флером: границы ДЗН нечеткие, сосуды расширены, кверху от МЗ светлый проминирующий очаг до 1 ДД, детали не визуализируются</td>\n",
       "    </tr>\n",
       "    <tr>\n",
       "      <th>3</th>\n",
       "      <td>True</td>\n",
       "      <td>бледно-розовый</td>\n",
       "      <td>True</td>\n",
       "      <td>нормальный</td>\n",
       "      <td>правильная</td>\n",
       "      <td>четкие</td>\n",
       "      <td>нормальный</td>\n",
       "      <td>в центре</td>\n",
       "      <td>NaN</td>\n",
       "      <td>в центре</td>\n",
       "      <td>NaN</td>\n",
       "      <td>нормальный</td>\n",
       "      <td>нормальная</td>\n",
       "      <td>нормальная</td>\n",
       "      <td>нормальный</td>\n",
       "      <td>нормальный</td>\n",
       "      <td>нормальная</td>\n",
       "      <td>нормальная</td>\n",
       "      <td>нормальный</td>\n",
       "      <td>NaN</td>\n",
       "      <td>NaN</td>\n",
       "      <td>нормальный</td>\n",
       "      <td>нормальный</td>\n",
       "      <td>NaN</td>\n",
       "      <td>NaN</td>\n",
       "      <td>NaN</td>\n",
       "      <td>NaN</td>\n",
       "      <td>ДЗН бледно-розовый, с четкими границами, ход и калибр сосудов не изменен, макулярный рефлекс ровный, четкий, видимая периферия без патологии.</td>\n",
       "    </tr>\n",
       "    <tr>\n",
       "      <th>4</th>\n",
       "      <td>True</td>\n",
       "      <td>бледно-розовый</td>\n",
       "      <td>True</td>\n",
       "      <td>нормальный</td>\n",
       "      <td>правильная</td>\n",
       "      <td>четкие</td>\n",
       "      <td>нормальный</td>\n",
       "      <td>в центре</td>\n",
       "      <td>.</td>\n",
       "      <td>наружный</td>\n",
       "      <td>.</td>\n",
       "      <td>нормальный</td>\n",
       "      <td>нормальная</td>\n",
       "      <td>нормальная</td>\n",
       "      <td>суженный</td>\n",
       "      <td>нормальный</td>\n",
       "      <td>извитая</td>\n",
       "      <td>нормальная</td>\n",
       "      <td>нормальный</td>\n",
       "      <td>.</td>\n",
       "      <td>.</td>\n",
       "      <td>гладкий</td>\n",
       "      <td>гладкий</td>\n",
       "      <td>.</td>\n",
       "      <td>аваскулярная зона и отслойка сетчатки в наружных и нижних отделах.</td>\n",
       "      <td>.</td>\n",
       "      <td>.</td>\n",
       "      <td>ДЗН бледно-розовый, границы четкие, артерии несколько сужены, сосуды несколько извиты, смещены в височную сторону. Макуляные рефлексы сглажены, на периферии в наружних и нижних отделах (зона 2,3) аваскулярная зона, локальная отслойка сетчатки вдоль демаркационной линии</td>\n",
       "    </tr>\n",
       "    <tr>\n",
       "      <th>5</th>\n",
       "      <td>True</td>\n",
       "      <td>бледный</td>\n",
       "      <td>False</td>\n",
       "      <td>меньше нормы</td>\n",
       "      <td>неправильная</td>\n",
       "      <td>размытые</td>\n",
       "      <td>нормальный</td>\n",
       "      <td>в центре</td>\n",
       "      <td>NaN</td>\n",
       "      <td>нижне-наружный</td>\n",
       "      <td>Гипоплазия, тракционная деформация, фибро-васкулярный тяж, линия самоотграничения.</td>\n",
       "      <td>нормальный</td>\n",
       "      <td>нормальная</td>\n",
       "      <td>нормальная</td>\n",
       "      <td>нормальный</td>\n",
       "      <td>нормальный</td>\n",
       "      <td>нормальная</td>\n",
       "      <td>нормальная</td>\n",
       "      <td>нормальный</td>\n",
       "      <td>NaN</td>\n",
       "      <td>Линия самоотграничения, аваскулярная сетчатка.</td>\n",
       "      <td>нормальный</td>\n",
       "      <td>нормальный</td>\n",
       "      <td>NaN</td>\n",
       "      <td>Аваскулярная сетчатка, перераспределение пигмента.</td>\n",
       "      <td>NaN</td>\n",
       "      <td>NaN</td>\n",
       "      <td>ДЗН бледный, гипопластичен, тракционно деформирован, от него в нижне-наружном направлении идет высокий фибро-васкулярный тяж, вдоль тяжа на сетчатке - линия самоотграничения. Остальная сетчатка аваскулярная. перераспределение пигмента</td>\n",
       "    </tr>\n",
       "  </tbody>\n",
       "</table>\n",
       "</div>"
      ],
      "text/plain": [
       "   is_valid  ...                                                                                                                                                                                                                                                                           text\n",
       "0      True  ...                                                                      ДЗН бледно-розовый, границы четкие, ход и калибр сосудов не изменен. Макулярные рефлексы четки. Макула слегка гиперпигментирована. На периферии участки разряжения пигмента. Альбинотическое глазное дно.\n",
       "1      True  ...                                                                                                                                                  За флером: границы ДЗН нечеткие, сосуды расширены, кверху от МЗ светлый проминирующий очаг до 1 ДД, детали не визуализируются\n",
       "3      True  ...                                                                                                                                  ДЗН бледно-розовый, с четкими границами, ход и калибр сосудов не изменен, макулярный рефлекс ровный, четкий, видимая периферия без патологии.\n",
       "4      True  ...  ДЗН бледно-розовый, границы четкие, артерии несколько сужены, сосуды несколько извиты, смещены в височную сторону. Макуляные рефлексы сглажены, на периферии в наружних и нижних отделах (зона 2,3) аваскулярная зона, локальная отслойка сетчатки вдоль демаркационной линии\n",
       "5      True  ...                                     ДЗН бледный, гипопластичен, тракционно деформирован, от него в нижне-наружном направлении идет высокий фибро-васкулярный тяж, вдоль тяжа на сетчатке - линия самоотграничения. Остальная сетчатка аваскулярная. перераспределение пигмента\n",
       "\n",
       "[5 rows x 28 columns]"
      ]
     },
     "execution_count": 5,
     "metadata": {},
     "output_type": "execute_result"
    }
   ],
   "source": [
    "valid_descr = fundus_descr[fundus_descr['is_valid']==True].copy()\n",
    "valid_descr.head()"
   ]
  },
  {
   "cell_type": "code",
   "execution_count": 6,
   "id": "c2952971-279b-4975-9609-193e390218e3",
   "metadata": {
    "execution": {
     "iopub.execute_input": "2025-03-17T15:39:28.184951Z",
     "iopub.status.busy": "2025-03-17T15:39:28.183150Z",
     "iopub.status.idle": "2025-03-17T15:39:28.201506Z",
     "shell.execute_reply": "2025-03-17T15:39:28.200469Z",
     "shell.execute_reply.started": "2025-03-17T15:39:28.184908Z"
    },
    "tags": []
   },
   "outputs": [
    {
     "data": {
      "text/plain": [
       "'ДЗН бледно-розовый монотонный, границы четкие, ход сосудов не изменен, вены широкие, МЗ без патологии, в нижне-внутреннем квадранте преретинальный фиброз (организовавшийся гемофтальм) вокруг отграничен лазеркоагулятами, остальная периферия без особенностей'"
      ]
     },
     "execution_count": 6,
     "metadata": {},
     "output_type": "execute_result"
    }
   ],
   "source": [
    "valid_descr.iloc[137]['text']"
   ]
  },
  {
   "cell_type": "code",
   "execution_count": null,
   "id": "3d3bb86e-c1fa-4b1e-beef-5d0b5e13a315",
   "metadata": {},
   "outputs": [],
   "source": []
  },
  {
   "cell_type": "code",
   "execution_count": 7,
   "id": "a5e9e53db041c57a",
   "metadata": {
    "ExecuteTime": {
     "end_time": "2025-03-03T14:08:52.214658Z",
     "start_time": "2025-03-03T14:08:52.208223Z"
    },
    "execution": {
     "iopub.execute_input": "2025-03-17T15:39:28.209165Z",
     "iopub.status.busy": "2025-03-17T15:39:28.203723Z",
     "iopub.status.idle": "2025-03-17T15:39:28.225457Z",
     "shell.execute_reply": "2025-03-17T15:39:28.224244Z",
     "shell.execute_reply.started": "2025-03-17T15:39:28.209097Z"
    }
   },
   "outputs": [
    {
     "data": {
      "text/plain": [
       "(891, 28)"
      ]
     },
     "execution_count": 7,
     "metadata": {},
     "output_type": "execute_result"
    }
   ],
   "source": [
    "valid_descr.shape"
   ]
  },
  {
   "cell_type": "markdown",
   "id": "9b13f308d27b38e6",
   "metadata": {},
   "source": [
    "Таким образом имеем 891 текстовое описание от реального врача, преобразованное в табличный формат. Реальное описание от врача хранится в колонке text. \n",
    "\n",
    "Преобразование в табличный формат осуществлялось за счёт Structured Outputs от OpenAI, и по идее все 891 описания должны быть валидными описаниями.\n",
    "\n",
    "Но на втором же описании видим, что модель ошиблась, и из данного описания нельзя было выделять параметры, так как глазное дно не офтальмоскопируется:"
   ]
  },
  {
   "cell_type": "code",
   "execution_count": 8,
   "id": "b7f208370a0f4f85",
   "metadata": {
    "ExecuteTime": {
     "end_time": "2025-03-03T14:13:34.367550Z",
     "start_time": "2025-03-03T14:13:34.359228Z"
    },
    "execution": {
     "iopub.execute_input": "2025-03-17T15:39:28.228267Z",
     "iopub.status.busy": "2025-03-17T15:39:28.226920Z",
     "iopub.status.idle": "2025-03-17T15:39:28.242057Z",
     "shell.execute_reply": "2025-03-17T15:39:28.241191Z",
     "shell.execute_reply.started": "2025-03-17T15:39:28.228224Z"
    }
   },
   "outputs": [
    {
     "data": {
      "text/plain": [
       "is_valid                                                                                                                                             True\n",
       "od_color                                                                                                                                   бледно-розовый\n",
       "od_monotone                                                                                                                                          True\n",
       "od_size                                                                                                                                        нормальный\n",
       "od_shape                                                                                                                                       правильная\n",
       "od_border                                                                                                                                        размытые\n",
       "od_excavation_size                                                                                                                             нормальный\n",
       "od_excavation_location                                                                                                                           в центре\n",
       "od_excavation_ratio                                                                                                                                   NaN\n",
       "od_vessels_location                                                                                                                              в центре\n",
       "od_pathology                                                                                                                                          NaN\n",
       "vessels_art_course                                                                                                                             нормальный\n",
       "vessels_art_turtuosity                                                                                                                         нормальная\n",
       "vessels_art_bifurcation                                                                                                                        нормальная\n",
       "vessels_art_caliber                                                                                                                           расширенный\n",
       "vessels_vein_course                                                                                                                            нормальный\n",
       "vessels_vein_turtuosity                                                                                                                        нормальная\n",
       "vessels_vein_bifurcation                                                                                                                       нормальная\n",
       "vessels_vein_caliber                                                                                                                          расширенный\n",
       "vessels_ratio                                                                                                                                         NaN\n",
       "vessels_pathology                                                                                                                                     NaN\n",
       "macula_macular_reflex                                                                                                                          нормальный\n",
       "macula_foveal_reflex                                                                                                                           нормальный\n",
       "macula_pathology                                                                                          светлый проминирующий очаг до 1 ДД кверху от МЗ\n",
       "peripheral_pathology                                                                                                                                  NaN\n",
       "other_diagnosis                                                                                                                                       NaN\n",
       "other_notes                                                                                                                    Детали не визуализируются.\n",
       "text                        За флером: границы ДЗН нечеткие, сосуды расширены, кверху от МЗ светлый проминирующий очаг до 1 ДД, детали не визуализируются\n",
       "Name: 1, dtype: object"
      ]
     },
     "execution_count": 8,
     "metadata": {},
     "output_type": "execute_result"
    }
   ],
   "source": [
    "valid_descr.iloc[1]"
   ]
  },
  {
   "cell_type": "markdown",
   "id": "9ba4bb96d09ecbec",
   "metadata": {},
   "source": [
    "Из-за таких косяков модели мы можем просесть в качестве обучающей выборки для LoRA адаптера.\n",
    "Поэтому давайте проведём небольшой EDA по интересующим нас полям и оценим разнообразие существующих значений параметров."
   ]
  },
  {
   "cell_type": "markdown",
   "id": "d192e851947cd6da",
   "metadata": {},
   "source": [
    "# EDA"
   ]
  },
  {
   "cell_type": "markdown",
   "id": "7cf60f1c-8f9f-4242-8a93-58c40aa65cf0",
   "metadata": {
    "execution": {
     "iopub.execute_input": "2025-03-03T19:53:34.877026Z",
     "iopub.status.busy": "2025-03-03T19:53:34.875899Z",
     "iopub.status.idle": "2025-03-03T19:53:34.898901Z",
     "shell.execute_reply": "2025-03-03T19:53:34.898033Z",
     "shell.execute_reply.started": "2025-03-03T19:53:34.876968Z"
    },
    "tags": []
   },
   "source": [
    "## OD"
   ]
  },
  {
   "cell_type": "markdown",
   "id": "1f8aeb4b02e267f4",
   "metadata": {
    "jp-MarkdownHeadingCollapsed": true,
    "tags": []
   },
   "source": [
    "#### is_valid"
   ]
  },
  {
   "cell_type": "code",
   "execution_count": 9,
   "id": "bdf04c767ea691ac",
   "metadata": {
    "ExecuteTime": {
     "end_time": "2025-03-03T14:19:56.939957Z",
     "start_time": "2025-03-03T14:19:56.934561Z"
    },
    "execution": {
     "iopub.execute_input": "2025-03-17T15:39:28.244191Z",
     "iopub.status.busy": "2025-03-17T15:39:28.243033Z",
     "iopub.status.idle": "2025-03-17T15:39:28.257728Z",
     "shell.execute_reply": "2025-03-17T15:39:28.256583Z",
     "shell.execute_reply.started": "2025-03-17T15:39:28.244148Z"
    }
   },
   "outputs": [
    {
     "data": {
      "text/plain": [
       "array([ True])"
      ]
     },
     "execution_count": 9,
     "metadata": {},
     "output_type": "execute_result"
    }
   ],
   "source": [
    "is_valid_df = valid_descr['is_valid']\n",
    "np.unique(is_valid_df)"
   ]
  },
  {
   "cell_type": "markdown",
   "id": "587d6a7d7f23e53b",
   "metadata": {},
   "source": [
    "Тут всё окей, действительно остались все те описания, которые модель посчитала валидными. Было бы странно увидеть другой результат."
   ]
  },
  {
   "cell_type": "markdown",
   "id": "d28f11265ae07679",
   "metadata": {
    "tags": []
   },
   "source": [
    "#### od_color "
   ]
  },
  {
   "cell_type": "code",
   "execution_count": 10,
   "id": "2f0b199e5e62fe5a",
   "metadata": {
    "ExecuteTime": {
     "end_time": "2025-03-03T14:38:20.294126Z",
     "start_time": "2025-03-03T14:38:20.289619Z"
    },
    "execution": {
     "iopub.execute_input": "2025-03-17T15:39:28.260016Z",
     "iopub.status.busy": "2025-03-17T15:39:28.259255Z",
     "iopub.status.idle": "2025-03-17T15:39:28.302033Z",
     "shell.execute_reply": "2025-03-17T15:39:28.300970Z",
     "shell.execute_reply.started": "2025-03-17T15:39:28.259951Z"
    }
   },
   "outputs": [
    {
     "data": {
      "text/plain": [
       "array(['белый', 'бледно', 'бледно розовый', 'бледно-розовый',\n",
       "       'бледно-розовый с сероватым оттенком',\n",
       "       'бледно-розовый с серым оттенком',\n",
       "       'бледно-розовый, с сероватым оттенком', 'бледноват', 'бледноватый',\n",
       "       'бледный', 'бледный с серым оттенком',\n",
       "       'бледный, с сероватым оттенком', 'близко-розовый',\n",
       "       'деколорированный', 'розовый', 'серовато-бледно-розовый',\n",
       "       'сероватый', 'серый'], dtype=object)"
      ]
     },
     "execution_count": 10,
     "metadata": {},
     "output_type": "execute_result"
    }
   ],
   "source": [
    "od_color_s = valid_descr['od_color']\n",
    "np.unique(od_color_s)"
   ]
  },
  {
   "cell_type": "markdown",
   "id": "ee791274c5606545",
   "metadata": {},
   "source": [
    "Видим некоторое количество значений цвета глазного дна, при этом в системе EYAS возможны только следующие цвета:\n",
    "* Серый\n",
    "* Белый\n",
    "* Бледный\n",
    "* Бледно-розовый\n",
    "* Розовый\n",
    "* Гиперемированный"
   ]
  },
  {
   "cell_type": "code",
   "execution_count": 11,
   "id": "82e196c4eb05642a",
   "metadata": {
    "ExecuteTime": {
     "end_time": "2025-03-03T14:38:51.688333Z",
     "start_time": "2025-03-03T14:38:51.681588Z"
    },
    "execution": {
     "iopub.execute_input": "2025-03-17T15:39:28.304300Z",
     "iopub.status.busy": "2025-03-17T15:39:28.303376Z",
     "iopub.status.idle": "2025-03-17T15:39:28.326133Z",
     "shell.execute_reply": "2025-03-17T15:39:28.324857Z",
     "shell.execute_reply.started": "2025-03-17T15:39:28.304259Z"
    }
   },
   "outputs": [
    {
     "data": {
      "text/plain": [
       "бледно-розовый                          638\n",
       "бледный                                 183\n",
       "бледноват                                21\n",
       "бледноватый                              13\n",
       "серый                                    12\n",
       "розовый                                  10\n",
       "бледно розовый                            3\n",
       "деколорированный                          1\n",
       "серовато-бледно-розовый                   1\n",
       "бледный, с сероватым оттенком             1\n",
       "белый                                     1\n",
       "близко-розовый                            1\n",
       "бледно-розовый с серым оттенком           1\n",
       "бледно-розовый с сероватым оттенком       1\n",
       "сероватый                                 1\n",
       "бледно-розовый, с сероватым оттенком      1\n",
       "бледно                                    1\n",
       "бледный с серым оттенком                  1\n",
       "Name: od_color, dtype: int64"
      ]
     },
     "execution_count": 11,
     "metadata": {},
     "output_type": "execute_result"
    }
   ],
   "source": [
    "od_color_s.value_counts()"
   ]
  },
  {
   "cell_type": "markdown",
   "id": "39519df4567d72b0",
   "metadata": {},
   "source": [
    "Пока переведём все цвета которые имеют сероватый оттенок в бледный или бледно-розовый. Деколорированный пока под вопросом. \n",
    "\n",
    "Таким образом, унифицируем наши значения в данных, чтобы они соответствовали системе EYAS. "
   ]
  },
  {
   "cell_type": "code",
   "execution_count": 12,
   "id": "88e5dee889108067",
   "metadata": {
    "ExecuteTime": {
     "end_time": "2025-03-03T14:54:45.066002Z",
     "start_time": "2025-03-03T14:54:45.055435Z"
    },
    "execution": {
     "iopub.execute_input": "2025-03-17T15:39:28.328889Z",
     "iopub.status.busy": "2025-03-17T15:39:28.327646Z",
     "iopub.status.idle": "2025-03-17T15:39:28.347244Z",
     "shell.execute_reply": "2025-03-17T15:39:28.346031Z",
     "shell.execute_reply.started": "2025-03-17T15:39:28.328849Z"
    }
   },
   "outputs": [],
   "source": [
    "# Словарь соответствий\n",
    "replacement_dict = {\n",
    "    \"бледноват\": \"бледный\",\n",
    "    \"бледноватый\": \"бледный\",\n",
    "    \"бледно розовый\": \"бледно-розовый\",\n",
    "    \"бледно-розовый, с сероватым оттенком\": \"бледно-розовый\", #бледный\n",
    "    \"сероватый\": \"серый\",\n",
    "    \"бледно\": \"бледный\",\n",
    "    \"бледно-розовый с серым оттенком\": \"бледно-розовый\", #бледный\n",
    "    \"бледно-розовый с сероватым оттенком\": \"бледно-розовый\", #бледный\n",
    "    \"близко-розовый\": \"бледно-розовый\",\n",
    "    \"бледный, с сероватым оттенком\": \"бледный\", #бледный\n",
    "    \"серовато-бледно-розовый\": \"серый\", #бледный\n",
    "    \"бледный с серым оттенком\": \"серый\" #серый\n",
    "}\n",
    "\n",
    "# Применение замены\n",
    "od_color_s = od_color_s.replace(replacement_dict)"
   ]
  },
  {
   "cell_type": "code",
   "execution_count": 13,
   "id": "ee6597dbfccff86d",
   "metadata": {
    "ExecuteTime": {
     "end_time": "2025-03-03T14:59:02.925745Z",
     "start_time": "2025-03-03T14:59:02.917447Z"
    },
    "execution": {
     "iopub.execute_input": "2025-03-17T15:39:28.351797Z",
     "iopub.status.busy": "2025-03-17T15:39:28.350672Z",
     "iopub.status.idle": "2025-03-17T15:39:28.382597Z",
     "shell.execute_reply": "2025-03-17T15:39:28.381342Z",
     "shell.execute_reply.started": "2025-03-17T15:39:28.351755Z"
    }
   },
   "outputs": [
    {
     "data": {
      "text/plain": [
       "бледно-розовый      645\n",
       "бледный             219\n",
       "серый                15\n",
       "розовый              10\n",
       "деколорированный      1\n",
       "белый                 1\n",
       "Name: od_color, dtype: int64"
      ]
     },
     "execution_count": 13,
     "metadata": {},
     "output_type": "execute_result"
    }
   ],
   "source": [
    "valid_descr.loc[:, 'od_color'] = od_color_s\n",
    "valid_descr['od_color'].value_counts()"
   ]
  },
  {
   "cell_type": "markdown",
   "id": "c3e37d31ad4d4166",
   "metadata": {
    "jp-MarkdownHeadingCollapsed": true,
    "tags": []
   },
   "source": [
    "#### od_monotone"
   ]
  },
  {
   "cell_type": "markdown",
   "id": "60a77fbc66a59b20",
   "metadata": {},
   "source": [
    "Всё также вполне ожидаемо, менять значения нет нужды. Только посчитаем встречаемость."
   ]
  },
  {
   "cell_type": "code",
   "execution_count": 14,
   "id": "d9226f4e27d40b3c",
   "metadata": {
    "ExecuteTime": {
     "end_time": "2025-03-03T15:02:13.425341Z",
     "start_time": "2025-03-03T15:02:13.417742Z"
    },
    "execution": {
     "iopub.execute_input": "2025-03-17T15:39:28.385552Z",
     "iopub.status.busy": "2025-03-17T15:39:28.383769Z",
     "iopub.status.idle": "2025-03-17T15:39:28.410585Z",
     "shell.execute_reply": "2025-03-17T15:39:28.409444Z",
     "shell.execute_reply.started": "2025-03-17T15:39:28.385512Z"
    }
   },
   "outputs": [
    {
     "data": {
      "text/plain": [
       "array([False,  True])"
      ]
     },
     "execution_count": 14,
     "metadata": {},
     "output_type": "execute_result"
    }
   ],
   "source": [
    "od_monotone_s = valid_descr['od_monotone']\n",
    "np.unique(od_monotone_s)"
   ]
  },
  {
   "cell_type": "code",
   "execution_count": 15,
   "id": "92b81f391e3371a8",
   "metadata": {
    "ExecuteTime": {
     "end_time": "2025-03-03T15:02:13.685951Z",
     "start_time": "2025-03-03T15:02:13.672650Z"
    },
    "execution": {
     "iopub.execute_input": "2025-03-17T15:39:28.413387Z",
     "iopub.status.busy": "2025-03-17T15:39:28.412080Z",
     "iopub.status.idle": "2025-03-17T15:39:28.449464Z",
     "shell.execute_reply": "2025-03-17T15:39:28.448108Z",
     "shell.execute_reply.started": "2025-03-17T15:39:28.413341Z"
    }
   },
   "outputs": [
    {
     "data": {
      "text/plain": [
       "True     884\n",
       "False      7\n",
       "Name: od_monotone, dtype: int64"
      ]
     },
     "execution_count": 15,
     "metadata": {},
     "output_type": "execute_result"
    }
   ],
   "source": [
    "od_monotone_s.value_counts()"
   ]
  },
  {
   "cell_type": "markdown",
   "id": "91ac1530c6b7050a",
   "metadata": {
    "jp-MarkdownHeadingCollapsed": true,
    "tags": []
   },
   "source": [
    "#### od_size"
   ]
  },
  {
   "cell_type": "code",
   "execution_count": 16,
   "id": "78f7115fb7ef402",
   "metadata": {
    "ExecuteTime": {
     "end_time": "2025-03-03T15:04:02.587517Z",
     "start_time": "2025-03-03T15:04:02.580770Z"
    },
    "execution": {
     "iopub.execute_input": "2025-03-17T15:39:28.452460Z",
     "iopub.status.busy": "2025-03-17T15:39:28.450843Z",
     "iopub.status.idle": "2025-03-17T15:39:28.470252Z",
     "shell.execute_reply": "2025-03-17T15:39:28.469049Z",
     "shell.execute_reply.started": "2025-03-17T15:39:28.452412Z"
    }
   },
   "outputs": [
    {
     "data": {
      "text/plain": [
       "array(['больше нормы', 'значительно уменьшен', 'меньше нормы',\n",
       "       'нормальный', 'увеличен', 'увеличен в диаметре',\n",
       "       'увеличенного размера'], dtype=object)"
      ]
     },
     "execution_count": 16,
     "metadata": {},
     "output_type": "execute_result"
    }
   ],
   "source": [
    "od_size_s = valid_descr['od_size']\n",
    "np.unique(od_size_s)"
   ]
  },
  {
   "cell_type": "markdown",
   "id": "20cad9c21ba0957e",
   "metadata": {},
   "source": [
    "Набор значений отличается от доступных в системе:\n",
    "* нормальный\n",
    "* больше нормы\n",
    "* меньше нормы"
   ]
  },
  {
   "cell_type": "code",
   "execution_count": 17,
   "id": "1f0dace4886cde4e",
   "metadata": {
    "ExecuteTime": {
     "end_time": "2025-03-03T15:04:59.590860Z",
     "start_time": "2025-03-03T15:04:59.579322Z"
    },
    "execution": {
     "iopub.execute_input": "2025-03-17T15:39:28.473803Z",
     "iopub.status.busy": "2025-03-17T15:39:28.471440Z",
     "iopub.status.idle": "2025-03-17T15:39:28.496388Z",
     "shell.execute_reply": "2025-03-17T15:39:28.494988Z",
     "shell.execute_reply.started": "2025-03-17T15:39:28.473716Z"
    }
   },
   "outputs": [
    {
     "data": {
      "text/plain": [
       "нормальный              847\n",
       "меньше нормы             32\n",
       "больше нормы              6\n",
       "увеличен                  2\n",
       "увеличен в диаметре       2\n",
       "значительно уменьшен      1\n",
       "увеличенного размера      1\n",
       "Name: od_size, dtype: int64"
      ]
     },
     "execution_count": 17,
     "metadata": {},
     "output_type": "execute_result"
    }
   ],
   "source": [
    "od_size_s.value_counts()"
   ]
  },
  {
   "cell_type": "markdown",
   "id": "afa66166a4f9a49a",
   "metadata": {},
   "source": [
    "Небольшое количество отличающихся значений, заменим их и добавим в оригинальный датафрейм."
   ]
  },
  {
   "cell_type": "code",
   "execution_count": 18,
   "id": "ddbb5d85a5e62740",
   "metadata": {
    "ExecuteTime": {
     "end_time": "2025-03-03T15:07:33.925875Z",
     "start_time": "2025-03-03T15:07:33.915335Z"
    },
    "execution": {
     "iopub.execute_input": "2025-03-17T15:39:28.499491Z",
     "iopub.status.busy": "2025-03-17T15:39:28.497719Z",
     "iopub.status.idle": "2025-03-17T15:39:28.528773Z",
     "shell.execute_reply": "2025-03-17T15:39:28.527730Z",
     "shell.execute_reply.started": "2025-03-17T15:39:28.499445Z"
    }
   },
   "outputs": [
    {
     "data": {
      "text/plain": [
       "нормальный      847\n",
       "меньше нормы     33\n",
       "больше нормы     11\n",
       "Name: od_size, dtype: int64"
      ]
     },
     "execution_count": 18,
     "metadata": {},
     "output_type": "execute_result"
    }
   ],
   "source": [
    "# Словарь соответствий\n",
    "replacement_dict = {\n",
    "    \"увеличен\" : \"больше нормы\",\n",
    "    \"увеличен в диаметре\" : \"больше нормы\",\n",
    "    \"увеличенного размера\" : \"больше нормы\",\n",
    "    \"значительно уменьшен\" : \"меньше нормы\",\n",
    "}\n",
    "\n",
    "# Применение замены\n",
    "od_size_s = od_size_s.replace(replacement_dict)\n",
    "valid_descr.loc[:, 'od_size'] = od_size_s\n",
    "valid_descr['od_size'].value_counts()"
   ]
  },
  {
   "cell_type": "markdown",
   "id": "a9f015f8-be9a-40ea-8367-79e1dc90547e",
   "metadata": {
    "jp-MarkdownHeadingCollapsed": true,
    "tags": []
   },
   "source": [
    "#### od_shape"
   ]
  },
  {
   "cell_type": "code",
   "execution_count": 19,
   "id": "dbc23d47-bb6d-42d6-89f1-8e0117b36a45",
   "metadata": {
    "execution": {
     "iopub.execute_input": "2025-03-17T15:39:28.532305Z",
     "iopub.status.busy": "2025-03-17T15:39:28.529887Z",
     "iopub.status.idle": "2025-03-17T15:39:28.554863Z",
     "shell.execute_reply": "2025-03-17T15:39:28.553812Z",
     "shell.execute_reply.started": "2025-03-17T15:39:28.532259Z"
    }
   },
   "outputs": [
    {
     "data": {
      "text/plain": [
       "array(['аномальное строение', 'деформирован', 'неправильная',\n",
       "       'нормальный', 'овальная', 'правильная', 'тракционно деформирован'],\n",
       "      dtype=object)"
      ]
     },
     "execution_count": 19,
     "metadata": {},
     "output_type": "execute_result"
    }
   ],
   "source": [
    "od_shape_s = valid_descr['od_shape']\n",
    "np.unique(od_shape_s)"
   ]
  },
  {
   "cell_type": "markdown",
   "id": "1c9c780c-60e5-4b71-a0a6-643ba0c5216b",
   "metadata": {},
   "source": [
    "Доступные в системе значения:\n",
    "* правильная\n",
    "* неправильная\n",
    "* овальная"
   ]
  },
  {
   "cell_type": "code",
   "execution_count": 20,
   "id": "c81ded57-5198-4d7b-ac36-c18b0c8f5e0f",
   "metadata": {
    "execution": {
     "iopub.execute_input": "2025-03-17T15:39:28.558076Z",
     "iopub.status.busy": "2025-03-17T15:39:28.556157Z",
     "iopub.status.idle": "2025-03-17T15:39:28.578817Z",
     "shell.execute_reply": "2025-03-17T15:39:28.577587Z",
     "shell.execute_reply.started": "2025-03-17T15:39:28.558031Z"
    }
   },
   "outputs": [
    {
     "data": {
      "text/plain": [
       "правильная                 849\n",
       "неправильная                25\n",
       "овальная                    12\n",
       "тракционно деформирован      2\n",
       "деформирован                 1\n",
       "аномальное строение          1\n",
       "нормальный                   1\n",
       "Name: od_shape, dtype: int64"
      ]
     },
     "execution_count": 20,
     "metadata": {},
     "output_type": "execute_result"
    }
   ],
   "source": [
    "od_shape_s.value_counts()"
   ]
  },
  {
   "cell_type": "code",
   "execution_count": 21,
   "id": "8234cbf8-f50d-495b-9abf-53ae8866e00c",
   "metadata": {
    "execution": {
     "iopub.execute_input": "2025-03-17T15:39:28.582161Z",
     "iopub.status.busy": "2025-03-17T15:39:28.580217Z",
     "iopub.status.idle": "2025-03-17T15:39:28.603490Z",
     "shell.execute_reply": "2025-03-17T15:39:28.602501Z",
     "shell.execute_reply.started": "2025-03-17T15:39:28.582089Z"
    }
   },
   "outputs": [
    {
     "data": {
      "text/plain": [
       "правильная      850\n",
       "неправильная     29\n",
       "овальная         12\n",
       "Name: od_shape, dtype: int64"
      ]
     },
     "execution_count": 21,
     "metadata": {},
     "output_type": "execute_result"
    }
   ],
   "source": [
    "# Словарь соответствий\n",
    "replacement_dict = {\n",
    "    \"тракционно деформирован\" : \"неправильная\",\n",
    "    \"деформирован\" : \"неправильная\",\n",
    "    \"аномальное строение\" : \"неправильная\",\n",
    "    \"нормальный\" : \"правильная\",\n",
    "}\n",
    "\n",
    "# Применение замены\n",
    "od_shape_s = od_shape_s.replace(replacement_dict)\n",
    "valid_descr.loc[:, 'od_shape'] = od_shape_s\n",
    "valid_descr['od_shape'].value_counts()"
   ]
  },
  {
   "cell_type": "markdown",
   "id": "7da2951c-8a34-4688-b9b8-46d8ad7e3699",
   "metadata": {
    "execution": {
     "iopub.execute_input": "2025-03-03T15:31:41.979102Z",
     "iopub.status.busy": "2025-03-03T15:31:41.978318Z",
     "iopub.status.idle": "2025-03-03T15:31:41.990881Z",
     "shell.execute_reply": "2025-03-03T15:31:41.990011Z",
     "shell.execute_reply.started": "2025-03-03T15:31:41.979057Z"
    },
    "jp-MarkdownHeadingCollapsed": true,
    "tags": []
   },
   "source": [
    "#### od_border"
   ]
  },
  {
   "cell_type": "code",
   "execution_count": 22,
   "id": "3093e544-4b3e-417d-9bfa-9076a920d747",
   "metadata": {
    "execution": {
     "iopub.execute_input": "2025-03-17T15:39:28.607681Z",
     "iopub.status.busy": "2025-03-17T15:39:28.604600Z",
     "iopub.status.idle": "2025-03-17T15:39:28.631218Z",
     "shell.execute_reply": "2025-03-17T15:39:28.630022Z",
     "shell.execute_reply.started": "2025-03-17T15:39:28.607609Z"
    }
   },
   "outputs": [
    {
     "data": {
      "text/plain": [
       "array(['не прослеживаются', 'нечеткие', 'приподняты', 'размытые',\n",
       "       'с внутренней стороны сглажены', 'сглажены', 'стушеванные',\n",
       "       'тационно деформированный', 'четкие', 'чёткие'], dtype=object)"
      ]
     },
     "execution_count": 22,
     "metadata": {},
     "output_type": "execute_result"
    }
   ],
   "source": [
    "od_border_s = valid_descr['od_border']\n",
    "np.unique(od_border_s)"
   ]
  },
  {
   "cell_type": "markdown",
   "id": "49dedc83-7c4a-49ae-8538-50e1f7b678b6",
   "metadata": {},
   "source": [
    "Значения в системе:\n",
    "* четкие\n",
    "* размытые"
   ]
  },
  {
   "cell_type": "code",
   "execution_count": 23,
   "id": "e6f8f111-d548-479c-be26-1ac2fdfa3f5b",
   "metadata": {
    "execution": {
     "iopub.execute_input": "2025-03-17T15:39:28.636367Z",
     "iopub.status.busy": "2025-03-17T15:39:28.635167Z",
     "iopub.status.idle": "2025-03-17T15:39:28.653676Z",
     "shell.execute_reply": "2025-03-17T15:39:28.652723Z",
     "shell.execute_reply.started": "2025-03-17T15:39:28.636326Z"
    },
    "tags": []
   },
   "outputs": [
    {
     "data": {
      "text/plain": [
       "четкие                           753\n",
       "размытые                         118\n",
       "нечеткие                          11\n",
       "с внутренней стороны сглажены      3\n",
       "тационно деформированный           1\n",
       "приподняты                         1\n",
       "сглажены                           1\n",
       "чёткие                             1\n",
       "не прослеживаются                  1\n",
       "стушеванные                        1\n",
       "Name: od_border, dtype: int64"
      ]
     },
     "execution_count": 23,
     "metadata": {},
     "output_type": "execute_result"
    }
   ],
   "source": [
    "od_border_s.value_counts()"
   ]
  },
  {
   "cell_type": "code",
   "execution_count": 24,
   "id": "5bfa428b-2c9a-43af-b6a9-b5f7410fcfa8",
   "metadata": {
    "execution": {
     "iopub.execute_input": "2025-03-17T15:39:28.656216Z",
     "iopub.status.busy": "2025-03-17T15:39:28.655257Z",
     "iopub.status.idle": "2025-03-17T15:39:28.684554Z",
     "shell.execute_reply": "2025-03-17T15:39:28.683185Z",
     "shell.execute_reply.started": "2025-03-17T15:39:28.656165Z"
    },
    "tags": []
   },
   "outputs": [
    {
     "data": {
      "text/plain": [
       "755    ДЗН бледно-розовый, контуры стушеваны (прослеживаются), вены полнокровные, артерии сужены, макула – рефлексы сглажены, на периферии на 5 и 7 час. – преретинальные пленки ДЗН бледно-розовый, контуры стушеваны (прослеживаются), вены полнокровные, артерии сужены, макула – рефлексы сглажены, на периферии на 5 и 7 час. – преретинальные пленки\n",
       "Name: text, dtype: object"
      ]
     },
     "metadata": {},
     "output_type": "display_data"
    }
   ],
   "source": [
    "display(valid_descr[valid_descr[\"od_border\"] == \"стушеванные\"][\"text\"])"
   ]
  },
  {
   "cell_type": "code",
   "execution_count": 25,
   "id": "4597a8b5-9a4a-444a-87eb-411212454166",
   "metadata": {
    "execution": {
     "iopub.execute_input": "2025-03-17T15:39:28.689644Z",
     "iopub.status.busy": "2025-03-17T15:39:28.686146Z",
     "iopub.status.idle": "2025-03-17T15:39:28.750110Z",
     "shell.execute_reply": "2025-03-17T15:39:28.748758Z",
     "shell.execute_reply.started": "2025-03-17T15:39:28.689601Z"
    }
   },
   "outputs": [
    {
     "data": {
      "text/plain": [
       "четкие      754\n",
       "размытые    137\n",
       "Name: od_border, dtype: int64"
      ]
     },
     "execution_count": 25,
     "metadata": {},
     "output_type": "execute_result"
    }
   ],
   "source": [
    "# Словарь соответствий\n",
    "replacement_dict = {\n",
    "    \"нечеткие\" : \"размытые\",\n",
    "    \"с внутренней стороны сглажены\" : \"размытые\",\n",
    "    \"тационно деформированный\" : \"размытые\",\n",
    "    \"приподняты\" : \"размытые\",\n",
    "    \"сглажены\" : \"размытые\",\n",
    "    \"чёткие\" : \"четкие\",\n",
    "    \"не прослеживаются\" : \"размытые\",\n",
    "    \"стушеванные\" : \"размытые\",\n",
    "}\n",
    "\n",
    "# Применение замены\n",
    "od_border_s = od_border_s.replace(replacement_dict)\n",
    "valid_descr.loc[:, 'od_border'] = od_border_s\n",
    "valid_descr['od_border'].value_counts()"
   ]
  },
  {
   "cell_type": "markdown",
   "id": "dd6d5c56-c347-42a8-9ef1-270acce22e18",
   "metadata": {
    "execution": {
     "iopub.execute_input": "2025-03-03T15:42:55.898889Z",
     "iopub.status.busy": "2025-03-03T15:42:55.897960Z",
     "iopub.status.idle": "2025-03-03T15:42:55.935780Z",
     "shell.execute_reply": "2025-03-03T15:42:55.934921Z",
     "shell.execute_reply.started": "2025-03-03T15:42:55.898848Z"
    },
    "jp-MarkdownHeadingCollapsed": true,
    "tags": []
   },
   "source": [
    "#### od_excavation_size"
   ]
  },
  {
   "cell_type": "code",
   "execution_count": 26,
   "id": "581fd8e6-a89c-493e-ac9d-dc0e88edb66e",
   "metadata": {
    "execution": {
     "iopub.execute_input": "2025-03-17T15:39:28.753793Z",
     "iopub.status.busy": "2025-03-17T15:39:28.751492Z",
     "iopub.status.idle": "2025-03-17T15:39:28.790495Z",
     "shell.execute_reply": "2025-03-17T15:39:28.789138Z",
     "shell.execute_reply.started": "2025-03-17T15:39:28.753648Z"
    },
    "tags": []
   },
   "outputs": [
    {
     "data": {
      "text/plain": [
       "array(['0,9ДД', 'nan', 'Краевая', 'больше нормы', 'глаукоматозная',\n",
       "       'глубокая', 'глубокая субтотальная', 'глубокий', 'краевая',\n",
       "       'меньше нормы', 'нормальный', 'отсутствует', 'проминирует',\n",
       "       'слегка проминирует', 'субтотальная'], dtype=object)"
      ]
     },
     "execution_count": 26,
     "metadata": {},
     "output_type": "execute_result"
    }
   ],
   "source": [
    "valid_descr['od_excavation_size'] = valid_descr['od_excavation_size'].astype(str)\n",
    "od_excavation_size_s = valid_descr['od_excavation_size']\n",
    "np.unique(od_excavation_size_s)"
   ]
  },
  {
   "cell_type": "markdown",
   "id": "53b14493-5f2b-4ee7-900c-f3f4be1b869e",
   "metadata": {},
   "source": [
    "В системе доступные значения:\n",
    "* Нормальный\n",
    "* Больше нормы\n",
    "* Меньше нормы"
   ]
  },
  {
   "cell_type": "code",
   "execution_count": 27,
   "id": "d69ff7ee-3173-4f5a-a951-1f98df23b4d2",
   "metadata": {
    "execution": {
     "iopub.execute_input": "2025-03-17T15:39:28.794736Z",
     "iopub.status.busy": "2025-03-17T15:39:28.792049Z",
     "iopub.status.idle": "2025-03-17T15:39:28.814658Z",
     "shell.execute_reply": "2025-03-17T15:39:28.813554Z",
     "shell.execute_reply.started": "2025-03-17T15:39:28.794690Z"
    },
    "tags": []
   },
   "outputs": [
    {
     "data": {
      "text/plain": [
       "нормальный               862\n",
       "больше нормы              11\n",
       "глубокая                   4\n",
       "глаукоматозная             2\n",
       "субтотальная               2\n",
       "проминирует                1\n",
       "меньше нормы               1\n",
       "nan                        1\n",
       "0,9ДД                      1\n",
       "глубокая субтотальная      1\n",
       "отсутствует                1\n",
       "слегка проминирует         1\n",
       "краевая                    1\n",
       "Краевая                    1\n",
       "глубокий                   1\n",
       "Name: od_excavation_size, dtype: int64"
      ]
     },
     "execution_count": 27,
     "metadata": {},
     "output_type": "execute_result"
    }
   ],
   "source": [
    "od_excavation_size_s.value_counts()"
   ]
  },
  {
   "cell_type": "code",
   "execution_count": 28,
   "id": "a33a129d-93bf-4e2e-a02f-0544e8f17775",
   "metadata": {
    "execution": {
     "iopub.execute_input": "2025-03-17T15:39:28.818054Z",
     "iopub.status.busy": "2025-03-17T15:39:28.816068Z",
     "iopub.status.idle": "2025-03-17T15:39:28.839819Z",
     "shell.execute_reply": "2025-03-17T15:39:28.838840Z",
     "shell.execute_reply.started": "2025-03-17T15:39:28.818013Z"
    },
    "tags": []
   },
   "outputs": [
    {
     "data": {
      "text/plain": [
       "нормальный      864\n",
       "больше нормы     24\n",
       "меньше нормы      3\n",
       "Name: od_excavation_size, dtype: int64"
      ]
     },
     "execution_count": 28,
     "metadata": {},
     "output_type": "execute_result"
    }
   ],
   "source": [
    "# Словарь соответствий\n",
    "replacement_dict = {\n",
    "    \"глубокая\" : \"больше нормы\",\n",
    "    \"глаукоматозная\" : \"больше нормы\",\n",
    "    \"субтотальная\" : \"больше нормы\",\n",
    "    \"проминирует\" : \"меньше нормы\",\n",
    "    \"nan\" : \"нормальный\",\n",
    "    \"0,9ДД\" : \"больше нормы\",\n",
    "    \"глубокая субтотальная\" : \"больше нормы\",\n",
    "    \"отсутствует\" : \"нормальный\",\n",
    "    \"слегка проминирует\" : \"меньше нормы\",\n",
    "    \"краевая\" : \"больше нормы\",\n",
    "    \"Краевая\" : \"больше нормы\",\n",
    "    \"глубокий\" : \"больше нормы\",\n",
    "}\n",
    "\n",
    "# Применение замены\n",
    "od_excavation_size_s = od_excavation_size_s.replace(replacement_dict)\n",
    "valid_descr.loc[:, 'od_excavation_size'] = od_excavation_size_s\n",
    "valid_descr['od_excavation_size'].value_counts()"
   ]
  },
  {
   "cell_type": "markdown",
   "id": "5c473b10-bcd3-442f-8bf1-d9120ae7bdd7",
   "metadata": {
    "jp-MarkdownHeadingCollapsed": true,
    "tags": []
   },
   "source": [
    "#### od_excavation_location"
   ]
  },
  {
   "cell_type": "code",
   "execution_count": 29,
   "id": "f9ee0dc4-7a04-458d-8f38-64622e54d7dd",
   "metadata": {
    "execution": {
     "iopub.execute_input": "2025-03-17T15:39:28.841610Z",
     "iopub.status.busy": "2025-03-17T15:39:28.841130Z",
     "iopub.status.idle": "2025-03-17T15:39:28.870578Z",
     "shell.execute_reply": "2025-03-17T15:39:28.869145Z",
     "shell.execute_reply.started": "2025-03-17T15:39:28.841574Z"
    },
    "tags": []
   },
   "outputs": [
    {
     "data": {
      "text/plain": [
       "array(['nan', 'в центре', 'височный', 'внутренний', 'краевая',\n",
       "       'на периферии', 'наружный', 'нижне-внутренний', 'субтотальная',\n",
       "       'тотальная'], dtype=object)"
      ]
     },
     "execution_count": 29,
     "metadata": {},
     "output_type": "execute_result"
    }
   ],
   "source": [
    "valid_descr['od_excavation_location'] = valid_descr['od_excavation_location'].astype(str)\n",
    "od_excavation_location_s = valid_descr['od_excavation_location']\n",
    "np.unique(od_excavation_location_s)"
   ]
  },
  {
   "cell_type": "markdown",
   "id": "7cbb6edf-7bcd-4ef3-9859-1a929f49577f",
   "metadata": {},
   "source": [
    "Системные значения:\n",
    "* в центре\n",
    "* верхний\n",
    "* нижний\n",
    "* наружный\n",
    "* внутренний\n",
    "* верхне-наружный\n",
    "* верхне-внутренний\n",
    "* нижне-наружный\n",
    "* нижне-внутренний"
   ]
  },
  {
   "cell_type": "code",
   "execution_count": 30,
   "id": "089700db-e47c-4c60-af70-1746ea3fdee5",
   "metadata": {
    "execution": {
     "iopub.execute_input": "2025-03-17T15:39:28.874593Z",
     "iopub.status.busy": "2025-03-17T15:39:28.873207Z",
     "iopub.status.idle": "2025-03-17T15:39:28.901729Z",
     "shell.execute_reply": "2025-03-17T15:39:28.900679Z",
     "shell.execute_reply.started": "2025-03-17T15:39:28.874543Z"
    }
   },
   "outputs": [
    {
     "data": {
      "text/plain": [
       "в центре            881\n",
       "наружный              2\n",
       "височный              1\n",
       "нижне-внутренний      1\n",
       "nan                   1\n",
       "внутренний            1\n",
       "на периферии          1\n",
       "тотальная             1\n",
       "субтотальная          1\n",
       "краевая               1\n",
       "Name: od_excavation_location, dtype: int64"
      ]
     },
     "execution_count": 30,
     "metadata": {},
     "output_type": "execute_result"
    }
   ],
   "source": [
    "od_excavation_location_s.value_counts()"
   ]
  },
  {
   "cell_type": "code",
   "execution_count": 31,
   "id": "ec58d136-393d-4a39-b787-eea6d36b34da",
   "metadata": {
    "execution": {
     "iopub.execute_input": "2025-03-17T15:39:28.904518Z",
     "iopub.status.busy": "2025-03-17T15:39:28.903099Z",
     "iopub.status.idle": "2025-03-17T15:39:28.925134Z",
     "shell.execute_reply": "2025-03-17T15:39:28.923959Z",
     "shell.execute_reply.started": "2025-03-17T15:39:28.904454Z"
    }
   },
   "outputs": [
    {
     "data": {
      "text/plain": [
       "в центре            884\n",
       "наружный              5\n",
       "нижне-внутренний      1\n",
       "внутренний            1\n",
       "Name: od_excavation_location, dtype: int64"
      ]
     },
     "execution_count": 31,
     "metadata": {},
     "output_type": "execute_result"
    }
   ],
   "source": [
    "replacement_dict = {\n",
    "    \"височный\": \"наружный\",\n",
    "    \"nan\": \"в центре\",\n",
    "    \"на периферии\": \"наружный\",\n",
    "    \"тотальная\": \"в центре\",\n",
    "    \"субтотальная\": \"в центре\",\n",
    "    \"краевая\": \"наружный\"\n",
    "}\n",
    "\n",
    "\n",
    "# Применение замены\n",
    "od_excavation_location_s = od_excavation_location_s.replace(replacement_dict)\n",
    "valid_descr.loc[:, 'od_excavation_location'] = od_excavation_location_s\n",
    "valid_descr['od_excavation_location'].value_counts()"
   ]
  },
  {
   "cell_type": "markdown",
   "id": "6dbdfa40-ec8f-4550-b3b3-af5414d18747",
   "metadata": {
    "execution": {
     "iopub.execute_input": "2025-03-03T17:01:07.195720Z",
     "iopub.status.busy": "2025-03-03T17:01:07.194824Z",
     "iopub.status.idle": "2025-03-03T17:01:07.278669Z",
     "shell.execute_reply": "2025-03-03T17:01:07.277747Z",
     "shell.execute_reply.started": "2025-03-03T17:01:07.195682Z"
    },
    "tags": []
   },
   "source": [
    "#### od_excavation_ratio"
   ]
  },
  {
   "cell_type": "code",
   "execution_count": 32,
   "id": "bab1457b-a9df-4174-b977-c7edc6d50bef",
   "metadata": {
    "execution": {
     "iopub.execute_input": "2025-03-17T15:39:28.928145Z",
     "iopub.status.busy": "2025-03-17T15:39:28.926573Z",
     "iopub.status.idle": "2025-03-17T15:39:28.947410Z",
     "shell.execute_reply": "2025-03-17T15:39:28.946244Z",
     "shell.execute_reply.started": "2025-03-17T15:39:28.928104Z"
    },
    "tags": []
   },
   "outputs": [
    {
     "data": {
      "text/plain": [
       "array(['.', '.0', '.None', '.ov', '.дефолт', '.неизвестно', '/', '/None',\n",
       "       '0,3', '0,3 ДД', '0,5', '0,6', '0,9', '0.3', '0.4-0.5', '0.5',\n",
       "       '0.6', '0.7', '0.8', '0.9', ':', ': None', ':None', 'nan'],\n",
       "      dtype=object)"
      ]
     },
     "execution_count": 32,
     "metadata": {},
     "output_type": "execute_result"
    }
   ],
   "source": [
    "valid_descr['od_excavation_ratio'] = valid_descr['od_excavation_ratio'].astype(str)\n",
    "od_excavation_ratio_s = valid_descr['od_excavation_ratio']\n",
    "np.unique(od_excavation_ratio_s)"
   ]
  },
  {
   "cell_type": "code",
   "execution_count": 33,
   "id": "a210b1cc-3408-4612-93f6-62b0ab6ca061",
   "metadata": {
    "execution": {
     "iopub.execute_input": "2025-03-17T15:39:28.950493Z",
     "iopub.status.busy": "2025-03-17T15:39:28.949603Z",
     "iopub.status.idle": "2025-03-17T15:39:28.968180Z",
     "shell.execute_reply": "2025-03-17T15:39:28.967414Z",
     "shell.execute_reply.started": "2025-03-17T15:39:28.950453Z"
    },
    "tags": []
   },
   "outputs": [
    {
     "data": {
      "text/plain": [
       "nan            841\n",
       "/                8\n",
       "0.9              5\n",
       "0.5              4\n",
       ".None            4\n",
       "0,5              3\n",
       "0.3              3\n",
       "0.8              3\n",
       "0,9              2\n",
       ":None            2\n",
       "0.7              2\n",
       "/None            2\n",
       "0.6              1\n",
       ".0               1\n",
       "0,3 ДД           1\n",
       ".дефолт          1\n",
       ":                1\n",
       ".ov              1\n",
       "0,6              1\n",
       ".неизвестно      1\n",
       ".                1\n",
       "0,3              1\n",
       "0.4-0.5          1\n",
       ": None           1\n",
       "Name: od_excavation_ratio, dtype: int64"
      ]
     },
     "execution_count": 33,
     "metadata": {},
     "output_type": "execute_result"
    }
   ],
   "source": [
    "od_excavation_ratio_s.value_counts()"
   ]
  },
  {
   "cell_type": "markdown",
   "id": "286c18de-9928-4fab-943c-0017863e8081",
   "metadata": {
    "execution": {
     "iopub.execute_input": "2025-03-03T17:04:57.722261Z",
     "iopub.status.busy": "2025-03-03T17:04:57.721242Z",
     "iopub.status.idle": "2025-03-03T17:04:57.734263Z",
     "shell.execute_reply": "2025-03-03T17:04:57.733601Z",
     "shell.execute_reply.started": "2025-03-03T17:04:57.722220Z"
    }
   },
   "source": [
    "Возможные значения от 0 до 1"
   ]
  },
  {
   "cell_type": "code",
   "execution_count": 34,
   "id": "6b824814-7ebf-4ab2-97c3-74f1c4300f09",
   "metadata": {
    "execution": {
     "iopub.execute_input": "2025-03-17T15:39:28.970880Z",
     "iopub.status.busy": "2025-03-17T15:39:28.969225Z",
     "iopub.status.idle": "2025-03-17T15:39:28.988709Z",
     "shell.execute_reply": "2025-03-17T15:39:28.987809Z",
     "shell.execute_reply.started": "2025-03-17T15:39:28.970833Z"
    },
    "tags": []
   },
   "outputs": [],
   "source": [
    "replacement_dict = {\n",
    "    \"/\": \"nan\",\n",
    "    \".None\": \"nan\",\n",
    "    \"0,5\": \"0.5\",\n",
    "    \"0,9\": \"0.9\",\n",
    "    \":None\": \"nan\",\n",
    "    \"/None\": \"nan\",\n",
    "    \".0\": \"0\",\n",
    "    \"0,3 ДД\": \"0.3\",\n",
    "    \".дефолт\": \"0.3\",\n",
    "    \":\": \"nan\",\n",
    "    \".ov\": \"nan\", \n",
    "    \"0,6\": \"0.6\",\n",
    "    \".неизвестно\": \"nan\",\n",
    "    \".\": \"nan\",\n",
    "    \"0,3\": \"0.3\",\n",
    "    \"0.4-0.5\": \"0.4\",\n",
    "    \": None\": \"nan\"\n",
    "}\n",
    "\n",
    "# Применение замены\n",
    "od_excavation_ratio_s = od_excavation_ratio_s.replace(replacement_dict)\n",
    "valid_descr.loc[:, 'od_excavation_ratio'] = od_excavation_ratio_s"
   ]
  },
  {
   "cell_type": "code",
   "execution_count": 35,
   "id": "78e520b4-849f-4f11-a2a5-d518bf0fdebe",
   "metadata": {
    "execution": {
     "iopub.execute_input": "2025-03-17T15:39:28.991185Z",
     "iopub.status.busy": "2025-03-17T15:39:28.990023Z",
     "iopub.status.idle": "2025-03-17T15:39:29.007543Z",
     "shell.execute_reply": "2025-03-17T15:39:29.006637Z",
     "shell.execute_reply.started": "2025-03-17T15:39:28.991140Z"
    }
   },
   "outputs": [
    {
     "data": {
      "text/plain": [
       "0.9    7\n",
       "0.5    7\n",
       "0.3    6\n",
       "0.8    3\n",
       "0.7    2\n",
       "0.6    2\n",
       "0.4    1\n",
       "0.0    1\n",
       "Name: od_excavation_ratio, dtype: int64"
      ]
     },
     "execution_count": 35,
     "metadata": {},
     "output_type": "execute_result"
    }
   ],
   "source": [
    "valid_descr['od_excavation_ratio'] = valid_descr['od_excavation_ratio'].astype(float)\n",
    "valid_descr['od_excavation_ratio'].value_counts()"
   ]
  },
  {
   "cell_type": "markdown",
   "id": "2d3c90b8-2799-4fd6-ac63-1558572371ee",
   "metadata": {
    "execution": {
     "iopub.execute_input": "2025-03-03T17:17:39.258050Z",
     "iopub.status.busy": "2025-03-03T17:17:39.257075Z",
     "iopub.status.idle": "2025-03-03T17:17:39.350693Z",
     "shell.execute_reply": "2025-03-03T17:17:39.349851Z",
     "shell.execute_reply.started": "2025-03-03T17:17:39.258012Z"
    },
    "tags": []
   },
   "source": [
    "#### od_vessels_location"
   ]
  },
  {
   "cell_type": "code",
   "execution_count": 36,
   "id": "3c3e18fb-b464-4224-8de7-6de79b4c8cfc",
   "metadata": {
    "execution": {
     "iopub.execute_input": "2025-03-17T15:39:29.015230Z",
     "iopub.status.busy": "2025-03-17T15:39:29.008544Z",
     "iopub.status.idle": "2025-03-17T15:39:29.034354Z",
     "shell.execute_reply": "2025-03-17T15:39:29.033374Z",
     "shell.execute_reply.started": "2025-03-17T15:39:29.015190Z"
    }
   },
   "outputs": [
    {
     "data": {
      "text/plain": [
       "array(['nan', 'аномальное расположение', 'в центрe', 'в центре',\n",
       "       'верхне-внутренний', 'верхний', 'височная', 'височный',\n",
       "       'внутренний', 'на внутренней стороне', 'назально', 'наружный',\n",
       "       'нижне-наружный', 'радиальный', 'радиальный ход сосудов',\n",
       "       'смещение'], dtype=object)"
      ]
     },
     "execution_count": 36,
     "metadata": {},
     "output_type": "execute_result"
    }
   ],
   "source": [
    "valid_descr['od_vessels_location'] = valid_descr['od_vessels_location'].astype(str)\n",
    "od_vessels_location_s = valid_descr['od_vessels_location']\n",
    "np.unique(od_vessels_location_s)"
   ]
  },
  {
   "cell_type": "markdown",
   "id": "cc592260-7c48-4982-8a56-2396d5940268",
   "metadata": {},
   "source": [
    "Системные значения:\n",
    "* в центре\n",
    "* верхний\n",
    "* нижний\n",
    "* наружный\n",
    "* внутренний\n",
    "* верхне-наружный\n",
    "* верхне-внутренний\n",
    "* нижне-наружный\n",
    "* нижне-внутренний"
   ]
  },
  {
   "cell_type": "code",
   "execution_count": 37,
   "id": "11476eb5-95c7-41af-8bb8-523f5b5c6423",
   "metadata": {
    "execution": {
     "iopub.execute_input": "2025-03-17T15:39:29.040330Z",
     "iopub.status.busy": "2025-03-17T15:39:29.039171Z",
     "iopub.status.idle": "2025-03-17T15:39:29.055534Z",
     "shell.execute_reply": "2025-03-17T15:39:29.054653Z",
     "shell.execute_reply.started": "2025-03-17T15:39:29.040291Z"
    }
   },
   "outputs": [
    {
     "data": {
      "text/plain": [
       "в центре                   829\n",
       "наружный                    26\n",
       "височный                    13\n",
       "внутренний                   8\n",
       "нижне-наружный               3\n",
       "радиальный                   2\n",
       "височная                     1\n",
       "аномальное расположение      1\n",
       "верхне-внутренний            1\n",
       "в центрe                     1\n",
       "верхний                      1\n",
       "nan                          1\n",
       "назально                     1\n",
       "на внутренней стороне        1\n",
       "радиальный ход сосудов       1\n",
       "смещение                     1\n",
       "Name: od_vessels_location, dtype: int64"
      ]
     },
     "execution_count": 37,
     "metadata": {},
     "output_type": "execute_result"
    }
   ],
   "source": [
    "od_vessels_location_s.value_counts()"
   ]
  },
  {
   "cell_type": "code",
   "execution_count": 38,
   "id": "ce5d5bcc-ecc3-4564-bcb0-9ed67260e8f4",
   "metadata": {
    "execution": {
     "iopub.execute_input": "2025-03-17T15:39:29.057626Z",
     "iopub.status.busy": "2025-03-17T15:39:29.056920Z",
     "iopub.status.idle": "2025-03-17T15:39:29.093510Z",
     "shell.execute_reply": "2025-03-17T15:39:29.092549Z",
     "shell.execute_reply.started": "2025-03-17T15:39:29.057584Z"
    },
    "tags": []
   },
   "outputs": [
    {
     "data": {
      "text/plain": [
       "в центре                   834\n",
       "наружный                    40\n",
       "внутренний                  10\n",
       "нижне-наружный               3\n",
       "аномальное расположение      1\n",
       "верхне-внутренний            1\n",
       "верхний                      1\n",
       "смещение                     1\n",
       "Name: od_vessels_location, dtype: int64"
      ]
     },
     "execution_count": 38,
     "metadata": {},
     "output_type": "execute_result"
    }
   ],
   "source": [
    "replacement_dict = {\n",
    "    \"височный\": \"наружный\",\n",
    "    \"радиальный\": \"в центре\",\n",
    "    \"височная\": \"наружный\",\n",
    "    \"nan\": \"в центре\",\n",
    "    \"назально\": \"внутренний\",\n",
    "    \"на внутренней стороне\": \"внутренний\",\n",
    "    \"радиальный ход сосудов\": \"в центре\",\n",
    "    \"в центрe\": \"в центре\"\n",
    "}\n",
    "\n",
    "od_vessels_location_s = od_vessels_location_s.replace(replacement_dict)\n",
    "valid_descr.loc[:, 'od_vessels_location'] = od_vessels_location_s\n",
    "valid_descr['od_vessels_location'].value_counts()"
   ]
  },
  {
   "cell_type": "markdown",
   "id": "f2f1ab95-a694-485a-98c0-56a36e28f115",
   "metadata": {
    "tags": []
   },
   "source": [
    "## Vessels"
   ]
  },
  {
   "cell_type": "markdown",
   "id": "f318fb00-cb33-4494-9d37-651c1aaf24d2",
   "metadata": {
    "tags": []
   },
   "source": [
    "### Art"
   ]
  },
  {
   "cell_type": "markdown",
   "id": "b357f10d-ab8c-4abd-9f70-6f25f3610685",
   "metadata": {
    "tags": []
   },
   "source": [
    "#### vessels_art_course"
   ]
  },
  {
   "cell_type": "code",
   "execution_count": 39,
   "id": "9256ebaa-c8cd-43a1-9c4e-2366f2ca2507",
   "metadata": {
    "execution": {
     "iopub.execute_input": "2025-03-17T15:39:29.095929Z",
     "iopub.status.busy": "2025-03-17T15:39:29.094900Z",
     "iopub.status.idle": "2025-03-17T15:39:29.114404Z",
     "shell.execute_reply": "2025-03-17T15:39:29.113474Z",
     "shell.execute_reply.started": "2025-03-17T15:39:29.095889Z"
    }
   },
   "outputs": [
    {
     "data": {
      "text/plain": [
       "array(['аномальный', 'атипичный ход', 'в норме', 'височный',\n",
       "       'височный сдвиг', 'внутреннее смещение', 'извитая',\n",
       "       'наружное смещение', 'наружный', 'нормальное', 'нормальный',\n",
       "       'радиальный', 'сдвиг височный', 'смещение внутрь',\n",
       "       'смещение кнаружи', 'смещение наружу'], dtype=object)"
      ]
     },
     "execution_count": 39,
     "metadata": {},
     "output_type": "execute_result"
    }
   ],
   "source": [
    "valid_descr['vessels_art_course'] = valid_descr['vessels_art_course'].astype(str)\n",
    "vessels_art_course_s = valid_descr['vessels_art_course']\n",
    "np.unique(vessels_art_course_s)"
   ]
  },
  {
   "cell_type": "markdown",
   "id": "9eae0fbb-149e-44f8-948c-02ae25a13eea",
   "metadata": {},
   "source": [
    "Системные значения:\n",
    "* нормальный\n",
    "* смещение наружу\n",
    "* смещение внутрь "
   ]
  },
  {
   "cell_type": "code",
   "execution_count": 40,
   "id": "ceeb2374-5fb4-45d3-9d81-c819f5123eee",
   "metadata": {
    "execution": {
     "iopub.execute_input": "2025-03-17T15:39:29.116828Z",
     "iopub.status.busy": "2025-03-17T15:39:29.115404Z",
     "iopub.status.idle": "2025-03-17T15:39:29.138245Z",
     "shell.execute_reply": "2025-03-17T15:39:29.137150Z",
     "shell.execute_reply.started": "2025-03-17T15:39:29.116761Z"
    }
   },
   "outputs": [
    {
     "data": {
      "text/plain": [
       "нормальный             849\n",
       "смещение наружу          9\n",
       "височный сдвиг           9\n",
       "радиальный               4\n",
       "нормальное               4\n",
       "наружное смещение        3\n",
       "смещение кнаружи         2\n",
       "аномальный               2\n",
       "извитая                  2\n",
       "смещение внутрь          1\n",
       "височный                 1\n",
       "наружный                 1\n",
       "внутреннее смещение      1\n",
       "сдвиг височный           1\n",
       "в норме                  1\n",
       "атипичный ход            1\n",
       "Name: vessels_art_course, dtype: int64"
      ]
     },
     "execution_count": 40,
     "metadata": {},
     "output_type": "execute_result"
    }
   ],
   "source": [
    "vessels_art_course_s.value_counts()"
   ]
  },
  {
   "cell_type": "code",
   "execution_count": 41,
   "id": "7b8c5685-f313-4d05-b525-2746a819014d",
   "metadata": {
    "execution": {
     "iopub.execute_input": "2025-03-17T15:39:29.141692Z",
     "iopub.status.busy": "2025-03-17T15:39:29.139528Z",
     "iopub.status.idle": "2025-03-17T15:39:29.161275Z",
     "shell.execute_reply": "2025-03-17T15:39:29.160271Z",
     "shell.execute_reply.started": "2025-03-17T15:39:29.141631Z"
    },
    "tags": []
   },
   "outputs": [
    {
     "data": {
      "text/plain": [
       "468    ДЗН бледный, монотонный, границы четкие, пигментированы. Сосуды сужены, височный сдвиг. От ДЗН идет складка сетчатки через МЗ к периферии, спаянная с плотной фиброзной мембраной в виде \"паруса\". Участки гиперпигментации вдоль складки. На периферии (зона 3) аваскулярный зоны\n",
       "Name: text, dtype: object"
      ]
     },
     "execution_count": 41,
     "metadata": {},
     "output_type": "execute_result"
    }
   ],
   "source": [
    "valid_descr[valid_descr['vessels_art_course'] == 'сдвиг височный']['text']"
   ]
  },
  {
   "cell_type": "markdown",
   "id": "626e9c47-0629-4387-9e29-e94150e25f5c",
   "metadata": {},
   "source": [
    "Можно заметить, что модель иногда к ходу сосудов приписывает их извитость. Да и вообще в описания не разделяют на артерии и вены, просто пишут в общем о сосудах. "
   ]
  },
  {
   "cell_type": "code",
   "execution_count": 42,
   "id": "0d127de5-9528-414f-8ea3-7b5c37326083",
   "metadata": {
    "execution": {
     "iopub.execute_input": "2025-03-17T15:39:29.162982Z",
     "iopub.status.busy": "2025-03-17T15:39:29.162520Z",
     "iopub.status.idle": "2025-03-17T15:39:29.188094Z",
     "shell.execute_reply": "2025-03-17T15:39:29.187118Z",
     "shell.execute_reply.started": "2025-03-17T15:39:29.162944Z"
    },
    "tags": []
   },
   "outputs": [
    {
     "data": {
      "text/plain": [
       "741                                                                                                                                                                                            В верхне- наружном отделе складка сетчатки с пролиферативной тканьюидущая от ДЗН в верхне наружном направлении. ДЗН - эктопирован в темпоральную сторону, слегка прикрыт пролиферативной тканью. На периферии перераспредиление пигмента, более выраженные внутри ввиде аркады, периферичнее аваскулярные зоны. Сосуды извитые.\n",
       "1019    ДЗН бледный, границы нечеткие, сосуды извиты, в МЗ твердый субретинальный эксудат, на периферии отложения субретинального эксудата, единичные ангиоматозно расширенные сосуды и микроаневризмы, пигментированные коагуляты, отграничивающие зоны эксудации ДЗН бледный, границы нечеткие, сосуды извиты, в МЗ твердый субретинальный эксудат, на периферии отложения субретинального эксудата, единичные ангиоматозно расширенные сосуды и микроаневризмы , пигментированные коагуляты, отграничивающие зоны эксудации\n",
       "Name: text, dtype: object"
      ]
     },
     "execution_count": 42,
     "metadata": {},
     "output_type": "execute_result"
    }
   ],
   "source": [
    "valid_descr[valid_descr['vessels_art_course'] == 'извитая']['text']"
   ]
  },
  {
   "cell_type": "markdown",
   "id": "faf146ae-0475-4ed7-9ad5-0dd8f71d7dd9",
   "metadata": {},
   "source": [
    "При этом во 1 случае извитость сохраняется в параметре vessels_art_turtuosity и vessels_vein_turtuosity, а во 2 нет, подправим это там:"
   ]
  },
  {
   "cell_type": "code",
   "execution_count": 43,
   "id": "1b1dd121-a296-42d5-9e63-7d4f8b2d5250",
   "metadata": {
    "execution": {
     "iopub.execute_input": "2025-03-17T15:39:29.191603Z",
     "iopub.status.busy": "2025-03-17T15:39:29.190118Z",
     "iopub.status.idle": "2025-03-17T15:39:29.216692Z",
     "shell.execute_reply": "2025-03-17T15:39:29.215687Z",
     "shell.execute_reply.started": "2025-03-17T15:39:29.191513Z"
    },
    "tags": []
   },
   "outputs": [
    {
     "data": {
      "text/html": [
       "<div>\n",
       "<style scoped>\n",
       "    .dataframe tbody tr th:only-of-type {\n",
       "        vertical-align: middle;\n",
       "    }\n",
       "\n",
       "    .dataframe tbody tr th {\n",
       "        vertical-align: top;\n",
       "    }\n",
       "\n",
       "    .dataframe thead th {\n",
       "        text-align: right;\n",
       "    }\n",
       "</style>\n",
       "<table border=\"1\" class=\"dataframe\">\n",
       "  <thead>\n",
       "    <tr style=\"text-align: right;\">\n",
       "      <th></th>\n",
       "      <th>vessels_art_turtuosity</th>\n",
       "      <th>vessels_vein_turtuosity</th>\n",
       "    </tr>\n",
       "  </thead>\n",
       "  <tbody>\n",
       "    <tr>\n",
       "      <th>741</th>\n",
       "      <td>извитая</td>\n",
       "      <td>извитая</td>\n",
       "    </tr>\n",
       "    <tr>\n",
       "      <th>1019</th>\n",
       "      <td>нормальная</td>\n",
       "      <td>изืน.}</td>\n",
       "    </tr>\n",
       "  </tbody>\n",
       "</table>\n",
       "</div>"
      ],
      "text/plain": [
       "     vessels_art_turtuosity vessels_vein_turtuosity\n",
       "741                 извитая                 извитая\n",
       "1019            нормальная                   изืน.}"
      ]
     },
     "execution_count": 43,
     "metadata": {},
     "output_type": "execute_result"
    }
   ],
   "source": [
    "valid_descr[valid_descr['vessels_art_course'] == 'извитая'][['vessels_art_turtuosity', 'vessels_vein_turtuosity']]"
   ]
  },
  {
   "cell_type": "code",
   "execution_count": 44,
   "id": "3b9fab5a-2b1e-4b86-95ea-f500546f4f70",
   "metadata": {
    "execution": {
     "iopub.execute_input": "2025-03-17T15:39:29.219664Z",
     "iopub.status.busy": "2025-03-17T15:39:29.217837Z",
     "iopub.status.idle": "2025-03-17T15:39:29.258745Z",
     "shell.execute_reply": "2025-03-17T15:39:29.257932Z",
     "shell.execute_reply.started": "2025-03-17T15:39:29.219595Z"
    },
    "tags": []
   },
   "outputs": [
    {
     "data": {
      "text/plain": [
       "741          извитая\n",
       "1019     нормальная \n",
       "Name: vessels_art_turtuosity, dtype: object"
      ]
     },
     "execution_count": 44,
     "metadata": {},
     "output_type": "execute_result"
    }
   ],
   "source": [
    "valid_descr[valid_descr['vessels_art_course'] == 'извитая']['vessels_art_turtuosity']"
   ]
  },
  {
   "cell_type": "code",
   "execution_count": 45,
   "id": "3297fb13-9a37-4411-a9c9-94be38143289",
   "metadata": {
    "execution": {
     "iopub.execute_input": "2025-03-17T15:39:29.260651Z",
     "iopub.status.busy": "2025-03-17T15:39:29.259872Z",
     "iopub.status.idle": "2025-03-17T15:39:29.282522Z",
     "shell.execute_reply": "2025-03-17T15:39:29.281603Z",
     "shell.execute_reply.started": "2025-03-17T15:39:29.260613Z"
    },
    "tags": []
   },
   "outputs": [
    {
     "data": {
      "text/html": [
       "<div>\n",
       "<style scoped>\n",
       "    .dataframe tbody tr th:only-of-type {\n",
       "        vertical-align: middle;\n",
       "    }\n",
       "\n",
       "    .dataframe tbody tr th {\n",
       "        vertical-align: top;\n",
       "    }\n",
       "\n",
       "    .dataframe thead th {\n",
       "        text-align: right;\n",
       "    }\n",
       "</style>\n",
       "<table border=\"1\" class=\"dataframe\">\n",
       "  <thead>\n",
       "    <tr style=\"text-align: right;\">\n",
       "      <th></th>\n",
       "      <th>vessels_art_turtuosity</th>\n",
       "      <th>vessels_vein_turtuosity</th>\n",
       "    </tr>\n",
       "  </thead>\n",
       "  <tbody>\n",
       "    <tr>\n",
       "      <th>741</th>\n",
       "      <td>извитые</td>\n",
       "      <td>извитые</td>\n",
       "    </tr>\n",
       "    <tr>\n",
       "      <th>1019</th>\n",
       "      <td>извитые</td>\n",
       "      <td>извитые</td>\n",
       "    </tr>\n",
       "  </tbody>\n",
       "</table>\n",
       "</div>"
      ],
      "text/plain": [
       "     vessels_art_turtuosity vessels_vein_turtuosity\n",
       "741                 извитые                 извитые\n",
       "1019                извитые                 извитые"
      ]
     },
     "execution_count": 45,
     "metadata": {},
     "output_type": "execute_result"
    }
   ],
   "source": [
    "valid_descr.loc[valid_descr['vessels_art_course'] == 'извитая', 'vessels_art_turtuosity'] = 'извитые'\n",
    "valid_descr.loc[valid_descr['vessels_art_course'] == 'извитая', 'vessels_vein_turtuosity'] = 'извитые'\n",
    "\n",
    "valid_descr[valid_descr['vessels_art_course'] == 'извитая'][['vessels_art_turtuosity', 'vessels_vein_turtuosity']]"
   ]
  },
  {
   "cell_type": "markdown",
   "id": "e5448d5c-2961-4826-b84d-98b168215a3a",
   "metadata": {},
   "source": [
    "Вернёмся в ходу артерий"
   ]
  },
  {
   "cell_type": "code",
   "execution_count": 46,
   "id": "0bc2d857-3db2-4f64-b888-4c939b8d30e1",
   "metadata": {
    "execution": {
     "iopub.execute_input": "2025-03-17T15:39:29.285179Z",
     "iopub.status.busy": "2025-03-17T15:39:29.283701Z",
     "iopub.status.idle": "2025-03-17T15:39:29.301024Z",
     "shell.execute_reply": "2025-03-17T15:39:29.300313Z",
     "shell.execute_reply.started": "2025-03-17T15:39:29.285119Z"
    }
   },
   "outputs": [
    {
     "data": {
      "text/plain": [
       "206    ДЗН гипопластичен, аномальный выход сосудов, другие отделы видно плохо ( микрокоррия) ДЗН гипопластичен, аномальный выход сосудов, другие отделы видно плохо ( микрокоррия)\n",
       "888                         ДЗН бледно-розовый, неправильной формы, в наружном сегменте серая ямка 0,3 ДД, границы четкие, аномальный ход сосудов, МЗ и периферия без особенностей\n",
       "Name: text, dtype: object"
      ]
     },
     "execution_count": 46,
     "metadata": {},
     "output_type": "execute_result"
    }
   ],
   "source": [
    "valid_descr[valid_descr['vessels_art_course'] == 'аномальный']['text']"
   ]
  },
  {
   "cell_type": "code",
   "execution_count": 47,
   "id": "f71586c5-0021-4fb0-9771-20b61bac7a27",
   "metadata": {
    "execution": {
     "iopub.execute_input": "2025-03-17T15:39:29.304079Z",
     "iopub.status.busy": "2025-03-17T15:39:29.302053Z",
     "iopub.status.idle": "2025-03-17T15:39:29.430511Z",
     "shell.execute_reply": "2025-03-17T15:39:29.429372Z",
     "shell.execute_reply.started": "2025-03-17T15:39:29.304033Z"
    },
    "tags": []
   },
   "outputs": [
    {
     "data": {
      "text/plain": [
       "нормальный         860\n",
       "смещение наружу     26\n",
       "смещение внутрь      2\n",
       "аномальный           2\n",
       "атипичный ход        1\n",
       "Name: vessels_art_course, dtype: int64"
      ]
     },
     "execution_count": 47,
     "metadata": {},
     "output_type": "execute_result"
    }
   ],
   "source": [
    "replacement_dict = {\n",
    "    \"нормальное\": \"нормальный\",\n",
    "    \"в норме\": \"нормальный\",\n",
    "    \"наружное смещение\": \"смещение наружу\",\n",
    "    \"смещение кнаружи\": \"смещение наружу\",\n",
    "    \"височный сдвиг\": \"смещение наружу\",\n",
    "    \"сдвиг височный\": \"смещение наружу\",\n",
    "    \"височный\": \"смещение наружу\",\n",
    "    \"наружный\": \"смещение наружу\",\n",
    "    \"внутреннее смещение\": \"смещение внутрь\",\n",
    "    \"радиальный\": \"нормальный\",  # Радиальный ход чаще соответствует норме\n",
    "    \"извитая\": \"нормальный\",\n",
    "}\n",
    "\n",
    "vessels_art_course_s = vessels_art_course_s.replace(replacement_dict)\n",
    "valid_descr.loc[:, 'vessels_art_course'] = vessels_art_course_s\n",
    "valid_descr['vessels_art_course'].value_counts()"
   ]
  },
  {
   "cell_type": "markdown",
   "id": "eb86d974-3a29-4f09-8404-277331122db8",
   "metadata": {
    "execution": {
     "iopub.execute_input": "2025-03-04T09:17:32.196581Z",
     "iopub.status.busy": "2025-03-04T09:17:32.195669Z",
     "iopub.status.idle": "2025-03-04T09:17:32.250855Z",
     "shell.execute_reply": "2025-03-04T09:17:32.249887Z",
     "shell.execute_reply.started": "2025-03-04T09:17:32.196542Z"
    },
    "jp-MarkdownHeadingCollapsed": true,
    "tags": []
   },
   "source": [
    "#### vessels_art_turtuosity"
   ]
  },
  {
   "cell_type": "code",
   "execution_count": 48,
   "id": "71e6a70e-ae16-46d8-af67-413d28413ad4",
   "metadata": {
    "execution": {
     "iopub.execute_input": "2025-03-17T15:39:29.433950Z",
     "iopub.status.busy": "2025-03-17T15:39:29.431640Z",
     "iopub.status.idle": "2025-03-17T15:39:29.454178Z",
     "shell.execute_reply": "2025-03-17T15:39:29.453437Z",
     "shell.execute_reply.started": "2025-03-17T15:39:29.433875Z"
    }
   },
   "outputs": [
    {
     "data": {
      "text/plain": [
       "array(['nan', 'в норме', 'извитая', 'извитые',\n",
       "       'концентрически закручивающаяся складка от ДЗН к наружной периферии',\n",
       "       'несколько извита', 'нормальная'], dtype=object)"
      ]
     },
     "execution_count": 48,
     "metadata": {},
     "output_type": "execute_result"
    }
   ],
   "source": [
    "valid_descr['vessels_art_turtuosity'] = valid_descr['vessels_art_turtuosity'].astype(str)\n",
    "vessels_art_turtuosity_s = valid_descr['vessels_art_turtuosity']\n",
    "np.unique(vessels_art_turtuosity_s)"
   ]
  },
  {
   "cell_type": "markdown",
   "id": "c56248bc-7c68-4695-b5f4-b244bce5ff1c",
   "metadata": {},
   "source": [
    "Системные значения:\n",
    "* нормальная\n",
    "* извитые\n",
    "* прямые"
   ]
  },
  {
   "cell_type": "code",
   "execution_count": 49,
   "id": "581395f4-11fe-4841-8619-36fb115e227f",
   "metadata": {
    "execution": {
     "iopub.execute_input": "2025-03-17T15:39:29.457031Z",
     "iopub.status.busy": "2025-03-17T15:39:29.455564Z",
     "iopub.status.idle": "2025-03-17T15:39:29.474052Z",
     "shell.execute_reply": "2025-03-17T15:39:29.473234Z",
     "shell.execute_reply.started": "2025-03-17T15:39:29.456969Z"
    },
    "tags": []
   },
   "outputs": [
    {
     "data": {
      "text/plain": [
       "нормальная                                                            800\n",
       "извитая                                                                83\n",
       "несколько извита                                                        3\n",
       "извитые                                                                 2\n",
       "концентрически закручивающаяся складка от ДЗН к наружной периферии      1\n",
       "nan                                                                     1\n",
       "в норме                                                                 1\n",
       "Name: vessels_art_turtuosity, dtype: int64"
      ]
     },
     "execution_count": 49,
     "metadata": {},
     "output_type": "execute_result"
    }
   ],
   "source": [
    "vessels_art_turtuosity_s.value_counts()"
   ]
  },
  {
   "cell_type": "code",
   "execution_count": 50,
   "id": "0149cbda-402d-44cd-9a10-930762b37d50",
   "metadata": {
    "execution": {
     "iopub.execute_input": "2025-03-17T15:39:29.475779Z",
     "iopub.status.busy": "2025-03-17T15:39:29.475147Z",
     "iopub.status.idle": "2025-03-17T15:39:29.497469Z",
     "shell.execute_reply": "2025-03-17T15:39:29.496216Z",
     "shell.execute_reply.started": "2025-03-17T15:39:29.475739Z"
    },
    "tags": []
   },
   "outputs": [
    {
     "data": {
      "text/plain": [
       "нормальная    802\n",
       "извитые        89\n",
       "Name: vessels_art_turtuosity, dtype: int64"
      ]
     },
     "execution_count": 50,
     "metadata": {},
     "output_type": "execute_result"
    }
   ],
   "source": [
    "replacement_dict = {\n",
    "    \"извитая\": \"извитые\",\n",
    "    \"несколько извита\": \"извитые\",\n",
    "    \"концентрически закручивающаяся складка от ДЗН к наружной периферии\": \"извитые\",\n",
    "    \"nan\": \"нормальная\",\n",
    "    \"в норме\": \"нормальная\",\n",
    "}\n",
    "\n",
    "vessels_art_turtuosity_s = vessels_art_turtuosity_s.replace(replacement_dict)\n",
    "valid_descr.loc[:, 'vessels_art_turtuosity'] = vessels_art_turtuosity_s\n",
    "valid_descr['vessels_art_turtuosity'].value_counts()"
   ]
  },
  {
   "cell_type": "markdown",
   "id": "76253a00-c68e-461b-bf0a-077b8bdae573",
   "metadata": {
    "jp-MarkdownHeadingCollapsed": true,
    "tags": []
   },
   "source": [
    "#### vessels_art_bifurcation"
   ]
  },
  {
   "cell_type": "code",
   "execution_count": 51,
   "id": "39ad1178-a91d-42c4-92ff-4f003a16964f",
   "metadata": {
    "execution": {
     "iopub.execute_input": "2025-03-17T15:39:29.499566Z",
     "iopub.status.busy": "2025-03-17T15:39:29.498652Z",
     "iopub.status.idle": "2025-03-17T15:39:29.514358Z",
     "shell.execute_reply": "2025-03-17T15:39:29.513473Z",
     "shell.execute_reply.started": "2025-03-17T15:39:29.499526Z"
    },
    "tags": []
   },
   "outputs": [
    {
     "data": {
      "text/plain": [
       "array([' ', 'nan', 'в норме', 'нормальная', 'под острым углом'],\n",
       "      dtype=object)"
      ]
     },
     "execution_count": 51,
     "metadata": {},
     "output_type": "execute_result"
    }
   ],
   "source": [
    "valid_descr['vessels_art_bifurcation'] = valid_descr['vessels_art_bifurcation'].astype(str)\n",
    "vessels_art_bifurcation_s = valid_descr['vessels_art_bifurcation']\n",
    "np.unique(vessels_art_bifurcation_s)"
   ]
  },
  {
   "cell_type": "markdown",
   "id": "55268a5c-1848-4952-a1bd-c01acfdfb2b3",
   "metadata": {},
   "source": [
    "Системные значения: \n",
    "* нормальная\n",
    "* под острым углом\n",
    "* под тупым углом"
   ]
  },
  {
   "cell_type": "code",
   "execution_count": 52,
   "id": "48a99fab-15a1-422f-887e-0d89b8a5139a",
   "metadata": {
    "execution": {
     "iopub.execute_input": "2025-03-17T15:39:29.520375Z",
     "iopub.status.busy": "2025-03-17T15:39:29.515453Z",
     "iopub.status.idle": "2025-03-17T15:39:29.538548Z",
     "shell.execute_reply": "2025-03-17T15:39:29.537366Z",
     "shell.execute_reply.started": "2025-03-17T15:39:29.520343Z"
    },
    "tags": []
   },
   "outputs": [
    {
     "data": {
      "text/plain": [
       "592    ДЗН аномальный, увеличенного размера, бледный, с сероватым оттенком, с четкими границами. Краевая ЭД. Сосуды смещены назально, резко сужены. MZ – не дифференцируется. Сетчатка прилежит. ДЗН аномальный, увеличенного размера, бледный, с сероватым оттенком, с четкими границами. Краевая ЭД. Сосуды смещены назально, резко сужены. MZ – не дифференцируется. Сетчатка прилежит.\n",
       "Name: text, dtype: object"
      ]
     },
     "execution_count": 52,
     "metadata": {},
     "output_type": "execute_result"
    }
   ],
   "source": [
    "valid_descr[valid_descr['vessels_art_bifurcation']=='в норме']['text']"
   ]
  },
  {
   "cell_type": "markdown",
   "id": "72beb707-b3ac-4414-ad00-9b0261ce6972",
   "metadata": {},
   "source": [
    "Можно заметить, что во всех 4 случая с остым углом бифуркации модель не ошиблась, то есть это не ошибки False Positive, но может где-то есть False Negative"
   ]
  },
  {
   "cell_type": "code",
   "execution_count": 53,
   "id": "06763379-2dc6-49ac-932f-6e3b05aa4d63",
   "metadata": {
    "execution": {
     "iopub.execute_input": "2025-03-17T15:39:29.541509Z",
     "iopub.status.busy": "2025-03-17T15:39:29.540232Z",
     "iopub.status.idle": "2025-03-17T15:39:29.554281Z",
     "shell.execute_reply": "2025-03-17T15:39:29.553363Z",
     "shell.execute_reply.started": "2025-03-17T15:39:29.541441Z"
    },
    "tags": []
   },
   "outputs": [
    {
     "data": {
      "text/plain": [
       "373                                                                                                                                                                                                                                                                                                                                                                                                                                                                                                                      ДЗН бледный, тракционно деформирован, угол выхода сосудов сужен, макула деформирована, смещена в височную сторону, рефлексы сглажены, на периферии множественные пигментированные сливные коагуляты\n",
       "374                                                                                                                                                                                                                                                                                                                                                                                                                                                                                                                                 ДЗН бледный, тракционно деформирован, угол выхода сосудов около 75 град, макула деформирована, смещена в височную сторону, на периферии множественные пигментированные сливные коагуляты\n",
       "482                                                                                                                                                                                                                                                                                                                                                                                                                                                                                                                               ДЗН бледно-розовый, границы четкие, фиброзная складка над ДЗН, угол выхода сосудов уменьшен, МЗ не сформирована, гипопигментация сетчатки, в наружных отделах остаточные аваскулярные зоны\n",
       "602    Д.з.н. – бледный, монотонный, тракционно деформирован, угол между сосудистыми аркадами около 60 гр., макулярный рефлекс деформирован, вытянут по горизонтали, снаружи плоская отслойка сетчатки с преретинальными пленками, отграниченная лазер-коагулятами, преретинальные пленки в нижне-наружном отделе, на периферии аваскулярные зоны, сосуды сужены. Д.з.н. – бледный, монотонный, тракционно деформирован, угол между сосудистыми аркадами около 60 гр., макулярный рефлекс деформирован, вытянут по горизонтали, снаружи плоская отслойка сетчатки с преретинальными пленками, отграниченная лазер-коагулятами, преретинальные пленки в нижне-наружном отделе, на периферии аваскулярные зоны, сосуды сужены.\n",
       "Name: text, dtype: object"
      ]
     },
     "execution_count": 53,
     "metadata": {},
     "output_type": "execute_result"
    }
   ],
   "source": [
    "valid_descr[valid_descr['vessels_art_bifurcation']=='под острым углом']['text']"
   ]
  },
  {
   "cell_type": "code",
   "execution_count": 54,
   "id": "6f3e4305-2a18-4973-8c6a-1d3e4cb82c3b",
   "metadata": {
    "execution": {
     "iopub.execute_input": "2025-03-17T15:39:29.556032Z",
     "iopub.status.busy": "2025-03-17T15:39:29.555297Z",
     "iopub.status.idle": "2025-03-17T15:39:29.575073Z",
     "shell.execute_reply": "2025-03-17T15:39:29.574244Z",
     "shell.execute_reply.started": "2025-03-17T15:39:29.555997Z"
    },
    "tags": []
   },
   "outputs": [
    {
     "data": {
      "text/plain": [
       "нормальная          884\n",
       "под острым углом      4\n",
       "nan                   1\n",
       "в норме               1\n",
       "                      1\n",
       "Name: vessels_art_bifurcation, dtype: int64"
      ]
     },
     "execution_count": 54,
     "metadata": {},
     "output_type": "execute_result"
    }
   ],
   "source": [
    "vessels_art_bifurcation_s.value_counts()"
   ]
  },
  {
   "cell_type": "code",
   "execution_count": 55,
   "id": "aab68464-c1f6-418c-ab26-f41b1ccf51ba",
   "metadata": {
    "execution": {
     "iopub.execute_input": "2025-03-17T15:39:29.578739Z",
     "iopub.status.busy": "2025-03-17T15:39:29.576211Z",
     "iopub.status.idle": "2025-03-17T15:39:29.594664Z",
     "shell.execute_reply": "2025-03-17T15:39:29.593960Z",
     "shell.execute_reply.started": "2025-03-17T15:39:29.578697Z"
    },
    "tags": []
   },
   "outputs": [
    {
     "data": {
      "text/plain": [
       "нормальная          887\n",
       "под острым углом      4\n",
       "Name: vessels_art_bifurcation, dtype: int64"
      ]
     },
     "execution_count": 55,
     "metadata": {},
     "output_type": "execute_result"
    }
   ],
   "source": [
    "replacement_dict = {\n",
    "    \"nan\": \"нормальная\",\n",
    "    \"в норме\": \"нормальная\",\n",
    "    \" \": \"нормальная\"\n",
    "}\n",
    "\n",
    "vessels_art_bifurcation_s = vessels_art_bifurcation_s.replace(replacement_dict)\n",
    "valid_descr.loc[:, 'vessels_art_bifurcation'] = vessels_art_bifurcation_s\n",
    "valid_descr['vessels_art_bifurcation'].value_counts()"
   ]
  },
  {
   "cell_type": "markdown",
   "id": "c92ceebe-5a38-4556-93f1-69ba5e82a090",
   "metadata": {
    "tags": []
   },
   "source": [
    "#### vessels_art_caliber"
   ]
  },
  {
   "cell_type": "code",
   "execution_count": 56,
   "id": "ec5991b0-b7a4-4f46-85ed-601f7eda0ccb",
   "metadata": {
    "execution": {
     "iopub.execute_input": "2025-03-17T15:39:29.597160Z",
     "iopub.status.busy": "2025-03-17T15:39:29.595820Z",
     "iopub.status.idle": "2025-03-17T15:39:29.610297Z",
     "shell.execute_reply": "2025-03-17T15:39:29.609461Z",
     "shell.execute_reply.started": "2025-03-17T15:39:29.597116Z"
    },
    "tags": []
   },
   "outputs": [
    {
     "data": {
      "text/plain": [
       "array([\" нормальный'vessels_vein_course':' Отграниченной к протоку'  annouvé_adjunctevessels_art_ratio_minor,' \",\n",
       "       'ангиоматозно расширенный', 'ангиоматозноразширенный', 'нарушен',\n",
       "       'несколько сужены', 'нормальный', 'полнокровны', 'полнокровные',\n",
       "       'полнокровный', 'расширенные', 'расширенный', 'резко расширенный',\n",
       "       'резко суженные', 'резко суженный', 'резко сужены', 'суженный',\n",
       "       'умеренно суженный', 'утолщенный'], dtype=object)"
      ]
     },
     "execution_count": 56,
     "metadata": {},
     "output_type": "execute_result"
    }
   ],
   "source": [
    "valid_descr['vessels_art_caliber'] = valid_descr['vessels_art_caliber'].astype(str)\n",
    "vessels_art_caliber_s = valid_descr['vessels_art_caliber']\n",
    "np.unique(vessels_art_caliber_s)"
   ]
  },
  {
   "cell_type": "markdown",
   "id": "3be7ec38-e29a-45fe-b1d9-0667cd84b193",
   "metadata": {},
   "source": [
    "Системные значения: \n",
    "* нормальный \n",
    "* расширенный \n",
    "* суженный"
   ]
  },
  {
   "cell_type": "code",
   "execution_count": 57,
   "id": "7b57baa5-6da9-4cf2-8254-0c83658b0d0b",
   "metadata": {
    "execution": {
     "iopub.execute_input": "2025-03-17T15:39:29.612958Z",
     "iopub.status.busy": "2025-03-17T15:39:29.611548Z",
     "iopub.status.idle": "2025-03-17T15:39:29.661054Z",
     "shell.execute_reply": "2025-03-17T15:39:29.660070Z",
     "shell.execute_reply.started": "2025-03-17T15:39:29.612919Z"
    },
    "tags": []
   },
   "outputs": [
    {
     "data": {
      "text/plain": [
       "нормальный                                                                                                 695\n",
       "суженный                                                                                                   142\n",
       "расширенный                                                                                                 33\n",
       "полнокровны                                                                                                  3\n",
       "несколько сужены                                                                                             2\n",
       "резко суженный                                                                                               2\n",
       "резко сужены                                                                                                 2\n",
       "полнокровный                                                                                                 2\n",
       "расширенные                                                                                                  1\n",
       "резко расширенный                                                                                            1\n",
       "резко суженные                                                                                               1\n",
       "ангиоматозно расширенный                                                                                     1\n",
       "умеренно суженный                                                                                            1\n",
       "полнокровные                                                                                                 1\n",
       "ангиоматозноразширенный                                                                                      1\n",
       "нарушен                                                                                                      1\n",
       "утолщенный                                                                                                   1\n",
       " нормальный'vessels_vein_course':' Отграниченной к протоку'  annouvé_adjunctevessels_art_ratio_minor,'       1\n",
       "Name: vessels_art_caliber, dtype: int64"
      ]
     },
     "execution_count": 57,
     "metadata": {},
     "output_type": "execute_result"
    }
   ],
   "source": [
    "vessels_art_caliber_s.value_counts()"
   ]
  },
  {
   "cell_type": "code",
   "execution_count": 58,
   "id": "943e4d1a-016d-4e33-8eca-7d2bc5138434",
   "metadata": {
    "execution": {
     "iopub.execute_input": "2025-03-17T15:39:29.663585Z",
     "iopub.status.busy": "2025-03-17T15:39:29.662231Z",
     "iopub.status.idle": "2025-03-17T15:39:29.728219Z",
     "shell.execute_reply": "2025-03-17T15:39:29.727353Z",
     "shell.execute_reply.started": "2025-03-17T15:39:29.663537Z"
    },
    "tags": []
   },
   "outputs": [
    {
     "data": {
      "text/plain": [
       "1019    ДЗН бледный, границы нечеткие, сосуды извиты, в МЗ твердый субретинальный эксудат, на периферии отложения субретинального эксудата, единичные ангиоматозно расширенные сосуды и микроаневризмы, пигментированные коагуляты, отграничивающие зоны эксудации ДЗН бледный, границы нечеткие, сосуды извиты, в МЗ твердый субретинальный эксудат, на периферии отложения субретинального эксудата, единичные ангиоматозно расширенные сосуды и микроаневризмы , пигментированные коагуляты, отграничивающие зоны эксудации\n",
       "Name: text, dtype: object"
      ]
     },
     "execution_count": 58,
     "metadata": {},
     "output_type": "execute_result"
    }
   ],
   "source": [
    "valid_descr[valid_descr['vessels_art_caliber']==\"\"\" нормальный'vessels_vein_course':' Отграниченной к протоку'  annouvé_adjunctevessels_art_ratio_minor,' \"\"\"]['text']"
   ]
  },
  {
   "cell_type": "code",
   "execution_count": 59,
   "id": "8fc2f400-8d8b-4d6f-9263-61d298c47fe5",
   "metadata": {
    "execution": {
     "iopub.execute_input": "2025-03-17T15:39:29.730627Z",
     "iopub.status.busy": "2025-03-17T15:39:29.729413Z",
     "iopub.status.idle": "2025-03-17T15:39:29.746367Z",
     "shell.execute_reply": "2025-03-17T15:39:29.745480Z",
     "shell.execute_reply.started": "2025-03-17T15:39:29.730590Z"
    },
    "tags": []
   },
   "outputs": [
    {
     "data": {
      "text/plain": [
       "1010    ДЗН проминирует, бледно розовый с четкими границами. Сосуды извиты и утолщены Макула и сетчатка без очаговой патологии. ДЗН проминирует, бледно розовый с четкими границами. Сосуды извиты и утолщены Макула и сетчатка без очаговой патологии.\n",
       "Name: text, dtype: object"
      ]
     },
     "execution_count": 59,
     "metadata": {},
     "output_type": "execute_result"
    }
   ],
   "source": [
    "valid_descr[valid_descr['vessels_art_caliber']=='утолщенный']['text']"
   ]
  },
  {
   "cell_type": "code",
   "execution_count": 60,
   "id": "b7cd0938-d613-476c-8f15-0e0eaec28575",
   "metadata": {
    "execution": {
     "iopub.execute_input": "2025-03-17T15:39:29.755264Z",
     "iopub.status.busy": "2025-03-17T15:39:29.753988Z",
     "iopub.status.idle": "2025-03-17T15:39:29.772443Z",
     "shell.execute_reply": "2025-03-17T15:39:29.771452Z",
     "shell.execute_reply.started": "2025-03-17T15:39:29.755185Z"
    }
   },
   "outputs": [
    {
     "data": {
      "text/plain": [
       "839    Над областью ДЗН, покрывая его, визуализируется проминирующий очаг - фиброзная ткань, крепящаяся парапапиллярно. Границы ДЗН под тканью не прослеживаются ход калибр сосудов нарушен- они извиты, макула по возрасту, очаговых симптомов нет Над областью ДЗН, покрывая его, визуализируется проминирующий очаг - фиброзная ткань, крепящаяся парапапиллярно. Границы ДЗН под тканью не прослеживаются ход калибр сосудов нарушен- они извиты, макула по возрасту, очаговых симптомов нет\n",
       "Name: text, dtype: object"
      ]
     },
     "execution_count": 60,
     "metadata": {},
     "output_type": "execute_result"
    }
   ],
   "source": [
    "valid_descr[valid_descr['vessels_art_caliber']=='нарушен']['text']"
   ]
  },
  {
   "cell_type": "code",
   "execution_count": 61,
   "id": "334ce2b7-9b34-4cfe-9b18-8ddee190452f",
   "metadata": {
    "execution": {
     "iopub.execute_input": "2025-03-17T15:39:29.775787Z",
     "iopub.status.busy": "2025-03-17T15:39:29.773678Z",
     "iopub.status.idle": "2025-03-17T15:39:29.803365Z",
     "shell.execute_reply": "2025-03-17T15:39:29.802439Z",
     "shell.execute_reply.started": "2025-03-17T15:39:29.775745Z"
    },
    "tags": []
   },
   "outputs": [
    {
     "data": {
      "text/plain": [
       "нормальный     695\n",
       "суженный       150\n",
       "расширенный     45\n",
       "нарушен          1\n",
       "Name: vessels_art_caliber, dtype: int64"
      ]
     },
     "execution_count": 61,
     "metadata": {},
     "output_type": "execute_result"
    }
   ],
   "source": [
    "replacement_dict = {\n",
    "    \"полнокровны\": \"расширенный\",\n",
    "    \"полнокровный\": \"расширенный\",\n",
    "    \"полнокровные\": \"расширенный\",\n",
    "    \"расширенные\": \"расширенный\",\n",
    "    \"резко расширенный\": \"расширенный\",\n",
    "    \"ангиоматозно расширенный\": \"расширенный\",\n",
    "    \"ангиоматозноразширенный\": \"расширенный\",\n",
    "    \"несколько сужены\": \"суженный\",\n",
    "    \"резко суженный\": \"суженный\",\n",
    "    \"резко сужены\": \"суженный\",\n",
    "    \"резко суженные\": \"суженный\",\n",
    "    \"умеренно суженный\": \"суженный\",\n",
    "    \"утолщенный\": \"расширенный\",\n",
    "    \"\"\" нормальный'vessels_vein_course':' Отграниченной к протоку'  annouvé_adjunctevessels_art_ratio_minor,' \"\"\": \"расширенный\"\n",
    "}\n",
    "\n",
    "vessels_art_caliber_s = vessels_art_caliber_s.replace(replacement_dict)\n",
    "valid_descr.loc[:, 'vessels_art_caliber'] = vessels_art_caliber_s\n",
    "valid_descr['vessels_art_caliber'].value_counts()"
   ]
  },
  {
   "cell_type": "markdown",
   "id": "067d935f-8574-4052-893d-a735c9ddc447",
   "metadata": {
    "tags": []
   },
   "source": [
    "### Vein"
   ]
  },
  {
   "cell_type": "markdown",
   "id": "6fe7c4eb-0d3b-4cc6-b97a-e793d8a0b37c",
   "metadata": {
    "tags": []
   },
   "source": [
    "#### vessels_vein_course"
   ]
  },
  {
   "cell_type": "code",
   "execution_count": 62,
   "id": "45198fb2-6758-4b28-ace3-560c69397cc8",
   "metadata": {
    "execution": {
     "iopub.execute_input": "2025-03-17T15:39:29.806627Z",
     "iopub.status.busy": "2025-03-17T15:39:29.804325Z",
     "iopub.status.idle": "2025-03-17T15:39:29.824152Z",
     "shell.execute_reply": "2025-03-17T15:39:29.823355Z",
     "shell.execute_reply.started": "2025-03-17T15:39:29.806580Z"
    },
    "tags": []
   },
   "outputs": [
    {
     "data": {
      "text/plain": [
       "array(['  insumواک парамет师יית=\"#ff---기.}.', 'аномальный',\n",
       "       'атипичный ход', 'в норме', 'височный', 'височный сдвиг',\n",
       "       'внутреннее смещение', 'извитая', 'наружное смещение',\n",
       "       'нормальное', 'нормальный', 'радиальный', 'смещение кнаружи',\n",
       "       'смещение наружу'], dtype=object)"
      ]
     },
     "execution_count": 62,
     "metadata": {},
     "output_type": "execute_result"
    }
   ],
   "source": [
    "valid_descr['vessels_vein_course'] = valid_descr['vessels_vein_course'].astype(str)\n",
    "vessels_vein_course_s = valid_descr['vessels_vein_course']\n",
    "np.unique(vessels_vein_course_s)"
   ]
  },
  {
   "cell_type": "markdown",
   "id": "f9e7d509-0d2c-4e89-a38a-b8dde08a5379",
   "metadata": {},
   "source": [
    "Системные значения:\n",
    "* нормальный\n",
    "* смещение наружу\n",
    "* смещение внутрь "
   ]
  },
  {
   "cell_type": "code",
   "execution_count": 63,
   "id": "17e8f6ae-979d-493e-9714-85e7b6d967e7",
   "metadata": {
    "execution": {
     "iopub.execute_input": "2025-03-17T15:39:29.826321Z",
     "iopub.status.busy": "2025-03-17T15:39:29.825236Z",
     "iopub.status.idle": "2025-03-17T15:39:29.851309Z",
     "shell.execute_reply": "2025-03-17T15:39:29.850192Z",
     "shell.execute_reply.started": "2025-03-17T15:39:29.826274Z"
    },
    "tags": []
   },
   "outputs": [
    {
     "data": {
      "text/plain": [
       "нормальный                            865\n",
       "височный сдвиг                          7\n",
       "нормальное                              4\n",
       "радиальный                              3\n",
       "внутреннее смещение                     2\n",
       "смещение наружу                         2\n",
       "наружное смещение                       1\n",
       "височный                                1\n",
       "смещение кнаружи                        1\n",
       "аномальный                              1\n",
       "в норме                                 1\n",
       "извитая                                 1\n",
       "атипичный ход                           1\n",
       "  insumواک парамет师יית=\"#ff---기.}.      1\n",
       "Name: vessels_vein_course, dtype: int64"
      ]
     },
     "execution_count": 63,
     "metadata": {},
     "output_type": "execute_result"
    }
   ],
   "source": [
    "vessels_vein_course_s.value_counts()"
   ]
  },
  {
   "cell_type": "code",
   "execution_count": 64,
   "id": "da9c3f4c-b447-48a0-baa9-8ed00b97c227",
   "metadata": {
    "execution": {
     "iopub.execute_input": "2025-03-17T15:39:29.853385Z",
     "iopub.status.busy": "2025-03-17T15:39:29.852615Z",
     "iopub.status.idle": "2025-03-17T15:39:29.871053Z",
     "shell.execute_reply": "2025-03-17T15:39:29.870123Z",
     "shell.execute_reply.started": "2025-03-17T15:39:29.853330Z"
    },
    "tags": []
   },
   "outputs": [
    {
     "data": {
      "text/plain": [
       "206    ДЗН гипопластичен, аномальный выход сосудов, другие отделы видно плохо ( микрокоррия) ДЗН гипопластичен, аномальный выход сосудов, другие отделы видно плохо ( микрокоррия)\n",
       "Name: text, dtype: object"
      ]
     },
     "execution_count": 64,
     "metadata": {},
     "output_type": "execute_result"
    }
   ],
   "source": [
    "valid_descr[valid_descr['vessels_vein_course'] == 'аномальный']['text']"
   ]
  },
  {
   "cell_type": "code",
   "execution_count": 65,
   "id": "ab968dc1-e8c6-486a-a382-c38d3c41e85e",
   "metadata": {
    "execution": {
     "iopub.execute_input": "2025-03-17T15:39:29.874271Z",
     "iopub.status.busy": "2025-03-17T15:39:29.872380Z",
     "iopub.status.idle": "2025-03-17T15:39:29.891102Z",
     "shell.execute_reply": "2025-03-17T15:39:29.890218Z",
     "shell.execute_reply.started": "2025-03-17T15:39:29.874230Z"
    },
    "tags": []
   },
   "outputs": [
    {
     "data": {
      "text/plain": [
       "1019    ДЗН бледный, границы нечеткие, сосуды извиты, в МЗ твердый субретинальный эксудат, на периферии отложения субретинального эксудата, единичные ангиоматозно расширенные сосуды и микроаневризмы, пигментированные коагуляты, отграничивающие зоны эксудации ДЗН бледный, границы нечеткие, сосуды извиты, в МЗ твердый субретинальный эксудат, на периферии отложения субретинального эксудата, единичные ангиоматозно расширенные сосуды и микроаневризмы , пигментированные коагуляты, отграничивающие зоны эксудации\n",
       "Name: text, dtype: object"
      ]
     },
     "execution_count": 65,
     "metadata": {},
     "output_type": "execute_result"
    }
   ],
   "source": [
    "valid_descr[valid_descr['vessels_vein_course'] == '  insumواک парамет师יית=\\\"#ff---기.}.']['text']"
   ]
  },
  {
   "cell_type": "code",
   "execution_count": 66,
   "id": "a24e9242-2bb4-496c-b3be-cf0e8923acea",
   "metadata": {
    "execution": {
     "iopub.execute_input": "2025-03-17T15:39:29.894199Z",
     "iopub.status.busy": "2025-03-17T15:39:29.892156Z",
     "iopub.status.idle": "2025-03-17T15:39:29.912659Z",
     "shell.execute_reply": "2025-03-17T15:39:29.911806Z",
     "shell.execute_reply.started": "2025-03-17T15:39:29.893721Z"
    },
    "tags": []
   },
   "outputs": [
    {
     "data": {
      "text/plain": [
       "нормальный         875\n",
       "смещение наружу     12\n",
       "смещение внутрь      2\n",
       "аномальный           1\n",
       "атипичный ход        1\n",
       "Name: vessels_vein_course, dtype: int64"
      ]
     },
     "execution_count": 66,
     "metadata": {},
     "output_type": "execute_result"
    }
   ],
   "source": [
    "replacement_dict = {\n",
    "    \"нормальный\": \"нормальный\",\n",
    "    \"нормальное\": \"нормальный\",\n",
    "    \"в норме\": \"нормальный\",\n",
    "    \"радиальный\": \"нормальный\",  # Радиальный ход часто является вариантом нормы\n",
    "    \"извитая\": \"нормальный\",\n",
    "    \"височный сдвиг\": \"смещение наружу\",\n",
    "    \"височный\": \"смещение наружу\",\n",
    "    \"наружное смещение\": \"смещение наружу\",\n",
    "    \"смещение кнаружи\": \"смещение наружу\",\n",
    "    \"внутреннее смещение\": \"смещение внутрь\",\n",
    "    \"смещение внутрь\": \"смещение внутрь\",\n",
    "    \"  insumواک парамет师יית=\\\"#ff---기.}.\": \"нормальный\"\n",
    "}\n",
    "\n",
    "\n",
    "vessels_vein_course_s = vessels_vein_course_s.replace(replacement_dict)\n",
    "valid_descr.loc[:, 'vessels_vein_course'] = vessels_vein_course_s\n",
    "valid_descr['vessels_vein_course'].value_counts()"
   ]
  },
  {
   "cell_type": "code",
   "execution_count": 67,
   "id": "27d17380-a5f8-433d-878f-a9a79d350b87",
   "metadata": {
    "execution": {
     "iopub.execute_input": "2025-03-17T15:39:29.914865Z",
     "iopub.status.busy": "2025-03-17T15:39:29.913991Z",
     "iopub.status.idle": "2025-03-17T15:39:29.932465Z",
     "shell.execute_reply": "2025-03-17T15:39:29.931533Z",
     "shell.execute_reply.started": "2025-03-17T15:39:29.914796Z"
    },
    "tags": []
   },
   "outputs": [
    {
     "data": {
      "text/plain": [
       "64     ДЗН тракционно деформирован, бледноват, сосуды смещены в носовую сторону, экстраретинальная ткань в центральных отделах, макула смещена, шизис в МЗ, на периферии остаточные аваскулярные зоны\n",
       "360           ДЗН тракционно деформирован, височный сдвиг сосудов, в центральной зоне хориоретинальные очаги, преретинальный фиброз, сетчатка бледновата, плоская складка сетчатки в центральной зоне\n",
       "Name: text, dtype: object"
      ]
     },
     "execution_count": 67,
     "metadata": {},
     "output_type": "execute_result"
    }
   ],
   "source": [
    "valid_descr[valid_descr['vessels_vein_course'] == 'смещение внутрь']['text']"
   ]
  },
  {
   "cell_type": "markdown",
   "id": "3ce68159-2b65-4a5d-ab58-d07f1a6fcdb3",
   "metadata": {},
   "source": [
    "В случае описания 360 модель ошиблась и там бы следовало указать смещение наружу, так как есть височный сдвиг, исправим это отдельно."
   ]
  },
  {
   "cell_type": "code",
   "execution_count": 68,
   "id": "4de925f6-8b47-459f-a921-ff427f7404fe",
   "metadata": {
    "execution": {
     "iopub.execute_input": "2025-03-17T15:39:29.938707Z",
     "iopub.status.busy": "2025-03-17T15:39:29.934840Z",
     "iopub.status.idle": "2025-03-17T15:39:29.954840Z",
     "shell.execute_reply": "2025-03-17T15:39:29.953953Z",
     "shell.execute_reply.started": "2025-03-17T15:39:29.938668Z"
    },
    "tags": []
   },
   "outputs": [],
   "source": [
    "valid_descr.loc[360, 'vessels_vein_course'] = 'смещение наружу'\n",
    "valid_descr.loc[360, 'vessels_art_course'] = 'смещение наружу'"
   ]
  },
  {
   "cell_type": "markdown",
   "id": "bcd57d56-1b0f-40ed-af7e-6180c9c71058",
   "metadata": {},
   "source": [
    "Наблюдаем разницу в распределении значений хода вен и артерий, поэтому посмотрим явно глазами на эти показатели:"
   ]
  },
  {
   "cell_type": "code",
   "execution_count": 69,
   "id": "9f7149ac-70ad-420a-bdd9-657e5d5af055",
   "metadata": {
    "execution": {
     "iopub.execute_input": "2025-03-17T15:39:29.956649Z",
     "iopub.status.busy": "2025-03-17T15:39:29.955895Z",
     "iopub.status.idle": "2025-03-17T15:39:29.983857Z",
     "shell.execute_reply": "2025-03-17T15:39:29.982840Z",
     "shell.execute_reply.started": "2025-03-17T15:39:29.956618Z"
    },
    "tags": []
   },
   "outputs": [
    {
     "data": {
      "text/html": [
       "<div>\n",
       "<style scoped>\n",
       "    .dataframe tbody tr th:only-of-type {\n",
       "        vertical-align: middle;\n",
       "    }\n",
       "\n",
       "    .dataframe tbody tr th {\n",
       "        vertical-align: top;\n",
       "    }\n",
       "\n",
       "    .dataframe thead th {\n",
       "        text-align: right;\n",
       "    }\n",
       "</style>\n",
       "<table border=\"1\" class=\"dataframe\">\n",
       "  <thead>\n",
       "    <tr style=\"text-align: right;\">\n",
       "      <th></th>\n",
       "      <th>vessels_art_course</th>\n",
       "      <th>vessels_vein_course</th>\n",
       "      <th>text</th>\n",
       "    </tr>\n",
       "  </thead>\n",
       "  <tbody>\n",
       "    <tr>\n",
       "      <th>22</th>\n",
       "      <td>смещение наружу</td>\n",
       "      <td>нормальный</td>\n",
       "      <td>ДЗН бледно, смещение сосудов в височную сторону, макула эктопична, гипопластична, на периферии- коагуляты, небольшое количество преретинальных пленок. ДЗН бледно, смещение сосудов в височную сторону, макула эктопична, гипопластична, на периферии- коагуляты, небольшое количество преретинальных пленок.</td>\n",
       "    </tr>\n",
       "    <tr>\n",
       "      <th>51</th>\n",
       "      <td>смещение наружу</td>\n",
       "      <td>нормальный</td>\n",
       "      <td>ДЗН бледный, монотонный, границы не четкие, височный сдвиг сосудов, от ДЗН кнаружи кверху складка сетчатки, самоотграниченная</td>\n",
       "    </tr>\n",
       "    <tr>\n",
       "      <th>63</th>\n",
       "      <td>нормальный</td>\n",
       "      <td>смещение наружу</td>\n",
       "      <td>ДЗН бледный, монотонный, границы четкие, пигментированы. Сосуды сужены, височный сдвиг. От ДЗН идет складка сетчатки через МЗ к периферии, спаянная с плотной фиброзной мембраной в виде \"паруса\". Участки гиперпигментации вдоль складки. На периферии аваскулярный зоны</td>\n",
       "    </tr>\n",
       "    <tr>\n",
       "      <th>86</th>\n",
       "      <td>смещение наружу</td>\n",
       "      <td>нормальный</td>\n",
       "      <td>ДЗН бледно-розовый, монотонный, тракционно деформирован, границы четкие, височные сдвиг сосудов, МЗ сглажена, эктопирована кнаружи, на периферии остаточная авасткулярная зона с пигментированными коагулятами, на границе с которой зона тракционного шизиса ДЗН бледно-розовый, монотонный, тракционно деформирован, границы четкие, височные сдвиг сосудов, МЗ сглажена, эктопирована кнаружи, на периферии остаточная авасткулярная зона с пигментированными коагулятами, на границе с которой зона тракционного шизи са</td>\n",
       "    </tr>\n",
       "    <tr>\n",
       "      <th>100</th>\n",
       "      <td>смещение наружу</td>\n",
       "      <td>нормальный</td>\n",
       "      <td>ДЗН бледный, монотонный, границы четкие, перипапиллярная пигментация, височный сдвиг сосудов, складка сетчатки, идущая от ДЗН через МЗ, расширяющаяся к наружной периферии с высокой экстраретинальной тканью</td>\n",
       "    </tr>\n",
       "    <tr>\n",
       "      <th>188</th>\n",
       "      <td>смещение наружу</td>\n",
       "      <td>нормальный</td>\n",
       "      <td>ДЗН бледно-розовый, монотонный, границы четкие, височный сдвиг сосудов, от ДЗН на наружную периферию идет складка сетчатки, МЗ не дифференцируется, на периферии остаточные аваскулярные зоны, преретинальный фиброз ДЗН бледно-розовый, монотонный, границы четкие, височный сдвиг сосудов, от ДЗН на наружную периферию идет складка сетчатки, МЗ не дифференцируется, на периферии остаточные аваскулярные зоны, преретинальный фиброз</td>\n",
       "    </tr>\n",
       "    <tr>\n",
       "      <th>233</th>\n",
       "      <td>смещение наружу</td>\n",
       "      <td>нормальный</td>\n",
       "      <td>ДЗН бледный, монотонный, границы четкие, парапапиллярная пигментация, височный сдвиг сосудов, макулярные рефлексы не визуализируются, складка сетчатки, идущая от ДЗН к 7ч, отложения пигмента вдоль складки, на периферии остаточные аваскулярные зоны</td>\n",
       "    </tr>\n",
       "    <tr>\n",
       "      <th>302</th>\n",
       "      <td>смещение наружу</td>\n",
       "      <td>нормальный</td>\n",
       "      <td>ДЗН бледный, монотонный, границы четкие, височный сдвиг сосудов, от ДЗН кверху-кнаружи идет высокая складка сетчатки с сосудами и преретинальным фиброзом, отложение пигмента в виде линии самоотграничения перед складкой, центральные рефлексы не определяются, остальная сетчатка обеднена сосудами, на периферии остаточные аваскулярные зоны, множественные пигментированные лазеркоагуляты ДЗН бледный, монотонный, границы четкие, височный сдвиг сосудов, от ДЗН кверху-кнаружи идет высокая складка сетчатки с сосудами и преретинальным фиброзом, отложение пигмента в виде линии самоотграничения перед складкой, центральные рефлексы не определяются, остальная сетчатка обеднена сосудами, на периферии остаточные аваскулярные зоны, множественные пигментированные лазеркоагуляты</td>\n",
       "    </tr>\n",
       "    <tr>\n",
       "      <th>352</th>\n",
       "      <td>смещение наружу</td>\n",
       "      <td>нормальный</td>\n",
       "      <td>ДЗН бледно-розовый, монотонный, границы четкие, парапапиллярная пигментация, височный сдвиг сосудов (угол выхода сосудов 20гр), МЗ не дифференцируется, от ДЗН к наружней периферии идет нежный тяж, видимая периферия без особенностей</td>\n",
       "    </tr>\n",
       "    <tr>\n",
       "      <th>468</th>\n",
       "      <td>смещение наружу</td>\n",
       "      <td>нормальный</td>\n",
       "      <td>ДЗН бледный, монотонный, границы четкие, пигментированы. Сосуды сужены, височный сдвиг. От ДЗН идет складка сетчатки через МЗ к периферии, спаянная с плотной фиброзной мембраной в виде \"паруса\". Участки гиперпигментации вдоль складки. На периферии (зона 3) аваскулярный зоны</td>\n",
       "    </tr>\n",
       "    <tr>\n",
       "      <th>566</th>\n",
       "      <td>смещение наружу</td>\n",
       "      <td>нормальный</td>\n",
       "      <td>ДЗН бледно-розовый, границы четкие, тракционно деформирован, височный сдвиг сосудов, макула сгалжена, эктопирована, на периферии очаги диссоциации пигмента</td>\n",
       "    </tr>\n",
       "    <tr>\n",
       "      <th>629</th>\n",
       "      <td>смещение наружу</td>\n",
       "      <td>нормальный</td>\n",
       "      <td>ДЗН бледный. Складки сетчатки от ДЗН идут книзу, кнаружи. Гиперпигментации по ходу складок и перипапиллярно. ДЗН бледный. Складки сетчатки от ДЗН идут книзу, кнаружи. Гиперпигментации по ходу складок и перипапиллярно.</td>\n",
       "    </tr>\n",
       "    <tr>\n",
       "      <th>630</th>\n",
       "      <td>смещение наружу</td>\n",
       "      <td>нормальный</td>\n",
       "      <td>ДЗН бледный, границы четкие, перипапиллярная пигментация, височный сдвиг сосудов, макула не дифференцирована, на периферии вал с высокой экстраретинальной тканью</td>\n",
       "    </tr>\n",
       "    <tr>\n",
       "      <th>724</th>\n",
       "      <td>смещение наружу</td>\n",
       "      <td>нормальный</td>\n",
       "      <td>ДЗН бледно-розовый, монотонный, границы четкие, височный сдвиг сосудов, от ДЗН на наружную периферию идет высокая складка сетчатки с экстраретинальной тканью, МЗ не дифференцируется, на периферии остаточные аваскулярные зоны, преретинальный фиброз ДЗН бледно-розовый, монотонный, границы четкие, височный сдвиг сосудов, от ДЗН на наружную периферию идет высокая складка сетчатки с экстраретинальной тканью, МЗ не дифференцируется, на периферии остаточные аваскулярные зоны, преретинальный фиброз</td>\n",
       "    </tr>\n",
       "    <tr>\n",
       "      <th>798</th>\n",
       "      <td>смещение наружу</td>\n",
       "      <td>нормальный</td>\n",
       "      <td>ДЗН бледно-розовый, монотонный, границы четкие височный сдвиг сосудов, макулярные рефлексы сглажены, на периферии на 6-7 ч ангиоматозный узел с преретинальным фиброзом</td>\n",
       "    </tr>\n",
       "    <tr>\n",
       "      <th>888</th>\n",
       "      <td>аномальный</td>\n",
       "      <td>нормальный</td>\n",
       "      <td>ДЗН бледно-розовый, неправильной формы, в наружном сегменте серая ямка 0,3 ДД, границы четкие, аномальный ход сосудов, МЗ и периферия без особенностей</td>\n",
       "    </tr>\n",
       "    <tr>\n",
       "      <th>896</th>\n",
       "      <td>нормальный</td>\n",
       "      <td>смещение наружу</td>\n",
       "      <td>ДЗН бледно-розовый, монотонный, границы четкие, височный сдвиг сосудов, МЗ рефлексы сглажены, на периферии отложения пигмента в виде линии (вероятно на месте бывшего вала), атрофические очажки</td>\n",
       "    </tr>\n",
       "    <tr>\n",
       "      <th>898</th>\n",
       "      <td>смещение наружу</td>\n",
       "      <td>нормальный</td>\n",
       "      <td>ДЗН бледно-розовый, монотонный, границы четкие, тракционно деформирован, парапапиллярная пигментация, височный сдвиг сосудов, от ДЗН к 9 ч идет фиброзный тяж, МЗ не дифференцируется, на периферии остаточные аваскулярные зоны</td>\n",
       "    </tr>\n",
       "    <tr>\n",
       "      <th>993</th>\n",
       "      <td>смещение наружу</td>\n",
       "      <td>нормальный</td>\n",
       "      <td>ДЗН бледный, монотонный, границы четкие, перипапиллярная пигментация, височный сдвиг сосудов, складка сетчатки, идущая от ДЗН через МЗ кнаружи с высокой эксраретинальной тканью, отложения пигмента вдоль складки сетчатки</td>\n",
       "    </tr>\n",
       "  </tbody>\n",
       "</table>\n",
       "</div>"
      ],
      "text/plain": [
       "    vessels_art_course  ...                                                                                                                                                                                                                                                                                                                                                                                                                                                                                                                                                                                                                                                                                                                                                                                               text\n",
       "22     смещение наружу  ...                                                                                                                                                                                                                                                                                                                                                                                                                                                                                      ДЗН бледно, смещение сосудов в височную сторону, макула эктопична, гипопластична, на периферии- коагуляты, небольшое количество преретинальных пленок. ДЗН бледно, смещение сосудов в височную сторону, макула эктопична, гипопластична, на периферии- коагуляты, небольшое количество преретинальных пленок.\n",
       "51     смещение наружу  ...                                                                                                                                                                                                                                                                                                                                                                                                                                                                                                                                                                                                                                                                      ДЗН бледный, монотонный, границы не четкие, височный сдвиг сосудов, от ДЗН кнаружи кверху складка сетчатки, самоотграниченная\n",
       "63          нормальный  ...                                                                                                                                                                                                                                                                                                                                                                                                                                                                                                                          ДЗН бледный, монотонный, границы четкие, пигментированы. Сосуды сужены, височный сдвиг. От ДЗН идет складка сетчатки через МЗ к периферии, спаянная с плотной фиброзной мембраной в виде \"паруса\". Участки гиперпигментации вдоль складки. На периферии аваскулярный зоны\n",
       "86     смещение наружу  ...                                                                                                                                                                                                                                                                       ДЗН бледно-розовый, монотонный, тракционно деформирован, границы четкие, височные сдвиг сосудов, МЗ сглажена, эктопирована кнаружи, на периферии остаточная авасткулярная зона с пигментированными коагулятами, на границе с которой зона тракционного шизиса ДЗН бледно-розовый, монотонный, тракционно деформирован, границы четкие, височные сдвиг сосудов, МЗ сглажена, эктопирована кнаружи, на периферии остаточная авасткулярная зона с пигментированными коагулятами, на границе с которой зона тракционного шизи са\n",
       "100    смещение наружу  ...                                                                                                                                                                                                                                                                                                                                                                                                                                                                                                                                                                                      ДЗН бледный, монотонный, границы четкие, перипапиллярная пигментация, височный сдвиг сосудов, складка сетчатки, идущая от ДЗН через МЗ, расширяющаяся к наружной периферии с высокой экстраретинальной тканью\n",
       "188    смещение наружу  ...                                                                                                                                                                                                                                                                                                                                                          ДЗН бледно-розовый, монотонный, границы четкие, височный сдвиг сосудов, от ДЗН на наружную периферию идет складка сетчатки, МЗ не дифференцируется, на периферии остаточные аваскулярные зоны, преретинальный фиброз ДЗН бледно-розовый, монотонный, границы четкие, височный сдвиг сосудов, от ДЗН на наружную периферию идет складка сетчатки, МЗ не дифференцируется, на периферии остаточные аваскулярные зоны, преретинальный фиброз\n",
       "233    смещение наружу  ...                                                                                                                                                                                                                                                                                                                                                                                                                                                                                                                                            ДЗН бледный, монотонный, границы четкие, парапапиллярная пигментация, височный сдвиг сосудов, макулярные рефлексы не визуализируются, складка сетчатки, идущая от ДЗН к 7ч, отложения пигмента вдоль складки, на периферии остаточные аваскулярные зоны\n",
       "302    смещение наружу  ...  ДЗН бледный, монотонный, границы четкие, височный сдвиг сосудов, от ДЗН кверху-кнаружи идет высокая складка сетчатки с сосудами и преретинальным фиброзом, отложение пигмента в виде линии самоотграничения перед складкой, центральные рефлексы не определяются, остальная сетчатка обеднена сосудами, на периферии остаточные аваскулярные зоны, множественные пигментированные лазеркоагуляты ДЗН бледный, монотонный, границы четкие, височный сдвиг сосудов, от ДЗН кверху-кнаружи идет высокая складка сетчатки с сосудами и преретинальным фиброзом, отложение пигмента в виде линии самоотграничения перед складкой, центральные рефлексы не определяются, остальная сетчатка обеднена сосудами, на периферии остаточные аваскулярные зоны, множественные пигментированные лазеркоагуляты\n",
       "352    смещение наружу  ...                                                                                                                                                                                                                                                                                                                                                                                                                                                                                                                                                            ДЗН бледно-розовый, монотонный, границы четкие, парапапиллярная пигментация, височный сдвиг сосудов (угол выхода сосудов 20гр), МЗ не дифференцируется, от ДЗН к наружней периферии идет нежный тяж, видимая периферия без особенностей\n",
       "468    смещение наружу  ...                                                                                                                                                                                                                                                                                                                                                                                                                                                                                                                 ДЗН бледный, монотонный, границы четкие, пигментированы. Сосуды сужены, височный сдвиг. От ДЗН идет складка сетчатки через МЗ к периферии, спаянная с плотной фиброзной мембраной в виде \"паруса\". Участки гиперпигментации вдоль складки. На периферии (зона 3) аваскулярный зоны\n",
       "566    смещение наружу  ...                                                                                                                                                                                                                                                                                                                                                                                                                                                                                                                                                                                                                                        ДЗН бледно-розовый, границы четкие, тракционно деформирован, височный сдвиг сосудов, макула сгалжена, эктопирована, на периферии очаги диссоциации пигмента\n",
       "629    смещение наружу  ...                                                                                                                                                                                                                                                                                                                                                                                                                                                                                                                                                                          ДЗН бледный. Складки сетчатки от ДЗН идут книзу, кнаружи. Гиперпигментации по ходу складок и перипапиллярно. ДЗН бледный. Складки сетчатки от ДЗН идут книзу, кнаружи. Гиперпигментации по ходу складок и перипапиллярно.\n",
       "630    смещение наружу  ...                                                                                                                                                                                                                                                                                                                                                                                                                                                                                                                                                                                                                                  ДЗН бледный, границы четкие, перипапиллярная пигментация, височный сдвиг сосудов, макула не дифференцирована, на периферии вал с высокой экстраретинальной тканью\n",
       "724    смещение наружу  ...                                                                                                                                                                                                                                                                                    ДЗН бледно-розовый, монотонный, границы четкие, височный сдвиг сосудов, от ДЗН на наружную периферию идет высокая складка сетчатки с экстраретинальной тканью, МЗ не дифференцируется, на периферии остаточные аваскулярные зоны, преретинальный фиброз ДЗН бледно-розовый, монотонный, границы четкие, височный сдвиг сосудов, от ДЗН на наружную периферию идет высокая складка сетчатки с экстраретинальной тканью, МЗ не дифференцируется, на периферии остаточные аваскулярные зоны, преретинальный фиброз\n",
       "798    смещение наружу  ...                                                                                                                                                                                                                                                                                                                                                                                                                                                                                                                                                                                                                            ДЗН бледно-розовый, монотонный, границы четкие височный сдвиг сосудов, макулярные рефлексы сглажены, на периферии на 6-7 ч ангиоматозный узел с преретинальным фиброзом\n",
       "888         аномальный  ...                                                                                                                                                                                                                                                                                                                                                                                                                                                                                                                                                                                                                                             ДЗН бледно-розовый, неправильной формы, в наружном сегменте серая ямка 0,3 ДД, границы четкие, аномальный ход сосудов, МЗ и периферия без особенностей\n",
       "896         нормальный  ...                                                                                                                                                                                                                                                                                                                                                                                                                                                                                                                                                                                                   ДЗН бледно-розовый, монотонный, границы четкие, височный сдвиг сосудов, МЗ рефлексы сглажены, на периферии отложения пигмента в виде линии (вероятно на месте бывшего вала), атрофические очажки\n",
       "898    смещение наружу  ...                                                                                                                                                                                                                                                                                                                                                                                                                                                                                                                                                                   ДЗН бледно-розовый, монотонный, границы четкие, тракционно деформирован, парапапиллярная пигментация, височный сдвиг сосудов, от ДЗН к 9 ч идет фиброзный тяж, МЗ не дифференцируется, на периферии остаточные аваскулярные зоны\n",
       "993    смещение наружу  ...                                                                                                                                                                                                                                                                                                                                                                                                                                                                                                                                                                        ДЗН бледный, монотонный, границы четкие, перипапиллярная пигментация, височный сдвиг сосудов, складка сетчатки, идущая от ДЗН через МЗ кнаружи с высокой эксраретинальной тканью, отложения пигмента вдоль складки сетчатки\n",
       "\n",
       "[19 rows x 3 columns]"
      ]
     },
     "execution_count": 69,
     "metadata": {},
     "output_type": "execute_result"
    }
   ],
   "source": [
    "valid_descr[valid_descr['vessels_vein_course'] != valid_descr['vessels_art_course']][['vessels_art_course', 'vessels_vein_course',  'text']]"
   ]
  },
  {
   "cell_type": "markdown",
   "id": "36c65f96-800a-40d4-9eeb-84e919d36166",
   "metadata": {},
   "source": [
    "Практически во всех случая правильно определено смещение артерий, а не вен (должно быть смещение наружу). Во всех этих случаях в текстовых описаниях написано в общем о сосудах. \n",
    "\n",
    "При этом есть одна ошибка, где у обоих параметров должно быть значение нормально -- 629.\n",
    "\n",
    "Под вопросом остаётся только случаях 888, так как там сказано про аномальный ход сосудов, не очень ясно, что это такое.\n",
    "\n",
    "Аномальный случай пока оставим, а в остальных заменим."
   ]
  },
  {
   "cell_type": "code",
   "execution_count": 70,
   "id": "ea39221e-a425-4929-a860-347352851443",
   "metadata": {
    "execution": {
     "iopub.execute_input": "2025-03-17T15:39:29.985959Z",
     "iopub.status.busy": "2025-03-17T15:39:29.985186Z",
     "iopub.status.idle": "2025-03-17T15:39:30.004553Z",
     "shell.execute_reply": "2025-03-17T15:39:30.003630Z",
     "shell.execute_reply.started": "2025-03-17T15:39:29.985877Z"
    },
    "tags": []
   },
   "outputs": [],
   "source": [
    "valid_descr.loc[[22, 51, 63, 86, 100, 188, 233, 302, 352, 468, 566, 630, 724, 798, 896, 898, 993], 'vessels_vein_course'] = 'смещение наружу'\n",
    "valid_descr.loc[[22, 51, 63, 86, 100, 188, 233, 302, 352, 468, 566, 630, 724, 798, 896, 898, 993], 'vessels_art_course'] = 'смещение наружу'"
   ]
  },
  {
   "cell_type": "code",
   "execution_count": 71,
   "id": "f38434e7-3e32-493a-a3bb-42f3e5f893ee",
   "metadata": {
    "execution": {
     "iopub.execute_input": "2025-03-17T15:39:30.007267Z",
     "iopub.status.busy": "2025-03-17T15:39:30.006154Z",
     "iopub.status.idle": "2025-03-17T15:39:30.080531Z",
     "shell.execute_reply": "2025-03-17T15:39:30.079652Z",
     "shell.execute_reply.started": "2025-03-17T15:39:30.007187Z"
    }
   },
   "outputs": [],
   "source": [
    "valid_descr.loc[629, 'vessels_vein_course'] = 'нормальный'\n",
    "valid_descr.loc[629, 'vessels_art_course'] = 'нормальный'"
   ]
  },
  {
   "cell_type": "code",
   "execution_count": 72,
   "id": "edf09534-2eb4-4d0d-98e8-3a8e6b18f5c9",
   "metadata": {
    "execution": {
     "iopub.execute_input": "2025-03-17T15:39:30.083026Z",
     "iopub.status.busy": "2025-03-17T15:39:30.081641Z",
     "iopub.status.idle": "2025-03-17T15:39:30.122246Z",
     "shell.execute_reply": "2025-03-17T15:39:30.121292Z",
     "shell.execute_reply.started": "2025-03-17T15:39:30.082985Z"
    },
    "tags": []
   },
   "outputs": [
    {
     "data": {
      "text/html": [
       "<div>\n",
       "<style scoped>\n",
       "    .dataframe tbody tr th:only-of-type {\n",
       "        vertical-align: middle;\n",
       "    }\n",
       "\n",
       "    .dataframe tbody tr th {\n",
       "        vertical-align: top;\n",
       "    }\n",
       "\n",
       "    .dataframe thead th {\n",
       "        text-align: right;\n",
       "    }\n",
       "</style>\n",
       "<table border=\"1\" class=\"dataframe\">\n",
       "  <thead>\n",
       "    <tr style=\"text-align: right;\">\n",
       "      <th></th>\n",
       "      <th>vessels_art_course</th>\n",
       "      <th>vessels_vein_course</th>\n",
       "      <th>text</th>\n",
       "    </tr>\n",
       "  </thead>\n",
       "  <tbody>\n",
       "    <tr>\n",
       "      <th>888</th>\n",
       "      <td>аномальный</td>\n",
       "      <td>нормальный</td>\n",
       "      <td>ДЗН бледно-розовый, неправильной формы, в наружном сегменте серая ямка 0,3 ДД, границы четкие, аномальный ход сосудов, МЗ и периферия без особенностей</td>\n",
       "    </tr>\n",
       "  </tbody>\n",
       "</table>\n",
       "</div>"
      ],
      "text/plain": [
       "    vessels_art_course  ...                                                                                                                                                    text\n",
       "888         аномальный  ...  ДЗН бледно-розовый, неправильной формы, в наружном сегменте серая ямка 0,3 ДД, границы четкие, аномальный ход сосудов, МЗ и периферия без особенностей\n",
       "\n",
       "[1 rows x 3 columns]"
      ]
     },
     "execution_count": 72,
     "metadata": {},
     "output_type": "execute_result"
    }
   ],
   "source": [
    "valid_descr[valid_descr['vessels_vein_course'] != valid_descr['vessels_art_course']][['vessels_art_course', 'vessels_vein_course',  'text']]"
   ]
  },
  {
   "cell_type": "markdown",
   "id": "b056c8fb-e0bb-4321-9249-66c49f127bb5",
   "metadata": {
    "execution": {
     "iopub.execute_input": "2025-03-04T09:17:32.196581Z",
     "iopub.status.busy": "2025-03-04T09:17:32.195669Z",
     "iopub.status.idle": "2025-03-04T09:17:32.250855Z",
     "shell.execute_reply": "2025-03-04T09:17:32.249887Z",
     "shell.execute_reply.started": "2025-03-04T09:17:32.196542Z"
    },
    "tags": []
   },
   "source": [
    "#### vessels_vein_turtuosity"
   ]
  },
  {
   "cell_type": "code",
   "execution_count": 73,
   "id": "807f6cdf-8147-48e2-b4a5-97c68125fef5",
   "metadata": {
    "execution": {
     "iopub.execute_input": "2025-03-17T15:39:30.124535Z",
     "iopub.status.busy": "2025-03-17T15:39:30.123658Z",
     "iopub.status.idle": "2025-03-17T15:39:30.158840Z",
     "shell.execute_reply": "2025-03-17T15:39:30.157944Z",
     "shell.execute_reply.started": "2025-03-17T15:39:30.124483Z"
    },
    "tags": []
   },
   "outputs": [
    {
     "data": {
      "text/plain": [
       "array(['nan', 'Извитая', 'в норме', 'извитая', 'извитые',\n",
       "       'несколько извита', 'нормальная', 'полнокровны',\n",
       "       'умеренно извитая'], dtype=object)"
      ]
     },
     "execution_count": 73,
     "metadata": {},
     "output_type": "execute_result"
    }
   ],
   "source": [
    "valid_descr['vessels_vein_turtuosity'] = valid_descr['vessels_vein_turtuosity'].astype(str)\n",
    "vessels_vein_turtuosity_s = valid_descr['vessels_vein_turtuosity']\n",
    "np.unique(vessels_vein_turtuosity_s)"
   ]
  },
  {
   "cell_type": "markdown",
   "id": "9c2787ae-74ab-4dba-abcd-b16f58a4c9e4",
   "metadata": {},
   "source": [
    "Системные значения:\n",
    "* нормальная\n",
    "* извитые\n",
    "* прямые"
   ]
  },
  {
   "cell_type": "code",
   "execution_count": 74,
   "id": "3b9dc1df-e8a2-44ef-a8d6-d6fe5222f27c",
   "metadata": {
    "execution": {
     "iopub.execute_input": "2025-03-17T15:39:30.160541Z",
     "iopub.status.busy": "2025-03-17T15:39:30.159871Z",
     "iopub.status.idle": "2025-03-17T15:39:30.191213Z",
     "shell.execute_reply": "2025-03-17T15:39:30.190392Z",
     "shell.execute_reply.started": "2025-03-17T15:39:30.160486Z"
    },
    "tags": []
   },
   "outputs": [
    {
     "data": {
      "text/plain": [
       "192    ДЗН бледно-розовый с четкими границами. Вены центральной области полнокровны, артерии нормального калибра . Макулярный рефлекс сглажен. На крайней периферии снаружи в области 2-3 час. ПВХРД в виде \"следа улитки\", не полностью отгранич коагул. Преретинальный фиброз в области бывших аваскулярных зон . Аномальный ход сосудов на крайней периферии.\n",
       "Name: text, dtype: object"
      ]
     },
     "execution_count": 74,
     "metadata": {},
     "output_type": "execute_result"
    }
   ],
   "source": [
    "valid_descr[valid_descr['vessels_vein_turtuosity'] == 'полнокровны']['text']"
   ]
  },
  {
   "cell_type": "code",
   "execution_count": 75,
   "id": "8b34be6a-1d08-4dd3-92cb-68acb72242ba",
   "metadata": {
    "execution": {
     "iopub.execute_input": "2025-03-17T15:39:30.194198Z",
     "iopub.status.busy": "2025-03-17T15:39:30.192389Z",
     "iopub.status.idle": "2025-03-17T15:39:30.209959Z",
     "shell.execute_reply": "2025-03-17T15:39:30.209150Z",
     "shell.execute_reply.started": "2025-03-17T15:39:30.194151Z"
    },
    "tags": []
   },
   "outputs": [
    {
     "data": {
      "text/plain": [
       "1012    Д.з.н. – бледно-розовый, контуры четкие, в макулярной области субретинальный желтоватый экссудат, в виде «фигуры звезды», субретинальный экссудат в парамакулярной области и на средней периферии, в наружном квадранте извитые сосуды с множественными аневризмами Д.з.н. – бледно-розовый, контуры четкие, в макулярной области субретинальный желтоватый экссудат, в виде «фигуры звезды», субретинальный экссудат в парамакулярной области и на средней периферии, в наружном квадранте извитые сосуды с множественными аневризмами\n",
       "Name: text, dtype: object"
      ]
     },
     "execution_count": 75,
     "metadata": {},
     "output_type": "execute_result"
    }
   ],
   "source": [
    "valid_descr[valid_descr['vessels_vein_turtuosity'] == 'Извитая']['text']"
   ]
  },
  {
   "cell_type": "code",
   "execution_count": 76,
   "id": "d8bae1da-b6cf-4be4-b660-9c7a7db5bd07",
   "metadata": {
    "execution": {
     "iopub.execute_input": "2025-03-17T15:39:30.214762Z",
     "iopub.status.busy": "2025-03-17T15:39:30.211143Z",
     "iopub.status.idle": "2025-03-17T15:39:30.236778Z",
     "shell.execute_reply": "2025-03-17T15:39:30.236017Z",
     "shell.execute_reply.started": "2025-03-17T15:39:30.214724Z"
    },
    "tags": []
   },
   "outputs": [
    {
     "data": {
      "text/plain": [
       "нормальная          801\n",
       "извитая              80\n",
       "несколько извита      3\n",
       "извитые               2\n",
       "полнокровны           1\n",
       "nan                   1\n",
       "в норме               1\n",
       "умеренно извитая      1\n",
       "Извитая               1\n",
       "Name: vessels_vein_turtuosity, dtype: int64"
      ]
     },
     "execution_count": 76,
     "metadata": {},
     "output_type": "execute_result"
    }
   ],
   "source": [
    "vessels_vein_turtuosity_s.value_counts()"
   ]
  },
  {
   "cell_type": "code",
   "execution_count": 77,
   "id": "a3fffdee-a937-4fd9-b3b0-396ba973ac26",
   "metadata": {
    "execution": {
     "iopub.execute_input": "2025-03-17T15:39:30.239501Z",
     "iopub.status.busy": "2025-03-17T15:39:30.237863Z",
     "iopub.status.idle": "2025-03-17T15:39:30.276272Z",
     "shell.execute_reply": "2025-03-17T15:39:30.275411Z",
     "shell.execute_reply.started": "2025-03-17T15:39:30.239463Z"
    },
    "tags": []
   },
   "outputs": [
    {
     "data": {
      "text/plain": [
       "нормальная    804\n",
       "извитые        87\n",
       "Name: vessels_vein_turtuosity, dtype: int64"
      ]
     },
     "execution_count": 77,
     "metadata": {},
     "output_type": "execute_result"
    }
   ],
   "source": [
    "replacement_dict = {\n",
    "    \"извитая\": \"извитые\",\n",
    "    \"несколько извита\": \"извитые\",\n",
    "    \"полнокровны\": \"нормальная\",\n",
    "    \"nan\": \"нормальная\",\n",
    "    \"в норме\": \"нормальная\",\n",
    "    \"умеренно извитая\": \"извитые\",\n",
    "    \"Извитая\": \"извитые\"\n",
    "}\n",
    "\n",
    "vessels_vein_turtuosity_s = vessels_vein_turtuosity_s.replace(replacement_dict)\n",
    "valid_descr.loc[:, 'vessels_vein_turtuosity'] = vessels_vein_turtuosity_s\n",
    "valid_descr['vessels_vein_turtuosity'].value_counts()"
   ]
  },
  {
   "cell_type": "markdown",
   "id": "14b384de-b531-4c5a-a50b-e2ea1612baeb",
   "metadata": {},
   "source": [
    "В некоторых описаниях извитость вен и артерий не совпадает, посмотрим на эти записи:"
   ]
  },
  {
   "cell_type": "code",
   "execution_count": 78,
   "id": "07191b14-0ac2-4656-86c5-7e0037c8158f",
   "metadata": {
    "execution": {
     "iopub.execute_input": "2025-03-17T15:39:30.282459Z",
     "iopub.status.busy": "2025-03-17T15:39:30.277378Z",
     "iopub.status.idle": "2025-03-17T15:39:30.310839Z",
     "shell.execute_reply": "2025-03-17T15:39:30.309958Z",
     "shell.execute_reply.started": "2025-03-17T15:39:30.282416Z"
    },
    "tags": []
   },
   "outputs": [
    {
     "data": {
      "text/html": [
       "<div>\n",
       "<style scoped>\n",
       "    .dataframe tbody tr th:only-of-type {\n",
       "        vertical-align: middle;\n",
       "    }\n",
       "\n",
       "    .dataframe tbody tr th {\n",
       "        vertical-align: top;\n",
       "    }\n",
       "\n",
       "    .dataframe thead th {\n",
       "        text-align: right;\n",
       "    }\n",
       "</style>\n",
       "<table border=\"1\" class=\"dataframe\">\n",
       "  <thead>\n",
       "    <tr style=\"text-align: right;\">\n",
       "      <th></th>\n",
       "      <th>vessels_art_turtuosity</th>\n",
       "      <th>vessels_vein_turtuosity</th>\n",
       "      <th>text</th>\n",
       "    </tr>\n",
       "  </thead>\n",
       "  <tbody>\n",
       "    <tr>\n",
       "      <th>4</th>\n",
       "      <td>нормальная</td>\n",
       "      <td>извитые</td>\n",
       "      <td>ДЗН бледно-розовый, границы четкие, артерии несколько сужены, сосуды несколько извиты, смещены в височную сторону. Макуляные рефлексы сглажены, на периферии в наружних и нижних отделах (зона 2,3) аваскулярная зона, локальная отслойка сетчатки вдоль демаркационной линии</td>\n",
       "    </tr>\n",
       "    <tr>\n",
       "      <th>23</th>\n",
       "      <td>извитые</td>\n",
       "      <td>нормальная</td>\n",
       "      <td>ДЗН бледный, монотонный, границы четкие, артерии полнокровны, извиты, от ДЗН в наружной половине отслойка сетчатки в виде полиморфных складок сетчатки, множественные преретинальные помутнения</td>\n",
       "    </tr>\n",
       "    <tr>\n",
       "      <th>94</th>\n",
       "      <td>нормальная</td>\n",
       "      <td>извитые</td>\n",
       "      <td>Д.з.н. – бледно-розовый, контуры четкие, в макулярной области субретинальный желтоватый экссудат, в виде «фигуры звезды», субретинальный экссудат в парамакулярной области и на средней периферии, в наружном квадранте извитый сосуд с множественными аневризмами Д.з.н. – бледно-розовый, контуры четкие, в макулярной области субретинальный желтоватый экссудат, в виде «фигуры звезды», субретинальный экссудат в парамакулярной области и на средней периферии, в наружном квадранте извитый сосуд с множественными аневризмами</td>\n",
       "    </tr>\n",
       "    <tr>\n",
       "      <th>234</th>\n",
       "      <td>извитые</td>\n",
       "      <td>нормальная</td>\n",
       "      <td>ДЗН – бледный, монотонный, границы четкие, перипапиллярная пигментация, височный сдвиг сосудов, от ДЗН к наружной периферии идет складка сетчатки, концентрически закручивающ. на периферии , атрофические хориоретинальные очаги ДЗН – бледный, монотонный, границы четкие, перипапиллярная пигментация, височный сдвиг сосудов, от ДЗН к наружной периферии идет складка сетчатки, концентрически закручивающ. на периферии , атрофические хориоретинальные очаги</td>\n",
       "    </tr>\n",
       "    <tr>\n",
       "      <th>307</th>\n",
       "      <td>извитые</td>\n",
       "      <td>нормальная</td>\n",
       "      <td>ДЗН бледный, монотонный, тракционно деформирован, артерии извиты, полнокровны, от ДЗН к наружной периферии идет складка сетчатки, на периферии остаточные аваскулярные зоны</td>\n",
       "    </tr>\n",
       "    <tr>\n",
       "      <th>318</th>\n",
       "      <td>извитые</td>\n",
       "      <td>нормальная</td>\n",
       "      <td>ДЗН бледный, деколорирован с височной стороны, вены умеренно полнокровны, артерии извиты, центральные рефлексы сглажены, сетчатка бледная, на периферии узкие аваскулярные зоны сетчатки, зоны продолженного интраретинального роста сосудов</td>\n",
       "    </tr>\n",
       "    <tr>\n",
       "      <th>406</th>\n",
       "      <td>извитые</td>\n",
       "      <td>нормальная</td>\n",
       "      <td>ДЗН белдно-розовый, границы стушеваны, сосуды извиты, субретинальный эксудат по всему глазному дну, распрастраненная отслойка сетчатки на периферии, на периферии в наружном и нижнем сегментах множественные ангиоматозно расширенные сосуды и микроаневризмы</td>\n",
       "    </tr>\n",
       "    <tr>\n",
       "      <th>581</th>\n",
       "      <td>нормальная</td>\n",
       "      <td>извитые</td>\n",
       "      <td>ДЗН бледно-розовый, с четкими границами, ход и калибр сосудов не изменен, макулярный рефлекс четкий, на средней периферии в меридиане 9 час ангиоматозные узелочки с расширенными, извитыми приводящими сосудами. остальная сетчатка без очаговой патологии</td>\n",
       "    </tr>\n",
       "    <tr>\n",
       "      <th>586</th>\n",
       "      <td>нормальная</td>\n",
       "      <td>извитые</td>\n",
       "      <td>ДЗН бледный, проминирует, границы не прослеживаются, вены значительно расширены, извиты, артерии сужены, артериовенозные шунты, сетчатка в области заднего полюса отечны, эпиретинальный фиброз, точечные интраретинальные кровоизлияния, периферия без особенностей</td>\n",
       "    </tr>\n",
       "    <tr>\n",
       "      <th>719</th>\n",
       "      <td>нормальная</td>\n",
       "      <td>извитые</td>\n",
       "      <td>ДЗН –бледно-розовый, с четкими границами, сосудистый пучок в центре. Видны мелкие кистозно расширенные и извитые сосуды. Макулярная область – пигментированные очаги, в парамакулярной области- зоны точечного отложения экссудата. На периферии отслойка сетчатки на 7-13 часах в виде «пузырей». ДЗН –бледно-розовый, с четкими границами, сосудистый пучок в центре. Видны мелкие кистозно расширенные и извитые сосуды. Макулярная область – пигментированные очаги, в парамакулярной области- зоны точечного отложения экссудата. На периферии отслойка сетчатки на 7-13 часах в виде «пузырей».</td>\n",
       "    </tr>\n",
       "    <tr>\n",
       "      <th>728</th>\n",
       "      <td>извитые</td>\n",
       "      <td>нормальная</td>\n",
       "      <td>ДЗН бледно-розовый, границы четкие, артерии несколько сужены, извиты, макулярные рефлексы сглажены, в парамакулярной зоне с нижненаружной стороны и на периферии на 5ч ангиоматозно расширенные сосуды, преретинальные кровоизлияния, эпиретинальный фиброз</td>\n",
       "    </tr>\n",
       "    <tr>\n",
       "      <th>743</th>\n",
       "      <td>извитые</td>\n",
       "      <td>нормальная</td>\n",
       "      <td>ДЗН бледный, монотонный, тракционно деформирован, артерии извиты, полнокровны, от ДЗН к наружной периферии идет плоская складка сетчатки, на периферии остаточные аваскулярные зоны</td>\n",
       "    </tr>\n",
       "    <tr>\n",
       "      <th>775</th>\n",
       "      <td>нормальная</td>\n",
       "      <td>извитые</td>\n",
       "      <td>ДЗН бледный, колобома ДЗН, сосуды на периферии умеренно извиты, артерии сужены, центральные рефлексы практически отсутствуют, на периферии в наружном отделе множественные атрофические очаги с отложением пигмента, сетчатка бледная</td>\n",
       "    </tr>\n",
       "    <tr>\n",
       "      <th>779</th>\n",
       "      <td>извитые</td>\n",
       "      <td>нормальная</td>\n",
       "      <td>ДЗН овальной формы, с четкими границами, внутренний сегмент проминирует, экскавация до 0,9 ДД, артерии сужены, извиты, МЗ сглажена, видимая периферия без особенностей</td>\n",
       "    </tr>\n",
       "    <tr>\n",
       "      <th>848</th>\n",
       "      <td>извитые</td>\n",
       "      <td>нормальная</td>\n",
       "      <td>ДЗН овальной формы, с четкими границами, внутренний сегмент проминирует, экскавация до 0,8 ДД, артерии сужены, извиты, МЗ сглажена, видимая периферия без особенностей</td>\n",
       "    </tr>\n",
       "    <tr>\n",
       "      <th>876</th>\n",
       "      <td>нормальная</td>\n",
       "      <td>извитые</td>\n",
       "      <td>ДЗН розовый, границы четкие, в центре обширный очаг эксудации с сосудистыми мальформациямия и преретинальными кровоизлияниями. Вены извиты, расширены. В наружном отделе от 7 до 10ч - зоны эксудации с активными сосудистыми мальформациями. Старые пигментированные коагуляты по всему глазному дну, единичные отложения твердого эксудата</td>\n",
       "    </tr>\n",
       "    <tr>\n",
       "      <th>925</th>\n",
       "      <td>извитые</td>\n",
       "      <td>нормальная</td>\n",
       "      <td>ДЗН бледно-розовый, границы четкие, артерии извиты, макулярные рефлексы сглажены, в парамакулярной зоне с нижненаружной стороны единичные микроаневризмы и эпиретинальный фиброз, на периферии на 5ч пигментированные коагуляты</td>\n",
       "    </tr>\n",
       "    <tr>\n",
       "      <th>1012</th>\n",
       "      <td>нормальная</td>\n",
       "      <td>извитые</td>\n",
       "      <td>Д.з.н. – бледно-розовый, контуры четкие, в макулярной области субретинальный желтоватый экссудат, в виде «фигуры звезды», субретинальный экссудат в парамакулярной области и на средней периферии, в наружном квадранте извитые сосуды с множественными аневризмами Д.з.н. – бледно-розовый, контуры четкие, в макулярной области субретинальный желтоватый экссудат, в виде «фигуры звезды», субретинальный экссудат в парамакулярной области и на средней периферии, в наружном квадранте извитые сосуды с множественными аневризмами</td>\n",
       "    </tr>\n",
       "  </tbody>\n",
       "</table>\n",
       "</div>"
      ],
      "text/plain": [
       "     vessels_art_turtuosity  ...                                                                                                                                                                                                                                                                                                                                                                                                                                                                                                                                                                                                   text\n",
       "4                нормальная  ...                                                                                                                                                                                                                                                                                                                          ДЗН бледно-розовый, границы четкие, артерии несколько сужены, сосуды несколько извиты, смещены в височную сторону. Макуляные рефлексы сглажены, на периферии в наружних и нижних отделах (зона 2,3) аваскулярная зона, локальная отслойка сетчатки вдоль демаркационной линии\n",
       "23                  извитые  ...                                                                                                                                                                                                                                                                                                                                                                                                        ДЗН бледный, монотонный, границы четкие, артерии полнокровны, извиты, от ДЗН в наружной половине отслойка сетчатки в виде полиморфных складок сетчатки, множественные преретинальные помутнения\n",
       "94               нормальная  ...                                                                  Д.з.н. – бледно-розовый, контуры четкие, в макулярной области субретинальный желтоватый экссудат, в виде «фигуры звезды», субретинальный экссудат в парамакулярной области и на средней периферии, в наружном квадранте извитый сосуд с множественными аневризмами Д.з.н. – бледно-розовый, контуры четкие, в макулярной области субретинальный желтоватый экссудат, в виде «фигуры звезды», субретинальный экссудат в парамакулярной области и на средней периферии, в наружном квадранте извитый сосуд с множественными аневризмами\n",
       "234                 извитые  ...                                                                                                                                    ДЗН – бледный, монотонный, границы четкие, перипапиллярная пигментация, височный сдвиг сосудов, от ДЗН к наружной периферии идет складка сетчатки, концентрически закручивающ. на периферии , атрофические хориоретинальные очаги ДЗН – бледный, монотонный, границы четкие, перипапиллярная пигментация, височный сдвиг сосудов, от ДЗН к наружной периферии идет складка сетчатки, концентрически закручивающ. на периферии , атрофические хориоретинальные очаги\n",
       "307                 извитые  ...                                                                                                                                                                                                                                                                                                                                                                                                                            ДЗН бледный, монотонный, тракционно деформирован, артерии извиты, полнокровны, от ДЗН к наружной периферии идет складка сетчатки, на периферии остаточные аваскулярные зоны\n",
       "318                 извитые  ...                                                                                                                                                                                                                                                                                                                                                           ДЗН бледный, деколорирован с височной стороны, вены умеренно полнокровны, артерии извиты, центральные рефлексы сглажены, сетчатка бледная, на периферии узкие аваскулярные зоны сетчатки, зоны продолженного интраретинального роста сосудов\n",
       "406                 извитые  ...                                                                                                                                                                                                                                                                                                                                         ДЗН белдно-розовый, границы стушеваны, сосуды извиты, субретинальный эксудат по всему глазному дну, распрастраненная отслойка сетчатки на периферии, на периферии в наружном и нижнем сегментах множественные ангиоматозно расширенные сосуды и микроаневризмы\n",
       "581              нормальная  ...                                                                                                                                                                                                                                                                                                                                            ДЗН бледно-розовый, с четкими границами, ход и калибр сосудов не изменен, макулярный рефлекс четкий, на средней периферии в меридиане 9 час ангиоматозные узелочки с расширенными, извитыми приводящими сосудами. остальная сетчатка без очаговой патологии\n",
       "586              нормальная  ...                                                                                                                                                                                                                                                                                                                                   ДЗН бледный, проминирует, границы не прослеживаются, вены значительно расширены, извиты, артерии сужены, артериовенозные шунты, сетчатка в области заднего полюса отечны, эпиретинальный фиброз, точечные интраретинальные кровоизлияния, периферия без особенностей\n",
       "719              нормальная  ...  ДЗН –бледно-розовый, с четкими границами, сосудистый пучок в центре. Видны мелкие кистозно расширенные и извитые сосуды. Макулярная область – пигментированные очаги, в парамакулярной области- зоны точечного отложения экссудата. На периферии отслойка сетчатки на 7-13 часах в виде «пузырей». ДЗН –бледно-розовый, с четкими границами, сосудистый пучок в центре. Видны мелкие кистозно расширенные и извитые сосуды. Макулярная область – пигментированные очаги, в парамакулярной области- зоны точечного отложения экссудата. На периферии отслойка сетчатки на 7-13 часах в виде «пузырей».\n",
       "728                 извитые  ...                                                                                                                                                                                                                                                                                                                                            ДЗН бледно-розовый, границы четкие, артерии несколько сужены, извиты, макулярные рефлексы сглажены, в парамакулярной зоне с нижненаружной стороны и на периферии на 5ч ангиоматозно расширенные сосуды, преретинальные кровоизлияния, эпиретинальный фиброз\n",
       "743                 извитые  ...                                                                                                                                                                                                                                                                                                                                                                                                                    ДЗН бледный, монотонный, тракционно деформирован, артерии извиты, полнокровны, от ДЗН к наружной периферии идет плоская складка сетчатки, на периферии остаточные аваскулярные зоны\n",
       "775              нормальная  ...                                                                                                                                                                                                                                                                                                                                                                  ДЗН бледный, колобома ДЗН, сосуды на периферии умеренно извиты, артерии сужены, центральные рефлексы практически отсутствуют, на периферии в наружном отделе множественные атрофические очаги с отложением пигмента, сетчатка бледная\n",
       "779                 извитые  ...                                                                                                                                                                                                                                                                                                                                                                                                                                 ДЗН овальной формы, с четкими границами, внутренний сегмент проминирует, экскавация до 0,9 ДД, артерии сужены, извиты, МЗ сглажена, видимая периферия без особенностей\n",
       "848                 извитые  ...                                                                                                                                                                                                                                                                                                                                                                                                                                 ДЗН овальной формы, с четкими границами, внутренний сегмент проминирует, экскавация до 0,8 ДД, артерии сужены, извиты, МЗ сглажена, видимая периферия без особенностей\n",
       "876              нормальная  ...                                                                                                                                                                                                                                                           ДЗН розовый, границы четкие, в центре обширный очаг эксудации с сосудистыми мальформациямия и преретинальными кровоизлияниями. Вены извиты, расширены. В наружном отделе от 7 до 10ч - зоны эксудации с активными сосудистыми мальформациями. Старые пигментированные коагуляты по всему глазному дну, единичные отложения твердого эксудата\n",
       "925                 извитые  ...                                                                                                                                                                                                                                                                                                                                                                        ДЗН бледно-розовый, границы четкие, артерии извиты, макулярные рефлексы сглажены, в парамакулярной зоне с нижненаружной стороны единичные микроаневризмы и эпиретинальный фиброз, на периферии на 5ч пигментированные коагуляты\n",
       "1012             нормальная  ...                                                                Д.з.н. – бледно-розовый, контуры четкие, в макулярной области субретинальный желтоватый экссудат, в виде «фигуры звезды», субретинальный экссудат в парамакулярной области и на средней периферии, в наружном квадранте извитые сосуды с множественными аневризмами Д.з.н. – бледно-розовый, контуры четкие, в макулярной области субретинальный желтоватый экссудат, в виде «фигуры звезды», субретинальный экссудат в парамакулярной области и на средней периферии, в наружном квадранте извитые сосуды с множественными аневризмами\n",
       "\n",
       "[18 rows x 3 columns]"
      ]
     },
     "execution_count": 78,
     "metadata": {},
     "output_type": "execute_result"
    }
   ],
   "source": [
    "valid_descr[valid_descr['vessels_vein_turtuosity'] != valid_descr['vessels_art_turtuosity']][['vessels_art_turtuosity', 'vessels_vein_turtuosity',  'text']]"
   ]
  },
  {
   "cell_type": "markdown",
   "id": "4873ebf6-866e-4a43-a832-d8980cf2383e",
   "metadata": {},
   "source": [
    "В большинстве случаев расхождения действительно имеют место быть, однако, по моим оценкам есть неправильные расхождения в описаниях: 4, 406, 719, 775, 1012\n",
    "\n",
    "Во всех этих случаях должны быть извитые как вены, так и артерии, так как в описаниях в общем говорится об извитости сосудов."
   ]
  },
  {
   "cell_type": "code",
   "execution_count": 79,
   "id": "360dee85-ddde-4cb8-8c12-57f29afdfa4b",
   "metadata": {
    "execution": {
     "iopub.execute_input": "2025-03-17T15:39:30.313266Z",
     "iopub.status.busy": "2025-03-17T15:39:30.312047Z",
     "iopub.status.idle": "2025-03-17T15:39:30.341900Z",
     "shell.execute_reply": "2025-03-17T15:39:30.341117Z",
     "shell.execute_reply.started": "2025-03-17T15:39:30.313228Z"
    },
    "tags": []
   },
   "outputs": [
    {
     "data": {
      "text/html": [
       "<div>\n",
       "<style scoped>\n",
       "    .dataframe tbody tr th:only-of-type {\n",
       "        vertical-align: middle;\n",
       "    }\n",
       "\n",
       "    .dataframe tbody tr th {\n",
       "        vertical-align: top;\n",
       "    }\n",
       "\n",
       "    .dataframe thead th {\n",
       "        text-align: right;\n",
       "    }\n",
       "</style>\n",
       "<table border=\"1\" class=\"dataframe\">\n",
       "  <thead>\n",
       "    <tr style=\"text-align: right;\">\n",
       "      <th></th>\n",
       "      <th>vessels_art_turtuosity</th>\n",
       "      <th>vessels_vein_turtuosity</th>\n",
       "      <th>text</th>\n",
       "    </tr>\n",
       "  </thead>\n",
       "  <tbody>\n",
       "    <tr>\n",
       "      <th>4</th>\n",
       "      <td>нормальная</td>\n",
       "      <td>извитые</td>\n",
       "      <td>ДЗН бледно-розовый, границы четкие, артерии несколько сужены, сосуды несколько извиты, смещены в височную сторону. Макуляные рефлексы сглажены, на периферии в наружних и нижних отделах (зона 2,3) аваскулярная зона, локальная отслойка сетчатки вдоль демаркационной линии</td>\n",
       "    </tr>\n",
       "    <tr>\n",
       "      <th>406</th>\n",
       "      <td>извитые</td>\n",
       "      <td>нормальная</td>\n",
       "      <td>ДЗН белдно-розовый, границы стушеваны, сосуды извиты, субретинальный эксудат по всему глазному дну, распрастраненная отслойка сетчатки на периферии, на периферии в наружном и нижнем сегментах множественные ангиоматозно расширенные сосуды и микроаневризмы</td>\n",
       "    </tr>\n",
       "    <tr>\n",
       "      <th>719</th>\n",
       "      <td>нормальная</td>\n",
       "      <td>извитые</td>\n",
       "      <td>ДЗН –бледно-розовый, с четкими границами, сосудистый пучок в центре. Видны мелкие кистозно расширенные и извитые сосуды. Макулярная область – пигментированные очаги, в парамакулярной области- зоны точечного отложения экссудата. На периферии отслойка сетчатки на 7-13 часах в виде «пузырей». ДЗН –бледно-розовый, с четкими границами, сосудистый пучок в центре. Видны мелкие кистозно расширенные и извитые сосуды. Макулярная область – пигментированные очаги, в парамакулярной области- зоны точечного отложения экссудата. На периферии отслойка сетчатки на 7-13 часах в виде «пузырей».</td>\n",
       "    </tr>\n",
       "    <tr>\n",
       "      <th>775</th>\n",
       "      <td>нормальная</td>\n",
       "      <td>извитые</td>\n",
       "      <td>ДЗН бледный, колобома ДЗН, сосуды на периферии умеренно извиты, артерии сужены, центральные рефлексы практически отсутствуют, на периферии в наружном отделе множественные атрофические очаги с отложением пигмента, сетчатка бледная</td>\n",
       "    </tr>\n",
       "    <tr>\n",
       "      <th>1012</th>\n",
       "      <td>нормальная</td>\n",
       "      <td>извитые</td>\n",
       "      <td>Д.з.н. – бледно-розовый, контуры четкие, в макулярной области субретинальный желтоватый экссудат, в виде «фигуры звезды», субретинальный экссудат в парамакулярной области и на средней периферии, в наружном квадранте извитые сосуды с множественными аневризмами Д.з.н. – бледно-розовый, контуры четкие, в макулярной области субретинальный желтоватый экссудат, в виде «фигуры звезды», субретинальный экссудат в парамакулярной области и на средней периферии, в наружном квадранте извитые сосуды с множественными аневризмами</td>\n",
       "    </tr>\n",
       "  </tbody>\n",
       "</table>\n",
       "</div>"
      ],
      "text/plain": [
       "     vessels_art_turtuosity  ...                                                                                                                                                                                                                                                                                                                                                                                                                                                                                                                                                                                                   text\n",
       "4                нормальная  ...                                                                                                                                                                                                                                                                                                                          ДЗН бледно-розовый, границы четкие, артерии несколько сужены, сосуды несколько извиты, смещены в височную сторону. Макуляные рефлексы сглажены, на периферии в наружних и нижних отделах (зона 2,3) аваскулярная зона, локальная отслойка сетчатки вдоль демаркационной линии\n",
       "406                 извитые  ...                                                                                                                                                                                                                                                                                                                                         ДЗН белдно-розовый, границы стушеваны, сосуды извиты, субретинальный эксудат по всему глазному дну, распрастраненная отслойка сетчатки на периферии, на периферии в наружном и нижнем сегментах множественные ангиоматозно расширенные сосуды и микроаневризмы\n",
       "719              нормальная  ...  ДЗН –бледно-розовый, с четкими границами, сосудистый пучок в центре. Видны мелкие кистозно расширенные и извитые сосуды. Макулярная область – пигментированные очаги, в парамакулярной области- зоны точечного отложения экссудата. На периферии отслойка сетчатки на 7-13 часах в виде «пузырей». ДЗН –бледно-розовый, с четкими границами, сосудистый пучок в центре. Видны мелкие кистозно расширенные и извитые сосуды. Макулярная область – пигментированные очаги, в парамакулярной области- зоны точечного отложения экссудата. На периферии отслойка сетчатки на 7-13 часах в виде «пузырей».\n",
       "775              нормальная  ...                                                                                                                                                                                                                                                                                                                                                                  ДЗН бледный, колобома ДЗН, сосуды на периферии умеренно извиты, артерии сужены, центральные рефлексы практически отсутствуют, на периферии в наружном отделе множественные атрофические очаги с отложением пигмента, сетчатка бледная\n",
       "1012             нормальная  ...                                                                Д.з.н. – бледно-розовый, контуры четкие, в макулярной области субретинальный желтоватый экссудат, в виде «фигуры звезды», субретинальный экссудат в парамакулярной области и на средней периферии, в наружном квадранте извитые сосуды с множественными аневризмами Д.з.н. – бледно-розовый, контуры четкие, в макулярной области субретинальный желтоватый экссудат, в виде «фигуры звезды», субретинальный экссудат в парамакулярной области и на средней периферии, в наружном квадранте извитые сосуды с множественными аневризмами\n",
       "\n",
       "[5 rows x 3 columns]"
      ]
     },
     "execution_count": 79,
     "metadata": {},
     "output_type": "execute_result"
    }
   ],
   "source": [
    "valid_descr.loc[[4, 406, 719, 775, 1012]][['vessels_art_turtuosity', 'vessels_vein_turtuosity',  'text']]"
   ]
  },
  {
   "cell_type": "code",
   "execution_count": 80,
   "id": "e164ac83-19ad-4b0b-bd71-d0421e0fea70",
   "metadata": {
    "execution": {
     "iopub.execute_input": "2025-03-17T15:39:30.344099Z",
     "iopub.status.busy": "2025-03-17T15:39:30.343068Z",
     "iopub.status.idle": "2025-03-17T15:39:30.357592Z",
     "shell.execute_reply": "2025-03-17T15:39:30.356798Z",
     "shell.execute_reply.started": "2025-03-17T15:39:30.344038Z"
    },
    "tags": []
   },
   "outputs": [],
   "source": [
    "valid_descr.loc[[4, 406, 719, 775, 1012], 'vessels_art_turtuosity'] = 'извитые'\n",
    "valid_descr.loc[[4, 406, 719, 775, 1012], 'vessels_vein_turtuosity'] = 'извитые'"
   ]
  },
  {
   "cell_type": "markdown",
   "id": "df423896-c82a-4082-8aaf-91aec4b19008",
   "metadata": {
    "tags": []
   },
   "source": [
    "#### vessels_vein_bifurcation"
   ]
  },
  {
   "cell_type": "code",
   "execution_count": 81,
   "id": "ff5476ff-9514-4888-9fa1-2f54a17f67dc",
   "metadata": {
    "execution": {
     "iopub.execute_input": "2025-03-17T15:39:30.359102Z",
     "iopub.status.busy": "2025-03-17T15:39:30.358618Z",
     "iopub.status.idle": "2025-03-17T15:39:30.417843Z",
     "shell.execute_reply": "2025-03-17T15:39:30.417007Z",
     "shell.execute_reply.started": "2025-03-17T15:39:30.359047Z"
    },
    "tags": []
   },
   "outputs": [
    {
     "data": {
      "text/plain": [
       "array([' под острым углом ', 'nan', 'в норме', 'нормальная',\n",
       "       'под острым углом'], dtype=object)"
      ]
     },
     "execution_count": 81,
     "metadata": {},
     "output_type": "execute_result"
    }
   ],
   "source": [
    "valid_descr['vessels_vein_bifurcation'] = valid_descr['vessels_vein_bifurcation'].astype(str)\n",
    "vessels_vein_bifurcation_s = valid_descr['vessels_vein_bifurcation']\n",
    "np.unique(vessels_vein_bifurcation_s)"
   ]
  },
  {
   "cell_type": "markdown",
   "id": "8d6c2966-9851-409e-a6cb-146fb0d558a9",
   "metadata": {},
   "source": [
    "Системные значения: \n",
    "* нормальная\n",
    "* под острым углом\n",
    "* под тупым углом"
   ]
  },
  {
   "cell_type": "markdown",
   "id": "5a387431-9440-46aa-87a6-a882df74d9ea",
   "metadata": {},
   "source": [
    "В данном случае выделено моделью только 3 случае острого угла, хотя с артериями было 4."
   ]
  },
  {
   "cell_type": "code",
   "execution_count": 82,
   "id": "409bc1d4-1294-4ca7-94f3-b7a92699c6d8",
   "metadata": {
    "execution": {
     "iopub.execute_input": "2025-03-17T15:39:30.420357Z",
     "iopub.status.busy": "2025-03-17T15:39:30.418991Z",
     "iopub.status.idle": "2025-03-17T15:39:30.445977Z",
     "shell.execute_reply": "2025-03-17T15:39:30.445120Z",
     "shell.execute_reply.started": "2025-03-17T15:39:30.420304Z"
    },
    "tags": []
   },
   "outputs": [
    {
     "data": {
      "text/plain": [
       "352                                                                                                                                                                                                                                                                                                                                                                                                                                                                                  ДЗН бледно-розовый, монотонный, границы четкие, парапапиллярная пигментация, височный сдвиг сосудов (угол выхода сосудов 20гр), МЗ не дифференцируется, от ДЗН к наружней периферии идет нежный тяж, видимая периферия без особенностей\n",
       "374                                                                                                                                                                                                                                                                                                                                                                                                                                                                                                                                 ДЗН бледный, тракционно деформирован, угол выхода сосудов около 75 град, макула деформирована, смещена в височную сторону, на периферии множественные пигментированные сливные коагуляты\n",
       "602    Д.з.н. – бледный, монотонный, тракционно деформирован, угол между сосудистыми аркадами около 60 гр., макулярный рефлекс деформирован, вытянут по горизонтали, снаружи плоская отслойка сетчатки с преретинальными пленками, отграниченная лазер-коагулятами, преретинальные пленки в нижне-наружном отделе, на периферии аваскулярные зоны, сосуды сужены. Д.з.н. – бледный, монотонный, тракционно деформирован, угол между сосудистыми аркадами около 60 гр., макулярный рефлекс деформирован, вытянут по горизонтали, снаружи плоская отслойка сетчатки с преретинальными пленками, отграниченная лазер-коагулятами, преретинальные пленки в нижне-наружном отделе, на периферии аваскулярные зоны, сосуды сужены.\n",
       "Name: text, dtype: object"
      ]
     },
     "execution_count": 82,
     "metadata": {},
     "output_type": "execute_result"
    }
   ],
   "source": [
    "valid_descr[valid_descr['vessels_vein_bifurcation']=='под острым углом']['text']"
   ]
  },
  {
   "cell_type": "code",
   "execution_count": 83,
   "id": "7ad8bf40-76a3-47bf-8c3a-4c57434e1984",
   "metadata": {
    "execution": {
     "iopub.execute_input": "2025-03-17T15:39:30.448816Z",
     "iopub.status.busy": "2025-03-17T15:39:30.447387Z",
     "iopub.status.idle": "2025-03-17T15:39:30.471949Z",
     "shell.execute_reply": "2025-03-17T15:39:30.471073Z",
     "shell.execute_reply.started": "2025-03-17T15:39:30.448745Z"
    },
    "tags": []
   },
   "outputs": [
    {
     "data": {
      "text/plain": [
       "1019    ДЗН бледный, границы нечеткие, сосуды извиты, в МЗ твердый субретинальный эксудат, на периферии отложения субретинального эксудата, единичные ангиоматозно расширенные сосуды и микроаневризмы, пигментированные коагуляты, отграничивающие зоны эксудации ДЗН бледный, границы нечеткие, сосуды извиты, в МЗ твердый субретинальный эксудат, на периферии отложения субретинального эксудата, единичные ангиоматозно расширенные сосуды и микроаневризмы , пигментированные коагуляты, отграничивающие зоны эксудации\n",
       "Name: text, dtype: object"
      ]
     },
     "execution_count": 83,
     "metadata": {},
     "output_type": "execute_result"
    }
   ],
   "source": [
    "valid_descr[valid_descr['vessels_vein_bifurcation']==' под острым углом ']['text']"
   ]
  },
  {
   "cell_type": "code",
   "execution_count": 84,
   "id": "fa6d3ed9-b7fa-4b6f-a7e5-4981575d7dd5",
   "metadata": {
    "execution": {
     "iopub.execute_input": "2025-03-17T15:39:30.474898Z",
     "iopub.status.busy": "2025-03-17T15:39:30.473041Z",
     "iopub.status.idle": "2025-03-17T15:39:30.500314Z",
     "shell.execute_reply": "2025-03-17T15:39:30.499530Z",
     "shell.execute_reply.started": "2025-03-17T15:39:30.474849Z"
    },
    "tags": []
   },
   "outputs": [
    {
     "data": {
      "text/plain": [
       "нормальная            885\n",
       "под острым углом        3\n",
       "nan                     1\n",
       "в норме                 1\n",
       " под острым углом       1\n",
       "Name: vessels_vein_bifurcation, dtype: int64"
      ]
     },
     "execution_count": 84,
     "metadata": {},
     "output_type": "execute_result"
    }
   ],
   "source": [
    "vessels_vein_bifurcation_s.value_counts()"
   ]
  },
  {
   "cell_type": "code",
   "execution_count": 85,
   "id": "d78fcbca-d5d0-44bd-b115-c4e47f7f55b8",
   "metadata": {
    "execution": {
     "iopub.execute_input": "2025-03-17T15:39:30.501829Z",
     "iopub.status.busy": "2025-03-17T15:39:30.501279Z",
     "iopub.status.idle": "2025-03-17T15:39:30.538797Z",
     "shell.execute_reply": "2025-03-17T15:39:30.537325Z",
     "shell.execute_reply.started": "2025-03-17T15:39:30.501791Z"
    },
    "tags": []
   },
   "outputs": [
    {
     "data": {
      "text/plain": [
       "нормальная          888\n",
       "под острым углом      3\n",
       "Name: vessels_vein_bifurcation, dtype: int64"
      ]
     },
     "execution_count": 85,
     "metadata": {},
     "output_type": "execute_result"
    }
   ],
   "source": [
    "replacement_dict = {\n",
    "    \"nan\": \"нормальная\",\n",
    "    \"в норме\": \"нормальная\",\n",
    "    \" под острым углом \": \"нормальная\"\n",
    "}\n",
    "\n",
    "vessels_vein_bifurcation_s = vessels_vein_bifurcation_s.replace(replacement_dict)\n",
    "valid_descr.loc[:, 'vessels_vein_bifurcation'] = vessels_vein_bifurcation_s\n",
    "valid_descr['vessels_vein_bifurcation'].value_counts()"
   ]
  },
  {
   "cell_type": "markdown",
   "id": "094cba30-6d46-44aa-aac5-0c0e89671d14",
   "metadata": {},
   "source": [
    "В случаях расхождений значений, на основе текстовых описаний, следует написать бифуркацию == \"под острым углом\""
   ]
  },
  {
   "cell_type": "code",
   "execution_count": 86,
   "id": "38004b78-e73e-45a1-99b6-20170ec2bfd3",
   "metadata": {
    "execution": {
     "iopub.execute_input": "2025-03-17T15:39:30.540525Z",
     "iopub.status.busy": "2025-03-17T15:39:30.539864Z",
     "iopub.status.idle": "2025-03-17T15:39:30.568074Z",
     "shell.execute_reply": "2025-03-17T15:39:30.567197Z",
     "shell.execute_reply.started": "2025-03-17T15:39:30.540469Z"
    },
    "tags": []
   },
   "outputs": [
    {
     "data": {
      "text/html": [
       "<div>\n",
       "<style scoped>\n",
       "    .dataframe tbody tr th:only-of-type {\n",
       "        vertical-align: middle;\n",
       "    }\n",
       "\n",
       "    .dataframe tbody tr th {\n",
       "        vertical-align: top;\n",
       "    }\n",
       "\n",
       "    .dataframe thead th {\n",
       "        text-align: right;\n",
       "    }\n",
       "</style>\n",
       "<table border=\"1\" class=\"dataframe\">\n",
       "  <thead>\n",
       "    <tr style=\"text-align: right;\">\n",
       "      <th></th>\n",
       "      <th>vessels_art_bifurcation</th>\n",
       "      <th>vessels_vein_bifurcation</th>\n",
       "      <th>text</th>\n",
       "    </tr>\n",
       "  </thead>\n",
       "  <tbody>\n",
       "    <tr>\n",
       "      <th>352</th>\n",
       "      <td>нормальная</td>\n",
       "      <td>под острым углом</td>\n",
       "      <td>ДЗН бледно-розовый, монотонный, границы четкие, парапапиллярная пигментация, височный сдвиг сосудов (угол выхода сосудов 20гр), МЗ не дифференцируется, от ДЗН к наружней периферии идет нежный тяж, видимая периферия без особенностей</td>\n",
       "    </tr>\n",
       "    <tr>\n",
       "      <th>373</th>\n",
       "      <td>под острым углом</td>\n",
       "      <td>нормальная</td>\n",
       "      <td>ДЗН бледный, тракционно деформирован, угол выхода сосудов сужен, макула деформирована, смещена в височную сторону, рефлексы сглажены, на периферии множественные пигментированные сливные коагуляты</td>\n",
       "    </tr>\n",
       "    <tr>\n",
       "      <th>482</th>\n",
       "      <td>под острым углом</td>\n",
       "      <td>нормальная</td>\n",
       "      <td>ДЗН бледно-розовый, границы четкие, фиброзная складка над ДЗН, угол выхода сосудов уменьшен, МЗ не сформирована, гипопигментация сетчатки, в наружных отделах остаточные аваскулярные зоны</td>\n",
       "    </tr>\n",
       "  </tbody>\n",
       "</table>\n",
       "</div>"
      ],
      "text/plain": [
       "    vessels_art_bifurcation  ...                                                                                                                                                                                                                                     text\n",
       "352              нормальная  ...  ДЗН бледно-розовый, монотонный, границы четкие, парапапиллярная пигментация, височный сдвиг сосудов (угол выхода сосудов 20гр), МЗ не дифференцируется, от ДЗН к наружней периферии идет нежный тяж, видимая периферия без особенностей\n",
       "373        под острым углом  ...                                      ДЗН бледный, тракционно деформирован, угол выхода сосудов сужен, макула деформирована, смещена в височную сторону, рефлексы сглажены, на периферии множественные пигментированные сливные коагуляты\n",
       "482        под острым углом  ...                                               ДЗН бледно-розовый, границы четкие, фиброзная складка над ДЗН, угол выхода сосудов уменьшен, МЗ не сформирована, гипопигментация сетчатки, в наружных отделах остаточные аваскулярные зоны\n",
       "\n",
       "[3 rows x 3 columns]"
      ]
     },
     "execution_count": 86,
     "metadata": {},
     "output_type": "execute_result"
    }
   ],
   "source": [
    "valid_descr[valid_descr['vessels_vein_bifurcation'] != valid_descr['vessels_art_bifurcation']][['vessels_art_bifurcation', 'vessels_vein_bifurcation',  'text']]"
   ]
  },
  {
   "cell_type": "code",
   "execution_count": 87,
   "id": "56f1d25b-e9ef-45b6-b0b7-d67e9ac6606d",
   "metadata": {
    "execution": {
     "iopub.execute_input": "2025-03-17T15:39:30.569756Z",
     "iopub.status.busy": "2025-03-17T15:39:30.569138Z",
     "iopub.status.idle": "2025-03-17T15:39:30.620077Z",
     "shell.execute_reply": "2025-03-17T15:39:30.618404Z",
     "shell.execute_reply.started": "2025-03-17T15:39:30.569654Z"
    },
    "tags": []
   },
   "outputs": [],
   "source": [
    "valid_descr.loc[[352, 373, 482], 'vessels_art_bifurcation'] = 'под острым углом'\n",
    "valid_descr.loc[[352, 373, 482], 'vessels_vein_bifurcation'] = 'под острым углом'"
   ]
  },
  {
   "cell_type": "markdown",
   "id": "a33aae95-2057-4488-af32-f08344587e37",
   "metadata": {
    "tags": []
   },
   "source": [
    "#### vessels_vein_caliber"
   ]
  },
  {
   "cell_type": "code",
   "execution_count": 88,
   "id": "86e0eb43-9c3a-4ee3-9f6d-3aa1b719d9a1",
   "metadata": {
    "execution": {
     "iopub.execute_input": "2025-03-17T15:39:30.623150Z",
     "iopub.status.busy": "2025-03-17T15:39:30.621128Z",
     "iopub.status.idle": "2025-03-17T15:39:30.704563Z",
     "shell.execute_reply": "2025-03-17T15:39:30.703716Z",
     "shell.execute_reply.started": "2025-03-17T15:39:30.623108Z"
    },
    "tags": []
   },
   "outputs": [
    {
     "data": {
      "text/plain": [
       "array([\" нормальный};'}el'{virons inflammatory '\",\n",
       "       'ангиоматозно расширенный', 'ангиоматозноразширенный',\n",
       "       'значительно расширены', 'нарушен', 'нормальный', 'обеднены',\n",
       "       'полнокровны', 'полнокровные', 'полнокровный', 'расширенные',\n",
       "       'расширенный', 'резко расширенный', 'резко суженные',\n",
       "       'резко сужены', 'суженный', 'утолщенный', 'широкие', 'широкий'],\n",
       "      dtype=object)"
      ]
     },
     "execution_count": 88,
     "metadata": {},
     "output_type": "execute_result"
    }
   ],
   "source": [
    "valid_descr['vessels_vein_caliber'] = valid_descr['vessels_vein_caliber'].astype(str)\n",
    "vessels_vein_caliber_s = valid_descr['vessels_vein_caliber']\n",
    "np.unique(vessels_vein_caliber_s)"
   ]
  },
  {
   "cell_type": "markdown",
   "id": "b45d8f84-3426-4eda-9516-7dfb0ba4a12f",
   "metadata": {},
   "source": [
    "Системные значения: \n",
    "* нормальный \n",
    "* расширенный \n",
    "* суженный"
   ]
  },
  {
   "cell_type": "code",
   "execution_count": 89,
   "id": "b844e96b-760f-4501-98a0-3c5ef935c710",
   "metadata": {
    "execution": {
     "iopub.execute_input": "2025-03-17T15:39:30.708197Z",
     "iopub.status.busy": "2025-03-17T15:39:30.705532Z",
     "iopub.status.idle": "2025-03-17T15:39:30.810616Z",
     "shell.execute_reply": "2025-03-17T15:39:30.809715Z",
     "shell.execute_reply.started": "2025-03-17T15:39:30.708153Z"
    },
    "tags": []
   },
   "outputs": [
    {
     "data": {
      "text/plain": [
       "нормальный                                  722\n",
       "суженный                                     86\n",
       "расширенный                                  52\n",
       "полнокровны                                  11\n",
       "полнокровные                                  4\n",
       "полнокровный                                  3\n",
       "значительно расширены                         1\n",
       "утолщенный                                    1\n",
       "нарушен                                       1\n",
       "широкий                                       1\n",
       "ангиоматозноразширенный                       1\n",
       "резко сужены                                  1\n",
       "расширенные                                   1\n",
       "ангиоматозно расширенный                      1\n",
       "резко расширенный                             1\n",
       "резко суженные                                1\n",
       "широкие                                       1\n",
       "обеднены                                      1\n",
       " нормальный};'}el'{virons inflammatory '      1\n",
       "Name: vessels_vein_caliber, dtype: int64"
      ]
     },
     "execution_count": 89,
     "metadata": {},
     "output_type": "execute_result"
    }
   ],
   "source": [
    "vessels_vein_caliber_s.value_counts()"
   ]
  },
  {
   "cell_type": "code",
   "execution_count": 90,
   "id": "00fd1311-5734-4c4f-8b3e-11ab46a3aefa",
   "metadata": {
    "execution": {
     "iopub.execute_input": "2025-03-17T15:39:30.813099Z",
     "iopub.status.busy": "2025-03-17T15:39:30.811761Z",
     "iopub.status.idle": "2025-03-17T15:39:30.826281Z",
     "shell.execute_reply": "2025-03-17T15:39:30.825560Z",
     "shell.execute_reply.started": "2025-03-17T15:39:30.813061Z"
    },
    "tags": []
   },
   "outputs": [
    {
     "data": {
      "text/plain": [
       "1019    ДЗН бледный, границы нечеткие, сосуды извиты, в МЗ твердый субретинальный эксудат, на периферии отложения субретинального эксудата, единичные ангиоматозно расширенные сосуды и микроаневризмы, пигментированные коагуляты, отграничивающие зоны эксудации ДЗН бледный, границы нечеткие, сосуды извиты, в МЗ твердый субретинальный эксудат, на периферии отложения субретинального эксудата, единичные ангиоматозно расширенные сосуды и микроаневризмы , пигментированные коагуляты, отграничивающие зоны эксудации\n",
       "Name: text, dtype: object"
      ]
     },
     "execution_count": 90,
     "metadata": {},
     "output_type": "execute_result"
    }
   ],
   "source": [
    "valid_descr[valid_descr['vessels_vein_caliber']==\"\"\" нормальный};'}el'{virons inflammatory '\"\"\"]['text']"
   ]
  },
  {
   "cell_type": "code",
   "execution_count": 91,
   "id": "b540892b-a96d-482c-82f4-c236b4c16bad",
   "metadata": {
    "execution": {
     "iopub.execute_input": "2025-03-17T15:39:30.828613Z",
     "iopub.status.busy": "2025-03-17T15:39:30.827403Z",
     "iopub.status.idle": "2025-03-17T15:39:30.865727Z",
     "shell.execute_reply": "2025-03-17T15:39:30.864880Z",
     "shell.execute_reply.started": "2025-03-17T15:39:30.828569Z"
    },
    "tags": []
   },
   "outputs": [
    {
     "data": {
      "text/plain": [
       "777    ДЗН бледно-розовый монотонный, границы четкие, ход сосудов не изменен, вены широкие, МЗ и периферия без особенностей\n",
       "Name: text, dtype: object"
      ]
     },
     "execution_count": 91,
     "metadata": {},
     "output_type": "execute_result"
    }
   ],
   "source": [
    "valid_descr[valid_descr['vessels_vein_caliber']=='широкий']['text']"
   ]
  },
  {
   "cell_type": "code",
   "execution_count": 92,
   "id": "f7d3b695-ab83-47d6-8d24-78bbc1487683",
   "metadata": {
    "execution": {
     "iopub.execute_input": "2025-03-17T15:39:30.867464Z",
     "iopub.status.busy": "2025-03-17T15:39:30.866780Z",
     "iopub.status.idle": "2025-03-17T15:39:30.892428Z",
     "shell.execute_reply": "2025-03-17T15:39:30.891623Z",
     "shell.execute_reply.started": "2025-03-17T15:39:30.867405Z"
    },
    "tags": []
   },
   "outputs": [
    {
     "data": {
      "text/plain": [
       "137    ДЗН бледноват, наружные границы стушеваны, от него в наружный отдел идет высокий тяж фибро-васкулярный, крепящийся за хрусталиком в наружном отделе. остальная сетчатка с перераспределением пигмента, арефлексична, обеднена сосудами\n",
       "Name: text, dtype: object"
      ]
     },
     "execution_count": 92,
     "metadata": {},
     "output_type": "execute_result"
    }
   ],
   "source": [
    "valid_descr[valid_descr['vessels_vein_caliber']=='обеднены']['text']"
   ]
  },
  {
   "cell_type": "code",
   "execution_count": 93,
   "id": "dc8812c4-5781-43df-b659-514e0e36e714",
   "metadata": {
    "execution": {
     "iopub.execute_input": "2025-03-17T15:39:30.895369Z",
     "iopub.status.busy": "2025-03-17T15:39:30.893515Z",
     "iopub.status.idle": "2025-03-17T15:39:30.935954Z",
     "shell.execute_reply": "2025-03-17T15:39:30.935029Z",
     "shell.execute_reply.started": "2025-03-17T15:39:30.895312Z"
    },
    "tags": []
   },
   "outputs": [
    {
     "data": {
      "text/plain": [
       "нормальный     723\n",
       "суженный        88\n",
       "расширенный     79\n",
       "нарушен          1\n",
       "Name: vessels_vein_caliber, dtype: int64"
      ]
     },
     "execution_count": 93,
     "metadata": {},
     "output_type": "execute_result"
    }
   ],
   "source": [
    "replacement_dict = {\n",
    "    \"полнокровны\": \"расширенный\",\n",
    "    \"полнокровный\": \"расширенный\",\n",
    "    \"полнокровные\": \"расширенный\",\n",
    "    \"расширенные\": \"расширенный\",\n",
    "    \"значительно расширены\": \"расширенный\",\n",
    "    \"утолщенный\": \"расширенный\",\n",
    "    \"широкий\": \"расширенный\",\n",
    "    \"широкие\": \"расширенный\",\n",
    "    \"резко расширенный\": \"расширенный\",\n",
    "    \"ангиоматозно расширенный\": \"расширенный\",\n",
    "    \"ангиоматозноразширенный\": \"расширенный\",\n",
    "    \"несколько сужены\": \"суженный\",\n",
    "    \"резко суженный\": \"суженный\",\n",
    "    \"резко сужены\": \"суженный\",\n",
    "    \"резко суженные\": \"суженный\",\n",
    "    \"обеднены\": \"нормальный\",\n",
    "    \"\"\" нормальный};'}el'{virons inflammatory '\"\"\": \"расширенный\"\n",
    "}\n",
    "\n",
    "vessels_vein_caliber_s = vessels_vein_caliber_s.replace(replacement_dict)\n",
    "valid_descr.loc[:, 'vessels_vein_caliber'] = vessels_vein_caliber_s\n",
    "valid_descr['vessels_vein_caliber'].value_counts()"
   ]
  },
  {
   "cell_type": "markdown",
   "id": "a36ee5fd-e415-47a0-8843-c8d2dff22fcf",
   "metadata": {},
   "source": [
    "Наблюдается много расхождений калибра вен и сосудов, пока оставим так как есть."
   ]
  },
  {
   "cell_type": "code",
   "execution_count": 94,
   "id": "e364a0ee-8537-4228-bc3b-2e47d761acb1",
   "metadata": {
    "execution": {
     "iopub.execute_input": "2025-03-17T15:39:30.938243Z",
     "iopub.status.busy": "2025-03-17T15:39:30.937066Z",
     "iopub.status.idle": "2025-03-17T15:39:30.990349Z",
     "shell.execute_reply": "2025-03-17T15:39:30.989452Z",
     "shell.execute_reply.started": "2025-03-17T15:39:30.938202Z"
    },
    "tags": []
   },
   "outputs": [
    {
     "data": {
      "text/html": [
       "<div>\n",
       "<style scoped>\n",
       "    .dataframe tbody tr th:only-of-type {\n",
       "        vertical-align: middle;\n",
       "    }\n",
       "\n",
       "    .dataframe tbody tr th {\n",
       "        vertical-align: top;\n",
       "    }\n",
       "\n",
       "    .dataframe thead th {\n",
       "        text-align: right;\n",
       "    }\n",
       "</style>\n",
       "<table border=\"1\" class=\"dataframe\">\n",
       "  <thead>\n",
       "    <tr style=\"text-align: right;\">\n",
       "      <th></th>\n",
       "      <th>vessels_art_caliber</th>\n",
       "      <th>vessels_vein_caliber</th>\n",
       "      <th>text</th>\n",
       "    </tr>\n",
       "  </thead>\n",
       "  <tbody>\n",
       "    <tr>\n",
       "      <th>4</th>\n",
       "      <td>суженный</td>\n",
       "      <td>нормальный</td>\n",
       "      <td>ДЗН бледно-розовый, границы четкие, артерии несколько сужены, сосуды несколько извиты, смещены в височную сторону. Макуляные рефлексы сглажены, на периферии в наружних и нижних отделах (зона 2,3) аваскулярная зона, локальная отслойка сетчатки вдоль демаркационной линии</td>\n",
       "    </tr>\n",
       "    <tr>\n",
       "      <th>23</th>\n",
       "      <td>расширенный</td>\n",
       "      <td>нормальный</td>\n",
       "      <td>ДЗН бледный, монотонный, границы четкие, артерии полнокровны, извиты, от ДЗН в наружной половине отслойка сетчатки в виде полиморфных складок сетчатки, множественные преретинальные помутнения</td>\n",
       "    </tr>\n",
       "    <tr>\n",
       "      <th>44</th>\n",
       "      <td>нормальный</td>\n",
       "      <td>расширенный</td>\n",
       "      <td>ДЗН бледно-розовый, границы четкие. сосудистый пучок в центре. вены полнокровны. Эпиретинальные пленки на 5-6ч. Плоский ретиношизис на7 часах. Паравазальная мембрана на 5, 6, 8ч. Паравазальный экссудат на 6, 7 часах периферии. ДЗН бледно-розовый, границы четкие. сосудистый пучок в центре. вены полнокровны. Эпиретинальные пленки на 5-6ч. Плоский ретиношизис на7 часах. Паравазальная мембрана на 5, 6, 8ч. Паравазальный экссудат на 6, 7 часах периферии.</td>\n",
       "    </tr>\n",
       "    <tr>\n",
       "      <th>62</th>\n",
       "      <td>суженный</td>\n",
       "      <td>нормальный</td>\n",
       "      <td>ДЗН бледный, монотонный, границы четкие, сосуды резко сужены, грубые полиморфные изменения всех слоев гл.дна.макулярного и фовеолярного рефлексов нет.Дефекты пигментного и хориокаппиллярного слоя.</td>\n",
       "    </tr>\n",
       "    <tr>\n",
       "      <th>67</th>\n",
       "      <td>суженный</td>\n",
       "      <td>нормальный</td>\n",
       "      <td>ДЗН бледноватый, границы прослеживаются, артерии умеренно сужены, вал вдавления от 2 до 8 час., и старый отрывом от зубчатой линии на 4 – 6 час., старые лазеркоагуляты ДЗН бледноватый, границы прослеживаются, артерии умеренно сужены, вал вдавления от 2 до 8 час., и старый отрывом от зубчатой линии на 4 – 6 час., старые лазеркоагуляты</td>\n",
       "    </tr>\n",
       "    <tr>\n",
       "      <th>...</th>\n",
       "      <td>...</td>\n",
       "      <td>...</td>\n",
       "      <td>...</td>\n",
       "    </tr>\n",
       "    <tr>\n",
       "      <th>973</th>\n",
       "      <td>суженный</td>\n",
       "      <td>расширенный</td>\n",
       "      <td>ДЗН бледно-розовый, овальной формы, границы четкие, назальная часть несколько проминирует в стекловидное тело, глубокая экскавация 0,5 ДД. Сосуды извиты, артерии сужены, вены расширены, МЗ и периферия без особенностей</td>\n",
       "    </tr>\n",
       "    <tr>\n",
       "      <th>1004</th>\n",
       "      <td>нормальный</td>\n",
       "      <td>расширенный</td>\n",
       "      <td>За флером, ДЗН бледно-розовый, границы четкие, вены полнокровны, макулярный рефлекс сглажен, детали не визуализируются</td>\n",
       "    </tr>\n",
       "    <tr>\n",
       "      <th>1011</th>\n",
       "      <td>суженный</td>\n",
       "      <td>расширенный</td>\n",
       "      <td>ДЗН бледный, монотонный, границы с внутренней стороны сглажены, артерии несколько сужены, вены полнокровны, макулярные рефлексы сглажены, в МЗ диссоциация пигмента, периферия без особенностей</td>\n",
       "    </tr>\n",
       "    <tr>\n",
       "      <th>1013</th>\n",
       "      <td>суженный</td>\n",
       "      <td>нормальный</td>\n",
       "      <td>ДЗН блдено-розовый, границы четкие, тракционно деформирован, артерии несколько сужены, ектопия МЗ, на периферии аваскулярные зоны, на 8-10ч локальная отслойка сетчатки, на 8-8:30 2а атрофических хороиретинальных очага, к которым подходят ангиоматозно расширенные сосуды</td>\n",
       "    </tr>\n",
       "    <tr>\n",
       "      <th>1015</th>\n",
       "      <td>нормальный</td>\n",
       "      <td>расширенный</td>\n",
       "      <td>ДЗН бледный, монотоный, уменьшен в диаметре, границы четкие, перипапиллярная пигментация. Ход сосудов не изменен, вены полнокровны. Макулярные рефлексы сглажены. Периферия без очаговой патологии.</td>\n",
       "    </tr>\n",
       "  </tbody>\n",
       "</table>\n",
       "<p>100 rows × 3 columns</p>\n",
       "</div>"
      ],
      "text/plain": [
       "     vessels_art_caliber  ...                                                                                                                                                                                                                                                                                                                                                                                                                                                                   text\n",
       "4               суженный  ...                                                                                                                                                                                          ДЗН бледно-розовый, границы четкие, артерии несколько сужены, сосуды несколько извиты, смещены в височную сторону. Макуляные рефлексы сглажены, на периферии в наружних и нижних отделах (зона 2,3) аваскулярная зона, локальная отслойка сетчатки вдоль демаркационной линии\n",
       "23           расширенный  ...                                                                                                                                                                                                                                                                        ДЗН бледный, монотонный, границы четкие, артерии полнокровны, извиты, от ДЗН в наружной половине отслойка сетчатки в виде полиморфных складок сетчатки, множественные преретинальные помутнения\n",
       "44            нормальный  ...  ДЗН бледно-розовый, границы четкие. сосудистый пучок в центре. вены полнокровны. Эпиретинальные пленки на 5-6ч. Плоский ретиношизис на7 часах. Паравазальная мембрана на 5, 6, 8ч. Паравазальный экссудат на 6, 7 часах периферии. ДЗН бледно-розовый, границы четкие. сосудистый пучок в центре. вены полнокровны. Эпиретинальные пленки на 5-6ч. Плоский ретиношизис на7 часах. Паравазальная мембрана на 5, 6, 8ч. Паравазальный экссудат на 6, 7 часах периферии.\n",
       "62              суженный  ...                                                                                                                                                                                                                                                                   ДЗН бледный, монотонный, границы четкие, сосуды резко сужены, грубые полиморфные изменения всех слоев гл.дна.макулярного и фовеолярного рефлексов нет.Дефекты пигментного и хориокаппиллярного слоя.\n",
       "67              суженный  ...                                                                                                                        ДЗН бледноватый, границы прослеживаются, артерии умеренно сужены, вал вдавления от 2 до 8 час., и старый отрывом от зубчатой линии на 4 – 6 час., старые лазеркоагуляты ДЗН бледноватый, границы прослеживаются, артерии умеренно сужены, вал вдавления от 2 до 8 час., и старый отрывом от зубчатой линии на 4 – 6 час., старые лазеркоагуляты\n",
       "...                  ...  ...                                                                                                                                                                                                                                                                                                                                                                                                                                                                    ...\n",
       "973             суженный  ...                                                                                                                                                                                                                                              ДЗН бледно-розовый, овальной формы, границы четкие, назальная часть несколько проминирует в стекловидное тело, глубокая экскавация 0,5 ДД. Сосуды извиты, артерии сужены, вены расширены, МЗ и периферия без особенностей\n",
       "1004          нормальный  ...                                                                                                                                                                                                                                                                                                                                                 За флером, ДЗН бледно-розовый, границы четкие, вены полнокровны, макулярный рефлекс сглажен, детали не визуализируются\n",
       "1011            суженный  ...                                                                                                                                                                                                                                                                        ДЗН бледный, монотонный, границы с внутренней стороны сглажены, артерии несколько сужены, вены полнокровны, макулярные рефлексы сглажены, в МЗ диссоциация пигмента, периферия без особенностей\n",
       "1013            суженный  ...                                                                                                                                                                                          ДЗН блдено-розовый, границы четкие, тракционно деформирован, артерии несколько сужены, ектопия МЗ, на периферии аваскулярные зоны, на 8-10ч локальная отслойка сетчатки, на 8-8:30 2а атрофических хороиретинальных очага, к которым подходят ангиоматозно расширенные сосуды\n",
       "1015          нормальный  ...                                                                                                                                                                                                                                                                    ДЗН бледный, монотоный, уменьшен в диаметре, границы четкие, перипапиллярная пигментация. Ход сосудов не изменен, вены полнокровны. Макулярные рефлексы сглажены. Периферия без очаговой патологии.\n",
       "\n",
       "[100 rows x 3 columns]"
      ]
     },
     "execution_count": 94,
     "metadata": {},
     "output_type": "execute_result"
    }
   ],
   "source": [
    "valid_descr[valid_descr['vessels_vein_caliber'] != valid_descr['vessels_art_caliber']][['vessels_art_caliber', 'vessels_vein_caliber',  'text']]"
   ]
  },
  {
   "cell_type": "markdown",
   "id": "843b2b02-f728-4914-8706-09d8c8f2cb0b",
   "metadata": {
    "execution": {
     "iopub.execute_input": "2025-03-04T12:49:45.745069Z",
     "iopub.status.busy": "2025-03-04T12:49:45.744181Z",
     "iopub.status.idle": "2025-03-04T12:49:45.772173Z",
     "shell.execute_reply": "2025-03-04T12:49:45.771403Z",
     "shell.execute_reply.started": "2025-03-04T12:49:45.745029Z"
    },
    "jp-MarkdownHeadingCollapsed": true,
    "tags": []
   },
   "source": [
    "### vessels_ratio"
   ]
  },
  {
   "cell_type": "code",
   "execution_count": 95,
   "id": "1af15860-41ce-419e-b878-b6787abab054",
   "metadata": {
    "execution": {
     "iopub.execute_input": "2025-03-17T15:39:30.993019Z",
     "iopub.status.busy": "2025-03-17T15:39:30.991467Z",
     "iopub.status.idle": "2025-03-17T15:39:31.043206Z",
     "shell.execute_reply": "2025-03-17T15:39:31.042371Z",
     "shell.execute_reply.started": "2025-03-17T15:39:30.992978Z"
    },
    "tags": []
   },
   "outputs": [
    {
     "data": {
      "text/plain": [
       "array(['-', '.', '.None', '.ov', '/', '/None', '1:1,5', '1:1.5', '2:3',\n",
       "       ':', ': ', 'nan', 'А:В= 1:1,5', 'А:В=1:1.5',\n",
       "       'Ангиоматозно расширенные сосуды и микроаневризмы в верхне-наружном, наружном и внутреннем сегментах.',\n",
       "       'Высокая сосудистая активность', 'Не указано.',\n",
       "       'Недостаточное кровоснабжение.',\n",
       "       'Отношение артерий и вен изменено, артерий мало и они сужены.',\n",
       "       'Сетчатка обеднена сосудами',\n",
       "       'Сосуды тракционно деформированы в височном направлении.',\n",
       "       'Сужены резко артерии',\n",
       "       'Тракционная деформация сосудов в височном направлении.',\n",
       "       'Умеренно суженные сосуды', 'активные сосуды',\n",
       "       'артерии и вены бедно выражены', 'артериовенозные шунты',\n",
       "       'более активные сосуды', 'вены полнокровны', 'височный сдвиг',\n",
       "       'множественные ангиоматозно расширенные сосуды и микроаневризмы в верхнем отделе',\n",
       "       'резкое сужение всех сосудов', 'сетка обеднена сосудами',\n",
       "       'сосуды сужены', 'суженные артерии', 'умеренно полнокровны'],\n",
       "      dtype=object)"
      ]
     },
     "execution_count": 95,
     "metadata": {},
     "output_type": "execute_result"
    }
   ],
   "source": [
    "valid_descr['vessels_ratio'] = valid_descr['vessels_ratio'].astype(str)\n",
    "vessels_ratio_s = valid_descr['vessels_ratio']\n",
    "np.unique(vessels_ratio_s)"
   ]
  },
  {
   "cell_type": "markdown",
   "id": "f29a9681-6feb-43b6-b203-244a6473bc67",
   "metadata": {},
   "source": [
    "Сюда что-то моделька выписавала всё подряд, но при этом есть и разумные значения, 1:1.5 и 2:3, при этом мы обсуждали, что нормальным соотношением как раз является 2:3. "
   ]
  },
  {
   "cell_type": "code",
   "execution_count": 96,
   "id": "7c0a0c62-a2c6-4bf5-ab01-941b0365ca6e",
   "metadata": {
    "execution": {
     "iopub.execute_input": "2025-03-17T15:39:31.045563Z",
     "iopub.status.busy": "2025-03-17T15:39:31.044657Z",
     "iopub.status.idle": "2025-03-17T15:39:31.082307Z",
     "shell.execute_reply": "2025-03-17T15:39:31.081301Z",
     "shell.execute_reply.started": "2025-03-17T15:39:31.045525Z"
    },
    "tags": []
   },
   "outputs": [
    {
     "data": {
      "text/plain": [
       "nan                                                                                                     849\n",
       "А:В=1:1.5                                                                                                 5\n",
       ".                                                                                                         3\n",
       "2:3                                                                                                       2\n",
       "Умеренно суженные сосуды                                                                                  1\n",
       "вены полнокровны                                                                                          1\n",
       "суженные артерии                                                                                          1\n",
       "Сосуды тракционно деформированы в височном направлении.                                                   1\n",
       "умеренно полнокровны                                                                                      1\n",
       "резкое сужение всех сосудов                                                                               1\n",
       "Отношение артерий и вен изменено, артерий мало и они сужены.                                              1\n",
       ".None                                                                                                     1\n",
       "множественные ангиоматозно расширенные сосуды и микроаневризмы в верхнем отделе                           1\n",
       "Ангиоматозно расширенные сосуды и микроаневризмы в верхне-наружном, наружном и внутреннем сегментах.      1\n",
       "/                                                                                                         1\n",
       "/None                                                                                                     1\n",
       "-                                                                                                         1\n",
       "сосуды сужены                                                                                             1\n",
       "Сужены резко артерии                                                                                      1\n",
       "Сетчатка обеднена сосудами                                                                                1\n",
       "артериовенозные шунты                                                                                     1\n",
       "артерии и вены бедно выражены                                                                             1\n",
       "активные сосуды                                                                                           1\n",
       "Высокая сосудистая активность                                                                             1\n",
       ":                                                                                                         1\n",
       "Тракционная деформация сосудов в височном направлении.                                                    1\n",
       "1:1.5                                                                                                     1\n",
       "височный сдвиг                                                                                            1\n",
       "Не указано.                                                                                               1\n",
       ".ov                                                                                                       1\n",
       "сетка обеднена сосудами                                                                                   1\n",
       "Недостаточное кровоснабжение.                                                                             1\n",
       "более активные сосуды                                                                                     1\n",
       ":                                                                                                         1\n",
       "1:1,5                                                                                                     1\n",
       "А:В= 1:1,5                                                                                                1\n",
       "Name: vessels_ratio, dtype: int64"
      ]
     },
     "execution_count": 96,
     "metadata": {},
     "output_type": "execute_result"
    }
   ],
   "source": [
    "vessels_ratio_s.value_counts()"
   ]
  },
  {
   "cell_type": "markdown",
   "id": "2537f1b5-a91d-4386-b5fd-8a8fe2b48590",
   "metadata": {},
   "source": [
    "Так как в тех случаях, где нормально указано соотношение А:В оно соответствует норме, то присвоим вообще всем значениям показатель нормы. "
   ]
  },
  {
   "cell_type": "code",
   "execution_count": 97,
   "id": "5210c34d-7fa7-49eb-9a0d-8cce12281b1e",
   "metadata": {
    "execution": {
     "iopub.execute_input": "2025-03-17T15:39:31.085022Z",
     "iopub.status.busy": "2025-03-17T15:39:31.083337Z",
     "iopub.status.idle": "2025-03-17T15:39:31.102305Z",
     "shell.execute_reply": "2025-03-17T15:39:31.101511Z",
     "shell.execute_reply.started": "2025-03-17T15:39:31.084978Z"
    },
    "tags": []
   },
   "outputs": [],
   "source": [
    "valid_descr.loc[:, 'vessels_ratio'] = '2:3'"
   ]
  },
  {
   "cell_type": "markdown",
   "id": "4105cea1-c4e4-42b8-ae8f-e40203064ea7",
   "metadata": {
    "execution": {
     "iopub.execute_input": "2025-03-04T13:18:58.884080Z",
     "iopub.status.busy": "2025-03-04T13:18:58.883002Z",
     "iopub.status.idle": "2025-03-04T13:18:58.897075Z",
     "shell.execute_reply": "2025-03-04T13:18:58.896344Z",
     "shell.execute_reply.started": "2025-03-04T13:18:58.884039Z"
    },
    "tags": []
   },
   "source": [
    "## Macula"
   ]
  },
  {
   "cell_type": "markdown",
   "id": "43431dc6-0151-4e85-95d0-58d81690ace9",
   "metadata": {
    "tags": []
   },
   "source": [
    "#### macula_macular_reflex"
   ]
  },
  {
   "cell_type": "code",
   "execution_count": 98,
   "id": "f6bfaeca-98f1-4af4-901d-af1b8cf25406",
   "metadata": {
    "execution": {
     "iopub.execute_input": "2025-03-17T15:39:31.104273Z",
     "iopub.status.busy": "2025-03-17T15:39:31.103420Z",
     "iopub.status.idle": "2025-03-17T15:39:31.120091Z",
     "shell.execute_reply": "2025-03-17T15:39:31.118665Z",
     "shell.execute_reply.started": "2025-03-17T15:39:31.104220Z"
    },
    "tags": []
   },
   "outputs": [
    {
     "data": {
      "text/plain": [
       "array([' сглаженный', '/', 'MZ – не дифференцируется', 'nan',\n",
       "       'subclass alignertractions extended.', 'арефлексична',\n",
       "       'выраженный', 'выражены', 'гиперпигментирована', 'гипопластична',\n",
       "       'гладкая', 'гладкий', 'дистрофические желтоватые очаги',\n",
       "       'желточная', 'кистовидные изменения', 'не нормален',\n",
       "       'немного расширен', 'нормальный',\n",
       "       'обширный проминирующий очаг с субретинальным экссудатом',\n",
       "       'ослаблен', 'ослаблены', 'отсутствует', 'подавлен', 'растушеваны',\n",
       "       'расширен', 'расширена', 'расширены', 'сглажен', 'сглажена',\n",
       "       'сглаженные', 'сглаженный', 'сглажены', 'сильно сглажен',\n",
       "       'складчатый', 'суженый', 'четкие', 'четкий'], dtype=object)"
      ]
     },
     "execution_count": 98,
     "metadata": {},
     "output_type": "execute_result"
    }
   ],
   "source": [
    "valid_descr['macula_macular_reflex'] = valid_descr['macula_macular_reflex'].astype(str)\n",
    "macula_macular_reflex_s = valid_descr['macula_macular_reflex']\n",
    "np.unique(macula_macular_reflex_s)"
   ]
  },
  {
   "cell_type": "markdown",
   "id": "b73deed0-b84a-4185-ab21-fc1a1a95cf28",
   "metadata": {},
   "source": [
    "Системные значения: \n",
    "* отсутсвует \n",
    "* нормальный \n",
    "* сглаженный"
   ]
  },
  {
   "cell_type": "code",
   "execution_count": 99,
   "id": "2a772c55-3f47-4cad-90a2-7ce7e5da08d8",
   "metadata": {
    "execution": {
     "iopub.execute_input": "2025-03-17T15:39:31.122284Z",
     "iopub.status.busy": "2025-03-17T15:39:31.121054Z",
     "iopub.status.idle": "2025-03-17T15:39:31.137032Z",
     "shell.execute_reply": "2025-03-17T15:39:31.136227Z",
     "shell.execute_reply.started": "2025-03-17T15:39:31.122195Z"
    },
    "tags": []
   },
   "outputs": [
    {
     "data": {
      "text/plain": [
       "нормальный                                                 576\n",
       "гладкий                                                    126\n",
       "отсутствует                                                 83\n",
       "сглаженный                                                  27\n",
       "сглажен                                                     15\n",
       "сглажена                                                    11\n",
       "nan                                                         10\n",
       "сглажены                                                     8\n",
       "выражены                                                     3\n",
       "четкий                                                       3\n",
       "немного расширен                                             2\n",
       "гиперпигментирована                                          2\n",
       "растушеваны                                                  1\n",
       "MZ – не дифференцируется                                     1\n",
       "выраженный                                                   1\n",
       "ослаблен                                                     1\n",
       "сильно сглажен                                               1\n",
       "сглаженные                                                   1\n",
       "ослаблены                                                    1\n",
       "расширены                                                    1\n",
       "/                                                            1\n",
       "суженый                                                      1\n",
       "расширена                                                    1\n",
       " сглаженный                                                  1\n",
       "дистрофические желтоватые очаги                              1\n",
       "обширный проминирующий очаг с субретинальным экссудатом      1\n",
       "кистовидные изменения                                        1\n",
       "желточная                                                    1\n",
       "гладкая                                                      1\n",
       "складчатый                                                   1\n",
       "подавлен                                                     1\n",
       "арефлексична                                                 1\n",
       "четкие                                                       1\n",
       "расширен                                                     1\n",
       "гипопластична                                                1\n",
       "не нормален                                                  1\n",
       "subclass alignertractions extended.                          1\n",
       "Name: macula_macular_reflex, dtype: int64"
      ]
     },
     "execution_count": 99,
     "metadata": {},
     "output_type": "execute_result"
    }
   ],
   "source": [
    "macula_macular_reflex_s.value_counts()"
   ]
  },
  {
   "cell_type": "code",
   "execution_count": 100,
   "id": "7edb1038-4d75-4be9-b270-9df73cd7bba4",
   "metadata": {
    "execution": {
     "iopub.execute_input": "2025-03-17T15:39:31.143778Z",
     "iopub.status.busy": "2025-03-17T15:39:31.142645Z",
     "iopub.status.idle": "2025-03-17T15:39:31.165842Z",
     "shell.execute_reply": "2025-03-17T15:39:31.164962Z",
     "shell.execute_reply.started": "2025-03-17T15:39:31.143733Z"
    },
    "tags": []
   },
   "outputs": [
    {
     "data": {
      "text/plain": [
       "1019    ДЗН бледный, границы нечеткие, сосуды извиты, в МЗ твердый субретинальный эксудат, на периферии отложения субретинального эксудата, единичные ангиоматозно расширенные сосуды и микроаневризмы, пигментированные коагуляты, отграничивающие зоны эксудации ДЗН бледный, границы нечеткие, сосуды извиты, в МЗ твердый субретинальный эксудат, на периферии отложения субретинального эксудата, единичные ангиоматозно расширенные сосуды и микроаневризмы , пигментированные коагуляты, отграничивающие зоны эксудации\n",
       "Name: text, dtype: object"
      ]
     },
     "execution_count": 100,
     "metadata": {},
     "output_type": "execute_result"
    }
   ],
   "source": [
    "valid_descr[valid_descr['macula_macular_reflex']=='subclass alignertractions extended.']['text']"
   ]
  },
  {
   "cell_type": "code",
   "execution_count": 101,
   "id": "7027f834-232c-4df1-9bd5-abe798938570",
   "metadata": {
    "execution": {
     "iopub.execute_input": "2025-03-17T15:39:31.169060Z",
     "iopub.status.busy": "2025-03-17T15:39:31.166892Z",
     "iopub.status.idle": "2025-03-17T15:39:31.264831Z",
     "shell.execute_reply": "2025-03-17T15:39:31.263742Z",
     "shell.execute_reply.started": "2025-03-17T15:39:31.169003Z"
    },
    "tags": []
   },
   "outputs": [
    {
     "data": {
      "text/plain": [
       "нормальный     730\n",
       "отсутствует     91\n",
       "сглаженный      70\n",
       "Name: macula_macular_reflex, dtype: int64"
      ]
     },
     "execution_count": 101,
     "metadata": {},
     "output_type": "execute_result"
    }
   ],
   "source": [
    "replacement_dict = {\n",
    "    \"четкий\": \"нормальный\",\n",
    "    \"четкие\": \"нормальный\",\n",
    "    \"выражены\": \"нормальный\",\n",
    "    \"выраженный\": \"нормальный\",\n",
    "    \"гладкий\": \"нормальный\",\n",
    "    \"гладкая\": \"нормальный\",\n",
    "    \"немного расширен\": \"нормальный\",\n",
    "    \"расширен\": \"нормальный\",\n",
    "    \"расширены\": \"нормальный\",\n",
    "    \"расширена\": \"нормальный\",\n",
    "    \"гиперпигментирована\": \"нормальный\",\n",
    "    \"желточная\": \"нормальный\",\n",
    "    \"nan\": \"нормальный\",\n",
    "    \"/\": \"нормальный\",\n",
    "\n",
    "    \"отсутствует\": \"отсутствует\",\n",
    "    \"MZ – не дифференцируется\": \"отсутствует\",\n",
    "    \"арефлексична\": \"отсутствует\",\n",
    "    \"не нормален\": \"отсутствует\",\n",
    "\n",
    "    \"сглаженный\": \"сглаженный\",\n",
    "    \"сглажен\": \"сглаженный\",\n",
    "    \"сглажена\": \"сглаженный\",\n",
    "    \"сглажены\": \"сглаженный\",\n",
    "    \"сглаженные\": \"сглаженный\",\n",
    "    \"сильно сглажен\": \"сглаженный\",\n",
    "    \"растушеваны\": \"сглаженный\",\n",
    "    \"ослаблен\": \"сглаженный\",\n",
    "    \"ослаблены\": \"сглаженный\",\n",
    "    \"подавлен\": \"сглаженный\",\n",
    "    \"складчатый\": \"сглаженный\",\n",
    "    \" сглаженный\": \"сглаженный\",  # Учитываем ошибочный пробел\n",
    "    \"суженый\": \"сглаженный\",  # Суженный рефлекс можно считать сглаженным\n",
    "\n",
    "    # Малораспространенные и непонятные описания — относим к \"отсутствует\"\n",
    "    \"дистрофические желтоватые очаги\": \"отсутствует\",\n",
    "    \"обширный проминирующий очаг с субретинальным экссудатом\": \"отсутствует\",\n",
    "    \"кистовидные изменения\": \"отсутствует\",\n",
    "    \"гипопластична\": \"отсутствует\",\n",
    "    \"subclass alignertractions extended.\": \"отсутствует\",\n",
    "}\n",
    "\n",
    "\n",
    "macula_macular_reflex_s = macula_macular_reflex_s.replace(replacement_dict)\n",
    "valid_descr.loc[:, 'macula_macular_reflex'] = macula_macular_reflex_s\n",
    "valid_descr['macula_macular_reflex'].value_counts()"
   ]
  },
  {
   "cell_type": "markdown",
   "id": "55130802-3c5d-41c1-a8f3-73371bcc8dfa",
   "metadata": {
    "execution": {
     "iopub.execute_input": "2025-03-04T15:44:37.932604Z",
     "iopub.status.busy": "2025-03-04T15:44:37.931664Z",
     "iopub.status.idle": "2025-03-04T15:44:37.948218Z",
     "shell.execute_reply": "2025-03-04T15:44:37.947542Z",
     "shell.execute_reply.started": "2025-03-04T15:44:37.932563Z"
    },
    "tags": []
   },
   "source": [
    "### macula_foveal_reflex"
   ]
  },
  {
   "cell_type": "code",
   "execution_count": 102,
   "id": "32aa96e4-dfb5-4c38-8d7c-addaf4d45cd4",
   "metadata": {
    "execution": {
     "iopub.execute_input": "2025-03-17T15:47:20.365139Z",
     "iopub.status.busy": "2025-03-17T15:47:20.363755Z",
     "iopub.status.idle": "2025-03-17T15:47:20.382148Z",
     "shell.execute_reply": "2025-03-17T15:47:20.381359Z",
     "shell.execute_reply.started": "2025-03-17T15:47:20.365091Z"
    },
    "tags": []
   },
   "outputs": [
    {
     "data": {
      "text/plain": [
       "array([' отсутствует', '/', 'nan', \"o],' cndigo 'ecoquenc\", 'выражен',\n",
       "       'выраженный', 'выражены', 'гиперпигментирована',\n",
       "       'гиперпигментированная', 'гладкий', 'деформированы',\n",
       "       'дистрофические желтоватые очаги', 'крапчатость', 'нормальный',\n",
       "       'отсутствует', 'растушеваны', 'розовый', 'сглажен', 'сглажена',\n",
       "       'сглаженные', 'сглаженный', 'сглажены', 'сильно сглажен',\n",
       "       'суженый', 'темный точечный фокус'], dtype=object)"
      ]
     },
     "execution_count": 102,
     "metadata": {},
     "output_type": "execute_result"
    }
   ],
   "source": [
    "valid_descr['macula_foveal_reflex'] = valid_descr['macula_foveal_reflex'].astype(str)\n",
    "macula_foveal_reflex_s = valid_descr['macula_foveal_reflex']\n",
    "np.unique(macula_foveal_reflex_s)"
   ]
  },
  {
   "cell_type": "markdown",
   "id": "8b5a8df7-848c-4474-99da-6b967927842d",
   "metadata": {},
   "source": [
    "Системные значения: \n",
    "* отсутсвует \n",
    "* нормальный \n",
    "* сглаженный"
   ]
  },
  {
   "cell_type": "code",
   "execution_count": 103,
   "id": "e035cd09-5db8-4b7d-9124-9a068bfa0fc6",
   "metadata": {
    "execution": {
     "iopub.execute_input": "2025-03-17T15:47:23.669164Z",
     "iopub.status.busy": "2025-03-17T15:47:23.667735Z",
     "iopub.status.idle": "2025-03-17T15:47:23.684513Z",
     "shell.execute_reply": "2025-03-17T15:47:23.683794Z",
     "shell.execute_reply.started": "2025-03-17T15:47:23.669113Z"
    },
    "tags": []
   },
   "outputs": [
    {
     "data": {
      "text/plain": [
       "нормальный                         628\n",
       "гладкий                            101\n",
       "отсутствует                         84\n",
       "сглаженный                          27\n",
       "nan                                 15\n",
       "сглажен                              9\n",
       "сглажены                             7\n",
       "/                                    2\n",
       "сглажена                             2\n",
       "сглаженные                           1\n",
       "деформированы                        1\n",
       "гиперпигментирована                  1\n",
       "суженый                              1\n",
       "выражен                              1\n",
       "сильно сглажен                       1\n",
       "розовый                              1\n",
       "крапчатость                          1\n",
       "выраженный                           1\n",
       " отсутствует                         1\n",
       "растушеваны                          1\n",
       "дистрофические желтоватые очаги      1\n",
       "гиперпигментированная                1\n",
       "выражены                             1\n",
       "темный точечный фокус                1\n",
       "o],' cndigo 'ecoquenc                1\n",
       "Name: macula_foveal_reflex, dtype: int64"
      ]
     },
     "execution_count": 103,
     "metadata": {},
     "output_type": "execute_result"
    }
   ],
   "source": [
    "macula_foveal_reflex_s.value_counts()"
   ]
  },
  {
   "cell_type": "code",
   "execution_count": 104,
   "id": "880b6a2b-e439-40ca-9559-db4c6f0e49e1",
   "metadata": {
    "execution": {
     "iopub.execute_input": "2025-03-17T15:47:24.090648Z",
     "iopub.status.busy": "2025-03-17T15:47:24.089592Z",
     "iopub.status.idle": "2025-03-17T15:47:24.103665Z",
     "shell.execute_reply": "2025-03-17T15:47:24.102950Z",
     "shell.execute_reply.started": "2025-03-17T15:47:24.090601Z"
    },
    "tags": []
   },
   "outputs": [
    {
     "data": {
      "text/plain": [
       "1019    ДЗН бледный, границы нечеткие, сосуды извиты, в МЗ твердый субретинальный эксудат, на периферии отложения субретинального эксудата, единичные ангиоматозно расширенные сосуды и микроаневризмы, пигментированные коагуляты, отграничивающие зоны эксудации ДЗН бледный, границы нечеткие, сосуды извиты, в МЗ твердый субретинальный эксудат, на периферии отложения субретинального эксудата, единичные ангиоматозно расширенные сосуды и микроаневризмы , пигментированные коагуляты, отграничивающие зоны эксудации\n",
       "Name: text, dtype: object"
      ]
     },
     "execution_count": 104,
     "metadata": {},
     "output_type": "execute_result"
    }
   ],
   "source": [
    "valid_descr[valid_descr['macula_foveal_reflex']==\"o],' cndigo 'ecoquenc\"]['text']"
   ]
  },
  {
   "cell_type": "code",
   "execution_count": 105,
   "id": "636bcc70-1ed0-4eb7-bb67-5240aa265251",
   "metadata": {
    "execution": {
     "iopub.execute_input": "2025-03-17T15:47:24.127535Z",
     "iopub.status.busy": "2025-03-17T15:47:24.126558Z",
     "iopub.status.idle": "2025-03-17T15:47:24.143778Z",
     "shell.execute_reply": "2025-03-17T15:47:24.142945Z",
     "shell.execute_reply.started": "2025-03-17T15:47:24.127491Z"
    },
    "tags": []
   },
   "outputs": [
    {
     "data": {
      "text/plain": [
       "364    ДЗН – бледно розовый с четкими границами. Сосудистый пучок в центре А:В=1:1.5, В макуле кистовидные изменения, крапчатость, ретиношизис? По периферии картина «битого металла» перераспределение пигмента. ДЗН – бледно розовый с четкими границами. Сосудистый пучок в центре А:В=1:1.5, В макуле кистовидные изменения, крапчатость, ретиношизис? По периферии картина «битого металла» перераспределение пигмента.\n",
       "Name: text, dtype: object"
      ]
     },
     "execution_count": 105,
     "metadata": {},
     "output_type": "execute_result"
    }
   ],
   "source": [
    "valid_descr[valid_descr['macula_foveal_reflex']==\"крапчатость\"]['text']"
   ]
  },
  {
   "cell_type": "code",
   "execution_count": 106,
   "id": "6b3d5b81-d0be-4d33-8547-80f8b7cfef9d",
   "metadata": {
    "execution": {
     "iopub.execute_input": "2025-03-17T15:47:24.208054Z",
     "iopub.status.busy": "2025-03-17T15:47:24.206774Z",
     "iopub.status.idle": "2025-03-17T15:47:24.227028Z",
     "shell.execute_reply": "2025-03-17T15:47:24.226259Z",
     "shell.execute_reply.started": "2025-03-17T15:47:24.208014Z"
    },
    "tags": []
   },
   "outputs": [
    {
     "data": {
      "text/plain": [
       "нормальный     735\n",
       "отсутствует    104\n",
       "сглаженный      50\n",
       "/                2\n",
       "Name: macula_foveal_reflex, dtype: int64"
      ]
     },
     "execution_count": 106,
     "metadata": {},
     "output_type": "execute_result"
    }
   ],
   "source": [
    "replacement_dict = {\n",
    "    \"нормальный\": \"нормальный\",\n",
    "    \"выражен\": \"нормальный\",\n",
    "    \"выражены\": \"нормальный\",\n",
    "    \"выраженный\": \"нормальный\",\n",
    "    \"гладкий\": \"нормальный\",\n",
    "    \"розовый\": \"нормальный\",\n",
    "    \"гиперпигментирована\": \"нормальный\",\n",
    "    \"гиперпигментированная\": \"нормальный\",\n",
    "\n",
    "    \"отсутствует\": \"отсутствует\",\n",
    "    \" отсутствует\": \"отсутствует\",  # Учитываем пробел в начале\n",
    "    \"nan\": \"отсутствует\",\n",
    "    \"o],' cndigo 'ecoquenc\": \"отсутствует\",  # Ошибочное значение    \n",
    "    \"дистрофические желтоватые очаги\": \"отсутствует\",\n",
    "    \"темный точечный фокус\": \"отсутствует\",\n",
    "    \"крапчатость\": \"отсутствует\",\n",
    "    \n",
    "    \"сглаженный\": \"сглаженный\",\n",
    "    \"сглажен\": \"сглаженный\",\n",
    "    \"сглажена\": \"сглаженный\",\n",
    "    \"сглажены\": \"сглаженный\",\n",
    "    \"сглаженные\": \"сглаженный\",\n",
    "    \"сильно сглажен\": \"сглаженный\",\n",
    "    \"растушеваны\": \"сглаженный\",\n",
    "    \"деформированы\": \"сглаженный\",\n",
    "    \"суженый\": \"сглаженный\",\n",
    "}\n",
    "\n",
    "macula_foveal_reflex_s = macula_foveal_reflex_s.replace(replacement_dict)\n",
    "valid_descr.loc[:, 'macula_foveal_reflex'] = macula_foveal_reflex_s\n",
    "valid_descr['macula_foveal_reflex'].value_counts()"
   ]
  },
  {
   "cell_type": "markdown",
   "id": "98865016-df75-4c72-950b-4f5506bd00a5",
   "metadata": {},
   "source": [
    "Тут модель ошиблась в случае описания 873, должно быть значение рефлексов - \"сглаженный\", а в 10 описании сложный кейс, и как я понимаю, там уже отсутсвуют какие-либо рефлексы."
   ]
  },
  {
   "cell_type": "code",
   "execution_count": 107,
   "id": "baba8d73-23ea-4883-af50-f69f8b0b4d60",
   "metadata": {
    "execution": {
     "iopub.execute_input": "2025-03-17T15:47:24.612329Z",
     "iopub.status.busy": "2025-03-17T15:47:24.611223Z",
     "iopub.status.idle": "2025-03-17T15:47:24.626830Z",
     "shell.execute_reply": "2025-03-17T15:47:24.626042Z",
     "shell.execute_reply.started": "2025-03-17T15:47:24.612283Z"
    },
    "tags": []
   },
   "outputs": [
    {
     "data": {
      "text/plain": [
       "10                                                                                                                                                                                                      ДЗН бледный, границы размыты, сосуды расширены, извиты, тотольная отслойка сетчатки с субретианальным эксудатом. Ангиоматозные сосуды и микроаневризмы на периферии.Преретинальные кровоизлияния в виде мазков над ангиоматозными сосудами.\n",
       "873    ДЗН бледно-розовый, границы четкие, сосуды не изменены, парапапиллярно - дистрофический очаг желтоватого цвета, пигментированный, макула - рефлексы сглажены, видимая периферия представляется без очаговой патологии ДЗН бледно-розовый, границы четкие, сосуды не изменены, парапапиллярно - дистрофический очаг желтоватого цвета, пигментированный, макула - рефлексы сглажены, видимая периферия представляется без очаговой патолог ии\n",
       "Name: text, dtype: object"
      ]
     },
     "execution_count": 107,
     "metadata": {},
     "output_type": "execute_result"
    }
   ],
   "source": [
    "valid_descr[valid_descr['macula_foveal_reflex']==\"/\"]['text']"
   ]
  },
  {
   "cell_type": "code",
   "execution_count": 108,
   "id": "ad8790c8-08b0-4c59-96ac-663cae14af1c",
   "metadata": {
    "execution": {
     "iopub.execute_input": "2025-03-17T15:47:24.812391Z",
     "iopub.status.busy": "2025-03-17T15:47:24.811145Z",
     "iopub.status.idle": "2025-03-17T15:47:24.834193Z",
     "shell.execute_reply": "2025-03-17T15:47:24.833399Z",
     "shell.execute_reply.started": "2025-03-17T15:47:24.812346Z"
    },
    "tags": []
   },
   "outputs": [],
   "source": [
    "valid_descr.loc[10, 'macula_foveal_reflex'] = 'отсутствует'"
   ]
  },
  {
   "cell_type": "code",
   "execution_count": 109,
   "id": "665ad4da-17b7-42d5-95b7-cca1aa337dc0",
   "metadata": {
    "execution": {
     "iopub.execute_input": "2025-03-17T15:47:25.039404Z",
     "iopub.status.busy": "2025-03-17T15:47:25.038045Z",
     "iopub.status.idle": "2025-03-17T15:47:25.074484Z",
     "shell.execute_reply": "2025-03-17T15:47:25.073672Z",
     "shell.execute_reply.started": "2025-03-17T15:47:25.039359Z"
    },
    "tags": []
   },
   "outputs": [],
   "source": [
    "valid_descr.loc[873, 'macula_foveal_reflex'] = 'сглаженный'\n",
    "valid_descr.loc[873, 'macula_macular_reflex'] = 'сглаженный'"
   ]
  },
  {
   "cell_type": "code",
   "execution_count": null,
   "id": "db8acd2d-a6cb-497c-8552-b4c8c292adc0",
   "metadata": {},
   "outputs": [],
   "source": []
  },
  {
   "cell_type": "markdown",
   "id": "98841b4b-ec03-42dd-8a8c-c8b6765bdbf9",
   "metadata": {},
   "source": [
    "## Подсчёт уникальных комбинаций"
   ]
  },
  {
   "cell_type": "markdown",
   "id": "20bfeb95-ee11-4759-86b8-4b6fa20f714e",
   "metadata": {},
   "source": [
    "Подсчитаем количество уникальных комбинаций значений, без учёта патологий."
   ]
  },
  {
   "cell_type": "code",
   "execution_count": 110,
   "id": "3a32c74d-3ba4-48f6-b85e-3eb30cb912cc",
   "metadata": {
    "execution": {
     "iopub.execute_input": "2025-03-17T15:47:25.722543Z",
     "iopub.status.busy": "2025-03-17T15:47:25.721347Z",
     "iopub.status.idle": "2025-03-17T15:47:25.752720Z",
     "shell.execute_reply": "2025-03-17T15:47:25.751903Z",
     "shell.execute_reply.started": "2025-03-17T15:47:25.722498Z"
    }
   },
   "outputs": [
    {
     "data": {
      "text/plain": [
       "Index(['is_valid', 'od_color', 'od_monotone', 'od_size', 'od_shape',\n",
       "       'od_border', 'od_excavation_size', 'od_excavation_location',\n",
       "       'od_excavation_ratio', 'od_vessels_location', 'od_pathology',\n",
       "       'vessels_art_course', 'vessels_art_turtuosity',\n",
       "       'vessels_art_bifurcation', 'vessels_art_caliber', 'vessels_vein_course',\n",
       "       'vessels_vein_turtuosity', 'vessels_vein_bifurcation',\n",
       "       'vessels_vein_caliber', 'vessels_ratio', 'vessels_pathology',\n",
       "       'macula_macular_reflex', 'macula_foveal_reflex', 'macula_pathology',\n",
       "       'peripheral_pathology', 'other_diagnosis', 'other_notes', 'text'],\n",
       "      dtype='object')"
      ]
     },
     "execution_count": 110,
     "metadata": {},
     "output_type": "execute_result"
    }
   ],
   "source": [
    "valid_descr.columns"
   ]
  },
  {
   "cell_type": "code",
   "execution_count": 111,
   "id": "ed185df0-f2f7-4e0b-b3b5-e86ae798f868",
   "metadata": {
    "execution": {
     "iopub.execute_input": "2025-03-17T15:47:25.919379Z",
     "iopub.status.busy": "2025-03-17T15:47:25.918Z",
     "iopub.status.idle": "2025-03-17T15:47:25.980657Z",
     "shell.execute_reply": "2025-03-17T15:47:25.979642Z",
     "shell.execute_reply.started": "2025-03-17T15:47:25.919328Z"
    },
    "tags": []
   },
   "outputs": [],
   "source": [
    "import pandas as pd\n",
    "\n",
    "# Указываем столбцы, по которым считаем уникальные комбинации\n",
    "columns_to_check = [\n",
    "    'od_color',\n",
    "    'od_monotone',\n",
    "    'od_size',\n",
    "    'od_shape',\n",
    "    'od_border',\n",
    "    'od_excavation_size',\n",
    "    'od_excavation_location',\n",
    "    'od_excavation_ratio',\n",
    "    'od_vessels_location',\n",
    "    'vessels_art_course',\n",
    "    'vessels_art_turtuosity',\n",
    "    'vessels_art_bifurcation',\n",
    "    'vessels_art_caliber',\n",
    "    'vessels_vein_course',\n",
    "    'vessels_vein_turtuosity',\n",
    "    'vessels_vein_bifurcation',\n",
    "    'vessels_vein_caliber',\n",
    "    'vessels_ratio',\n",
    "    'macula_macular_reflex',\n",
    "    'macula_foveal_reflex',\n",
    "]\n",
    "\n",
    "# Считаем уникальные комбинации и их количество\n",
    "unique_combinations = valid_descr.groupby(columns_to_check).size().reset_index(name='count')"
   ]
  },
  {
   "cell_type": "code",
   "execution_count": 112,
   "id": "9cbf7f54-5933-45d4-b212-01b29af7dc24",
   "metadata": {
    "execution": {
     "iopub.execute_input": "2025-03-17T15:47:26.106096Z",
     "iopub.status.busy": "2025-03-17T15:47:26.104853Z",
     "iopub.status.idle": "2025-03-17T15:47:26.131278Z",
     "shell.execute_reply": "2025-03-17T15:47:26.130405Z",
     "shell.execute_reply.started": "2025-03-17T15:47:26.106056Z"
    },
    "tags": []
   },
   "outputs": [
    {
     "data": {
      "text/plain": [
       "28"
      ]
     },
     "execution_count": 112,
     "metadata": {},
     "output_type": "execute_result"
    }
   ],
   "source": [
    "valid_descr.groupby(columns_to_check).ngroups"
   ]
  },
  {
   "cell_type": "code",
   "execution_count": 113,
   "id": "61bbb4a7-ab84-4079-9a16-1dcfe7a99cf1",
   "metadata": {
    "execution": {
     "iopub.execute_input": "2025-03-17T15:47:26.215843Z",
     "iopub.status.busy": "2025-03-17T15:47:26.214820Z",
     "iopub.status.idle": "2025-03-17T15:47:26.276005Z",
     "shell.execute_reply": "2025-03-17T15:47:26.274907Z",
     "shell.execute_reply.started": "2025-03-17T15:47:26.215799Z"
    },
    "tags": []
   },
   "outputs": [
    {
     "data": {
      "text/html": [
       "<div>\n",
       "<style scoped>\n",
       "    .dataframe tbody tr th:only-of-type {\n",
       "        vertical-align: middle;\n",
       "    }\n",
       "\n",
       "    .dataframe tbody tr th {\n",
       "        vertical-align: top;\n",
       "    }\n",
       "\n",
       "    .dataframe thead th {\n",
       "        text-align: right;\n",
       "    }\n",
       "</style>\n",
       "<table border=\"1\" class=\"dataframe\">\n",
       "  <thead>\n",
       "    <tr style=\"text-align: right;\">\n",
       "      <th></th>\n",
       "      <th>od_color</th>\n",
       "      <th>od_monotone</th>\n",
       "      <th>od_size</th>\n",
       "      <th>od_shape</th>\n",
       "      <th>od_border</th>\n",
       "      <th>od_excavation_size</th>\n",
       "      <th>od_excavation_location</th>\n",
       "      <th>od_excavation_ratio</th>\n",
       "      <th>od_vessels_location</th>\n",
       "      <th>vessels_art_course</th>\n",
       "      <th>vessels_art_turtuosity</th>\n",
       "      <th>vessels_art_bifurcation</th>\n",
       "      <th>vessels_art_caliber</th>\n",
       "      <th>vessels_vein_course</th>\n",
       "      <th>vessels_vein_turtuosity</th>\n",
       "      <th>vessels_vein_bifurcation</th>\n",
       "      <th>vessels_vein_caliber</th>\n",
       "      <th>vessels_ratio</th>\n",
       "      <th>macula_macular_reflex</th>\n",
       "      <th>macula_foveal_reflex</th>\n",
       "      <th>count</th>\n",
       "    </tr>\n",
       "  </thead>\n",
       "  <tbody>\n",
       "    <tr>\n",
       "      <th>0</th>\n",
       "      <td>бледно-розовый</td>\n",
       "      <td>True</td>\n",
       "      <td>больше нормы</td>\n",
       "      <td>правильная</td>\n",
       "      <td>четкие</td>\n",
       "      <td>больше нормы</td>\n",
       "      <td>в центре</td>\n",
       "      <td>0.9</td>\n",
       "      <td>в центре</td>\n",
       "      <td>нормальный</td>\n",
       "      <td>нормальная</td>\n",
       "      <td>нормальная</td>\n",
       "      <td>нормальный</td>\n",
       "      <td>нормальный</td>\n",
       "      <td>нормальная</td>\n",
       "      <td>нормальная</td>\n",
       "      <td>нормальный</td>\n",
       "      <td>2:3</td>\n",
       "      <td>нормальный</td>\n",
       "      <td>нормальный</td>\n",
       "      <td>1</td>\n",
       "    </tr>\n",
       "    <tr>\n",
       "      <th>1</th>\n",
       "      <td>бледно-розовый</td>\n",
       "      <td>True</td>\n",
       "      <td>больше нормы</td>\n",
       "      <td>правильная</td>\n",
       "      <td>четкие</td>\n",
       "      <td>нормальный</td>\n",
       "      <td>нижне-внутренний</td>\n",
       "      <td>0.3</td>\n",
       "      <td>в центре</td>\n",
       "      <td>нормальный</td>\n",
       "      <td>нормальная</td>\n",
       "      <td>нормальная</td>\n",
       "      <td>нормальный</td>\n",
       "      <td>нормальный</td>\n",
       "      <td>нормальная</td>\n",
       "      <td>нормальная</td>\n",
       "      <td>нормальный</td>\n",
       "      <td>2:3</td>\n",
       "      <td>нормальный</td>\n",
       "      <td>нормальный</td>\n",
       "      <td>1</td>\n",
       "    </tr>\n",
       "    <tr>\n",
       "      <th>2</th>\n",
       "      <td>бледно-розовый</td>\n",
       "      <td>True</td>\n",
       "      <td>нормальный</td>\n",
       "      <td>неправильная</td>\n",
       "      <td>четкие</td>\n",
       "      <td>нормальный</td>\n",
       "      <td>наружный</td>\n",
       "      <td>0.3</td>\n",
       "      <td>в центре</td>\n",
       "      <td>аномальный</td>\n",
       "      <td>нормальная</td>\n",
       "      <td>нормальная</td>\n",
       "      <td>нормальный</td>\n",
       "      <td>нормальный</td>\n",
       "      <td>нормальная</td>\n",
       "      <td>нормальная</td>\n",
       "      <td>нормальный</td>\n",
       "      <td>2:3</td>\n",
       "      <td>нормальный</td>\n",
       "      <td>нормальный</td>\n",
       "      <td>1</td>\n",
       "    </tr>\n",
       "    <tr>\n",
       "      <th>3</th>\n",
       "      <td>бледно-розовый</td>\n",
       "      <td>True</td>\n",
       "      <td>нормальный</td>\n",
       "      <td>овальная</td>\n",
       "      <td>четкие</td>\n",
       "      <td>больше нормы</td>\n",
       "      <td>в центре</td>\n",
       "      <td>0.5</td>\n",
       "      <td>в центре</td>\n",
       "      <td>нормальный</td>\n",
       "      <td>извитые</td>\n",
       "      <td>нормальная</td>\n",
       "      <td>суженный</td>\n",
       "      <td>нормальный</td>\n",
       "      <td>извитые</td>\n",
       "      <td>нормальная</td>\n",
       "      <td>расширенный</td>\n",
       "      <td>2:3</td>\n",
       "      <td>нормальный</td>\n",
       "      <td>нормальный</td>\n",
       "      <td>1</td>\n",
       "    </tr>\n",
       "    <tr>\n",
       "      <th>4</th>\n",
       "      <td>бледно-розовый</td>\n",
       "      <td>True</td>\n",
       "      <td>нормальный</td>\n",
       "      <td>овальная</td>\n",
       "      <td>четкие</td>\n",
       "      <td>нормальный</td>\n",
       "      <td>в центре</td>\n",
       "      <td>0.8</td>\n",
       "      <td>в центре</td>\n",
       "      <td>нормальный</td>\n",
       "      <td>извитые</td>\n",
       "      <td>нормальная</td>\n",
       "      <td>суженный</td>\n",
       "      <td>нормальный</td>\n",
       "      <td>нормальная</td>\n",
       "      <td>нормальная</td>\n",
       "      <td>нормальный</td>\n",
       "      <td>2:3</td>\n",
       "      <td>сглаженный</td>\n",
       "      <td>нормальный</td>\n",
       "      <td>1</td>\n",
       "    </tr>\n",
       "    <tr>\n",
       "      <th>5</th>\n",
       "      <td>бледно-розовый</td>\n",
       "      <td>True</td>\n",
       "      <td>нормальный</td>\n",
       "      <td>овальная</td>\n",
       "      <td>четкие</td>\n",
       "      <td>нормальный</td>\n",
       "      <td>в центре</td>\n",
       "      <td>0.9</td>\n",
       "      <td>в центре</td>\n",
       "      <td>нормальный</td>\n",
       "      <td>извитые</td>\n",
       "      <td>нормальная</td>\n",
       "      <td>суженный</td>\n",
       "      <td>нормальный</td>\n",
       "      <td>нормальная</td>\n",
       "      <td>нормальная</td>\n",
       "      <td>нормальный</td>\n",
       "      <td>2:3</td>\n",
       "      <td>сглаженный</td>\n",
       "      <td>нормальный</td>\n",
       "      <td>1</td>\n",
       "    </tr>\n",
       "    <tr>\n",
       "      <th>6</th>\n",
       "      <td>бледно-розовый</td>\n",
       "      <td>True</td>\n",
       "      <td>нормальный</td>\n",
       "      <td>правильная</td>\n",
       "      <td>четкие</td>\n",
       "      <td>больше нормы</td>\n",
       "      <td>в центре</td>\n",
       "      <td>0.3</td>\n",
       "      <td>в центре</td>\n",
       "      <td>нормальный</td>\n",
       "      <td>нормальная</td>\n",
       "      <td>нормальная</td>\n",
       "      <td>нормальный</td>\n",
       "      <td>нормальный</td>\n",
       "      <td>нормальная</td>\n",
       "      <td>нормальная</td>\n",
       "      <td>нормальный</td>\n",
       "      <td>2:3</td>\n",
       "      <td>нормальный</td>\n",
       "      <td>нормальный</td>\n",
       "      <td>1</td>\n",
       "    </tr>\n",
       "    <tr>\n",
       "      <th>7</th>\n",
       "      <td>бледно-розовый</td>\n",
       "      <td>True</td>\n",
       "      <td>нормальный</td>\n",
       "      <td>правильная</td>\n",
       "      <td>четкие</td>\n",
       "      <td>больше нормы</td>\n",
       "      <td>в центре</td>\n",
       "      <td>0.5</td>\n",
       "      <td>в центре</td>\n",
       "      <td>нормальный</td>\n",
       "      <td>нормальная</td>\n",
       "      <td>нормальная</td>\n",
       "      <td>нормальный</td>\n",
       "      <td>нормальный</td>\n",
       "      <td>нормальная</td>\n",
       "      <td>нормальная</td>\n",
       "      <td>нормальный</td>\n",
       "      <td>2:3</td>\n",
       "      <td>сглаженный</td>\n",
       "      <td>сглаженный</td>\n",
       "      <td>1</td>\n",
       "    </tr>\n",
       "    <tr>\n",
       "      <th>8</th>\n",
       "      <td>бледно-розовый</td>\n",
       "      <td>True</td>\n",
       "      <td>нормальный</td>\n",
       "      <td>правильная</td>\n",
       "      <td>четкие</td>\n",
       "      <td>больше нормы</td>\n",
       "      <td>в центре</td>\n",
       "      <td>0.8</td>\n",
       "      <td>внутренний</td>\n",
       "      <td>нормальный</td>\n",
       "      <td>нормальная</td>\n",
       "      <td>нормальная</td>\n",
       "      <td>нормальный</td>\n",
       "      <td>нормальный</td>\n",
       "      <td>нормальная</td>\n",
       "      <td>нормальная</td>\n",
       "      <td>расширенный</td>\n",
       "      <td>2:3</td>\n",
       "      <td>нормальный</td>\n",
       "      <td>нормальный</td>\n",
       "      <td>1</td>\n",
       "    </tr>\n",
       "    <tr>\n",
       "      <th>9</th>\n",
       "      <td>бледно-розовый</td>\n",
       "      <td>True</td>\n",
       "      <td>нормальный</td>\n",
       "      <td>правильная</td>\n",
       "      <td>четкие</td>\n",
       "      <td>больше нормы</td>\n",
       "      <td>в центре</td>\n",
       "      <td>0.9</td>\n",
       "      <td>в центре</td>\n",
       "      <td>нормальный</td>\n",
       "      <td>нормальная</td>\n",
       "      <td>нормальная</td>\n",
       "      <td>нормальный</td>\n",
       "      <td>нормальный</td>\n",
       "      <td>нормальная</td>\n",
       "      <td>нормальная</td>\n",
       "      <td>нормальный</td>\n",
       "      <td>2:3</td>\n",
       "      <td>нормальный</td>\n",
       "      <td>нормальный</td>\n",
       "      <td>2</td>\n",
       "    </tr>\n",
       "    <tr>\n",
       "      <th>10</th>\n",
       "      <td>бледно-розовый</td>\n",
       "      <td>True</td>\n",
       "      <td>нормальный</td>\n",
       "      <td>правильная</td>\n",
       "      <td>четкие</td>\n",
       "      <td>больше нормы</td>\n",
       "      <td>в центре</td>\n",
       "      <td>0.9</td>\n",
       "      <td>в центре</td>\n",
       "      <td>нормальный</td>\n",
       "      <td>нормальная</td>\n",
       "      <td>нормальная</td>\n",
       "      <td>нормальный</td>\n",
       "      <td>нормальный</td>\n",
       "      <td>нормальная</td>\n",
       "      <td>нормальная</td>\n",
       "      <td>нормальный</td>\n",
       "      <td>2:3</td>\n",
       "      <td>сглаженный</td>\n",
       "      <td>сглаженный</td>\n",
       "      <td>1</td>\n",
       "    </tr>\n",
       "    <tr>\n",
       "      <th>11</th>\n",
       "      <td>бледно-розовый</td>\n",
       "      <td>True</td>\n",
       "      <td>нормальный</td>\n",
       "      <td>правильная</td>\n",
       "      <td>четкие</td>\n",
       "      <td>нормальный</td>\n",
       "      <td>в центре</td>\n",
       "      <td>0.0</td>\n",
       "      <td>в центре</td>\n",
       "      <td>нормальный</td>\n",
       "      <td>нормальная</td>\n",
       "      <td>нормальная</td>\n",
       "      <td>суженный</td>\n",
       "      <td>нормальный</td>\n",
       "      <td>нормальная</td>\n",
       "      <td>нормальная</td>\n",
       "      <td>нормальный</td>\n",
       "      <td>2:3</td>\n",
       "      <td>отсутствует</td>\n",
       "      <td>отсутствует</td>\n",
       "      <td>1</td>\n",
       "    </tr>\n",
       "    <tr>\n",
       "      <th>12</th>\n",
       "      <td>бледно-розовый</td>\n",
       "      <td>True</td>\n",
       "      <td>нормальный</td>\n",
       "      <td>правильная</td>\n",
       "      <td>четкие</td>\n",
       "      <td>нормальный</td>\n",
       "      <td>в центре</td>\n",
       "      <td>0.3</td>\n",
       "      <td>в центре</td>\n",
       "      <td>нормальный</td>\n",
       "      <td>нормальная</td>\n",
       "      <td>нормальная</td>\n",
       "      <td>нормальный</td>\n",
       "      <td>нормальный</td>\n",
       "      <td>нормальная</td>\n",
       "      <td>нормальная</td>\n",
       "      <td>нормальный</td>\n",
       "      <td>2:3</td>\n",
       "      <td>нормальный</td>\n",
       "      <td>нормальный</td>\n",
       "      <td>1</td>\n",
       "    </tr>\n",
       "    <tr>\n",
       "      <th>13</th>\n",
       "      <td>бледно-розовый</td>\n",
       "      <td>True</td>\n",
       "      <td>нормальный</td>\n",
       "      <td>правильная</td>\n",
       "      <td>четкие</td>\n",
       "      <td>нормальный</td>\n",
       "      <td>в центре</td>\n",
       "      <td>0.3</td>\n",
       "      <td>наружный</td>\n",
       "      <td>нормальный</td>\n",
       "      <td>нормальная</td>\n",
       "      <td>нормальная</td>\n",
       "      <td>суженный</td>\n",
       "      <td>нормальный</td>\n",
       "      <td>нормальная</td>\n",
       "      <td>нормальная</td>\n",
       "      <td>нормальный</td>\n",
       "      <td>2:3</td>\n",
       "      <td>сглаженный</td>\n",
       "      <td>сглаженный</td>\n",
       "      <td>1</td>\n",
       "    </tr>\n",
       "    <tr>\n",
       "      <th>14</th>\n",
       "      <td>бледно-розовый</td>\n",
       "      <td>True</td>\n",
       "      <td>нормальный</td>\n",
       "      <td>правильная</td>\n",
       "      <td>четкие</td>\n",
       "      <td>нормальный</td>\n",
       "      <td>в центре</td>\n",
       "      <td>0.4</td>\n",
       "      <td>в центре</td>\n",
       "      <td>нормальный</td>\n",
       "      <td>нормальная</td>\n",
       "      <td>нормальная</td>\n",
       "      <td>суженный</td>\n",
       "      <td>нормальный</td>\n",
       "      <td>нормальная</td>\n",
       "      <td>нормальная</td>\n",
       "      <td>суженный</td>\n",
       "      <td>2:3</td>\n",
       "      <td>нормальный</td>\n",
       "      <td>нормальный</td>\n",
       "      <td>1</td>\n",
       "    </tr>\n",
       "    <tr>\n",
       "      <th>15</th>\n",
       "      <td>бледно-розовый</td>\n",
       "      <td>True</td>\n",
       "      <td>нормальный</td>\n",
       "      <td>правильная</td>\n",
       "      <td>четкие</td>\n",
       "      <td>нормальный</td>\n",
       "      <td>в центре</td>\n",
       "      <td>0.5</td>\n",
       "      <td>в центре</td>\n",
       "      <td>нормальный</td>\n",
       "      <td>нормальная</td>\n",
       "      <td>нормальная</td>\n",
       "      <td>нормальный</td>\n",
       "      <td>нормальный</td>\n",
       "      <td>нормальная</td>\n",
       "      <td>нормальная</td>\n",
       "      <td>нормальный</td>\n",
       "      <td>2:3</td>\n",
       "      <td>нормальный</td>\n",
       "      <td>нормальный</td>\n",
       "      <td>1</td>\n",
       "    </tr>\n",
       "    <tr>\n",
       "      <th>16</th>\n",
       "      <td>бледно-розовый</td>\n",
       "      <td>True</td>\n",
       "      <td>нормальный</td>\n",
       "      <td>правильная</td>\n",
       "      <td>четкие</td>\n",
       "      <td>нормальный</td>\n",
       "      <td>в центре</td>\n",
       "      <td>0.5</td>\n",
       "      <td>в центре</td>\n",
       "      <td>нормальный</td>\n",
       "      <td>нормальная</td>\n",
       "      <td>нормальная</td>\n",
       "      <td>суженный</td>\n",
       "      <td>нормальный</td>\n",
       "      <td>нормальная</td>\n",
       "      <td>нормальная</td>\n",
       "      <td>нормальный</td>\n",
       "      <td>2:3</td>\n",
       "      <td>нормальный</td>\n",
       "      <td>нормальный</td>\n",
       "      <td>1</td>\n",
       "    </tr>\n",
       "    <tr>\n",
       "      <th>17</th>\n",
       "      <td>бледно-розовый</td>\n",
       "      <td>True</td>\n",
       "      <td>нормальный</td>\n",
       "      <td>правильная</td>\n",
       "      <td>четкие</td>\n",
       "      <td>нормальный</td>\n",
       "      <td>в центре</td>\n",
       "      <td>0.5</td>\n",
       "      <td>внутренний</td>\n",
       "      <td>нормальный</td>\n",
       "      <td>нормальная</td>\n",
       "      <td>нормальная</td>\n",
       "      <td>нормальный</td>\n",
       "      <td>нормальный</td>\n",
       "      <td>нормальная</td>\n",
       "      <td>нормальная</td>\n",
       "      <td>расширенный</td>\n",
       "      <td>2:3</td>\n",
       "      <td>нормальный</td>\n",
       "      <td>нормальный</td>\n",
       "      <td>1</td>\n",
       "    </tr>\n",
       "    <tr>\n",
       "      <th>18</th>\n",
       "      <td>бледно-розовый</td>\n",
       "      <td>True</td>\n",
       "      <td>нормальный</td>\n",
       "      <td>правильная</td>\n",
       "      <td>четкие</td>\n",
       "      <td>нормальный</td>\n",
       "      <td>в центре</td>\n",
       "      <td>0.6</td>\n",
       "      <td>наружный</td>\n",
       "      <td>нормальный</td>\n",
       "      <td>нормальная</td>\n",
       "      <td>нормальная</td>\n",
       "      <td>нормальный</td>\n",
       "      <td>нормальный</td>\n",
       "      <td>нормальная</td>\n",
       "      <td>нормальная</td>\n",
       "      <td>нормальный</td>\n",
       "      <td>2:3</td>\n",
       "      <td>нормальный</td>\n",
       "      <td>сглаженный</td>\n",
       "      <td>1</td>\n",
       "    </tr>\n",
       "    <tr>\n",
       "      <th>19</th>\n",
       "      <td>бледно-розовый</td>\n",
       "      <td>True</td>\n",
       "      <td>нормальный</td>\n",
       "      <td>правильная</td>\n",
       "      <td>четкие</td>\n",
       "      <td>нормальный</td>\n",
       "      <td>в центре</td>\n",
       "      <td>0.6</td>\n",
       "      <td>наружный</td>\n",
       "      <td>нормальный</td>\n",
       "      <td>нормальная</td>\n",
       "      <td>нормальная</td>\n",
       "      <td>нормальный</td>\n",
       "      <td>нормальный</td>\n",
       "      <td>нормальная</td>\n",
       "      <td>нормальная</td>\n",
       "      <td>нормальный</td>\n",
       "      <td>2:3</td>\n",
       "      <td>сглаженный</td>\n",
       "      <td>сглаженный</td>\n",
       "      <td>1</td>\n",
       "    </tr>\n",
       "    <tr>\n",
       "      <th>20</th>\n",
       "      <td>бледно-розовый</td>\n",
       "      <td>True</td>\n",
       "      <td>нормальный</td>\n",
       "      <td>правильная</td>\n",
       "      <td>четкие</td>\n",
       "      <td>нормальный</td>\n",
       "      <td>в центре</td>\n",
       "      <td>0.7</td>\n",
       "      <td>в центре</td>\n",
       "      <td>нормальный</td>\n",
       "      <td>нормальная</td>\n",
       "      <td>нормальная</td>\n",
       "      <td>суженный</td>\n",
       "      <td>нормальный</td>\n",
       "      <td>нормальная</td>\n",
       "      <td>нормальная</td>\n",
       "      <td>нормальный</td>\n",
       "      <td>2:3</td>\n",
       "      <td>нормальный</td>\n",
       "      <td>нормальный</td>\n",
       "      <td>1</td>\n",
       "    </tr>\n",
       "    <tr>\n",
       "      <th>21</th>\n",
       "      <td>бледно-розовый</td>\n",
       "      <td>True</td>\n",
       "      <td>нормальный</td>\n",
       "      <td>правильная</td>\n",
       "      <td>четкие</td>\n",
       "      <td>нормальный</td>\n",
       "      <td>в центре</td>\n",
       "      <td>0.9</td>\n",
       "      <td>в центре</td>\n",
       "      <td>нормальный</td>\n",
       "      <td>нормальная</td>\n",
       "      <td>нормальная</td>\n",
       "      <td>нормальный</td>\n",
       "      <td>нормальный</td>\n",
       "      <td>нормальная</td>\n",
       "      <td>нормальная</td>\n",
       "      <td>нормальный</td>\n",
       "      <td>2:3</td>\n",
       "      <td>нормальный</td>\n",
       "      <td>нормальный</td>\n",
       "      <td>1</td>\n",
       "    </tr>\n",
       "    <tr>\n",
       "      <th>22</th>\n",
       "      <td>бледно-розовый</td>\n",
       "      <td>True</td>\n",
       "      <td>нормальный</td>\n",
       "      <td>правильная</td>\n",
       "      <td>четкие</td>\n",
       "      <td>нормальный</td>\n",
       "      <td>наружный</td>\n",
       "      <td>0.3</td>\n",
       "      <td>в центре</td>\n",
       "      <td>нормальный</td>\n",
       "      <td>нормальная</td>\n",
       "      <td>нормальная</td>\n",
       "      <td>нормальный</td>\n",
       "      <td>нормальный</td>\n",
       "      <td>нормальная</td>\n",
       "      <td>нормальная</td>\n",
       "      <td>нормальный</td>\n",
       "      <td>2:3</td>\n",
       "      <td>нормальный</td>\n",
       "      <td>нормальный</td>\n",
       "      <td>1</td>\n",
       "    </tr>\n",
       "    <tr>\n",
       "      <th>23</th>\n",
       "      <td>бледный</td>\n",
       "      <td>True</td>\n",
       "      <td>нормальный</td>\n",
       "      <td>правильная</td>\n",
       "      <td>размытые</td>\n",
       "      <td>нормальный</td>\n",
       "      <td>в центре</td>\n",
       "      <td>0.5</td>\n",
       "      <td>в центре</td>\n",
       "      <td>нормальный</td>\n",
       "      <td>нормальная</td>\n",
       "      <td>нормальная</td>\n",
       "      <td>нормальный</td>\n",
       "      <td>нормальный</td>\n",
       "      <td>нормальная</td>\n",
       "      <td>нормальная</td>\n",
       "      <td>нормальный</td>\n",
       "      <td>2:3</td>\n",
       "      <td>нормальный</td>\n",
       "      <td>нормальный</td>\n",
       "      <td>1</td>\n",
       "    </tr>\n",
       "    <tr>\n",
       "      <th>24</th>\n",
       "      <td>бледный</td>\n",
       "      <td>True</td>\n",
       "      <td>нормальный</td>\n",
       "      <td>правильная</td>\n",
       "      <td>четкие</td>\n",
       "      <td>больше нормы</td>\n",
       "      <td>в центре</td>\n",
       "      <td>0.8</td>\n",
       "      <td>в центре</td>\n",
       "      <td>нормальный</td>\n",
       "      <td>нормальная</td>\n",
       "      <td>нормальная</td>\n",
       "      <td>нормальный</td>\n",
       "      <td>нормальный</td>\n",
       "      <td>нормальная</td>\n",
       "      <td>нормальная</td>\n",
       "      <td>нормальный</td>\n",
       "      <td>2:3</td>\n",
       "      <td>нормальный</td>\n",
       "      <td>нормальный</td>\n",
       "      <td>1</td>\n",
       "    </tr>\n",
       "    <tr>\n",
       "      <th>25</th>\n",
       "      <td>бледный</td>\n",
       "      <td>True</td>\n",
       "      <td>нормальный</td>\n",
       "      <td>правильная</td>\n",
       "      <td>четкие</td>\n",
       "      <td>больше нормы</td>\n",
       "      <td>в центре</td>\n",
       "      <td>0.9</td>\n",
       "      <td>в центре</td>\n",
       "      <td>нормальный</td>\n",
       "      <td>нормальная</td>\n",
       "      <td>нормальная</td>\n",
       "      <td>нормальный</td>\n",
       "      <td>нормальный</td>\n",
       "      <td>нормальная</td>\n",
       "      <td>нормальная</td>\n",
       "      <td>нормальный</td>\n",
       "      <td>2:3</td>\n",
       "      <td>нормальный</td>\n",
       "      <td>нормальный</td>\n",
       "      <td>1</td>\n",
       "    </tr>\n",
       "    <tr>\n",
       "      <th>26</th>\n",
       "      <td>бледный</td>\n",
       "      <td>True</td>\n",
       "      <td>нормальный</td>\n",
       "      <td>правильная</td>\n",
       "      <td>четкие</td>\n",
       "      <td>нормальный</td>\n",
       "      <td>в центре</td>\n",
       "      <td>0.7</td>\n",
       "      <td>в центре</td>\n",
       "      <td>нормальный</td>\n",
       "      <td>нормальная</td>\n",
       "      <td>нормальная</td>\n",
       "      <td>нормальный</td>\n",
       "      <td>нормальный</td>\n",
       "      <td>нормальная</td>\n",
       "      <td>нормальная</td>\n",
       "      <td>нормальный</td>\n",
       "      <td>2:3</td>\n",
       "      <td>сглаженный</td>\n",
       "      <td>сглаженный</td>\n",
       "      <td>1</td>\n",
       "    </tr>\n",
       "    <tr>\n",
       "      <th>27</th>\n",
       "      <td>розовый</td>\n",
       "      <td>True</td>\n",
       "      <td>нормальный</td>\n",
       "      <td>правильная</td>\n",
       "      <td>четкие</td>\n",
       "      <td>нормальный</td>\n",
       "      <td>в центре</td>\n",
       "      <td>0.5</td>\n",
       "      <td>в центре</td>\n",
       "      <td>нормальный</td>\n",
       "      <td>нормальная</td>\n",
       "      <td>нормальная</td>\n",
       "      <td>нормальный</td>\n",
       "      <td>нормальный</td>\n",
       "      <td>нормальная</td>\n",
       "      <td>нормальная</td>\n",
       "      <td>нормальный</td>\n",
       "      <td>2:3</td>\n",
       "      <td>нормальный</td>\n",
       "      <td>нормальный</td>\n",
       "      <td>1</td>\n",
       "    </tr>\n",
       "  </tbody>\n",
       "</table>\n",
       "</div>"
      ],
      "text/plain": [
       "          od_color  od_monotone  ... macula_foveal_reflex count\n",
       "0   бледно-розовый         True  ...           нормальный     1\n",
       "1   бледно-розовый         True  ...           нормальный     1\n",
       "2   бледно-розовый         True  ...           нормальный     1\n",
       "3   бледно-розовый         True  ...           нормальный     1\n",
       "4   бледно-розовый         True  ...           нормальный     1\n",
       "5   бледно-розовый         True  ...           нормальный     1\n",
       "6   бледно-розовый         True  ...           нормальный     1\n",
       "7   бледно-розовый         True  ...           сглаженный     1\n",
       "8   бледно-розовый         True  ...           нормальный     1\n",
       "9   бледно-розовый         True  ...           нормальный     2\n",
       "10  бледно-розовый         True  ...           сглаженный     1\n",
       "11  бледно-розовый         True  ...          отсутствует     1\n",
       "12  бледно-розовый         True  ...           нормальный     1\n",
       "13  бледно-розовый         True  ...           сглаженный     1\n",
       "14  бледно-розовый         True  ...           нормальный     1\n",
       "15  бледно-розовый         True  ...           нормальный     1\n",
       "16  бледно-розовый         True  ...           нормальный     1\n",
       "17  бледно-розовый         True  ...           нормальный     1\n",
       "18  бледно-розовый         True  ...           сглаженный     1\n",
       "19  бледно-розовый         True  ...           сглаженный     1\n",
       "20  бледно-розовый         True  ...           нормальный     1\n",
       "21  бледно-розовый         True  ...           нормальный     1\n",
       "22  бледно-розовый         True  ...           нормальный     1\n",
       "23         бледный         True  ...           нормальный     1\n",
       "24         бледный         True  ...           нормальный     1\n",
       "25         бледный         True  ...           нормальный     1\n",
       "26         бледный         True  ...           сглаженный     1\n",
       "27         розовый         True  ...           нормальный     1\n",
       "\n",
       "[28 rows x 21 columns]"
      ]
     },
     "execution_count": 113,
     "metadata": {},
     "output_type": "execute_result"
    }
   ],
   "source": [
    "unique_combinations"
   ]
  },
  {
   "cell_type": "code",
   "execution_count": 114,
   "id": "7b05ab83-938c-49d3-833c-cd6bf21b5913",
   "metadata": {
    "execution": {
     "iopub.execute_input": "2025-03-17T15:47:26.404807Z",
     "iopub.status.busy": "2025-03-17T15:47:26.403674Z",
     "iopub.status.idle": "2025-03-17T15:47:26.426956Z",
     "shell.execute_reply": "2025-03-17T15:47:26.426046Z",
     "shell.execute_reply.started": "2025-03-17T15:47:26.404762Z"
    },
    "tags": []
   },
   "outputs": [
    {
     "data": {
      "text/plain": [
       "(28, 21)"
      ]
     },
     "execution_count": 114,
     "metadata": {},
     "output_type": "execute_result"
    }
   ],
   "source": [
    "unique_combinations.shape"
   ]
  },
  {
   "cell_type": "code",
   "execution_count": 115,
   "id": "28479826-39d6-48bf-aa49-a51058b21a93",
   "metadata": {
    "execution": {
     "iopub.execute_input": "2025-03-17T15:47:47.866855Z",
     "iopub.status.busy": "2025-03-17T15:47:47.865578Z",
     "iopub.status.idle": "2025-03-17T15:47:47.881697Z",
     "shell.execute_reply": "2025-03-17T15:47:47.880833Z",
     "shell.execute_reply.started": "2025-03-17T15:47:47.866807Z"
    }
   },
   "outputs": [
    {
     "data": {
      "text/plain": [
       "Index(['is_valid', 'od_color', 'od_monotone', 'od_size', 'od_shape',\n",
       "       'od_border', 'od_excavation_size', 'od_excavation_location',\n",
       "       'od_excavation_ratio', 'od_vessels_location', 'od_pathology',\n",
       "       'vessels_art_course', 'vessels_art_turtuosity',\n",
       "       'vessels_art_bifurcation', 'vessels_art_caliber', 'vessels_vein_course',\n",
       "       'vessels_vein_turtuosity', 'vessels_vein_bifurcation',\n",
       "       'vessels_vein_caliber', 'vessels_ratio', 'vessels_pathology',\n",
       "       'macula_macular_reflex', 'macula_foveal_reflex', 'macula_pathology',\n",
       "       'peripheral_pathology', 'other_diagnosis', 'other_notes', 'text'],\n",
       "      dtype='object')"
      ]
     },
     "execution_count": 115,
     "metadata": {},
     "output_type": "execute_result"
    }
   ],
   "source": [
    "valid_descr.columns"
   ]
  },
  {
   "cell_type": "code",
   "execution_count": 125,
   "id": "4d211fd1-c157-4dc9-94b5-79819fa606d6",
   "metadata": {
    "execution": {
     "iopub.execute_input": "2025-03-17T15:56:12.037674Z",
     "iopub.status.busy": "2025-03-17T15:56:12.036338Z",
     "iopub.status.idle": "2025-03-17T15:56:12.069263Z",
     "shell.execute_reply": "2025-03-17T15:56:12.068253Z",
     "shell.execute_reply.started": "2025-03-17T15:56:12.037625Z"
    },
    "tags": []
   },
   "outputs": [
    {
     "name": "stdout",
     "output_type": "stream",
     "text": [
      "760\n"
     ]
    }
   ],
   "source": [
    "all_columns = ['is_valid', 'od_color', 'od_monotone', 'od_size', 'od_shape',\n",
    "       'od_border', 'od_excavation_size', 'od_excavation_location',\n",
    "       'od_excavation_ratio', 'od_vessels_location', 'od_pathology',\n",
    "       'vessels_art_course', 'vessels_art_turtuosity',\n",
    "       'vessels_art_bifurcation', 'vessels_art_caliber', 'vessels_vein_course',\n",
    "       'vessels_vein_turtuosity', 'vessels_vein_bifurcation',\n",
    "       'vessels_vein_caliber', 'vessels_ratio', 'vessels_pathology',\n",
    "       'macula_macular_reflex', 'macula_foveal_reflex', 'macula_pathology',\n",
    "       'peripheral_pathology', 'other_diagnosis', 'other_notes',]\n",
    "\n",
    "\n",
    "# Считаем уникальные комбинации и их количество\n",
    "num_unique_combinations = valid_descr[all_columns].drop_duplicates().shape[0]\n",
    "print(num_unique_combinations)"
   ]
  },
  {
   "cell_type": "code",
   "execution_count": null,
   "id": "bc997dc3-4c96-4365-a85c-1d46c72413c2",
   "metadata": {},
   "outputs": [],
   "source": []
  }
 ],
 "metadata": {
  "kernelspec": {
   "display_name": "DataSphere Kernel",
   "language": "python",
   "name": "python3"
  },
  "language_info": {
   "codemirror_mode": {
    "name": "ipython",
    "version": 3
   },
   "file_extension": ".py",
   "mimetype": "text/x-python",
   "name": "python",
   "nbconvert_exporter": "python",
   "pygments_lexer": "ipython3",
   "version": "3.10.12"
  }
 },
 "nbformat": 4,
 "nbformat_minor": 5
}
