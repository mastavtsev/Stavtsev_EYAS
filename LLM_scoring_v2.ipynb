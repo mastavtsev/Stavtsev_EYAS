{
 "cells": [
  {
   "cell_type": "code",
   "execution_count": 1,
   "id": "9572f0472f4c7ae1",
   "metadata": {
    "ExecuteTime": {
     "end_time": "2024-12-01T20:16:47.280352Z",
     "start_time": "2024-12-01T20:16:33.348660Z"
    },
    "collapsed": true
   },
   "outputs": [],
   "source": [
    "# %pip install pydantic openai tqdm pandas -U"
   ]
  },
  {
   "cell_type": "code",
   "execution_count": 1,
   "id": "5153a984",
   "metadata": {},
   "outputs": [],
   "source": [
    "# %pip install jinja2 openpyxl"
   ]
  },
  {
   "cell_type": "code",
   "execution_count": 17,
   "id": "13b8aa3bd04574a",
   "metadata": {
    "ExecuteTime": {
     "end_time": "2024-12-03T21:37:29.151905Z",
     "start_time": "2024-12-03T21:37:26.489135Z"
    }
   },
   "outputs": [],
   "source": [
    "import json\n",
    "from typing import Literal\n",
    "from openai import OpenAI\n",
    "from pydantic import BaseModel, Field\n",
    "import pandas as pd\n",
    "import openai\n",
    "import time\n",
    "\n",
    "from tqdm import tqdm"
   ]
  },
  {
   "cell_type": "code",
   "execution_count": null,
   "id": "7acfb51906357354",
   "metadata": {
    "ExecuteTime": {
     "end_time": "2024-12-03T21:37:33.744041Z",
     "start_time": "2024-12-03T21:37:33.740468Z"
    }
   },
   "outputs": [],
   "source": [
    "api_key = '<api-key>'"
   ]
  },
  {
   "cell_type": "code",
   "execution_count": 5,
   "id": "9e0109b5c27fdd35",
   "metadata": {
    "ExecuteTime": {
     "end_time": "2024-12-03T21:37:35.424752Z",
     "start_time": "2024-12-03T21:37:34.695596Z"
    }
   },
   "outputs": [],
   "source": [
    "client = OpenAI(api_key=api_key)"
   ]
  },
  {
   "cell_type": "code",
   "execution_count": 6,
   "id": "5a8f8279",
   "metadata": {},
   "outputs": [],
   "source": [
    "model_str=\"gpt-4o-2024-11-20\""
   ]
  },
  {
   "cell_type": "markdown",
   "id": "bd9569f9",
   "metadata": {},
   "source": [
    "## Accuracy scoring"
   ]
  },
  {
   "cell_type": "code",
   "execution_count": 77,
   "id": "6483e516",
   "metadata": {},
   "outputs": [],
   "source": [
    "system_prompt = \"\"\"\n",
    "Ты помощник врача офтальмолога. Извлеки параметры глазного дна по его описанию. Пиши значения всех параметров в начальной форме.\n",
    "\"\"\"\n"
   ]
  },
  {
   "cell_type": "code",
   "execution_count": 78,
   "id": "e87666241c2411d9",
   "metadata": {
    "ExecuteTime": {
     "end_time": "2024-12-01T21:25:52.060480Z",
     "start_time": "2024-12-01T21:25:52.017852Z"
    }
   },
   "outputs": [],
   "source": [
    "from typing import Optional\n",
    "from pydantic import BaseModel, Field\n",
    "\n",
    "class EyeFundusEvaluation(BaseModel):\n",
    "    od_color: str = Field(..., description=\"Цвет диска зрительного нерва, например, серый, бледный или белый.\")\n",
    "    od_monotone: str = Field(..., description=\"Имеет ли диск зрительного нерва монотонный (однородный) цвет. Пиши наблюдается или не наблюдается.\")\n",
    "    od_size: str = Field(..., description=\"Размер диска зрительного нерва: нормальный, больше нормы или меньше нормы.\")\n",
    "    od_shape: str = Field(..., description=\"Форма диска зрительного нерва: правильная, овальная или неправильная.\")\n",
    "    od_border: str = Field(..., description=\"Чёткость границ диска зрительного нерва: четкие или размытые.\")\n",
    "    od_excavation_size: str = Field(..., description=\"Размер экскавации на диске зрительного нерва: нормальный, больше нормы или меньше нормы.\")\n",
    "    od_excavation_location: str = Field(..., description=\"Расположение экскавации: в центре, верхний, нижний, наружный, внутренний и др.\")\n",
    "    od_excavation_ratio: str = Field(..., description=\"Отношение размеров экскавации к диску Э/Д.\")\n",
    "    od_vessels_location: str = Field(..., description=\"Расположение сосудистого пучка на диске зрительного нерва.\")\n",
    "\n",
    "    vessels_art_course: str = Field(..., description=\"Направление или смещение артерий: нормальное, наружное или внутреннее смещение.\")\n",
    "    vessels_art_turtuosity: str = Field(..., description=\"Извитость артерий: нормальная, извитая или прямая.\")\n",
    "    vessels_art_bifurcation: str = Field(..., description=\"Угол бифуркации артерий: нормальная, под острым углом или под тупым углом.\")\n",
    "    vessels_art_caliber: str = Field(..., description=\"Калибр артерий: нормальный, расширенный или суженный.\")\n",
    "\n",
    "    vessels_vein_course: str = Field(..., description=\"Направление или смещение вен: нормальное, наружное или внутреннее смещение.\")\n",
    "    vessels_vein_turtuosity: str = Field(..., description=\"Извитость вен: нормальная, извитая или прямая.\")\n",
    "    vessels_vein_bifurcation: str = Field(..., description=\"Угол бифуркации вен: нормальная, под острым углом или под тупым углом.\")\n",
    "    vessels_vein_caliber: str = Field(..., description=\"Калибр вен: нормальный, расширенный или суженный.\")\n",
    "\n",
    "    vessels_ratio: str = Field(..., description=\"Соотношение артерий и вен, показатель А/В.\")\n",
    "\n",
    "    macula_macular_reflex: str = Field(..., description=\"Состояние макулярного рефлекса: нормальный, гладкий или отсутствует.\")\n",
    "    macula_foveal_reflex: str = Field(..., description=\"Состояние фовеального рефлекса: нормальный, гладкий или отсутствует.\")\n"
   ]
  },
  {
   "cell_type": "markdown",
   "id": "59b8dbcf",
   "metadata": {},
   "source": [
    "### **Scoring**"
   ]
  },
  {
   "cell_type": "code",
   "execution_count": 80,
   "id": "ab2ae411",
   "metadata": {},
   "outputs": [],
   "source": [
    "def scoring_function(data_path, type):\n",
    "    df = pd.read_excel(data_path)\n",
    "    texts = df['text']\n",
    "    dataframe_elements = []\n",
    "\n",
    "    for text in tqdm(texts, type):\n",
    "        success = False\n",
    "        while not success:\n",
    "            try:\n",
    "                completion = client.beta.chat.completions.parse(\n",
    "                    model=model_str,\n",
    "                    messages=[\n",
    "                        {\"role\": \"system\", \"content\": system_prompt},\n",
    "                        {\"role\": \"user\", \"content\": text},\n",
    "                    ],\n",
    "                    response_format=EyeFundusEvaluation,\n",
    "                )\n",
    "                success = True\n",
    "                json_answer = completion.choices[0].message.content\n",
    "                #print(json_answer)\n",
    "                llm_dict = json.loads(json_answer)\n",
    "                dataframe_elements.append(llm_dict)\n",
    "            except openai.RateLimitError as e:\n",
    "                # print(f\"Rate limit exceeded. Waiting 1 second. Details: {e}\")\n",
    "                time.sleep(30)\n",
    "        \n",
    "\n",
    "    df = pd.DataFrame(dataframe_elements)\n",
    "    df.to_csv(f\"scores_v2/{type}_scores.csv\")"
   ]
  },
  {
   "cell_type": "code",
   "execution_count": null,
   "id": "6e3c6b61",
   "metadata": {},
   "outputs": [
    {
     "name": "stdout",
     "output_type": "stream",
     "text": [
      "('data_v2/Saiga_Gemma3_12b_data_v2.xlsx', 'Saiga_Gemma3_12b')\n"
     ]
    },
    {
     "name": "stderr",
     "output_type": "stream",
     "text": [
      "Saiga_Gemma3_12b: 100%|██████████| 125/125 [17:52<00:00,  8.58s/it]\n"
     ]
    },
    {
     "name": "stdout",
     "output_type": "stream",
     "text": [
      "('data_v2/TableLlama_data_v2.xlsx', 'TableLlama')\n"
     ]
    },
    {
     "name": "stderr",
     "output_type": "stream",
     "text": [
      "TableLlama: 100%|██████████| 125/125 [18:54<00:00,  9.08s/it]\n"
     ]
    }
   ],
   "source": [
    "scoring_metas = [\n",
    "    ('data_v2/Yandex_data_v2.xlsx', 'YandexGPT'),\n",
    "    ('data_v2/Saiga_Llama3_data_v2.xlsx', 'Saiga_Llama'),\n",
    "    ('data_v2/T_lite_data_v2.xlsx', 'T-lite'),\n",
    "    ('data_v2/Gemma3_4b_data_v2.xlsx', 'Gemma3_4b'),\n",
    "    ('data_v2/RuAdapt_Qwen_data_v2.xlsx', 'RuAdapt_Qwen'),\n",
    "    ('data_v2/Saiga_Gemma3_12b_data_v2.xlsx', 'Saiga_Gemma3_12b'), \n",
    "    ('data_v2/TableLlama_data_v2.xlsx', 'TableLlama'),\n",
    "]\n",
    "\n",
    "for meta in scoring_metas:\n",
    "    print(meta)\n",
    "    scoring_function(meta[0], meta[1])"
   ]
  },
  {
   "cell_type": "markdown",
   "id": "846f5b5f",
   "metadata": {},
   "source": [
    "## Report Order, Language, Structure"
   ]
  },
  {
   "cell_type": "code",
   "execution_count": 7,
   "id": "88d3777e",
   "metadata": {},
   "outputs": [],
   "source": [
    "system_prompt = \"\"\"\n",
    "Ты выступаешь в роли судьи для оценки качества генерации текста заключения офтальмолога, созданного языковой моделью на основании параметров глазного дна. Проверь ответ по четырём критериям, выстави оценки и обоснуй их.\n",
    "\n",
    "**Критерий №1: Отсутствие вводных конструкций и лишних фраз**  \n",
    "Текст должен содержать только медицинское описание. Не допускаются вводные конструкции или пояснительные фразы (например: \"конечно\", \"текст описания\", \"ответ на ваш вопрос\" и т.п.).\n",
    "\n",
    "**Оценка:**  \n",
    "- 1 балл — нет вводных конструкций  \n",
    "- 0 баллов — есть хотя бы одна\n",
    "\n",
    "Приведи пример лишней фразы при оценке 0.\n",
    "\n",
    "---\n",
    "\n",
    "**Критерий №2: Соблюдение порядка описания структур**  \n",
    "Порядок должен быть следующим:\n",
    "\n",
    "1. **Диск зрительного нерва (ДЗН)**  \n",
    "   - Цвет  \n",
    "   - Монотонность окраски  \n",
    "   - Размер  \n",
    "   - Форма  \n",
    "   - Границы  \n",
    "\n",
    "2. **Экскавация ДЗН**  \n",
    "   - Размер экскавации  \n",
    "   - Положение экскавации \n",
    "   - Соотношение Э/Д \n",
    "\n",
    "3. **Сосудистый пучок**\n",
    "\n",
    "4. **Сосуды глазного дна (Артерии и Вены)**  \n",
    "   - Ход  \n",
    "   - Извитость  \n",
    "   - Бифуркация  \n",
    "   - Калибр  \n",
    "   - А/В индекс  \n",
    "\n",
    "5. **Макула**  \n",
    "   - Макулярный рефлекс  \n",
    "   - Фовеолярный рефлекс\n",
    "\n",
    "**Оценка:**  \n",
    "- 1 балл — порядок строго соблюдён  \n",
    "- 0 баллов — есть отклонения\n",
    "\n",
    "Укажи, где нарушен порядок при оценке 0.\n",
    "\n",
    "**Пример 1**\n",
    "ДЗН бледно-розовый, монотонность не наблюдается, диск нормального размера и правильной формы, границы диска четкие. Экскавация диска нормального размера, расположена в центре, соотношение э/д = 0.3. Сосудистый пучок расположен в центре.  \n",
    "Сосуды имеют нормальный ход и нормальную извитость, бифуркация и калибр в норме, соотношение калибра артерий и вен 2/3. \n",
    "Макулярный и фовеолярные рефлексы четкие.\n",
    "\n",
    "Оценка: 1 балл - порядок описания строго соблюдён.\n",
    "\n",
    "**Пример 2**\n",
    "ДЗН розовый, границы чёткие, форма овальная, размер меньше нормы. Экскавация нормальная, в верхне-наружном секторе. Сосудистый пучок расположен внутренне.  \n",
    "Артерии: ход нормальный, извитость прямая, бифуркация под тупым углом, калибр суженный.  \n",
    "Вены: ход смещён наружу, извитость прямая, бифуркация под острым углом, калибр расширенный.  \n",
    "А/В индекс 2:3.  \n",
    "Макулярный рефлекс сглаженный, фовеальный рефлекс нормальный.\n",
    "\n",
    "Оценка: 0 баллов - порядок описания нарушен, описание размера ДЗН идет после описания границ и формы. Описание монотонности опущено.\n",
    "\n",
    "---\n",
    "\n",
    "**Критерий №3: Плавность и естественность языка**  \n",
    "Оцени текст с точки зрения профессионального языка врача-офтальмолога. Текст должен быть грамотным, хорошо читаемым.\n",
    "\n",
    "**Оценка:**  \n",
    "От 0 (очень неестественно) до 5 (максимально естественно и профессионально)\n",
    "\n",
    "Кратко обоснуй оценку, указав стилистически слабые места, если есть.\n",
    "\"\"\"\n"
   ]
  },
  {
   "cell_type": "code",
   "execution_count": 8,
   "id": "1719e6ab",
   "metadata": {},
   "outputs": [],
   "source": [
    "class EvaluationResult(BaseModel):\n",
    "    no_intro_phrases_score: Literal[0, 1] = Field(..., description=\"1, если в тексте нет вводных конструкций и лишних фраз; 0 — если есть хотя бы одна\")\n",
    "    structure_order_score: Literal[0, 1] = Field(..., description=\"1, если порядок описания структур соблюдён строго; 0 — если есть отклонения\")\n",
    "    language_naturalness_score: Literal[0, 1, 2, 3, 4, 5] = Field(..., description=\"Оценка от 0 до 5 за плавность и естественность медицинского языка\")\n",
    "\n",
    "    no_intro_phrases_comment: str = Field(..., description=\"Комментарий к оценке по вводным конструкциям; привести пример при необходимости\")\n",
    "    structure_order_comment: str = Field(..., description=\"Комментарий к оценке порядка структур; указать, где нарушен порядок при необходимости\")\n",
    "    language_naturalness_comment: str = Field(..., description=\"Комментарий к оценке плавности и естественности языка; обосновать балл\")"
   ]
  },
  {
   "cell_type": "code",
   "execution_count": 9,
   "id": "44df58b9",
   "metadata": {},
   "outputs": [],
   "source": [
    "def scoring_function(data_path, type):\n",
    "    df = pd.read_excel(data_path)\n",
    "    texts = df['text']\n",
    "    dataframe_elements = []\n",
    "\n",
    "    for text in tqdm(texts, type):\n",
    "        success = False\n",
    "        while not success:\n",
    "            try:\n",
    "                completion = client.beta.chat.completions.parse(\n",
    "                    model=model_str,\n",
    "                    messages=[\n",
    "                        {\"role\": \"system\", \"content\": system_prompt},\n",
    "                        {\"role\": \"user\", \"content\": text},\n",
    "                    ],\n",
    "                    response_format=EvaluationResult,\n",
    "                )\n",
    "                success = True\n",
    "                json_answer = completion.choices[0].message.content\n",
    "                #print(json_answer)\n",
    "                llm_dict = json.loads(json_answer)\n",
    "                dataframe_elements.append(llm_dict)\n",
    "            except openai.RateLimitError as e:\n",
    "                # print(f\"Rate limit exceeded. Waiting 1 second. Details: {e}\")\n",
    "                time.sleep(30)\n",
    "        \n",
    "\n",
    "    df = pd.DataFrame(dataframe_elements)\n",
    "    df.to_csv(f\"scores_v3/{type}_scores.csv\")"
   ]
  },
  {
   "cell_type": "code",
   "execution_count": 15,
   "id": "cd6804fc",
   "metadata": {},
   "outputs": [
    {
     "name": "stdout",
     "output_type": "stream",
     "text": [
      "('data_v2/TableLlama_data_v2.xlsx', 'TableLlama')\n"
     ]
    },
    {
     "name": "stderr",
     "output_type": "stream",
     "text": [
      "TableLlama:   0%|          | 0/125 [00:00<?, ?it/s]"
     ]
    },
    {
     "name": "stderr",
     "output_type": "stream",
     "text": [
      "TableLlama: 100%|██████████| 125/125 [09:28<00:00,  4.54s/it]\n"
     ]
    }
   ],
   "source": [
    "scoring_metas = [\n",
    "    ('data_v2/Yandex_data_v2.xlsx', 'YandexGPT'),\n",
    "    ('data_v2/T_lite_data_v2.xlsx', 'T-lite'),\n",
    "    ('data_v2/Saiga_Llama3_data_v2.xlsx', 'Saiga_Llama'),\n",
    "    ('data_v2/Gemma3_4b_data_v2.xlsx', 'Gemma3_4b'),\n",
    "    ('data_v2/RuAdapt_Qwen_data_v2.xlsx', 'RuAdapt_Qwen'),\n",
    "    ('data_v2/Saiga_Gemma3_12b_data_v2.xlsx', 'Saiga_Gemma3_12b'), \n",
    "    ('data_v2/TableLlama_data_v2.xlsx', 'TableLlama'),\n",
    "]\n",
    "\n",
    "for meta in scoring_metas:\n",
    "    print(meta)\n",
    "    scoring_function(meta[0], meta[1])"
   ]
  },
  {
   "cell_type": "code",
   "execution_count": null,
   "id": "7b3cba6d",
   "metadata": {},
   "outputs": [],
   "source": [
    "import json\n",
    "import pandas as pd\n",
    "import numpy as np"
   ]
  },
  {
   "cell_type": "code",
   "execution_count": null,
   "id": "963a4183",
   "metadata": {},
   "outputs": [],
   "source": [
    "with open(\"TEST_samples_v2.json\", \"r\", encoding=\"utf-8\") as f:\n",
    "    loaded_samples = json.load(f)"
   ]
  },
  {
   "cell_type": "code",
   "execution_count": null,
   "id": "5eb71974",
   "metadata": {},
   "outputs": [],
   "source": [
    "df_init = pd.DataFrame(loaded_samples)\n",
    "df_init = df_init.map(lambda x: x.lower().replace('ё', 'е') if isinstance(x, str) else x)"
   ]
  },
  {
   "cell_type": "code",
   "execution_count": null,
   "id": "0459ca15",
   "metadata": {},
   "outputs": [],
   "source": [
    "df_init = df_init[['od_color', 'od_monotone', 'od_size', 'od_shape', 'od_border',\n",
    "        'od_excavation_size', 'od_excavation_location', 'od_vessels_location',\n",
    "        'od_excavation_ratio', 'vessels_art_course', 'vessels_art_turtuosity',\n",
    "        'vessels_art_bifurcation', 'vessels_art_caliber', 'vessels_vein_course',\n",
    "        'vessels_vein_turtuosity', 'vessels_vein_bifurcation',\n",
    "        'vessels_vein_caliber', 'vessels_ratio', 'macula_macular_reflex',\n",
    "        'macula_foveal_reflex']]"
   ]
  },
  {
   "cell_type": "markdown",
   "id": "b70b0a03",
   "metadata": {},
   "source": [
    "##  Accuracy scoring results"
   ]
  },
  {
   "cell_type": "code",
   "execution_count": null,
   "id": "f5868e8d",
   "metadata": {},
   "outputs": [],
   "source": [
    "scoring_metas = [\n",
    "    ('scores_v2/YandexGPT_scores.csv', 'YandexGPT'),\n",
    "    ('scores_v2/Saiga_Llama_scores.csv', 'Saiga_Llama'),\n",
    "    ('scores_v2/T-lite_scores.csv', 'T-lite'),\n",
    "    ('scores_v2/Gemma3_4b_scores.csv', 'Gemma3_4b'),\n",
    "    ('scores_v2/RuAdapt_Qwen_scores.csv', 'RuAdapt_Qwen'),\n",
    "    ('scores_v2/Saiga_Gemma3_12b_scores.csv', 'Saiga_Gemma3_12b'), \n",
    "    ('scores_v2/TableLlama_scores.csv', 'TableLlama'),\n",
    "]"
   ]
  },
  {
   "cell_type": "code",
   "execution_count": null,
   "id": "7f9a4fa4",
   "metadata": {},
   "outputs": [
    {
     "name": "stdout",
     "output_type": "stream",
     "text": [
      "Mean accuracy for YandexGPT : 0.735\n",
      "Mean accuracy for Saiga_Llama : 0.634\n",
      "Mean accuracy for T-lite : 0.694\n",
      "Mean accuracy for Gemma3_4b : 0.198\n",
      "Mean accuracy for RuAdapt_Qwen : 0.582\n",
      "Mean accuracy for Saiga_Gemma3_12b : 0.75\n",
      "Mean accuracy for TableLlama : 0.248\n"
     ]
    }
   ],
   "source": [
    "for meta in scoring_metas:\n",
    "    df = pd.read_csv(meta[0])\n",
    "    df = df.drop(['Unnamed: 0'], axis=1)\n",
    "    df = df.map(lambda x: x.lower().replace('ё', 'е') if isinstance(x, str) else x)\n",
    "    try:\n",
    "        df['od_excavation_ratio'] = df['od_excavation_ratio'].astype(str)\n",
    "        srs = df['od_excavation_ratio'].apply(lambda x: x.replace(',', '.')).astype(float)\n",
    "        df['od_excavation_ratio'] = srs\n",
    "    except:\n",
    "        df['od_excavation_ratio'] = df['od_excavation_ratio'].apply(lambda x: x.replace(',', '.'))\n",
    "\n",
    "    df = df[['od_color', 'od_monotone', 'od_size', 'od_shape', 'od_border',\n",
    "        'od_excavation_size', 'od_excavation_location', 'od_vessels_location',\n",
    "        'od_excavation_ratio', 'vessels_art_course', 'vessels_art_turtuosity',\n",
    "        'vessels_art_bifurcation', 'vessels_art_caliber', 'vessels_vein_course',\n",
    "        'vessels_vein_turtuosity', 'vessels_vein_bifurcation',\n",
    "        'vessels_vein_caliber', 'vessels_ratio', 'macula_macular_reflex',\n",
    "        'macula_foveal_reflex']]\n",
    "\n",
    "    mean_acc = np.round(np.mean((df == df_init).sum() / 125), 3)\n",
    "    print(f\"Mean accuracy for {meta[1]} : {mean_acc}\")"
   ]
  },
  {
   "cell_type": "markdown",
   "id": "ddc491f5",
   "metadata": {},
   "source": [
    "## Order, Language, Structure scoring results"
   ]
  },
  {
   "cell_type": "code",
   "execution_count": null,
   "id": "afb3d78b",
   "metadata": {},
   "outputs": [],
   "source": [
    "scoring_metas = [\n",
    "    ('scores_OLS/YandexGPT_scores.csv', 'YandexGPT'),\n",
    "    ('scores_OLS/Saiga_Llama_scores.csv', 'Saiga_Llama'),\n",
    "    ('scores_OLS/T-lite_scores.csv', 'T-lite'),\n",
    "    ('scores_OLS/Gemma3_4b_scores.csv', 'Gemma3_4b'),\n",
    "    ('scores_OLS/RuAdapt_Qwen_scores.csv', 'RuAdapt_Qwen'),\n",
    "    ('scores_OLS/Saiga_Gemma3_12b_scores.csv', 'Saiga_Gemma3_12b'), \n",
    "    ('scores_OLS/TableLlama_scores.csv', 'TableLlama'),\n",
    "]"
   ]
  },
  {
   "cell_type": "code",
   "execution_count": null,
   "id": "3c262017",
   "metadata": {},
   "outputs": [
    {
     "name": "stdout",
     "output_type": "stream",
     "text": [
      "Model YandexGPT\n"
     ]
    },
    {
     "data": {
      "text/plain": [
       "no_intro_phrases_score        1.000\n",
       "structure_order_score         0.656\n",
       "language_naturalness_score    4.432\n",
       "dtype: float64"
      ]
     },
     "metadata": {},
     "output_type": "display_data"
    },
    {
     "name": "stdout",
     "output_type": "stream",
     "text": [
      "Model Saiga_Llama\n"
     ]
    },
    {
     "data": {
      "text/plain": [
       "no_intro_phrases_score        0.912\n",
       "structure_order_score         0.432\n",
       "language_naturalness_score    4.176\n",
       "dtype: float64"
      ]
     },
     "metadata": {},
     "output_type": "display_data"
    },
    {
     "name": "stdout",
     "output_type": "stream",
     "text": [
      "Model T-lite\n"
     ]
    },
    {
     "data": {
      "text/plain": [
       "no_intro_phrases_score        0.952\n",
       "structure_order_score         0.736\n",
       "language_naturalness_score    4.496\n",
       "dtype: float64"
      ]
     },
     "metadata": {},
     "output_type": "display_data"
    },
    {
     "name": "stdout",
     "output_type": "stream",
     "text": [
      "Model Gemma3_4b\n"
     ]
    },
    {
     "data": {
      "text/plain": [
       "no_intro_phrases_score        0.896\n",
       "structure_order_score         0.000\n",
       "language_naturalness_score    3.920\n",
       "dtype: float64"
      ]
     },
     "metadata": {},
     "output_type": "display_data"
    },
    {
     "name": "stdout",
     "output_type": "stream",
     "text": [
      "Model RuAdapt_Qwen\n"
     ]
    },
    {
     "data": {
      "text/plain": [
       "no_intro_phrases_score        0.976\n",
       "structure_order_score         0.360\n",
       "language_naturalness_score    4.224\n",
       "dtype: float64"
      ]
     },
     "metadata": {},
     "output_type": "display_data"
    },
    {
     "name": "stdout",
     "output_type": "stream",
     "text": [
      "Model Saiga_Gemma3_12b\n"
     ]
    },
    {
     "data": {
      "text/plain": [
       "no_intro_phrases_score        1.000\n",
       "structure_order_score         0.648\n",
       "language_naturalness_score    4.496\n",
       "dtype: float64"
      ]
     },
     "metadata": {},
     "output_type": "display_data"
    },
    {
     "name": "stdout",
     "output_type": "stream",
     "text": [
      "Model TableLlama\n"
     ]
    },
    {
     "data": {
      "text/plain": [
       "no_intro_phrases_score        0.304\n",
       "structure_order_score         0.016\n",
       "language_naturalness_score    2.168\n",
       "dtype: float64"
      ]
     },
     "metadata": {},
     "output_type": "display_data"
    }
   ],
   "source": [
    "for meta in scoring_metas:\n",
    "    print(f\"Model {meta[1]}\")\n",
    "\n",
    "    df = pd.read_csv(meta[0])\n",
    "    df = df.drop(['Unnamed: 0'], axis=1)\n",
    "    df_scores = df[['no_intro_phrases_score', 'structure_order_score', 'language_naturalness_score']]\n",
    "    display(df_scores.mean()) "
   ]
  },
  {
   "cell_type": "markdown",
   "id": "cd5c5cbf",
   "metadata": {},
   "source": [
    "## Pathology"
   ]
  },
  {
   "cell_type": "code",
   "execution_count": null,
   "id": "1dbedde5",
   "metadata": {},
   "outputs": [],
   "source": [
    "df_yndx = pd.read_excel('pathology/Yandex_data_pathlgy_v2.xlsx')"
   ]
  },
  {
   "cell_type": "code",
   "execution_count": null,
   "id": "b51140ef",
   "metadata": {},
   "outputs": [],
   "source": [
    "with open(\"pathology/TEST_samples_pathlgy.json\", \"r\", encoding=\"utf-8\") as f:\n",
    "    loaded_samples = json.load(f)"
   ]
  },
  {
   "cell_type": "code",
   "execution_count": null,
   "id": "df9f748d",
   "metadata": {},
   "outputs": [],
   "source": [
    "df_init = pd.DataFrame(loaded_samples)\n",
    "df_init.head()\n",
    "df_pathlgy = df_init[['od_pathology', 'vessels_pathology', 'macula_pathology', 'peripheral_pathology']]\n",
    "df_pathlgy = df_pathlgy.join(df_yndx)\n",
    "df_pathlgy.to_excel('pathology/Yandex_pathology_full.xlsx', index=False)"
   ]
  },
  {
   "cell_type": "code",
   "execution_count": null,
   "id": "4ddeaeb0",
   "metadata": {},
   "outputs": [
    {
     "data": {
      "text/html": [
       "<div>\n",
       "<style scoped>\n",
       "    .dataframe tbody tr th:only-of-type {\n",
       "        vertical-align: middle;\n",
       "    }\n",
       "\n",
       "    .dataframe tbody tr th {\n",
       "        vertical-align: top;\n",
       "    }\n",
       "\n",
       "    .dataframe thead th {\n",
       "        text-align: right;\n",
       "    }\n",
       "</style>\n",
       "<table border=\"1\" class=\"dataframe\">\n",
       "  <thead>\n",
       "    <tr style=\"text-align: right;\">\n",
       "      <th></th>\n",
       "      <th>od_pathology</th>\n",
       "      <th>vessels_pathology</th>\n",
       "      <th>macula_pathology</th>\n",
       "      <th>peripheral_pathology</th>\n",
       "      <th>text</th>\n",
       "      <th>time</th>\n",
       "    </tr>\n",
       "  </thead>\n",
       "  <tbody>\n",
       "    <tr>\n",
       "      <th>0</th>\n",
       "      <td>К наружи от экскавации темно-серый очаг с четк...</td>\n",
       "      <td>По ходу сосудов единичные шарообразные утолщен...</td>\n",
       "      <td>Дополнительно присутствуют кольцевидные рефлек...</td>\n",
       "      <td>По всему глазному дну множественные очаги крас...</td>\n",
       "      <td>ДЗН бледно-розовый, наблюдается монотонность, ...</td>\n",
       "      <td>11.228165</td>\n",
       "    </tr>\n",
       "    <tr>\n",
       "      <th>1</th>\n",
       "      <td>К наружи от экскавации темно-серый очаг с четк...</td>\n",
       "      <td>По ходу сосудов единичные шарообразные утолщен...</td>\n",
       "      <td>Дополнительно присутствуют кольцевидные рефлек...</td>\n",
       "      <td>Единичный очаг отслойки сетчатки на периферии,...</td>\n",
       "      <td>ДЗН бледно-розовый, наблюдается монотонность, ...</td>\n",
       "      <td>6.386166</td>\n",
       "    </tr>\n",
       "    <tr>\n",
       "      <th>2</th>\n",
       "      <td>К наружи от экскавации темно-серый очаг с четк...</td>\n",
       "      <td>По ходу сосудов единичные шарообразные утолщен...</td>\n",
       "      <td>Дополнительно присутствуют кольцевидные рефлек...</td>\n",
       "      <td>Множественные мелкие пигментированные очаги кр...</td>\n",
       "      <td>ДЗН бледно-розовый, наблюдается монотонность, ...</td>\n",
       "      <td>6.578877</td>\n",
       "    </tr>\n",
       "    <tr>\n",
       "      <th>3</th>\n",
       "      <td>К наружи от экскавации темно-серый очаг с четк...</td>\n",
       "      <td>По ходу сосудов единичные шарообразные утолщен...</td>\n",
       "      <td>В макуле видны крупные пузырьки (кисты) с проз...</td>\n",
       "      <td>По всему глазному дну множественные очаги крас...</td>\n",
       "      <td>ДЗН бледно-розовый, наблюдается монотонность, ...</td>\n",
       "      <td>6.555842</td>\n",
       "    </tr>\n",
       "    <tr>\n",
       "      <th>4</th>\n",
       "      <td>К наружи от экскавации темно-серый очаг с четк...</td>\n",
       "      <td>По ходу сосудов единичные шарообразные утолщен...</td>\n",
       "      <td>В макуле видны крупные пузырьки (кисты) с проз...</td>\n",
       "      <td>Единичный очаг отслойки сетчатки на периферии,...</td>\n",
       "      <td>ДЗН бледно-розовый, наблюдается монотонность, ...</td>\n",
       "      <td>6.725252</td>\n",
       "    </tr>\n",
       "  </tbody>\n",
       "</table>\n",
       "</div>"
      ],
      "text/plain": [
       "                                        od_pathology  \\\n",
       "0  К наружи от экскавации темно-серый очаг с четк...   \n",
       "1  К наружи от экскавации темно-серый очаг с четк...   \n",
       "2  К наружи от экскавации темно-серый очаг с четк...   \n",
       "3  К наружи от экскавации темно-серый очаг с четк...   \n",
       "4  К наружи от экскавации темно-серый очаг с четк...   \n",
       "\n",
       "                                   vessels_pathology  \\\n",
       "0  По ходу сосудов единичные шарообразные утолщен...   \n",
       "1  По ходу сосудов единичные шарообразные утолщен...   \n",
       "2  По ходу сосудов единичные шарообразные утолщен...   \n",
       "3  По ходу сосудов единичные шарообразные утолщен...   \n",
       "4  По ходу сосудов единичные шарообразные утолщен...   \n",
       "\n",
       "                                    macula_pathology  \\\n",
       "0  Дополнительно присутствуют кольцевидные рефлек...   \n",
       "1  Дополнительно присутствуют кольцевидные рефлек...   \n",
       "2  Дополнительно присутствуют кольцевидные рефлек...   \n",
       "3  В макуле видны крупные пузырьки (кисты) с проз...   \n",
       "4  В макуле видны крупные пузырьки (кисты) с проз...   \n",
       "\n",
       "                                peripheral_pathology  \\\n",
       "0  По всему глазному дну множественные очаги крас...   \n",
       "1  Единичный очаг отслойки сетчатки на периферии,...   \n",
       "2  Множественные мелкие пигментированные очаги кр...   \n",
       "3  По всему глазному дну множественные очаги крас...   \n",
       "4  Единичный очаг отслойки сетчатки на периферии,...   \n",
       "\n",
       "                                                text       time  \n",
       "0  ДЗН бледно-розовый, наблюдается монотонность, ...  11.228165  \n",
       "1  ДЗН бледно-розовый, наблюдается монотонность, ...   6.386166  \n",
       "2  ДЗН бледно-розовый, наблюдается монотонность, ...   6.578877  \n",
       "3  ДЗН бледно-розовый, наблюдается монотонность, ...   6.555842  \n",
       "4  ДЗН бледно-розовый, наблюдается монотонность, ...   6.725252  "
      ]
     },
     "metadata": {},
     "output_type": "display_data"
    }
   ],
   "source": [
    "df_pathlgy.head()"
   ]
  },
  {
   "cell_type": "code",
   "execution_count": null,
   "id": "803d8a2f",
   "metadata": {},
   "outputs": [],
   "source": []
  }
 ],
 "metadata": {
  "kernelspec": {
   "display_name": ".venv",
   "language": "python",
   "name": "python3"
  },
  "language_info": {
   "codemirror_mode": {
    "name": "ipython",
    "version": 3
   },
   "file_extension": ".py",
   "mimetype": "text/x-python",
   "name": "python",
   "nbconvert_exporter": "python",
   "pygments_lexer": "ipython3",
   "version": "3.13.2"
  }
 },
 "nbformat": 4,
 "nbformat_minor": 5
}
