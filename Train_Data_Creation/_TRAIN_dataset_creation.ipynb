{
 "cells": [
  {
   "cell_type": "code",
   "execution_count": 1,
   "id": "7bf5d250-de1c-42f4-ad5e-6a4a1aa976d6",
   "metadata": {
    "execution": {
     "iopub.execute_input": "2025-05-04T14:16:49.796974Z",
     "iopub.status.busy": "2025-05-04T14:16:49.795917Z",
     "iopub.status.idle": "2025-05-04T14:16:52.181644Z",
     "shell.execute_reply": "2025-05-04T14:16:52.180866Z",
     "shell.execute_reply.started": "2025-05-04T14:16:49.796926Z"
    },
    "tags": []
   },
   "outputs": [],
   "source": [
    "import pandas as pd\n",
    "import numpy as np\n",
    "import itertools\n",
    "import random\n",
    "import json\n",
    "from sklearn.model_selection import train_test_split\n",
    "import yaml"
   ]
  },
  {
   "cell_type": "code",
   "execution_count": 2,
   "id": "9b030f9c-90bb-4a84-a55b-08bdb456d91d",
   "metadata": {
    "execution": {
     "iopub.execute_input": "2025-05-02T15:00:58.445645Z",
     "iopub.status.busy": "2025-05-02T15:00:58.442632Z",
     "iopub.status.idle": "2025-05-02T15:00:58.486333Z",
     "shell.execute_reply": "2025-05-02T15:00:58.484598Z",
     "shell.execute_reply.started": "2025-05-02T15:00:58.445570Z"
    },
    "tags": []
   },
   "outputs": [],
   "source": [
    "params_values_dict = {\n",
    "    'od_color' : [\"Серый\", \"Белый\", \"Бледный\", \"Бледно-Розовый\", \"Розовый\", \"Гиперемированный\"],\n",
    "    'od_monotone': [\"Наблюдается\", \"Не наблюдается\"],\n",
    "    'od_size': [\"Нормальный\", \"Больше нормы\", \"Меньше нормы\"],\n",
    "    'od_shape': [\"Правильная\", \"Овальная\", \"Не правильная\"],\n",
    "    'od_border': [\"Четкие\", \"Размытые\"],\n",
    "    'od_excavation_size': [\"Нормальный\", \"Больше нормы\", \"Меньше нормы\"],\n",
    "    'od_excavation_location': [\"В центре\", \"Верхний\", \"Нижний\", \"Наружный\", \"Внутренний\", \"Верхне-наружный\",\n",
    "                              \"Верхне-внутренний\", \"Нижне-наружный\", \"Нижне-внутренний\"],\n",
    "    'od_vessels_location': [\"В центре\", \"Верхний\", \"Нижний\", \"Наружный\", \"Внутренний\", \"Верхне-наружный\",\n",
    "                              \"Верхне-внутренний\", \"Нижне-наружный\", \"Нижне-внутренний\"],\n",
    "    'od_excavation_ratio': [0.4, 0.9, 0.3, 0.5, 0.7, 0.6, 0.8, 0],\n",
    "    'od_pathology' : [\"К наружи от экскавации темно-серый очаг с четкими границами 0.2 ДД.\",\n",
    "                      \"ДЗН бледный с нечеткими границами и расширенной экскавацией до 0,6 ДД.\",\n",
    "                      \"На границе ДЗН серовато-белый очаг овальной формы с размытыми краями размером 0,3 ДД.\",\n",
    "                      \"ДЗН отечен, выступает в стекловидное тело, границы стерты.\",\n",
    "                      \"В височном секторе ДЗН пигментированный очаг коричневого цвета, округлый, размером 0,2 ДД.\",\n",
    "                      \"На поверхности ДЗН выявлен точечный белесый очаг диаметром около 0,1 ДД.\",\n",
    "                      \"ДЗН имеет дрезообразные отложения на поверхности с четкими контурами.\",\n",
    "                      \"В верхне-височном сегменте ДЗН сероватый очаг неправильной формы размером 0,25 ДД.\",\n",
    "                      \"Парапапиллярно выявлены мелкие участки атрофии хориоретинальной ткани с четкими границами.\",\n",
    "                      \"ДЗН уплощен, с экскавацией до 0,4 ДД, границы четкие, ткани диска истончены.\",\n",
    "                 ],\n",
    "    'vessels_art_course': [\"Нормальный\", \"Смещение наружу\", \"Смещение внутрь\"],\n",
    "    'vessels_art_turtuosity': [\"Нормальная\", \"Извитые\", \"Прямые\"],\n",
    "    'vessels_art_bifurcation': [\"Нормальная\", \"Под острым углом\", \"Под тупым углом\"],\n",
    "    'vessels_art_caliber': [\"Нормальный\", \"Расширенный\", \"Суженный\"],\n",
    "    'vessels_vein_course': [\"Нормальный\", \"Смещение наружу\", \"Смещение внутрь\"],\n",
    "    'vessels_vein_turtuosity': [\"Нормальная\", \"Извитые\", \"Прямые\"],\n",
    "    'vessels_vein_bifurcation': [\"Нормальная\", \"Под острым углом\", \"Под тупым углом\"],\n",
    "    'vessels_vein_caliber': [\"Нормальный\", \"Расширенный\", \"Суженный\"],\n",
    "    'vessels_ratio': [\"2:3\", \"1:3\", \"4:6\", \"1:1.5\", \"1:1\"],\n",
    "    'vessels_pathology': [\"По ходу сосудов единичные шарообразные утолщения стенок сосудов, окружённое очагами красного цвета с четкими границами (кровоизлияния)\",\n",
    "                         \"Вдоль сосудов видны желтовато-белые отложения (экссудаты) с четкими границами.\",\n",
    "                         \"Височные сосудистые аркады деформированы, артериовенозные перекресты с признаками компрессии.\",\n",
    "                         \"Извитость венул в области сосудистых аркад с точечными кровоизлияниями.\",\n",
    "                         \"Неравномерный калибр сосудов с выраженным сужением артериол в центральной зоне сетчатки.\",\n",
    "                         \"Штопорообразная извитость мелких артериол на переферии сетчатки.\",\n",
    "                         \"Кистевидные аневризмы артериол сетчатки с единичными точечными кровоизлияниями вокруг.\",\n",
    "                         \"Локальные участки облитерации сосудов сетчатки с ишемическими зонами.\",\n",
    "                         \"Утолщение стенок сосудов в виде серебристых тяжей (симптом «серебряной проволоки»).\",\n",
    "                         \"Сосуды неравномерно сужены, отмечаются зоны прерывания кровотока в виде пустых сегментов.\",\n",
    "                         \"Сосуды сетчатки окружены мелкими очагами кровоизлияний, напоминающими «языки пламени».\",\n",
    "                         ],\n",
    "    'macula_macular_reflex': [\"Нормальный\", \"Сглаженный\", \"Отсутсвует\"],\n",
    "    'macula_foveal_reflex': [\"Нормальный\", \"Сглаженный\", \"Отсутсвует\"],\n",
    "    'macula_pathology': [\"Дополнительно присутствуют кольцевидные рефлексы (кистовидный отёк).\",\n",
    "                        \"Макула отечна, границы нечёткие, присутствует звездчатая фигура из твердых экссудатов.\",\n",
    "                        \"В области макулы выявлен крупный беловатый очаг овальной формы с неровными краями размером 0,4 ДД.\",\n",
    "                        \"Центр макулы покрыт желтоватыми отложениями (друзы) с четкими контурами.\",\n",
    "                        \"Выраженный диффузный отёк макулы, рефлекс отсутствует, присутствуют мелкие точечные кровоизлияния.\",\n",
    "                        \"В макуле видны крупные пузырьки (кисты) с прозрачным содержимым.\",\n",
    "                        \"Макула содержит пигментированный очаг коричневатого оттенка с четкими границами.\",\n",
    "                        \"На периферии макулярной зоны отмечается серовато-белый отёчный вал с четкой границей.\",\n",
    "                        \"Центральная ямка сглажена, окружена венчиком из мелких кровоизлияний.\",\n",
    "                        \"Макула покрыта крупными кольцевидными отложениями липидного характера (экссудаты).\"\n",
    "                        ],\n",
    "    'peripheral_pathology': [\"По всему глазному дну множественные очаги красного цвета (кровоизлияния).\",\n",
    "                            \"По периферии множественные серовато-белые очаги хориоретинальной атрофии с четкими контурами.\",\n",
    "                            \"Локальная зона истончения сетчатки с признаками решётчатой дегенерации.\",\n",
    "                            \"Обширный участок периферической хориоретинальной атрофии с четкими границами и гиперпигментацией.\",\n",
    "                            \"По всей периферии разбросаны мелкие округлые желтоватые очаги (друзы) с чёткими контурами.\",\n",
    "                            \"Периферические зоны сетчатки содержат участки тракционных складок с вытянутыми очагами кровоизлияний.\",\n",
    "                            \"Единичный очаг отслойки сетчатки на периферии, граница складчатая.\",\n",
    "                            \"Периферические кисты сетчатки с серозным содержимым и четкими контурами.\",\n",
    "                            \"Периферическая ретиношизис с разделением слоев сетчатки, границы четкие.\",\n",
    "                            \"Множественные мелкие пигментированные очаги круглой формы на периферии сетчатки.\",\n",
    "                            \"На периферии сетчатки отмечаются единичные очаги отёка с локальными кровоизлияниями вокруг.\"\n",
    "                            ]\n",
    "}"
   ]
  },
  {
   "cell_type": "code",
   "execution_count": 3,
   "id": "ebd03166-b6a1-4f8b-a614-7d4df108c4ea",
   "metadata": {
    "execution": {
     "iopub.execute_input": "2025-05-02T15:00:58.495408Z",
     "iopub.status.busy": "2025-05-02T15:00:58.488939Z",
     "iopub.status.idle": "2025-05-02T15:00:58.525786Z",
     "shell.execute_reply": "2025-05-02T15:00:58.523785Z",
     "shell.execute_reply.started": "2025-05-02T15:00:58.495322Z"
    },
    "tags": []
   },
   "outputs": [
    {
     "name": "stdout",
     "output_type": "stream",
     "text": [
      "Всего комбинаций: 1500092133408000\n"
     ]
    }
   ],
   "source": [
    "num_combinations = 1\n",
    "for key in params_values_dict:\n",
    "    num_combinations *= len(params_values_dict[key])\n",
    "    \n",
    "print(f\"Всего комбинаций: {num_combinations}\")"
   ]
  },
  {
   "cell_type": "markdown",
   "id": "f2b292a7-05fe-4e12-997a-8be16503a62d",
   "metadata": {},
   "source": [
    "Применяем Latin Hypercube Sampling для подвыборки параметров размером 200 элементов.\n",
    "\n",
    "Данный подход гарантирует, что каждое значения параметра будет использовано как минимум 1 раз"
   ]
  },
  {
   "cell_type": "code",
   "execution_count": 4,
   "id": "3b87adb3-e26c-4d6a-8eaa-ac55c2534a92",
   "metadata": {
    "execution": {
     "iopub.execute_input": "2025-05-02T15:00:58.533029Z",
     "iopub.status.busy": "2025-05-02T15:00:58.530941Z",
     "iopub.status.idle": "2025-05-02T15:00:58.567206Z",
     "shell.execute_reply": "2025-05-02T15:00:58.565573Z",
     "shell.execute_reply.started": "2025-05-02T15:00:58.532956Z"
    },
    "tags": []
   },
   "outputs": [],
   "source": [
    "def lhs_categorical(params_values_dict: dict, n_samples: int, random_state: int = None) -> pd.DataFrame:\n",
    "    \"\"\"\n",
    "    Latin Hypercube Sampling for categorical parameters.\n",
    "    \n",
    "    Для каждого параметра создаём n_samples «слоёв»,\n",
    "    в каждом слое случайно берём точку, а потом\n",
    "    отображаем дробную позицию [0,1) на индексы категорий.\n",
    "    \n",
    "    :param params_values_dict: dict, ключ — имя параметра, значение — список категорий\n",
    "    :param n_samples: int, число итоговых выборок\n",
    "    :param random_state: int или None, фиксатор для воспроизводимости\n",
    "    :return: pd.DataFrame размером (n_samples, len(params_values_dict))\n",
    "    \"\"\"\n",
    "    rng = np.random.default_rng(random_state)\n",
    "    param_names = list(params_values_dict.keys())\n",
    "    k = len(param_names)\n",
    "    \n",
    "    # матрица дробных позиций: shape = (k, n_samples)\n",
    "    U = np.zeros((k, n_samples), dtype=float)\n",
    "    \n",
    "    for i, name in enumerate(param_names):\n",
    "        # stratified uniform: (rand + layer_index) / n_samples\n",
    "        u = (rng.random(n_samples) + np.arange(n_samples)) / n_samples\n",
    "        # переставим слои в случайном порядке\n",
    "        rng.shuffle(u)\n",
    "        U[i, :] = u\n",
    "    \n",
    "    # теперь для каждого параметра отображаем u -> индекс категории\n",
    "    samples = []\n",
    "    for j in range(n_samples):\n",
    "        row = {}\n",
    "        for i, name in enumerate(param_names):\n",
    "            categories = params_values_dict[name]\n",
    "            d = len(categories)\n",
    "            # вычисляем индекс: floor(u * d), но не больше d-1\n",
    "            idx = min(int(np.floor(U[i, j] * d)), d - 1)\n",
    "            row[name] = categories[idx]\n",
    "        samples.append(row)\n",
    "    \n",
    "    return pd.DataFrame(samples, columns=param_names)\n"
   ]
  },
  {
   "cell_type": "code",
   "execution_count": 5,
   "id": "e1f3c8ba-29e5-4c43-a611-e4d830c7bdb1",
   "metadata": {
    "execution": {
     "iopub.execute_input": "2025-05-02T15:00:58.574888Z",
     "iopub.status.busy": "2025-05-02T15:00:58.569590Z",
     "iopub.status.idle": "2025-05-02T15:00:58.626179Z",
     "shell.execute_reply": "2025-05-02T15:00:58.624689Z",
     "shell.execute_reply.started": "2025-05-02T15:00:58.574797Z"
    },
    "tags": []
   },
   "outputs": [],
   "source": [
    "# генерируем DataFrame\n",
    "df_train = lhs_categorical(params_values_dict, n_samples=150, random_state=42)\n",
    "df_test = lhs_categorical(params_values_dict, n_samples=50, random_state=42)"
   ]
  },
  {
   "cell_type": "markdown",
   "id": "1e3b9392-ac46-40f3-87bf-48bb65ee7ab8",
   "metadata": {},
   "source": [
    "Проверка на упоминания каждого значения параметра:"
   ]
  },
  {
   "cell_type": "code",
   "execution_count": 7,
   "id": "2f423e00-b36a-4ec5-b8d6-023abacec9fc",
   "metadata": {
    "execution": {
     "iopub.execute_input": "2025-05-02T15:01:05.691544Z",
     "iopub.status.busy": "2025-05-02T15:01:05.688047Z",
     "iopub.status.idle": "2025-05-02T15:01:05.753044Z",
     "shell.execute_reply": "2025-05-02T15:01:05.749506Z",
     "shell.execute_reply.started": "2025-05-02T15:01:05.691402Z"
    },
    "tags": []
   },
   "outputs": [
    {
     "name": "stdout",
     "output_type": "stream",
     "text": [
      "od_color: 6\n",
      "od_monotone: 2\n",
      "od_size: 3\n",
      "od_shape: 3\n",
      "od_border: 2\n",
      "od_excavation_size: 3\n",
      "od_excavation_location: 9\n",
      "od_vessels_location: 9\n",
      "od_excavation_ratio: 8\n",
      "od_pathology: 10\n",
      "vessels_art_course: 3\n",
      "vessels_art_turtuosity: 3\n",
      "vessels_art_bifurcation: 3\n",
      "vessels_art_caliber: 3\n",
      "vessels_vein_course: 3\n",
      "vessels_vein_turtuosity: 3\n",
      "vessels_vein_bifurcation: 3\n",
      "vessels_vein_caliber: 3\n",
      "vessels_ratio: 5\n",
      "vessels_pathology: 11\n",
      "macula_macular_reflex: 3\n",
      "macula_foveal_reflex: 3\n",
      "macula_pathology: 10\n",
      "peripheral_pathology: 11\n"
     ]
    }
   ],
   "source": [
    "for column in df_test.columns:\n",
    "    print(f\"{column}: {len(df_test[column].unique())}\")"
   ]
  },
  {
   "cell_type": "code",
   "execution_count": 8,
   "id": "42884e2f-e155-46a2-ac46-e82d62e67b5d",
   "metadata": {
    "execution": {
     "iopub.execute_input": "2025-05-02T15:01:06.551548Z",
     "iopub.status.busy": "2025-05-02T15:01:06.549786Z",
     "iopub.status.idle": "2025-05-02T15:01:06.615162Z",
     "shell.execute_reply": "2025-05-02T15:01:06.611794Z",
     "shell.execute_reply.started": "2025-05-02T15:01:06.551410Z"
    },
    "tags": []
   },
   "outputs": [
    {
     "name": "stdout",
     "output_type": "stream",
     "text": [
      "od_color: 6\n",
      "od_monotone: 2\n",
      "od_size: 3\n",
      "od_shape: 3\n",
      "od_border: 2\n",
      "od_excavation_size: 3\n",
      "od_excavation_location: 9\n",
      "od_vessels_location: 9\n",
      "od_excavation_ratio: 8\n",
      "od_pathology: 10\n",
      "vessels_art_course: 3\n",
      "vessels_art_turtuosity: 3\n",
      "vessels_art_bifurcation: 3\n",
      "vessels_art_caliber: 3\n",
      "vessels_vein_course: 3\n",
      "vessels_vein_turtuosity: 3\n",
      "vessels_vein_bifurcation: 3\n",
      "vessels_vein_caliber: 3\n",
      "vessels_ratio: 5\n",
      "vessels_pathology: 11\n",
      "macula_macular_reflex: 3\n",
      "macula_foveal_reflex: 3\n",
      "macula_pathology: 10\n",
      "peripheral_pathology: 11\n"
     ]
    }
   ],
   "source": [
    "for key in params_values_dict:\n",
    "    print(f\"{key}: {len(params_values_dict[key])}\")"
   ]
  },
  {
   "cell_type": "markdown",
   "id": "d6106664-8b24-4d16-a4bc-ea981cb18e22",
   "metadata": {
    "jp-MarkdownHeadingCollapsed": true,
    "tags": []
   },
   "source": [
    "## Разбиваем на тренировочную и тестовую выборки"
   ]
  },
  {
   "cell_type": "code",
   "execution_count": 9,
   "id": "a35222f3-86c0-421e-b89f-9f363c5b8d9f",
   "metadata": {
    "execution": {
     "iopub.execute_input": "2025-05-02T15:01:08.062308Z",
     "iopub.status.busy": "2025-05-02T15:01:08.059572Z",
     "iopub.status.idle": "2025-05-02T15:01:08.139725Z",
     "shell.execute_reply": "2025-05-02T15:01:08.136334Z",
     "shell.execute_reply.started": "2025-05-02T15:01:08.062165Z"
    },
    "tags": []
   },
   "outputs": [],
   "source": [
    "df_train.to_csv('/home/jupyter/datasphere/project/TEST_pathology/train.csv')"
   ]
  },
  {
   "cell_type": "code",
   "execution_count": 10,
   "id": "e21e42bd-77a9-4440-a31b-6f37b623262a",
   "metadata": {
    "execution": {
     "iopub.execute_input": "2025-05-02T15:01:08.555312Z",
     "iopub.status.busy": "2025-05-02T15:01:08.552051Z",
     "iopub.status.idle": "2025-05-02T15:01:08.625020Z",
     "shell.execute_reply": "2025-05-02T15:01:08.621801Z",
     "shell.execute_reply.started": "2025-05-02T15:01:08.555113Z"
    },
    "tags": []
   },
   "outputs": [],
   "source": [
    "df_test.to_csv('/home/jupyter/datasphere/project/TEST_pathology/test.csv')"
   ]
  },
  {
   "cell_type": "markdown",
   "id": "01b24798-7f65-42e2-b61b-f803e3acd3f6",
   "metadata": {
    "jp-MarkdownHeadingCollapsed": true,
    "tags": []
   },
   "source": [
    "## Промты для GPT-4.5 для создания обучающего набора текстов"
   ]
  },
  {
   "cell_type": "code",
   "execution_count": 11,
   "id": "9d57fb2a-8807-49e8-b976-29c870aca47a",
   "metadata": {
    "execution": {
     "iopub.execute_input": "2025-05-02T15:01:11.084392Z",
     "iopub.status.busy": "2025-05-02T15:01:11.080124Z",
     "iopub.status.idle": "2025-05-02T15:01:11.155985Z",
     "shell.execute_reply": "2025-05-02T15:01:11.152671Z",
     "shell.execute_reply.started": "2025-05-02T15:01:11.084256Z"
    },
    "tags": []
   },
   "outputs": [],
   "source": [
    "def get_prompt_v2_pathlgy_2(sample_dict):\n",
    "    json_text = f\"\"\"\n",
    "    {{\n",
    "    \"ДЗН\": {{\n",
    "        \"Цвет\": \"{sample_dict[\"od_color\"]}\",\n",
    "        \"Монотонность\": \"{sample_dict[\"od_monotone\"]}\",\n",
    "        \"Размер\": \"{sample_dict[\"od_size\"]}\",\n",
    "        \"Форма\": \"{sample_dict[\"od_shape\"]}\",\n",
    "        \"Границы\": \"{sample_dict[\"od_border\"]}\",\n",
    "        \"Экскавация\": {{\n",
    "            \"Размер\": {sample_dict[\"od_excavation_size\"]},\n",
    "            \"Сектор\": {sample_dict[\"od_excavation_location\"]}\n",
    "        }},\n",
    "        \"Э/Д\": {sample_dict[\"od_excavation_ratio\"]},\n",
    "        \"Сосудистый пучок\": {sample_dict[\"od_vessels_location\"]},\n",
    "        \"Патология ДЗН\",: {sample_dict[\"od_pathology\"]}, \n",
    "    }},\n",
    "    \"Сосуды\": {{\n",
    "        \"Артерии\": {{\n",
    "            \"Ход\": {sample_dict[\"vessels_art_course\"]},\n",
    "            \"Извитость\": {sample_dict[\"vessels_art_turtuosity\"]},\n",
    "            \"Бифуркация\": {sample_dict[\"vessels_art_bifurcation\"]},\n",
    "            \"Калибр\": {sample_dict[\"vessels_art_caliber\"]}\n",
    "        }},\n",
    "        \"Вены\": {{\n",
    "            \"Ход\": {sample_dict[\"vessels_vein_course\"]},\n",
    "            \"Извитость\": {sample_dict[\"vessels_vein_turtuosity\"]},\n",
    "            \"Бифуркация\": {sample_dict[\"vessels_vein_bifurcation\"]},\n",
    "            \"Калибр\": {sample_dict[\"vessels_vein_caliber\"]}\n",
    "        }},\n",
    "        \"А/В индекс\": {sample_dict[\"vessels_ratio\"]},\n",
    "        \"Патология Сосудов\": {sample_dict[\"vessels_pathology\"]},\n",
    "    }},\n",
    "    \"Макула\": {{\n",
    "        \"Макулярный рефлекс\": {sample_dict[\"macula_macular_reflex\"]},\n",
    "        \"Фовеальный рефлекс\": {sample_dict[\"macula_foveal_reflex\"]},\n",
    "        \"Патология Макулы\": {sample_dict[\"macula_pathology\"]},\n",
    "    }},\n",
    "    \"Переферия\": {{\n",
    "        \"Патология Переферии\": {sample_dict[\"peripheral_pathology\"]},\n",
    "    }}\n",
    "    }}\n",
    "    \"\"\"\n",
    "\n",
    "    prompt_tmp = f\"\"\"**Задача:**\n",
    "На основе предоставленного JSON-документа с параметрами глазного дна составь развёрнутое текстовое заключение. Ориентируйся на стиль и структуру примера, стремясь к естественной, живой и грамотной формулировке текста.\n",
    "\n",
    "**Формат:**\n",
    "- Описание должно быть текстовым, структурированным и последовательным, как в приведённом примере.\n",
    "- Допускается совместное описание артерий и вен, если у них одинаковые параметры (Пример 1). Если параметры разные, их необходимо описывать отдельно (Пример 2).\n",
    "- Не надо включать в текстовое описание пояснения из скобок в текстах патологий.\n",
    "\n",
    "**Данные:**\n",
    "JSON-документ:\n",
    "{json_text}\n",
    "\n",
    "**Пример 1:**\n",
    "ДЗН бледно-розовый, монотонность не наблюдается, диск нормального размера и правильной формы, границы диска четкие. Экскавация диска нормального размера, расположена в центре, соотношение э/д = 0.3. Сосудистый пучок расположен в центре. ДЗН отечен, выступает в стекловидное тело, границы стерты.\n",
    "Сосуды имеют нормальный ход и нормальную извитость, бифуркация и калибр в норме, соотношение калибра артерий и вен 2/3. Штопорообразная извитость мелких артериол на переферии сетчатки. \n",
    "Макулярный и фовеолярные рефлексы четкие. Макула отечна, границы нечёткие, присутствует звездчатая фигура из твердых экссудатов.\n",
    "По периферии множественные серовато-белые очаги хориоретинальной атрофии с четкими контурами.\n",
    "\n",
    "**Пример 2:**\n",
    "ДЗН серый, монотонный, границы размытые, овальной формы, увеличенного размера. Экскавация расширена, в центре, соотношение э/д = 0.6. Сосудистый пучок расположен центрально. К наружи от экскавации темно-серый очаг с четкими границами 0.2 ДД.\n",
    "Артерии смещены наружу, извитые, бифуркация под острым углом, калибр расширен. Вены имеют нормальный ход, извитость нормальная, бифуркация нормальная, калибр расширенный, соотношение А/В = 1/1. По ходу сосудов единичные шарообразные утолщения стенок сосудов, окружённое очагами красного цвета с четкими границами. \n",
    "Макулярный рефлекс сглаженный, фовеолярный отсутствует. Дополнительно присутствуют кольцевидные рефлексы. \n",
    "По всему глазному дну множественные очаги красного цвета.\n",
    "\n",
    "**Твоя задача:**  \n",
    "Создай полное текстовое описание глазного дна по JSON-документу, следуй телеграфному стилю, правилам формата и примерам.\n",
    "\"\"\"\n",
    "    return prompt_tmp"
   ]
  },
  {
   "cell_type": "markdown",
   "id": "db0eb789-d3d8-4e4a-adb0-a9a1d7c7e1d6",
   "metadata": {},
   "source": [
    "#### train"
   ]
  },
  {
   "cell_type": "code",
   "execution_count": 13,
   "id": "f4e494c0-f833-4d62-b921-f44177d065e4",
   "metadata": {
    "execution": {
     "iopub.execute_input": "2025-05-02T15:01:22.010135Z",
     "iopub.status.busy": "2025-05-02T15:01:22.006479Z",
     "iopub.status.idle": "2025-05-02T15:01:22.053551Z",
     "shell.execute_reply": "2025-05-02T15:01:22.052335Z",
     "shell.execute_reply.started": "2025-05-02T15:01:22.010025Z"
    },
    "tags": []
   },
   "outputs": [],
   "source": [
    "df_train = pd.read_csv('/home/jupyter/datasphere/project/TRAIN/train.csv')\n",
    "train_json = df_train.to_dict(orient='records')"
   ]
  },
  {
   "cell_type": "code",
   "execution_count": 15,
   "id": "375db334-6e15-4ab6-8b0c-d590b515ea85",
   "metadata": {
    "execution": {
     "iopub.execute_input": "2025-05-02T15:01:35.106842Z",
     "iopub.status.busy": "2025-05-02T15:01:35.104171Z",
     "iopub.status.idle": "2025-05-02T15:01:35.184975Z",
     "shell.execute_reply": "2025-05-02T15:01:35.181487Z",
     "shell.execute_reply.started": "2025-05-02T15:01:35.106701Z"
    },
    "tags": []
   },
   "outputs": [],
   "source": [
    "GPT_train_prompts = [get_prompt_v2_pathlgy_2(sample) for sample in train_json]\n",
    "\n",
    "with open(\"/home/jupyter/datasphere/project/TEST_pathology/GPT/GPT_train_prompts.json\", \"w\", encoding=\"utf-8\") as f:\n",
    "    json.dump(GPT_train_prompts, f, ensure_ascii=False, indent=4)"
   ]
  },
  {
   "cell_type": "markdown",
   "id": "1a3061ea-63e0-4362-9c8f-25c0581a18b3",
   "metadata": {},
   "source": [
    "#### test"
   ]
  },
  {
   "cell_type": "code",
   "execution_count": 16,
   "id": "cc7fcc8c-3cce-4c43-a3f1-500076f64a9a",
   "metadata": {
    "execution": {
     "iopub.execute_input": "2025-05-02T15:02:08.886111Z",
     "iopub.status.busy": "2025-05-02T15:02:08.882868Z",
     "iopub.status.idle": "2025-05-02T15:02:08.954505Z",
     "shell.execute_reply": "2025-05-02T15:02:08.951868Z",
     "shell.execute_reply.started": "2025-05-02T15:02:08.885972Z"
    }
   },
   "outputs": [],
   "source": [
    "df_test = pd.read_csv('/home/jupyter/datasphere/project/TEST_pathology/test.csv')\n",
    "test_json = df_test.to_dict(orient='records')\n",
    "\n",
    "test_prompts = [get_prompt_v2_pathlgy_2(sample) for sample in test_json]\n",
    "\n",
    "with open(\"/home/jupyter/datasphere/project/TEST_pathology/test_prompts.json\", \"w\", encoding=\"utf-8\") as f:\n",
    "    json.dump(test_prompts, f, ensure_ascii=False, indent=4)"
   ]
  },
  {
   "cell_type": "markdown",
   "id": "a66e8561-33d2-43c0-a8c5-abf1f4996938",
   "metadata": {
    "tags": []
   },
   "source": [
    "## Промты для дообучения YandexGPT"
   ]
  },
  {
   "cell_type": "code",
   "execution_count": 2,
   "id": "d33d2762-8c2e-4b34-88d5-be85a3bf33aa",
   "metadata": {
    "execution": {
     "iopub.execute_input": "2025-05-04T14:18:03.063080Z",
     "iopub.status.busy": "2025-05-04T14:18:03.061871Z",
     "iopub.status.idle": "2025-05-04T14:18:03.078875Z",
     "shell.execute_reply": "2025-05-04T14:18:03.077976Z",
     "shell.execute_reply.started": "2025-05-04T14:18:03.063024Z"
    },
    "tags": []
   },
   "outputs": [],
   "source": [
    "def get_prompt_lora_YGPT(sample_dict):\n",
    "    json_text = f\"\"\"\n",
    "    {{\n",
    "    \"ДЗН\": {{\n",
    "        \"Цвет\": \"{sample_dict[\"od_color\"]}\",\n",
    "        \"Монотонность\": \"{sample_dict[\"od_monotone\"]}\",\n",
    "        \"Размер\": \"{sample_dict[\"od_size\"]}\",\n",
    "        \"Форма\": \"{sample_dict[\"od_shape\"]}\",\n",
    "        \"Границы\": \"{sample_dict[\"od_border\"]}\",\n",
    "        \"Экскавация\": {{\n",
    "            \"Размер\": {sample_dict[\"od_excavation_size\"]},\n",
    "            \"Сектор\": {sample_dict[\"od_excavation_location\"]}\n",
    "        }},\n",
    "        \"Э/Д\": {sample_dict[\"od_excavation_ratio\"]},\n",
    "        \"Сосудистый пучок\": {sample_dict[\"od_vessels_location\"]},\n",
    "        \"Патология ДЗН\",: {sample_dict[\"od_pathology\"]}, \n",
    "    }},\n",
    "    \"Сосуды\": {{\n",
    "        \"Артерии\": {{\n",
    "            \"Ход\": {sample_dict[\"vessels_art_course\"]},\n",
    "            \"Извитость\": {sample_dict[\"vessels_art_turtuosity\"]},\n",
    "            \"Бифуркация\": {sample_dict[\"vessels_art_bifurcation\"]},\n",
    "            \"Калибр\": {sample_dict[\"vessels_art_caliber\"]}\n",
    "        }},\n",
    "        \"Вены\": {{\n",
    "            \"Ход\": {sample_dict[\"vessels_vein_course\"]},\n",
    "            \"Извитость\": {sample_dict[\"vessels_vein_turtuosity\"]},\n",
    "            \"Бифуркация\": {sample_dict[\"vessels_vein_bifurcation\"]},\n",
    "            \"Калибр\": {sample_dict[\"vessels_vein_caliber\"]}\n",
    "        }},\n",
    "        \"А/В индекс\": {sample_dict[\"vessels_ratio\"]},\n",
    "        \"Патология Сосудов\": {sample_dict[\"vessels_pathology\"]},\n",
    "    }},\n",
    "    \"Макула\": {{\n",
    "        \"Макулярный рефлекс\": {sample_dict[\"macula_macular_reflex\"]},\n",
    "        \"Фовеальный рефлекс\": {sample_dict[\"macula_foveal_reflex\"]},\n",
    "        \"Патология Макулы\": {sample_dict[\"macula_pathology\"]},\n",
    "    }},\n",
    "    \"Переферия\": {{\n",
    "        \"Патология Переферии\": {sample_dict[\"peripheral_pathology\"]},\n",
    "    }}\n",
    "    }}\n",
    "    \"\"\"\n",
    "\n",
    "    prompt_tmp = f\"\"\"**Задача:**\n",
    "На основе предоставленного JSON-документа с параметрами глазного дна составь его развёрнутое текстовое описание. Cтремись к естественной, живой и грамотной формулировке текста.\n",
    "\n",
    "**Формат:**\n",
    "- Описание должно быть текстовым, структурированным и последовательным.\n",
    "- Допускается совместное описание артерий и вен, если у них одинаковые параметры. Если параметры разные, их необходимо описывать отдельно.\n",
    "- Запрещено включать в описание пояснения из скобок.\n",
    "- У тебя должно получиться 4 абзаца.\n",
    "\n",
    "**Данные:**\n",
    "JSON-документ:\n",
    "{json_text}\n",
    "\"\"\"\n",
    "    return prompt_tmp"
   ]
  },
  {
   "cell_type": "code",
   "execution_count": 3,
   "id": "dbb5a468-603b-486e-904c-27ae42bbbef4",
   "metadata": {
    "execution": {
     "iopub.execute_input": "2025-05-04T14:18:05.685323Z",
     "iopub.status.busy": "2025-05-04T14:18:05.684036Z",
     "iopub.status.idle": "2025-05-04T14:18:05.751903Z",
     "shell.execute_reply": "2025-05-04T14:18:05.751013Z",
     "shell.execute_reply.started": "2025-05-04T14:18:05.685268Z"
    },
    "tags": []
   },
   "outputs": [],
   "source": [
    "df_train = pd.read_csv('/home/jupyter/datasphere/project/TRAIN/train.csv')\n",
    "train_json = df_train.to_dict(orient='records')"
   ]
  },
  {
   "cell_type": "code",
   "execution_count": 4,
   "id": "324f1806-1143-4f3a-9f47-47bed8783524",
   "metadata": {
    "execution": {
     "iopub.execute_input": "2025-05-04T14:18:06.424554Z",
     "iopub.status.busy": "2025-05-04T14:18:06.423401Z",
     "iopub.status.idle": "2025-05-04T14:18:06.477925Z",
     "shell.execute_reply": "2025-05-04T14:18:06.477013Z",
     "shell.execute_reply.started": "2025-05-04T14:18:06.424517Z"
    },
    "tags": []
   },
   "outputs": [],
   "source": [
    "train_texts_path = '/home/jupyter/datasphere/project/TRAIN/GPT/train_texts.json'\n",
    "with open(train_texts_path, \"r\", encoding=\"utf-8\") as f:\n",
    "    train_texts_json = json.load(f)"
   ]
  },
  {
   "cell_type": "code",
   "execution_count": 5,
   "id": "3ad7af73-e362-4adc-ba61-02431bd76941",
   "metadata": {
    "execution": {
     "iopub.execute_input": "2025-05-04T14:18:07.897131Z",
     "iopub.status.busy": "2025-05-04T14:18:07.896372Z",
     "iopub.status.idle": "2025-05-04T14:18:07.908691Z",
     "shell.execute_reply": "2025-05-04T14:18:07.907908Z",
     "shell.execute_reply.started": "2025-05-04T14:18:07.897100Z"
    },
    "tags": []
   },
   "outputs": [],
   "source": [
    "yandex_train_prompts = [get_prompt_lora_YGPT(sample) for sample in train_json]"
   ]
  },
  {
   "cell_type": "code",
   "execution_count": 6,
   "id": "a17757e9-b724-451a-aefb-838db16d442c",
   "metadata": {
    "execution": {
     "iopub.execute_input": "2025-05-04T14:18:10.053276Z",
     "iopub.status.busy": "2025-05-04T14:18:10.052371Z",
     "iopub.status.idle": "2025-05-04T14:18:10.145330Z",
     "shell.execute_reply": "2025-05-04T14:18:10.144424Z",
     "shell.execute_reply.started": "2025-05-04T14:18:10.053241Z"
    },
    "tags": []
   },
   "outputs": [
    {
     "data": {
      "text/html": [
       "<div>\n",
       "<style scoped>\n",
       "    .dataframe tbody tr th:only-of-type {\n",
       "        vertical-align: middle;\n",
       "    }\n",
       "\n",
       "    .dataframe tbody tr th {\n",
       "        vertical-align: top;\n",
       "    }\n",
       "\n",
       "    .dataframe thead th {\n",
       "        text-align: right;\n",
       "    }\n",
       "</style>\n",
       "<table border=\"1\" class=\"dataframe\">\n",
       "  <thead>\n",
       "    <tr style=\"text-align: right;\">\n",
       "      <th></th>\n",
       "      <th>input</th>\n",
       "      <th>output_text</th>\n",
       "    </tr>\n",
       "  </thead>\n",
       "  <tbody>\n",
       "    <tr>\n",
       "      <th>0</th>\n",
       "      <td>**Задача:**\\nНа основе предоставленного JSON-д...</td>\n",
       "      <td>ДЗН бледно-розовый, монотонный, уменьшенного р...</td>\n",
       "    </tr>\n",
       "    <tr>\n",
       "      <th>1</th>\n",
       "      <td>**Задача:**\\nНа основе предоставленного JSON-д...</td>\n",
       "      <td>ДЗН белого цвета, монотонный, увеличенного раз...</td>\n",
       "    </tr>\n",
       "    <tr>\n",
       "      <th>2</th>\n",
       "      <td>**Задача:**\\nНа основе предоставленного JSON-д...</td>\n",
       "      <td>ДЗН гиперемированный, монотонность не наблюдае...</td>\n",
       "    </tr>\n",
       "    <tr>\n",
       "      <th>3</th>\n",
       "      <td>**Задача:**\\nНа основе предоставленного JSON-д...</td>\n",
       "      <td>ДЗН гиперемированный, монотонность наблюдается...</td>\n",
       "    </tr>\n",
       "    <tr>\n",
       "      <th>4</th>\n",
       "      <td>**Задача:**\\nНа основе предоставленного JSON-д...</td>\n",
       "      <td>ДЗН гиперемированный, монотонный, уменьшенного...</td>\n",
       "    </tr>\n",
       "  </tbody>\n",
       "</table>\n",
       "</div>"
      ],
      "text/plain": [
       "                                               input                                        output_text\n",
       "0  **Задача:**\\nНа основе предоставленного JSON-д...  ДЗН бледно-розовый, монотонный, уменьшенного р...\n",
       "1  **Задача:**\\nНа основе предоставленного JSON-д...  ДЗН белого цвета, монотонный, увеличенного раз...\n",
       "2  **Задача:**\\nНа основе предоставленного JSON-д...  ДЗН гиперемированный, монотонность не наблюдае...\n",
       "3  **Задача:**\\nНа основе предоставленного JSON-д...  ДЗН гиперемированный, монотонность наблюдается...\n",
       "4  **Задача:**\\nНа основе предоставленного JSON-д...  ДЗН гиперемированный, монотонный, уменьшенного..."
      ]
     },
     "execution_count": 6,
     "metadata": {},
     "output_type": "execute_result"
    }
   ],
   "source": [
    "df_tmp_1 = pd.DataFrame(yandex_train_prompts, columns=['input'])\n",
    "df_tmp_2 = pd.DataFrame(train_texts_json)\n",
    "df_ygpt_train = df_tmp_1.join(df_tmp_2)[['input', 'output_text']]\n",
    "df_ygpt_train.head()"
   ]
  },
  {
   "cell_type": "code",
   "execution_count": 7,
   "id": "11ff5e7e-3f25-4800-a25e-64dff628e483",
   "metadata": {
    "execution": {
     "iopub.execute_input": "2025-05-04T14:18:17.389837Z",
     "iopub.status.busy": "2025-05-04T14:18:17.388763Z",
     "iopub.status.idle": "2025-05-04T14:18:17.477034Z",
     "shell.execute_reply": "2025-05-04T14:18:17.476208Z",
     "shell.execute_reply.started": "2025-05-04T14:18:17.389793Z"
    },
    "tags": []
   },
   "outputs": [],
   "source": [
    "df_ygpt_train.to_csv('/home/jupyter/datasphere/project/TRAIN/YGPT_TRAIN_pairs_v2.csv', index=False)"
   ]
  },
  {
   "cell_type": "markdown",
   "id": "c096d6bc-aaab-4957-a917-5c38ee9a7ec9",
   "metadata": {},
   "source": [
    "Создаем JSONL/YAML документ для дообучения модели с помощью torchtune"
   ]
  },
  {
   "cell_type": "code",
   "execution_count": 8,
   "id": "5a5467d1-12bb-4561-bb34-1d9175b92498",
   "metadata": {
    "execution": {
     "iopub.execute_input": "2025-05-04T14:18:22.725041Z",
     "iopub.status.busy": "2025-05-04T14:18:22.723957Z",
     "iopub.status.idle": "2025-05-04T14:18:22.761482Z",
     "shell.execute_reply": "2025-05-04T14:18:22.760613Z",
     "shell.execute_reply.started": "2025-05-04T14:18:22.725000Z"
    },
    "tags": []
   },
   "outputs": [],
   "source": [
    "import json\n",
    "\n",
    "records = [\n",
    "    {\n",
    "        \"instruction\": row[\"input\"],\n",
    "        \"input\": \"\",\n",
    "        \"output\": row[\"output_text\"]\n",
    "    }\n",
    "    for _, row in df_ygpt_train.iterrows()\n",
    "]\n",
    "\n",
    "# Write JSONL\n",
    "jsonl_path = '/home/jupyter/datasphere/project/TRAIN/ygpt_train_pairs_instruct_v2.jsonl'\n",
    "with open(jsonl_path, 'w', encoding='utf-8') as f:\n",
    "    for record in records:\n",
    "        f.write(json.dumps(record, ensure_ascii=False) + '\\n')"
   ]
  },
  {
   "cell_type": "code",
   "execution_count": null,
   "id": "434067a0-80b5-4e1a-8440-4aafe164da17",
   "metadata": {},
   "outputs": [],
   "source": []
  }
 ],
 "metadata": {
  "kernelspec": {
   "display_name": "DataSphere Kernel",
   "language": "python",
   "name": "python3"
  },
  "language_info": {
   "codemirror_mode": {
    "name": "ipython",
    "version": 3
   },
   "file_extension": ".py",
   "mimetype": "text/x-python",
   "name": "python",
   "nbconvert_exporter": "python",
   "pygments_lexer": "ipython3",
   "version": "3.10.12"
  }
 },
 "nbformat": 4,
 "nbformat_minor": 5
}
