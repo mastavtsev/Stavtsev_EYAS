{
 "cells": [
  {
   "cell_type": "code",
   "execution_count": 6,
   "id": "4c22209d-ba7d-49c2-9203-f4820cbd0335",
   "metadata": {
    "execution": {
     "iopub.execute_input": "2025-04-27T11:03:02.225679Z",
     "iopub.status.busy": "2025-04-27T11:03:02.224507Z",
     "iopub.status.idle": "2025-04-27T11:03:02.240720Z",
     "shell.execute_reply": "2025-04-27T11:03:02.239844Z",
     "shell.execute_reply.started": "2025-04-27T11:03:02.225639Z"
    },
    "tags": []
   },
   "outputs": [],
   "source": [
    "import pandas as pd\n",
    "import itertools\n",
    "import random\n",
    "import json"
   ]
  },
  {
   "cell_type": "code",
   "execution_count": 7,
   "id": "5b5207df-dc20-4e45-927d-e17ee3881c82",
   "metadata": {
    "execution": {
     "iopub.execute_input": "2025-04-27T11:03:09.930371Z",
     "iopub.status.busy": "2025-04-27T11:03:09.929202Z",
     "iopub.status.idle": "2025-04-27T11:03:09.972966Z",
     "shell.execute_reply": "2025-04-27T11:03:09.972047Z",
     "shell.execute_reply.started": "2025-04-27T11:03:09.930323Z"
    },
    "tags": []
   },
   "outputs": [],
   "source": [
    "valid_descr_path = \"/home/jupyter/datasphere/project/valid_descr.csv\"\n",
    "\n",
    "valid_descr = pd.read_csv(valid_descr_path)"
   ]
  },
  {
   "cell_type": "code",
   "execution_count": null,
   "id": "277d759c-04aa-4a07-a0a2-5b17cee3453a",
   "metadata": {
    "execution": {
     "iopub.execute_input": "2025-04-27T11:03:10.500840Z",
     "iopub.status.busy": "2025-04-27T11:03:10.499479Z",
     "iopub.status.idle": "2025-04-27T11:03:10.522304Z",
     "shell.execute_reply": "2025-04-27T11:03:10.521473Z",
     "shell.execute_reply.started": "2025-04-27T11:03:10.500791Z"
    },
    "tags": []
   },
   "outputs": [
    {
     "data": {
      "text/plain": [
       "array([nan, 0.4, 0.9, 0.3, 0.5, 0.7, 0.6, 0.8, 0. ])"
      ]
     },
     "execution_count": 8,
     "metadata": {},
     "output_type": "execute_result"
    }
   ],
   "source": [
    "valid_descr['od_excavation_ratio'].unique()"
   ]
  },
  {
   "cell_type": "code",
   "execution_count": null,
   "id": "781c3ac8-8543-4fa9-adbb-fd75ccdd1bbc",
   "metadata": {
    "execution": {
     "iopub.execute_input": "2025-04-27T11:03:10.749051Z",
     "iopub.status.busy": "2025-04-27T11:03:10.748004Z",
     "iopub.status.idle": "2025-04-27T11:03:10.762390Z",
     "shell.execute_reply": "2025-04-27T11:03:10.761360Z",
     "shell.execute_reply.started": "2025-04-27T11:03:10.749001Z"
    },
    "tags": []
   },
   "outputs": [
    {
     "data": {
      "text/plain": [
       "array(['2:3'], dtype=object)"
      ]
     },
     "execution_count": 9,
     "metadata": {},
     "output_type": "execute_result"
    }
   ],
   "source": [
    "valid_descr['vessels_ratio'].unique()"
   ]
  },
  {
   "cell_type": "markdown",
   "id": "48c1eb85-6ca5-4086-8db2-a371fac8cb70",
   "metadata": {},
   "source": [
    "Соберём словарь параметров и их всех возможных значений\n",
    "\n",
    "Значения для показателей ratio взял из реальных данных, полученных выше"
   ]
  },
  {
   "cell_type": "code",
   "execution_count": 10,
   "id": "ce3d2494-602e-4d45-b151-0d35525f1c74",
   "metadata": {
    "execution": {
     "iopub.execute_input": "2025-04-27T11:03:11.574064Z",
     "iopub.status.busy": "2025-04-27T11:03:11.572904Z",
     "iopub.status.idle": "2025-04-27T11:03:11.614585Z",
     "shell.execute_reply": "2025-04-27T11:03:11.613711Z",
     "shell.execute_reply.started": "2025-04-27T11:03:11.574016Z"
    },
    "tags": []
   },
   "outputs": [],
   "source": [
    "params_values_dict = {\n",
    "    'od_color' : [\"Серый\", \"Белый\", \"Бледный\", \"Бледно-Розовый\", \"Розовый\", \"Гиперемированный\"],\n",
    "    'od_monotone': [\"Наблюдается\", \"Не наблюдается\"],\n",
    "    'od_size': [\"Нормальный\", \"Больше нормы\", \"Меньше нормы\"],\n",
    "    'od_shape': [\"Правильная\", \"Овальная\", \"Не правильная\"],\n",
    "    'od_border': [\"Четкие\", \"Размытые\"],\n",
    "    'od_excavation_size': [\"Нормальный\", \"Больше нормы\", \"Меньше нормы\"],\n",
    "    'od_excavation_location': [\"В центре\", \"Верхний\", \"Нижний\", \"Наружный\", \"Внутренний\", \"Верхне-наружный\",\n",
    "                              \"Верхне-внутренний\", \"Нижне-наружный\", \"Нижне-внутренний\"],\n",
    "    'od_vessels_location': [\"В центре\", \"Верхний\", \"Нижний\", \"Наружный\", \"Внутренний\", \"Верхне-наружный\",\n",
    "                              \"Верхне-внутренний\", \"Нижне-наружный\", \"Нижне-внутренний\"],\n",
    "    'od_excavation_ratio': [0.4, 0.9, 0.3, 0.5, 0.7, 0.6, 0.8, 0],\n",
    "    'vessels_art_course': [\"Нормальный\", \"Смещение наружу\", \"Смещение внутрь\"],\n",
    "    'vessels_art_turtuosity': [\"Нормальная\", \"Извитые\", \"Прямые\"],\n",
    "    'vessels_art_bifurcation': [\"Нормальная\", \"Под острым углом\", \"Под тупым углом\"],\n",
    "    'vessels_art_caliber': [\"Нормальный\", \"Расширенный\", \"Суженный\"],\n",
    "    'vessels_vein_course': [\"Нормальный\", \"Смещение наружу\", \"Смещение внутрь\"],\n",
    "    'vessels_vein_turtuosity': [\"Нормальная\", \"Извитые\", \"Прямые\"],\n",
    "    'vessels_vein_bifurcation': [\"Нормальная\", \"Под острым углом\", \"Под тупым углом\"],\n",
    "    'vessels_vein_caliber': [\"Нормальный\", \"Расширенный\", \"Суженный\"],\n",
    "    'vessels_ratio': [\"2:3\"],\n",
    "    'macula_macular_reflex': [\"Нормальный\", \"Сглаженный\", \"Отсутсвует\"],\n",
    "    'macula_foveal_reflex': [\"Нормальный\", \"Сглаженный\", \"Отсутсвует\"],\n",
    "}"
   ]
  },
  {
   "cell_type": "markdown",
   "id": "d7dc14d1-32bc-4af5-848d-804485a9742a",
   "metadata": {},
   "source": [
    "Посчитаем количество уникальных комбинаций параметров"
   ]
  },
  {
   "cell_type": "code",
   "execution_count": 11,
   "id": "5340c00d-86ef-4acb-8687-400db8f2813b",
   "metadata": {
    "execution": {
     "iopub.execute_input": "2025-04-27T11:03:13.979181Z",
     "iopub.status.busy": "2025-04-27T11:03:13.977911Z",
     "iopub.status.idle": "2025-04-27T11:03:14.004383Z",
     "shell.execute_reply": "2025-04-27T11:03:14.003476Z",
     "shell.execute_reply.started": "2025-04-27T11:03:13.979128Z"
    },
    "tags": []
   },
   "outputs": [
    {
     "name": "stdout",
     "output_type": "stream",
     "text": [
      "Всего комбинаций: 24794911296\n"
     ]
    }
   ],
   "source": [
    "num_combinations = 1\n",
    "for key in params_values_dict:\n",
    "    num_combinations *= len(params_values_dict[key])\n",
    "    \n",
    "print(f\"Всего комбинаций: {num_combinations}\")"
   ]
  },
  {
   "cell_type": "markdown",
   "id": "571caebd-fdd4-4c9a-91a9-e3199759bc3a",
   "metadata": {},
   "source": [
    "Теперь выберем 100 случайных комбиинаций параметров, и зафиксируем получившийся набор как JSON.\n",
    "\n",
    "Получившийся JSON будем использовать для генерации запросов для всех LLM при их сравнении. "
   ]
  },
  {
   "cell_type": "code",
   "execution_count": 13,
   "id": "e988d795-01c8-40d6-9b6b-256ebae0290a",
   "metadata": {
    "execution": {
     "iopub.execute_input": "2025-04-27T11:12:29.033791Z",
     "iopub.status.busy": "2025-04-27T11:12:29.032656Z",
     "iopub.status.idle": "2025-04-27T11:12:29.045001Z",
     "shell.execute_reply": "2025-04-27T11:12:29.044108Z",
     "shell.execute_reply.started": "2025-04-27T11:12:29.033753Z"
    }
   },
   "outputs": [],
   "source": [
    "def get_random_combinations(params_dict, n=100):\n",
    "    keys = list(params_dict.keys())\n",
    "    result = []\n",
    "    for _ in range(n):\n",
    "        combo = {key: random.choice(params_dict[key]) for key in keys}\n",
    "        result.append(combo)\n",
    "    return result"
   ]
  },
  {
   "cell_type": "code",
   "execution_count": 14,
   "id": "99847c1d-1ca0-4ae7-8784-c0465baddafc",
   "metadata": {
    "execution": {
     "iopub.execute_input": "2025-04-22T12:03:17.795956Z",
     "iopub.status.busy": "2025-04-22T12:03:17.794557Z",
     "iopub.status.idle": "2025-04-22T12:03:17.812154Z",
     "shell.execute_reply": "2025-04-22T12:03:17.811314Z",
     "shell.execute_reply.started": "2025-04-22T12:03:17.795908Z"
    },
    "tags": []
   },
   "outputs": [],
   "source": [
    "# Выборка 100 случайных комбинаций\n",
    "random_combos = get_random_combinations(params_values_dict, 100)"
   ]
  },
  {
   "cell_type": "markdown",
   "id": "e89d7d3a-6ba3-4251-86a4-2145a41d9351",
   "metadata": {},
   "source": [
    "Проверяем, что получили действительно 100 различных комбинаций, потому что в подходе выше это не гарантировано random-ом"
   ]
  },
  {
   "cell_type": "code",
   "execution_count": 15,
   "id": "804450bc-795e-4427-b9d8-c609bad70edb",
   "metadata": {
    "execution": {
     "iopub.execute_input": "2025-04-22T12:03:19.389152Z",
     "iopub.status.busy": "2025-04-22T12:03:19.388022Z",
     "iopub.status.idle": "2025-04-22T12:03:19.449351Z",
     "shell.execute_reply": "2025-04-22T12:03:19.448432Z",
     "shell.execute_reply.started": "2025-04-22T12:03:19.389100Z"
    },
    "tags": []
   },
   "outputs": [],
   "source": [
    "random_combos_df = pd.DataFrame(random_combos)"
   ]
  },
  {
   "cell_type": "code",
   "execution_count": 18,
   "id": "8264f035-d03c-4da9-9497-d6c38ee3f447",
   "metadata": {
    "execution": {
     "iopub.execute_input": "2025-04-27T11:13:13.497689Z",
     "iopub.status.busy": "2025-04-27T11:13:13.497014Z",
     "iopub.status.idle": "2025-04-27T11:13:13.516359Z",
     "shell.execute_reply": "2025-04-27T11:13:13.515476Z",
     "shell.execute_reply.started": "2025-04-27T11:13:13.497656Z"
    }
   },
   "outputs": [],
   "source": [
    "columns_to_check = [\n",
    "    'od_color',\n",
    "    'od_monotone',\n",
    "    'od_size',\n",
    "    'od_shape',\n",
    "    'od_border',\n",
    "    'od_excavation_size',\n",
    "    'od_excavation_location',\n",
    "    'od_excavation_ratio',\n",
    "    'od_vessels_location',\n",
    "    'vessels_art_course',\n",
    "    'vessels_art_turtuosity',\n",
    "    'vessels_art_bifurcation',\n",
    "    'vessels_art_caliber',\n",
    "    'vessels_vein_course',\n",
    "    'vessels_vein_turtuosity',\n",
    "    'vessels_vein_bifurcation',\n",
    "    'vessels_vein_caliber',\n",
    "    'vessels_ratio',\n",
    "    'macula_macular_reflex',\n",
    "    'macula_foveal_reflex',\n",
    "]"
   ]
  },
  {
   "cell_type": "code",
   "execution_count": null,
   "id": "d4cdc7e1-73a7-478b-b8d5-555a3db309fd",
   "metadata": {
    "tags": []
   },
   "outputs": [],
   "source": [
    "random_combos_df.groupby(columns_to_check).ngroups"
   ]
  },
  {
   "cell_type": "markdown",
   "id": "936fe3c9-a4a7-4a8a-a0a7-194c8507478d",
   "metadata": {},
   "source": [
    "Добавим также в комбинации параметров, где значения у артерий и вен пересекаются.\n",
    "\n",
    "Это необходимо для того, чтобы проверить, на сколько модель способна понять входную инструкцию о том, что если есть совпадение параметров у этих двух структур, то их допускается описывать совместно. "
   ]
  },
  {
   "cell_type": "code",
   "execution_count": 15,
   "id": "84d2b731-de52-4b91-a55c-b4221ceee882",
   "metadata": {
    "execution": {
     "iopub.execute_input": "2025-04-27T11:12:49.602316Z",
     "iopub.status.busy": "2025-04-27T11:12:49.601209Z",
     "iopub.status.idle": "2025-04-27T11:12:49.628718Z",
     "shell.execute_reply": "2025-04-27T11:12:49.627802Z",
     "shell.execute_reply.started": "2025-04-27T11:12:49.602248Z"
    }
   },
   "outputs": [],
   "source": [
    "params_values_dict_av = {\n",
    "    'od_color' : [\"Серый\", \"Белый\", \"Бледный\", \"Бледно-Розовый\", \"Розовый\", \"Гиперемированный\"],\n",
    "    'od_monotone': [\"Наблюдается\", \"Не наблюдается\"],\n",
    "    'od_size': [\"Нормальный\", \"Больше нормы\", \"Меньше нормы\"],\n",
    "    'od_shape': [\"Правильная\", \"Овальная\", \"Не правильная\"],\n",
    "    'od_border': [\"Четкие\", \"Размытые\"],\n",
    "    'od_excavation_size': [\"Нормальный\", \"Больше нормы\", \"Меньше нормы\"],\n",
    "    'od_excavation_location': [\"В центре\", \"Верхний\", \"Нижний\", \"Наружный\", \"Внутренний\", \"Верхне-наружный\",\n",
    "                              \"Верхне-внутренний\", \"Нижне-наружный\", \"Нижне-внутренний\"],\n",
    "    'od_vessels_location': [\"В центре\", \"Верхний\", \"Нижний\", \"Наружный\", \"Внутренний\", \"Верхне-наружный\",\n",
    "                              \"Верхне-внутренний\", \"Нижне-наружный\", \"Нижне-внутренний\"],\n",
    "    'od_excavation_ratio': [0.4, 0.9, 0.3, 0.5, 0.7, 0.6, 0.8, 0],\n",
    "    'vessels_art_course': [\"Смещение наружу\"],\n",
    "    'vessels_art_turtuosity': [\"Извитые\",],\n",
    "    'vessels_art_bifurcation': [\"Под острым углом\"],\n",
    "    'vessels_art_caliber': [\"Нормальный\"],\n",
    "    'vessels_vein_course': [\"Смещение наружу\"],\n",
    "    'vessels_vein_turtuosity': [\"Извитые\"],\n",
    "    'vessels_vein_bifurcation': [\"Под острым углом\", ],\n",
    "    'vessels_vein_caliber': [\"Нормальный\"],\n",
    "    'vessels_ratio': [\"2:3\"],\n",
    "    'macula_macular_reflex': [\"Нормальный\", \"Сглаженный\", \"Отсутсвует\"],\n",
    "    'macula_foveal_reflex': [\"Нормальный\", \"Сглаженный\", \"Отсутсвует\"],\n",
    "}"
   ]
  },
  {
   "cell_type": "code",
   "execution_count": 16,
   "id": "c2c32dab-f711-4508-b224-12c14325f9cd",
   "metadata": {
    "execution": {
     "iopub.execute_input": "2025-04-27T11:12:49.774822Z",
     "iopub.status.busy": "2025-04-27T11:12:49.773556Z",
     "iopub.status.idle": "2025-04-27T11:12:49.785833Z",
     "shell.execute_reply": "2025-04-27T11:12:49.784999Z",
     "shell.execute_reply.started": "2025-04-27T11:12:49.774781Z"
    },
    "tags": []
   },
   "outputs": [],
   "source": [
    "random_combos_av = get_random_combinations(params_values_dict_av, 25)"
   ]
  },
  {
   "cell_type": "code",
   "execution_count": 21,
   "id": "8e8f9259-67b5-4f9a-9953-56786ec578fb",
   "metadata": {
    "execution": {
     "iopub.execute_input": "2025-04-27T11:13:46.982969Z",
     "iopub.status.busy": "2025-04-27T11:13:46.981767Z",
     "iopub.status.idle": "2025-04-27T11:13:47.003365Z",
     "shell.execute_reply": "2025-04-27T11:13:47.002533Z",
     "shell.execute_reply.started": "2025-04-27T11:13:46.982925Z"
    },
    "tags": []
   },
   "outputs": [
    {
     "data": {
      "text/plain": [
       "25"
      ]
     },
     "execution_count": 21,
     "metadata": {},
     "output_type": "execute_result"
    }
   ],
   "source": [
    "random_combos_av_df = pd.DataFrame(random_combos_av)\n",
    "random_combos_av_df.groupby(columns_to_check).ngroups"
   ]
  },
  {
   "cell_type": "code",
   "execution_count": 22,
   "id": "025666be-4ff6-4630-bded-2962e659e9ce",
   "metadata": {
    "execution": {
     "iopub.execute_input": "2025-04-27T11:14:01.200479Z",
     "iopub.status.busy": "2025-04-27T11:14:01.199526Z",
     "iopub.status.idle": "2025-04-27T11:14:01.214040Z",
     "shell.execute_reply": "2025-04-27T11:14:01.213197Z",
     "shell.execute_reply.started": "2025-04-27T11:14:01.200443Z"
    }
   },
   "outputs": [],
   "source": [
    "with open(\"TEST_samples.json\", \"r\", encoding=\"utf-8\") as f:\n",
    "    random_combos = json.load(f)"
   ]
  },
  {
   "cell_type": "code",
   "execution_count": 27,
   "id": "010bfd87-7c5d-402d-b337-efa8370def6b",
   "metadata": {
    "execution": {
     "iopub.execute_input": "2025-04-27T11:15:50.283008Z",
     "iopub.status.busy": "2025-04-27T11:15:50.282022Z",
     "iopub.status.idle": "2025-04-27T11:15:50.295476Z",
     "shell.execute_reply": "2025-04-27T11:15:50.294479Z",
     "shell.execute_reply.started": "2025-04-27T11:15:50.282973Z"
    },
    "tags": []
   },
   "outputs": [],
   "source": [
    "random_combos.extend(random_combos_av)"
   ]
  },
  {
   "cell_type": "markdown",
   "id": "38483e4d-8a1a-42ca-8b9d-df8fd98878cc",
   "metadata": {},
   "source": [
    "Сохраняем наши комбинации в формате JSON"
   ]
  },
  {
   "cell_type": "code",
   "execution_count": 28,
   "id": "826c0253-35f7-4c86-a9b7-a617360eb8cb",
   "metadata": {
    "execution": {
     "iopub.execute_input": "2025-04-27T11:16:04.934658Z",
     "iopub.status.busy": "2025-04-27T11:16:04.933417Z",
     "iopub.status.idle": "2025-04-27T11:16:04.972675Z",
     "shell.execute_reply": "2025-04-27T11:16:04.971664Z",
     "shell.execute_reply.started": "2025-04-27T11:16:04.934607Z"
    },
    "tags": []
   },
   "outputs": [],
   "source": [
    "with open(\"TEST_samples_v2.json\", \"w\", encoding=\"utf-8\") as f:\n",
    "    json.dump(random_combos, f, ensure_ascii=False, indent=4)"
   ]
  },
  {
   "cell_type": "markdown",
   "id": "b691146b-e1ff-46ed-8a41-da738c21942a",
   "metadata": {},
   "source": [
    "Подгружаем наши комбинации из json документа"
   ]
  },
  {
   "cell_type": "code",
   "execution_count": 29,
   "id": "b00e0348-ffe5-4006-ac8f-eb8b612a66e2",
   "metadata": {
    "execution": {
     "iopub.execute_input": "2025-04-27T11:16:10.761730Z",
     "iopub.status.busy": "2025-04-27T11:16:10.760600Z",
     "iopub.status.idle": "2025-04-27T11:16:10.774925Z",
     "shell.execute_reply": "2025-04-27T11:16:10.773951Z",
     "shell.execute_reply.started": "2025-04-27T11:16:10.761685Z"
    },
    "tags": []
   },
   "outputs": [],
   "source": [
    "with open(\"TEST_samples_v2.json\", \"r\", encoding=\"utf-8\") as f:\n",
    "    loaded_samples = json.load(f)"
   ]
  },
  {
   "cell_type": "markdown",
   "id": "f21847a5-3fa2-406b-b278-0ee23d30fb19",
   "metadata": {},
   "source": [
    "Теперь создадим шаблон промта для моделей. "
   ]
  },
  {
   "cell_type": "code",
   "execution_count": 32,
   "id": "3166a563-0e41-4597-8bf1-321d5ecf651d",
   "metadata": {
    "execution": {
     "iopub.execute_input": "2025-04-27T11:16:47.672109Z",
     "iopub.status.busy": "2025-04-27T11:16:47.671206Z",
     "iopub.status.idle": "2025-04-27T11:16:47.695846Z",
     "shell.execute_reply": "2025-04-27T11:16:47.694757Z",
     "shell.execute_reply.started": "2025-04-27T11:16:47.672065Z"
    },
    "tags": []
   },
   "outputs": [],
   "source": [
    "def get_prompt_v2(sample_dict):\n",
    "    json_text = f\"\"\"\n",
    "    {{\n",
    "    \"ДЗН\": {{\n",
    "        \"Цвет\": \"{sample_dict[\"od_color\"]}\",\n",
    "        \"Монотонность\": \"{sample_dict[\"od_monotone\"]}\",\n",
    "        \"Размер\": \"{sample_dict[\"od_size\"]}\",\n",
    "        \"Форма\": \"{sample_dict[\"od_shape\"]}\",\n",
    "        \"Границы\": \"{sample_dict[\"od_border\"]}\",\n",
    "        \"Экскавация\": {{\n",
    "            \"Размер\": {sample_dict[\"od_excavation_size\"]},\n",
    "            \"Сектор\": {sample_dict[\"od_excavation_location\"]}\n",
    "        }},\n",
    "        \"Э/Д\": {sample_dict[\"od_excavation_ratio\"]},\n",
    "        \"Сосудистый пучок\": {sample_dict[\"od_vessels_location\"]},\n",
    "    }},\n",
    "    \"Сосуды\": {{\n",
    "        \"Артерии\": {{\n",
    "            \"Ход\": {sample_dict[\"vessels_art_course\"]},\n",
    "            \"Извитость\": {sample_dict[\"vessels_art_turtuosity\"]},\n",
    "            \"Бифуркация\": {sample_dict[\"vessels_art_bifurcation\"]},\n",
    "            \"Калибр\": {sample_dict[\"vessels_art_caliber\"]}\n",
    "        }},\n",
    "        \"Вены\": {{\n",
    "            \"Ход\": {sample_dict[\"vessels_vein_course\"]},\n",
    "            \"Извитость\": {sample_dict[\"vessels_vein_turtuosity\"]},\n",
    "            \"Бифуркация\": {sample_dict[\"vessels_vein_bifurcation\"]},\n",
    "            \"Калибр\": {sample_dict[\"vessels_vein_caliber\"]}\n",
    "        }},\n",
    "        \"А/В индекс\": {sample_dict[\"vessels_ratio\"]},\n",
    "    }},\n",
    "    \"Макула\": {{\n",
    "        \"Макулярный рефлекс\": {sample_dict[\"macula_macular_reflex\"]},\n",
    "        \"Фовеальный рефлекс\": {sample_dict[\"macula_foveal_reflex\"]},\n",
    "    }},\n",
    "    }}\n",
    "    \"\"\"\n",
    "\n",
    "    prompt_tmp = f\"\"\"**Задача:**\n",
    "На основе приведённого JSON-документа, содержащего описание глазного дна, сгенерируй полное текстовое описание, придерживаясь стилистики и формата примера.\n",
    "\n",
    "**Формат:**\n",
    "- Описание должно быть текстовым, структурированным и последовательным, как в приведённом примере.\n",
    "- Допускается совместное описание артерий и вен, если у них одинаковые параметры (Пример 1). Если параметры разные, их необходимо описывать отдельно (Пример 2).\n",
    "\n",
    "**Данные:**\n",
    "JSON-документ:\n",
    "{json_text}\n",
    "\n",
    "**Пример 1:**\n",
    "ДЗН серый, монотонность не наблюдается, нормального размера, правильной формы, границы четкие. Экскавация нормального размера, расположена в центре, э/д=0.4. Сосудистый пучок расположен центрально.  \n",
    "Артерии и Вены имеют нормальный ход, нормальную извитость, бифуркация в норме и калибр нормальный, соотношение А/В = 2/3.\n",
    "Макулярный рефлекс отсутствует, фовеальный рефлекс нормальный.\n",
    "\n",
    "**Пример 2:**\n",
    "ДЗН серый, границы четкие, форма правильная, размер нормальный. Экскавация нормальная, в центре. Сосудистый пучок расположен центрально.  \n",
    "Артерии: ход смещён наружу, извитость нормальная, бифуркация под острым углом, калибр нормальный.\n",
    "Вены: ход нормальный, извитость нормальная, бифуркация нормальная, калибр суженный.\n",
    "Соотношение А/В = 2/3.\n",
    "Макулярный рефлекс отсутствует, фовеальный рефлекс нормальный.\n",
    "\n",
    "**Твоя задача:**  \n",
    "Создай полное текстовое описание глазного дна по JSON-документу, следуй телеграфному стилю и примеру выше.\n",
    "\"\"\"\n",
    "    return prompt_tmp"
   ]
  },
  {
   "cell_type": "markdown",
   "id": "00a16451-01d3-40ea-a6d4-3fbbaeb3da08",
   "metadata": {},
   "source": [
    "Сформируем набор промтов и сохраним их в формате JSON для дальнейшего переиспользования"
   ]
  },
  {
   "cell_type": "code",
   "execution_count": 33,
   "id": "1b6d8133-b128-4b88-87d3-34758abb9ec2",
   "metadata": {
    "execution": {
     "iopub.execute_input": "2025-04-27T11:16:56.797806Z",
     "iopub.status.busy": "2025-04-27T11:16:56.796592Z",
     "iopub.status.idle": "2025-04-27T11:16:56.816960Z",
     "shell.execute_reply": "2025-04-27T11:16:56.816033Z",
     "shell.execute_reply.started": "2025-04-27T11:16:56.797759Z"
    },
    "tags": []
   },
   "outputs": [],
   "source": [
    "prompts_collection = [get_prompt_v2(sample) for sample in loaded_samples]"
   ]
  },
  {
   "cell_type": "code",
   "execution_count": 34,
   "id": "d2435a9a-9e41-4a50-a10a-329a5c2dd842",
   "metadata": {
    "execution": {
     "iopub.execute_input": "2025-04-27T11:17:02.142605Z",
     "iopub.status.busy": "2025-04-27T11:17:02.141400Z",
     "iopub.status.idle": "2025-04-27T11:17:02.218967Z",
     "shell.execute_reply": "2025-04-27T11:17:02.217832Z",
     "shell.execute_reply.started": "2025-04-27T11:17:02.142531Z"
    },
    "tags": []
   },
   "outputs": [],
   "source": [
    "with open(\"TEST_prompts_v2.json\", \"w\", encoding=\"utf-8\") as f:\n",
    "    json.dump(prompts_collection, f, ensure_ascii=False, indent=4)"
   ]
  },
  {
   "cell_type": "code",
   "execution_count": 35,
   "id": "c4fa05eb-fa01-4668-8b94-a589e851296b",
   "metadata": {
    "execution": {
     "iopub.execute_input": "2025-04-27T11:17:03.150735Z",
     "iopub.status.busy": "2025-04-27T11:17:03.149544Z",
     "iopub.status.idle": "2025-04-27T11:17:03.222542Z",
     "shell.execute_reply": "2025-04-27T11:17:03.221543Z",
     "shell.execute_reply.started": "2025-04-27T11:17:03.150692Z"
    },
    "tags": []
   },
   "outputs": [
    {
     "data": {
      "text/plain": [
       "'**Задача:**\\nНа основе приведённого JSON-документа, содержащего описание глазного дна, сгенерируй полное текстовое описание, придерживаясь стилистики и формата примера.\\n\\n**Формат:**\\n- Описание должно быть текстовым, структурированным и последовательным, как в приведённом примере.\\n- Допускается совместное описание артерий и вен, если у них одинаковые параметры (Пример 1). Если параметры разные, их необходимо описывать отдельно (Пример 2).\\n\\n**Данные:**\\nJSON-документ:\\n\\n    {\\n    \"ДЗН\": {\\n        \"Цвет\": \"Розовый\",\\n        \"Монотонность\": \"Не наблюдается\",\\n        \"Размер\": \"Меньше нормы\",\\n        \"Форма\": \"Овальная\",\\n        \"Границы\": \"Четкие\",\\n        \"Экскавация\": {\\n            \"Размер\": Нормальный,\\n            \"Сектор\": Верхне-наружный\\n        },\\n        \"Э/Д\": 0.9,\\n        \"Сосудистый пучок\": Внутренний,\\n    },\\n    \"Сосуды\": {\\n        \"Артерии\": {\\n            \"Ход\": Нормальный,\\n            \"Извитость\": Прямые,\\n            \"Бифуркация\": Под тупым углом,\\n            \"Калибр\": Суженный\\n        },\\n        \"Вены\": {\\n            \"Ход\": Смещение наружу,\\n            \"Извитость\": Прямые,\\n            \"Бифуркация\": Под острым углом,\\n            \"Калибр\": Расширенный\\n        },\\n        \"А/В индекс\": 2:3,\\n    },\\n    \"Макула\": {\\n        \"Макулярный рефлекс\": Сглаженный,\\n        \"Фовеальный рефлекс\": Нормальный,\\n    },\\n    }\\n    \\n\\n**Пример 1:**\\nДЗН серый, монотонность не наблюдается, нормального размера, правильной формы, границы четкие. Экскавация нормального размера, расположена в центре, э/д=0.4. Сосудистый пучок расположен центрально.  \\nАртерии и Вены имеют нормальный ход, нормальную извитость, бифуркация в норме и калибр нормальный, соотношение А/В = 2/3.\\nМакулярный рефлекс отсутствует, фовеальный рефлекс нормальный.\\n\\n**Пример 2:**\\nДЗН серый, границы четкие, форма правильная, размер нормальный. Экскавация нормальная, в центре. Сосудистый пучок расположен центрально.  \\nАртерии: ход смещён наружу, извитость нормальная, бифуркация под острым углом, калибр нормальный.\\nВены: ход нормальный, извитость нормальная, бифуркация нормальная, калибр суженный.\\nСоотношение А/В = 2/3.\\nМакулярный рефлекс отсутствует, фовеальный рефлекс нормальный.\\n\\n**Твоя задача:**  \\nСоздай полное текстовое описание глазного дна по JSON-документу, следуй телеграфному стилю и примеру выше.\\n'"
      ]
     },
     "execution_count": 35,
     "metadata": {},
     "output_type": "execute_result"
    }
   ],
   "source": [
    "prompts_collection[0]"
   ]
  },
  {
   "cell_type": "code",
   "execution_count": null,
   "id": "fa0e4f54-7ed3-4356-b4f0-3b1a8560a34a",
   "metadata": {},
   "outputs": [],
   "source": []
  },
  {
   "cell_type": "markdown",
   "id": "a404a000-1d6e-44e2-8c72-105caa3aa2da",
   "metadata": {
    "tags": []
   },
   "source": [
    "## Метрики_v1"
   ]
  },
  {
   "cell_type": "code",
   "execution_count": 3,
   "id": "e6480cdf-9fc7-4d69-baa4-28027d40b059",
   "metadata": {
    "execution": {
     "iopub.execute_input": "2025-04-27T10:37:02.245476Z",
     "iopub.status.busy": "2025-04-27T10:37:02.244483Z",
     "iopub.status.idle": "2025-04-27T10:37:02.315499Z",
     "shell.execute_reply": "2025-04-27T10:37:02.314587Z",
     "shell.execute_reply.started": "2025-04-27T10:37:02.245439Z"
    },
    "tags": []
   },
   "outputs": [],
   "source": [
    "df_ruadapt = pd.read_csv('/home/jupyter/datasphere/project/RuAdapt_scores.csv')\n",
    "df_saiga = pd.read_csv('/home/jupyter/datasphere/project/Saiga_scores.csv')\n",
    "df_tablellama = pd.read_csv('/home/jupyter/datasphere/project/TableLlama_scores.csv')\n",
    "df_yandex = pd.read_csv('/home/jupyter/datasphere/project/Yandex_scores.csv')\n",
    "df_mistral = pd.read_csv('/home/jupyter/datasphere/project/BioMistral_scores.csv')"
   ]
  },
  {
   "cell_type": "code",
   "execution_count": 4,
   "id": "66d1ec04-6380-44bc-83f4-d16bcdc56922",
   "metadata": {
    "execution": {
     "iopub.execute_input": "2025-04-27T10:37:02.318542Z",
     "iopub.status.busy": "2025-04-27T10:37:02.317302Z",
     "iopub.status.idle": "2025-04-27T10:37:02.430348Z",
     "shell.execute_reply": "2025-04-27T10:37:02.429342Z",
     "shell.execute_reply.started": "2025-04-27T10:37:02.318497Z"
    },
    "tags": []
   },
   "outputs": [
    {
     "data": {
      "text/html": [
       "<div>\n",
       "<style scoped>\n",
       "    .dataframe tbody tr th:only-of-type {\n",
       "        vertical-align: middle;\n",
       "    }\n",
       "\n",
       "    .dataframe tbody tr th {\n",
       "        vertical-align: top;\n",
       "    }\n",
       "\n",
       "    .dataframe thead th {\n",
       "        text-align: right;\n",
       "    }\n",
       "</style>\n",
       "<table border=\"1\" class=\"dataframe\">\n",
       "  <thead>\n",
       "    <tr style=\"text-align: right;\">\n",
       "      <th></th>\n",
       "      <th>Unnamed: 0</th>\n",
       "      <th>param_match_score</th>\n",
       "      <th>no_intro_phrases_score</th>\n",
       "      <th>structure_order_score</th>\n",
       "      <th>language_naturalness_score</th>\n",
       "      <th>param_match_comment</th>\n",
       "      <th>no_intro_phrases_comment</th>\n",
       "      <th>structure_order_comment</th>\n",
       "      <th>language_naturalness_comment</th>\n",
       "    </tr>\n",
       "  </thead>\n",
       "  <tbody>\n",
       "    <tr>\n",
       "      <th>0</th>\n",
       "      <td>0</td>\n",
       "      <td>1</td>\n",
       "      <td>1</td>\n",
       "      <td>1</td>\n",
       "      <td>5</td>\n",
       "      <td>All parameters from the input JSON are accurat...</td>\n",
       "      <td>The text is devoid of introductory phrases and...</td>\n",
       "      <td>The textual description adheres to the specifi...</td>\n",
       "      <td>The language used is clear, professional, and ...</td>\n",
       "    </tr>\n",
       "    <tr>\n",
       "      <th>1</th>\n",
       "      <td>1</td>\n",
       "      <td>1</td>\n",
       "      <td>1</td>\n",
       "      <td>1</td>\n",
       "      <td>5</td>\n",
       "      <td>Все параметры из приведённого JSON точно соотв...</td>\n",
       "      <td>Вводные конструкции отсутствуют, текст исключи...</td>\n",
       "      <td>Порядок описания строго соответствует ожидаемому.</td>\n",
       "      <td>Текст составлен профессионально, в медицинском...</td>\n",
       "    </tr>\n",
       "    <tr>\n",
       "      <th>2</th>\n",
       "      <td>2</td>\n",
       "      <td>1</td>\n",
       "      <td>1</td>\n",
       "      <td>1</td>\n",
       "      <td>5</td>\n",
       "      <td>Все параметры из JSON точно отображены в текст...</td>\n",
       "      <td>В тексте отсутствуют вводные конструкции или н...</td>\n",
       "      <td>Порядок описания соответствует заданной структ...</td>\n",
       "      <td>Текст четкий, медицинский язык профессиональны...</td>\n",
       "    </tr>\n",
       "    <tr>\n",
       "      <th>3</th>\n",
       "      <td>3</td>\n",
       "      <td>0</td>\n",
       "      <td>1</td>\n",
       "      <td>1</td>\n",
       "      <td>4</td>\n",
       "      <td>The parameter in 'Экскавация' with 'Размер: Ме...</td>\n",
       "      <td>No introductory phrases or unnecessary constru...</td>\n",
       "      <td>The description adheres to the expected struct...</td>\n",
       "      <td>The text maintains a professional tone with mi...</td>\n",
       "    </tr>\n",
       "    <tr>\n",
       "      <th>4</th>\n",
       "      <td>4</td>\n",
       "      <td>1</td>\n",
       "      <td>1</td>\n",
       "      <td>1</td>\n",
       "      <td>5</td>\n",
       "      <td>All parameters in the generated text correctly...</td>\n",
       "      <td>The text strictly contains medical observation...</td>\n",
       "      <td>The structure adheres to the prescribed order ...</td>\n",
       "      <td>The language and style are natural and appropr...</td>\n",
       "    </tr>\n",
       "  </tbody>\n",
       "</table>\n",
       "</div>"
      ],
      "text/plain": [
       "   Unnamed: 0  ...                       language_naturalness_comment\n",
       "0           0  ...  The language used is clear, professional, and ...\n",
       "1           1  ...  Текст составлен профессионально, в медицинском...\n",
       "2           2  ...  Текст четкий, медицинский язык профессиональны...\n",
       "3           3  ...  The text maintains a professional tone with mi...\n",
       "4           4  ...  The language and style are natural and appropr...\n",
       "\n",
       "[5 rows x 9 columns]"
      ]
     },
     "execution_count": 4,
     "metadata": {},
     "output_type": "execute_result"
    }
   ],
   "source": [
    "df_yandex.head()"
   ]
  },
  {
   "cell_type": "code",
   "execution_count": 5,
   "id": "2e4b0831-75c1-44e8-9e5b-18033e3be98c",
   "metadata": {
    "execution": {
     "iopub.execute_input": "2025-04-27T10:37:13.115946Z",
     "iopub.status.busy": "2025-04-27T10:37:13.114848Z",
     "iopub.status.idle": "2025-04-27T10:37:13.132302Z",
     "shell.execute_reply": "2025-04-27T10:37:13.131295Z",
     "shell.execute_reply.started": "2025-04-27T10:37:13.115902Z"
    },
    "tags": []
   },
   "outputs": [],
   "source": [
    "df_ruadapt = df_ruadapt[['param_match_score', 'no_intro_phrases_score', 'structure_order_score', 'language_naturalness_score']]\n",
    "df_saiga = df_saiga[['param_match_score', 'no_intro_phrases_score', 'structure_order_score', 'language_naturalness_score']]\n",
    "df_tablellama = df_tablellama[['param_match_score', 'no_intro_phrases_score', 'structure_order_score', 'language_naturalness_score']]\n",
    "df_yandex = df_yandex[['param_match_score', 'no_intro_phrases_score', 'structure_order_score', 'language_naturalness_score']]\n",
    "df_mistral = df_mistral[['param_match_score', 'no_intro_phrases_score', 'structure_order_score', 'language_naturalness_score']]"
   ]
  },
  {
   "cell_type": "code",
   "execution_count": 21,
   "id": "6a2d00b1-c0df-4ca4-b804-88a0740e91be",
   "metadata": {
    "execution": {
     "iopub.execute_input": "2025-04-25T17:48:34.810164Z",
     "iopub.status.busy": "2025-04-25T17:48:34.809170Z",
     "iopub.status.idle": "2025-04-25T17:48:34.823016Z",
     "shell.execute_reply": "2025-04-25T17:48:34.822304Z",
     "shell.execute_reply.started": "2025-04-25T17:48:34.810120Z"
    },
    "tags": []
   },
   "outputs": [
    {
     "data": {
      "text/plain": [
       "param_match_score              56\n",
       "no_intro_phrases_score         74\n",
       "structure_order_score          67\n",
       "language_naturalness_score    425\n",
       "dtype: int64"
      ]
     },
     "execution_count": 21,
     "metadata": {},
     "output_type": "execute_result"
    }
   ],
   "source": [
    "df_ruadapt.sum()"
   ]
  },
  {
   "cell_type": "code",
   "execution_count": 22,
   "id": "3aab18b8-fc71-464e-8db8-b4e1a88c5a2a",
   "metadata": {
    "execution": {
     "iopub.execute_input": "2025-04-25T17:48:56.924043Z",
     "iopub.status.busy": "2025-04-25T17:48:56.922765Z",
     "iopub.status.idle": "2025-04-25T17:48:56.944012Z",
     "shell.execute_reply": "2025-04-25T17:48:56.943086Z",
     "shell.execute_reply.started": "2025-04-25T17:48:56.924003Z"
    },
    "tags": []
   },
   "outputs": [
    {
     "data": {
      "text/plain": [
       "param_match_score              69\n",
       "no_intro_phrases_score         80\n",
       "structure_order_score          79\n",
       "language_naturalness_score    449\n",
       "dtype: int64"
      ]
     },
     "execution_count": 22,
     "metadata": {},
     "output_type": "execute_result"
    }
   ],
   "source": [
    "df_saiga.sum()"
   ]
  },
  {
   "cell_type": "code",
   "execution_count": 23,
   "id": "a87c3c3a-d178-40d7-a1d1-2edf6f02e581",
   "metadata": {
    "execution": {
     "iopub.execute_input": "2025-04-25T17:48:57.311554Z",
     "iopub.status.busy": "2025-04-25T17:48:57.310488Z",
     "iopub.status.idle": "2025-04-25T17:48:57.325892Z",
     "shell.execute_reply": "2025-04-25T17:48:57.325153Z",
     "shell.execute_reply.started": "2025-04-25T17:48:57.311505Z"
    },
    "tags": []
   },
   "outputs": [
    {
     "data": {
      "text/plain": [
       "param_match_score               0\n",
       "no_intro_phrases_score          1\n",
       "structure_order_score           0\n",
       "language_naturalness_score    200\n",
       "dtype: int64"
      ]
     },
     "execution_count": 23,
     "metadata": {},
     "output_type": "execute_result"
    }
   ],
   "source": [
    "df_tablellama.sum()"
   ]
  },
  {
   "cell_type": "code",
   "execution_count": 24,
   "id": "a266a0b7-35dc-4ed5-915b-c760b6d18683",
   "metadata": {
    "execution": {
     "iopub.execute_input": "2025-04-25T17:48:57.754449Z",
     "iopub.status.busy": "2025-04-25T17:48:57.753184Z",
     "iopub.status.idle": "2025-04-25T17:48:57.771319Z",
     "shell.execute_reply": "2025-04-25T17:48:57.770444Z",
     "shell.execute_reply.started": "2025-04-25T17:48:57.754400Z"
    },
    "tags": []
   },
   "outputs": [
    {
     "data": {
      "text/plain": [
       "param_match_score              92\n",
       "no_intro_phrases_score        100\n",
       "structure_order_score         100\n",
       "language_naturalness_score    491\n",
       "dtype: int64"
      ]
     },
     "execution_count": 24,
     "metadata": {},
     "output_type": "execute_result"
    }
   ],
   "source": [
    "df_yandex.sum()"
   ]
  },
  {
   "cell_type": "code",
   "execution_count": 25,
   "id": "8862ae72-48ff-4d49-a81d-05521281b42d",
   "metadata": {
    "execution": {
     "iopub.execute_input": "2025-04-25T17:48:58.905035Z",
     "iopub.status.busy": "2025-04-25T17:48:58.904179Z",
     "iopub.status.idle": "2025-04-25T17:48:58.922388Z",
     "shell.execute_reply": "2025-04-25T17:48:58.921692Z",
     "shell.execute_reply.started": "2025-04-25T17:48:58.905004Z"
    },
    "tags": []
   },
   "outputs": [
    {
     "data": {
      "text/plain": [
       "param_match_score               2\n",
       "no_intro_phrases_score         46\n",
       "structure_order_score          14\n",
       "language_naturalness_score    326\n",
       "dtype: int64"
      ]
     },
     "execution_count": 25,
     "metadata": {},
     "output_type": "execute_result"
    }
   ],
   "source": [
    "df_mistral.sum()"
   ]
  },
  {
   "cell_type": "code",
   "execution_count": null,
   "id": "226baf77-68a6-4f53-8db1-4bd12e1788f4",
   "metadata": {},
   "outputs": [],
   "source": []
  }
 ],
 "metadata": {
  "kernelspec": {
   "display_name": "DataSphere Kernel",
   "language": "python",
   "name": "python3"
  },
  "language_info": {
   "codemirror_mode": {
    "name": "ipython",
    "version": 3
   },
   "file_extension": ".py",
   "mimetype": "text/x-python",
   "name": "python",
   "nbconvert_exporter": "python",
   "pygments_lexer": "ipython3",
   "version": "3.10.12"
  }
 },
 "nbformat": 4,
 "nbformat_minor": 5
}
